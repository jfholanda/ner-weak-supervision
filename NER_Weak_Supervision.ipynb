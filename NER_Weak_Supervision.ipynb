{
  "cells": [
    {
      "cell_type": "code",
      "execution_count": 1,
      "metadata": {
        "id": "VxgEpeF-iTEA"
      },
      "outputs": [],
      "source": [
        "import pandas as pd\n",
        "import numpy as np\n",
        "\n",
        "import json\n",
        "\n",
        "import matplotlib.pyplot as plt"
      ]
    },
    {
      "cell_type": "markdown",
      "metadata": {
        "id": "GDHtHJg4N4kW"
      },
      "source": [
        "## Data Loading and Initial Preparation\n",
        "\n",
        "The goal of this step is to load, explore, and preprocess the UlyssesNER dataset, which contains annotated legislative texts. This foundational step prepares the data to be used in weak supervision by transforming raw JSON structures into structured representations (such as IOB tagging) and enabling easy manipulation and analysis.\n",
        "\n",
        "- The dataset is provided in JSON format with fields: sentences, tokens, and ner_tokens.\n",
        "\n",
        "- The IOB (Inside-Outside-Beginning) format is used to annotate named entities, a standard representation for NER tasks.\n",
        "\n",
        "- Understanding label distributions and sentence lengths is crucial due to the legislative domain's complexity and formality."
      ]
    },
    {
      "cell_type": "code",
      "execution_count": 2,
      "metadata": {
        "id": "iXZX71WqldeR"
      },
      "outputs": [],
      "source": [
        "df_train = pd.read_json(\"./data/train.json\", orient=\"records\")\n",
        "\n",
        "df_dev = pd.read_json(\"./data/dev.json\", orient=\"records\")\n",
        "\n",
        "df_test = pd.read_json(\"./data/test.json\", orient=\"records\")"
      ]
    },
    {
      "cell_type": "code",
      "execution_count": 3,
      "metadata": {
        "colab": {
          "base_uri": "https://localhost:8080/",
          "height": 458
        },
        "id": "KITc0SREl0Ez",
        "outputId": "abc31326-eea6-4634-e039-10d6026ee2d6"
      },
      "outputs": [
        {
          "data": {
            "application/vnd.microsoft.datawrangler.viewer.v0+json": {
              "columns": [
                {
                  "name": "index",
                  "rawType": "int64",
                  "type": "integer"
                },
                {
                  "name": "sentences",
                  "rawType": "object",
                  "type": "string"
                },
                {
                  "name": "tokens",
                  "rawType": "object",
                  "type": "unknown"
                },
                {
                  "name": "ner_tokens",
                  "rawType": "object",
                  "type": "unknown"
                }
              ],
              "ref": "46291d02-50b6-4fdf-a43f-1a54ec528669",
              "rows": [
                [
                  "0",
                  "sala das sessões , em de de 2019 .",
                  "['sala', 'das', 'sessões', ',', 'em', 'de', 'de', '2019', '.']",
                  "['O', 'O', 'O', 'O', 'O', 'O', 'O', 'B-DATA', 'O']"
                ],
                [
                  "1",
                  "da decisão de que trata o § 12 deste artigo caberá recurso administrativo com efeito suspensivo .",
                  "['da', 'decisão', 'de', 'que', 'trata', 'o', '§', '12', 'deste', 'artigo', 'caberá', 'recurso', 'administrativo', 'com', 'efeito', 'suspensivo', '.']",
                  "['O', 'O', 'O', 'O', 'O', 'O', 'O', 'O', 'O', 'O', 'O', 'O', 'O', 'O', 'O', 'O', 'O']"
                ],
                [
                  "2",
                  "projeto de lei n.º , de 2017 ( do sr .",
                  "['projeto', 'de', 'lei', 'n.º', ',', 'de', '2017', '(', 'do', 'sr', '.']",
                  "['O', 'O', 'O', 'O', 'O', 'O', 'B-DATA', 'O', 'O', 'O', 'O']"
                ],
                [
                  "3",
                  "deputado maurício dziedricki p l n .4 6 1 5 / 2 0 1 9 a p re s e n ta ç ã o : 2 1 / 0 8 / 2 0 1 9 1 4 : 1 6",
                  "['deputado', 'maurício', 'dziedricki', 'p', 'l', 'n', '.4', '6', '1', '5', '/', '2', '0', '1', '9', 'a', 'p', 're', 's', 'e', 'n', 'ta', 'ç', 'ã', 'o', ':', '2', '1', '/', '0', '8', '/', '2', '0', '1', '9', '1', '4', ':', '1', '6']",
                  "['B-PESSOA', 'B-PESSOA', 'I-PESSOA', 'O', 'O', 'O', 'O', 'O', 'O', 'O', 'O', 'O', 'O', 'O', 'O', 'O', 'O', 'O', 'O', 'O', 'O', 'O', 'O', 'O', 'O', 'O', 'O', 'O', 'O', 'O', 'O', 'O', 'O', 'O', 'O', 'O', 'O', 'O', 'O', 'O', 'O']"
                ],
                [
                  "4",
                  "art . 4º esta lei entra em vigor na data de sua publicação .",
                  "['art', '.', '4º', 'esta', 'lei', 'entra', 'em', 'vigor', 'na', 'data', 'de', 'sua', 'publicação', '.']",
                  "['O', 'O', 'O', 'O', 'O', 'O', 'O', 'O', 'O', 'O', 'O', 'O', 'O', 'O']"
                ],
                [
                  "5",
                  "com o forte crescimento da população idosa masculina no país , a perspectiva é a de crescimento vertiginoso dos casos de câncer de próstata , conforme já constatado pelas estatísticas disponíveis .",
                  "['com', 'o', 'forte', 'crescimento', 'da', 'população', 'idosa', 'masculina', 'no', 'país', ',', 'a', 'perspectiva', 'é', 'a', 'de', 'crescimento', 'vertiginoso', 'dos', 'casos', 'de', 'câncer', 'de', 'próstata', ',', 'conforme', 'já', 'constatado', 'pelas', 'estatísticas', 'disponíveis', '.']",
                  "['O', 'O', 'O', 'O', 'O', 'O', 'O', 'O', 'O', 'O', 'O', 'O', 'O', 'O', 'O', 'O', 'O', 'O', 'O', 'O', 'O', 'O', 'O', 'O', 'O', 'O', 'O', 'O', 'O', 'O', 'O', 'O']"
                ],
                [
                  "6",
                  "aquela autarquia , aplicando o dispositivo a partir de uma leitura literal da norma , indeferia tais requerimentos , o que levou à proposição de diversas ações na justiça federal em que se pleiteava a aplicação extensiva do parágrafo único do art . 34 do estatuto do idoso . 1 art . 29 .",
                  "['aquela', 'autarquia', ',', 'aplicando', 'o', 'dispositivo', 'a', 'partir', 'de', 'uma', 'leitura', 'literal', 'da', 'norma', ',', 'indeferia', 'tais', 'requerimentos', ',', 'o', 'que', 'levou', 'à', 'proposição', 'de', 'diversas', 'ações', 'na', 'justiça', 'federal', 'em', 'que', 'se', 'pleiteava', 'a', 'aplicação', 'extensiva', 'do', 'parágrafo', 'único', 'do', 'art', '.', '34', 'do', 'estatuto', 'do', 'idoso', '.', '1', 'art', '.', '29', '.']",
                  "['O', 'O', 'O', 'O', 'O', 'O', 'O', 'O', 'O', 'O', 'O', 'O', 'O', 'O', 'O', 'O', 'O', 'O', 'O', 'O', 'O', 'O', 'O', 'O', 'O', 'O', 'O', 'O', 'B-ORGANIZACAO', 'I-ORGANIZACAO', 'O', 'O', 'O', 'O', 'O', 'O', 'O', 'O', 'O', 'O', 'O', 'B-FUNDAMENTO', 'I-FUNDAMENTO', 'I-FUNDAMENTO', 'I-FUNDAMENTO', 'I-FUNDAMENTO', 'I-FUNDAMENTO', 'I-FUNDAMENTO', 'O', 'O', 'O', 'O', 'O', 'O']"
                ],
                [
                  "7",
                  "a câmara dos deputados resolve : art . 1º esta resolução dá denominação ao plenário 2 , do anexo ii , da câmara dos deputados .",
                  "['a', 'câmara', 'dos', 'deputados', 'resolve', ':', 'art', '.', '1º', 'esta', 'resolução', 'dá', 'denominação', 'ao', 'plenário', '2', ',', 'do', 'anexo', 'ii', ',', 'da', 'câmara', 'dos', 'deputados', '.']",
                  "['O', 'O', 'O', 'O', 'O', 'O', 'O', 'O', 'O', 'O', 'O', 'O', 'O', 'O', 'B-LOCAL', 'I-LOCAL', 'I-LOCAL', 'I-LOCAL', 'I-LOCAL', 'I-LOCAL', 'I-LOCAL', 'I-LOCAL', 'I-LOCAL', 'I-LOCAL', 'I-LOCAL', 'O']"
                ],
                [
                  "8",
                  "art . 2º as normas regulamentadoras definirão as estratégias para o cumprimento desta determinação , disciplinando sobre os participantes , pessoas físicas ou jurídicas , priorizando para temas voltados para a prevenção de acidentes de trânsito , levando em consideração os aspectos humanos e comportamentais .",
                  "['art', '.', '2º', 'as', 'normas', 'regulamentadoras', 'definirão', 'as', 'estratégias', 'para', 'o', 'cumprimento', 'desta', 'determinação', ',', 'disciplinando', 'sobre', 'os', 'participantes', ',', 'pessoas', 'físicas', 'ou', 'jurídicas', ',', 'priorizando', 'para', 'temas', 'voltados', 'para', 'a', 'prevenção', 'de', 'acidentes', 'de', 'trânsito', ',', 'levando', 'em', 'consideração', 'os', 'aspectos', 'humanos', 'e', 'comportamentais', '.']",
                  "['O', 'O', 'O', 'O', 'O', 'O', 'O', 'O', 'O', 'O', 'O', 'O', 'O', 'O', 'O', 'O', 'O', 'O', 'O', 'O', 'O', 'O', 'O', 'O', 'O', 'O', 'O', 'O', 'O', 'O', 'O', 'O', 'O', 'O', 'O', 'O', 'O', 'O', 'O', 'O', 'O', 'O', 'O', 'O', 'O', 'O']"
                ],
                [
                  "9",
                  "os portadores de formas crônicas de hepatite demandam atenção médica especializada constante para que seu quadro não evolua .",
                  "['os', 'portadores', 'de', 'formas', 'crônicas', 'de', 'hepatite', 'demandam', 'atenção', 'médica', 'especializada', 'constante', 'para', 'que', 'seu', 'quadro', 'não', 'evolua', '.']",
                  "['O', 'O', 'O', 'O', 'O', 'O', 'O', 'O', 'O', 'O', 'O', 'O', 'O', 'O', 'O', 'O', 'O', 'O', 'O']"
                ],
                [
                  "10",
                  "outra face deste processo foi a disseminação dos atendimentos automatizados que , além do custo da tarifa , impõem grande perda de tempo e constrangimento aos usuários .",
                  "['outra', 'face', 'deste', 'processo', 'foi', 'a', 'disseminação', 'dos', 'atendimentos', 'automatizados', 'que', ',', 'além', 'do', 'custo', 'da', 'tarifa', ',', 'impõem', 'grande', 'perda', 'de', 'tempo', 'e', 'constrangimento', 'aos', 'usuários', '.']",
                  "['O', 'O', 'O', 'O', 'O', 'O', 'O', 'O', 'O', 'O', 'O', 'O', 'O', 'O', 'O', 'O', 'O', 'O', 'O', 'O', 'O', 'O', 'O', 'O', 'O', 'O', 'O', 'O']"
                ],
                [
                  "11",
                  "assim , considerando que esses recursos surgiriam apenas para o esporte , a alteração feita no texto da lei nº 11.438 / 2006 foi extremamente prejudicial para o desporto e paradesporto brasileiro .",
                  "['assim', ',', 'considerando', 'que', 'esses', 'recursos', 'surgiriam', 'apenas', 'para', 'o', 'esporte', ',', 'a', 'alteração', 'feita', 'no', 'texto', 'da', 'lei', 'nº', '11.438', '/', '2006', 'foi', 'extremamente', 'prejudicial', 'para', 'o', 'desporto', 'e', 'paradesporto', 'brasileiro', '.']",
                  "['O', 'O', 'O', 'O', 'O', 'O', 'O', 'O', 'O', 'O', 'O', 'O', 'O', 'O', 'O', 'O', 'O', 'O', 'B-FUNDAMENTO', 'I-FUNDAMENTO', 'I-FUNDAMENTO', 'I-FUNDAMENTO', 'I-FUNDAMENTO', 'O', 'O', 'O', 'O', 'O', 'O', 'O', 'O', 'O', 'O']"
                ],
                [
                  "12",
                  "sala das sessões , em 16 de março de 2011 .",
                  "['sala', 'das', 'sessões', ',', 'em', '16', 'de', 'março', 'de', '2011', '.']",
                  "['O', 'O', 'O', 'O', 'O', 'B-DATA', 'I-DATA', 'I-DATA', 'I-DATA', 'I-DATA', 'O']"
                ],
                [
                  "13",
                  "o crime já está tipificado no código brasileiro de trânsito , entretanto sua divulgação não consta da lei nº 9.294 / 96 .",
                  "['o', 'crime', 'já', 'está', 'tipificado', 'no', 'código', 'brasileiro', 'de', 'trânsito', ',', 'entretanto', 'sua', 'divulgação', 'não', 'consta', 'da', 'lei', 'nº', '9.294', '/', '96', '.']",
                  "['O', 'O', 'O', 'O', 'O', 'O', 'B-FUNDAMENTO', 'I-FUNDAMENTO', 'I-FUNDAMENTO', 'I-FUNDAMENTO', 'O', 'O', 'O', 'O', 'O', 'O', 'O', 'B-FUNDAMENTO', 'I-FUNDAMENTO', 'I-FUNDAMENTO', 'I-FUNDAMENTO', 'I-FUNDAMENTO', 'O']"
                ],
                [
                  "14",
                  "ademais , elencamos as políticas a serem executadas pelo poder público nas áreas especiais de interesse turístico , com vistas ao cumprimento de incentivo à atividade turística .",
                  "['ademais', ',', 'elencamos', 'as', 'políticas', 'a', 'serem', 'executadas', 'pelo', 'poder', 'público', 'nas', 'áreas', 'especiais', 'de', 'interesse', 'turístico', ',', 'com', 'vistas', 'ao', 'cumprimento', 'de', 'incentivo', 'à', 'atividade', 'turística', '.']",
                  "['O', 'O', 'O', 'O', 'O', 'O', 'O', 'O', 'O', 'B-ORGANIZACAO', 'I-ORGANIZACAO', 'O', 'B-PRODUTODELEI', 'I-PRODUTODELEI', 'I-PRODUTODELEI', 'I-PRODUTODELEI', 'I-PRODUTODELEI', 'O', 'O', 'O', 'O', 'O', 'O', 'O', 'O', 'O', 'O', 'O']"
                ],
                [
                  "15",
                  "projeto de lei nº , de 2011 ( do sr .",
                  "['projeto', 'de', 'lei', 'nº', ',', 'de', '2011', '(', 'do', 'sr', '.']",
                  "['O', 'O', 'O', 'O', 'O', 'O', 'B-DATA', 'O', 'O', 'O', 'O']"
                ],
                [
                  "16",
                  "apesar das dificuldades apontadas , conto com o discernimento dos nobres pares para , em conjunto , alcançarmos uma solução para essas graves questões .",
                  "['apesar', 'das', 'dificuldades', 'apontadas', ',', 'conto', 'com', 'o', 'discernimento', 'dos', 'nobres', 'pares', 'para', ',', 'em', 'conjunto', ',', 'alcançarmos', 'uma', 'solução', 'para', 'essas', 'graves', 'questões', '.']",
                  "['O', 'O', 'O', 'O', 'O', 'O', 'O', 'O', 'O', 'O', 'O', 'O', 'O', 'O', 'O', 'O', 'O', 'O', 'O', 'O', 'O', 'O', 'O', 'O', 'O']"
                ],
                [
                  "17",
                  "projeto de lei nº , de 2019 .",
                  "['projeto', 'de', 'lei', 'nº', ',', 'de', '2019', '.']",
                  "['O', 'O', 'O', 'O', 'O', 'O', 'B-DATA', 'O']"
                ],
                [
                  "18",
                  "projeto de lei nº , de 2011 ( do sr. marllos sampaio ) torna crime aliciar idoso para contrair empréstimos .",
                  "['projeto', 'de', 'lei', 'nº', ',', 'de', '2011', '(', 'do', 'sr.', 'marllos', 'sampaio', ')', 'torna', 'crime', 'aliciar', 'idoso', 'para', 'contrair', 'empréstimos', '.']",
                  "['O', 'O', 'O', 'O', 'O', 'O', 'B-DATA', 'O', 'O', 'O', 'B-PESSOA', 'I-PESSOA', 'O', 'O', 'O', 'O', 'O', 'O', 'O', 'O', 'O']"
                ],
                [
                  "19",
                  "convém , ainda , que a especificação de parâmetros e exigências venha a ser tratada em regulamento , uma vez que a dinâmica da evolução tecnológica pode impor frequentes atualizações .",
                  "['convém', ',', 'ainda', ',', 'que', 'a', 'especificação', 'de', 'parâmetros', 'e', 'exigências', 'venha', 'a', 'ser', 'tratada', 'em', 'regulamento', ',', 'uma', 'vez', 'que', 'a', 'dinâmica', 'da', 'evolução', 'tecnológica', 'pode', 'impor', 'frequentes', 'atualizações', '.']",
                  "['O', 'O', 'O', 'O', 'O', 'O', 'O', 'O', 'O', 'O', 'O', 'O', 'O', 'O', 'O', 'O', 'O', 'O', 'O', 'O', 'O', 'O', 'O', 'O', 'O', 'O', 'O', 'O', 'O', 'O', 'O']"
                ],
                [
                  "20",
                  "afigura-se , portanto , desnecessária inscrição em ordem ou conselho para o exercício da profissão de músico . ”",
                  "['afigura-se', ',', 'portanto', ',', 'desnecessária', 'inscrição', 'em', 'ordem', 'ou', 'conselho', 'para', 'o', 'exercício', 'da', 'profissão', 'de', 'músico', '.', '”']",
                  "['O', 'O', 'O', 'O', 'O', 'O', 'O', 'O', 'O', 'O', 'O', 'O', 'O', 'O', 'O', 'O', 'B-PESSOA', 'O', 'O']"
                ],
                [
                  "21",
                  "deputada bruna furlan",
                  "['deputada', 'bruna', 'furlan']",
                  "['B-PESSOA', 'B-PESSOA', 'I-PESSOA']"
                ],
                [
                  "22",
                  "o congresso nacional decreta : art . 1º esta lei acrescenta § 3º ao art . 12 da lei nº 11.947 , de 16 de junho de 2009 , para obrigar a inclusão do café e do leite nos cardápios da alimentação escolar .",
                  "['o', 'congresso', 'nacional', 'decreta', ':', 'art', '.', '1º', 'esta', 'lei', 'acrescenta', '§', '3º', 'ao', 'art', '.', '12', 'da', 'lei', 'nº', '11.947', ',', 'de', '16', 'de', 'junho', 'de', '2009', ',', 'para', 'obrigar', 'a', 'inclusão', 'do', 'café', 'e', 'do', 'leite', 'nos', 'cardápios', 'da', 'alimentação', 'escolar', '.']",
                  "['O', 'O', 'O', 'O', 'O', 'O', 'O', 'O', 'O', 'O', 'O', 'B-FUNDAMENTO', 'I-FUNDAMENTO', 'I-FUNDAMENTO', 'I-FUNDAMENTO', 'I-FUNDAMENTO', 'I-FUNDAMENTO', 'I-FUNDAMENTO', 'I-FUNDAMENTO', 'I-FUNDAMENTO', 'I-FUNDAMENTO', 'I-FUNDAMENTO', 'I-FUNDAMENTO', 'I-FUNDAMENTO', 'I-FUNDAMENTO', 'I-FUNDAMENTO', 'I-FUNDAMENTO', 'I-FUNDAMENTO', 'O', 'O', 'O', 'O', 'O', 'O', 'O', 'O', 'O', 'O', 'O', 'O', 'O', 'O', 'O', 'O']"
                ],
                [
                  "23",
                  "esta resolução entra em vigor na data de sua publicação .",
                  "['esta', 'resolução', 'entra', 'em', 'vigor', 'na', 'data', 'de', 'sua', 'publicação', '.']",
                  "['O', 'O', 'O', 'O', 'O', 'O', 'O', 'O', 'O', 'O', 'O']"
                ],
                [
                  "24",
                  "art . 2º revoga-se a lei nº 13.586 , de 28 de dezembro de 2017 .",
                  "['art', '.', '2º', 'revoga-se', 'a', 'lei', 'nº', '13.586', ',', 'de', '28', 'de', 'dezembro', 'de', '2017', '.']",
                  "['O', 'O', 'O', 'O', 'O', 'B-FUNDAMENTO', 'I-FUNDAMENTO', 'I-FUNDAMENTO', 'I-FUNDAMENTO', 'I-FUNDAMENTO', 'I-FUNDAMENTO', 'I-FUNDAMENTO', 'I-FUNDAMENTO', 'I-FUNDAMENTO', 'I-FUNDAMENTO', 'O']"
                ],
                [
                  "25",
                  "o problema é que , uma vez verificado que determinado município enquadrado nesta categoria de pequeno ultrapassou qualquer uma p l p n .1 9 0 / 2 0 1 9 a p re s e n ta ç ã o : 1 4 / 0 8 / 2 0 1 9 1 4 : 5 5 2 das regras previstas , as sanções aplicadas são as mesmas dos demais entes , que incluem sobretudo a inclusão do município como inadimplente no cadastro único de convênios e a suspensão imediata das transferências voluntárias da união .",
                  "['o', 'problema', 'é', 'que', ',', 'uma', 'vez', 'verificado', 'que', 'determinado', 'município', 'enquadrado', 'nesta', 'categoria', 'de', 'pequeno', 'ultrapassou', 'qualquer', 'uma', 'p', 'l', 'p', 'n', '.1', '9', '0', '/', '2', '0', '1', '9', 'a', 'p', 're', 's', 'e', 'n', 'ta', 'ç', 'ã', 'o', ':', '1', '4', '/', '0', '8', '/', '2', '0', '1', '9', '1', '4', ':', '5', '5', '2', 'das', 'regras', 'previstas', ',', 'as', 'sanções', 'aplicadas', 'são', 'as', 'mesmas', 'dos', 'demais', 'entes', ',', 'que', 'incluem', 'sobretudo', 'a', 'inclusão', 'do', 'município', 'como', 'inadimplente', 'no', 'cadastro', 'único', 'de', 'convênios', 'e', 'a', 'suspensão', 'imediata', 'das', 'transferências', 'voluntárias', 'da', 'união', '.']",
                  "['O', 'O', 'O', 'O', 'O', 'O', 'O', 'O', 'O', 'O', 'O', 'O', 'O', 'O', 'O', 'O', 'O', 'O', 'O', 'O', 'O', 'O', 'O', 'O', 'O', 'O', 'O', 'O', 'O', 'O', 'O', 'O', 'O', 'O', 'O', 'O', 'O', 'O', 'O', 'O', 'O', 'O', 'O', 'O', 'O', 'O', 'O', 'O', 'O', 'O', 'O', 'O', 'O', 'O', 'O', 'O', 'O', 'O', 'O', 'O', 'O', 'O', 'O', 'O', 'O', 'O', 'O', 'O', 'O', 'O', 'O', 'O', 'O', 'O', 'O', 'O', 'O', 'O', 'O', 'O', 'O', 'O', 'O', 'O', 'O', 'O', 'O', 'O', 'O', 'O', 'O', 'O', 'O', 'O', 'O', 'O']"
                ],
                [
                  "26",
                  "o número de assassinatos tem chegado a 4,8 para cada 100 mil mulheres .",
                  "['o', 'número', 'de', 'assassinatos', 'tem', 'chegado', 'a', '4,8', 'para', 'cada', '100', 'mil', 'mulheres', '.']",
                  "['O', 'O', 'O', 'O', 'O', 'O', 'O', 'O', 'O', 'O', 'O', 'O', 'O', 'O']"
                ],
                [
                  "27",
                  "esta lei entra em vigor cento e oitenta dias após sua publicação oficial .",
                  "['esta', 'lei', 'entra', 'em', 'vigor', 'cento', 'e', 'oitenta', 'dias', 'após', 'sua', 'publicação', 'oficial', '.']",
                  "['O', 'O', 'O', 'O', 'O', 'O', 'O', 'O', 'O', 'O', 'O', 'O', 'O', 'O']"
                ],
                [
                  "28",
                  "o congresso nacional decreta : art . 1º esta lei regula a indenização de benfeitorias a agricultores ocupantes de boa-fé em terras indígenas , nos termos estabelecidos pelo § 6º do art . 231 da constituição federal .",
                  "['o', 'congresso', 'nacional', 'decreta', ':', 'art', '.', '1º', 'esta', 'lei', 'regula', 'a', 'indenização', 'de', 'benfeitorias', 'a', 'agricultores', 'ocupantes', 'de', 'boa-fé', 'em', 'terras', 'indígenas', ',', 'nos', 'termos', 'estabelecidos', 'pelo', '§', '6º', 'do', 'art', '.', '231', 'da', 'constituição', 'federal', '.']",
                  "['O', 'O', 'O', 'O', 'O', 'O', 'O', 'O', 'O', 'O', 'O', 'O', 'O', 'O', 'O', 'O', 'B-PESSOA', 'O', 'O', 'O', 'O', 'O', 'O', 'O', 'O', 'O', 'O', 'O', 'B-FUNDAMENTO', 'I-FUNDAMENTO', 'I-FUNDAMENTO', 'I-FUNDAMENTO', 'I-FUNDAMENTO', 'I-FUNDAMENTO', 'I-FUNDAMENTO', 'I-FUNDAMENTO', 'I-FUNDAMENTO', 'O']"
                ],
                [
                  "29",
                  "diante dessa realidade , o mandamento convencional e legal de integração sociocultural e laboral do refugiado admitido no brasil resta , pois , esvaziado de eficácia , havendo a necessidade de complementação da legislação existente .",
                  "['diante', 'dessa', 'realidade', ',', 'o', 'mandamento', 'convencional', 'e', 'legal', 'de', 'integração', 'sociocultural', 'e', 'laboral', 'do', 'refugiado', 'admitido', 'no', 'brasil', 'resta', ',', 'pois', ',', 'esvaziado', 'de', 'eficácia', ',', 'havendo', 'a', 'necessidade', 'de', 'complementação', 'da', 'legislação', 'existente', '.']",
                  "['O', 'O', 'O', 'O', 'O', 'O', 'O', 'O', 'O', 'O', 'O', 'O', 'O', 'O', 'O', 'O', 'O', 'O', 'B-LOCAL', 'O', 'O', 'O', 'O', 'O', 'O', 'O', 'O', 'O', 'O', 'O', 'O', 'O', 'O', 'O', 'O', 'O']"
                ],
                [
                  "30",
                  "§ 2º a escritura e demais atos notariais serão gratuitos aos hipossuficientes econômicos . ”",
                  "['§', '2º', 'a', 'escritura', 'e', 'demais', 'atos', 'notariais', 'serão', 'gratuitos', 'aos', 'hipossuficientes', 'econômicos', '.', '”']",
                  "['O', 'O', 'O', 'O', 'O', 'O', 'O', 'O', 'O', 'O', 'O', 'O', 'O', 'O', 'O']"
                ],
                [
                  "31",
                  "esses mecanismos devem estar relacionados exatamente à execução da pena .",
                  "['esses', 'mecanismos', 'devem', 'estar', 'relacionados', 'exatamente', 'à', 'execução', 'da', 'pena', '.']",
                  "['O', 'O', 'O', 'O', 'O', 'O', 'O', 'O', 'O', 'O', 'O']"
                ],
                [
                  "32",
                  "igualmente nocivos são os efeitos dos saltos altos sobre a coluna infantil , consistindo no aumento da curvatura da região lombar em decorrência da projeção para a frente do centro de gravidade corporal , o que pode gerar dores e , até mesmo , mudanças na posição da coluna .",
                  "['igualmente', 'nocivos', 'são', 'os', 'efeitos', 'dos', 'saltos', 'altos', 'sobre', 'a', 'coluna', 'infantil', ',', 'consistindo', 'no', 'aumento', 'da', 'curvatura', 'da', 'região', 'lombar', 'em', 'decorrência', 'da', 'projeção', 'para', 'a', 'frente', 'do', 'centro', 'de', 'gravidade', 'corporal', ',', 'o', 'que', 'pode', 'gerar', 'dores', 'e', ',', 'até', 'mesmo', ',', 'mudanças', 'na', 'posição', 'da', 'coluna', '.']",
                  "['O', 'O', 'O', 'O', 'O', 'O', 'O', 'O', 'O', 'O', 'O', 'O', 'O', 'O', 'O', 'O', 'O', 'O', 'O', 'O', 'O', 'O', 'O', 'O', 'O', 'O', 'O', 'O', 'O', 'O', 'O', 'O', 'O', 'O', 'O', 'O', 'O', 'O', 'O', 'O', 'O', 'O', 'O', 'O', 'O', 'O', 'O', 'O', 'O', 'O']"
                ],
                [
                  "33",
                  "i - 6% ( seis por cento ) para a entidade reguladora do setor de mineração ; ii – 1,5% ( um inteiro e cinco décimos por cento ) para o fundo nacional de desenvolvimento científico e tecnológico ( fndct ) , instituído pelo decreto-lei nº 719 , de 31 de julho de 1969 , e restabelecido pela lei nº 8.172 , de 18 de janeiro de 1991 , destinado ao desenvolvimento científico e tecnológico do setor mineral , sendo aplicado , no mínimo , 0,5% ( cinco décimos por cento ) em pesquisas , estudos e projetos para o beneficiamento de rejeitos e estéreis de minerais para uso em outras cadeias produtivas ; . . . . . . . . . . . . . . . . . . . . . . . . . . . . . . . . . . . . . . . . . . . . . . . . . . . . . . . . . . . . . . . . . . . . . . . . . . . . . . . . . . . . . . . . . . . . . . . .",
                  "['i', '-', '6%', '(', 'seis', 'por', 'cento', ')', 'para', 'a', 'entidade', 'reguladora', 'do', 'setor', 'de', 'mineração', ';', 'ii', '–', '1,5%', '(', 'um', 'inteiro', 'e', 'cinco', 'décimos', 'por', 'cento', ')', 'para', 'o', 'fundo', 'nacional', 'de', 'desenvolvimento', 'científico', 'e', 'tecnológico', '(', 'fndct', ')', ',', 'instituído', 'pelo', 'decreto-lei', 'nº', '719', ',', 'de', '31', 'de', 'julho', 'de', '1969', ',', 'e', 'restabelecido', 'pela', 'lei', 'nº', '8.172', ',', 'de', '18', 'de', 'janeiro', 'de', '1991', ',', 'destinado', 'ao', 'desenvolvimento', 'científico', 'e', 'tecnológico', 'do', 'setor', 'mineral', ',', 'sendo', 'aplicado', ',', 'no', 'mínimo', ',', '0,5%', '(', 'cinco', 'décimos', 'por', 'cento', ')', 'em', 'pesquisas', ',', 'estudos', 'e', 'projetos', 'para', 'o', 'beneficiamento', 'de', 'rejeitos', 'e', 'estéreis', 'de', 'minerais', 'para', 'uso', 'em', 'outras', 'cadeias', 'produtivas', ';', '.', '.', '.', '.', '.', '.', '.', '.', '.', '.', '.', '.', '.', '.', '.', '.', '.', '.', '.', '.', '.', '.', '.', '.', '.', '.', '.', '.', '.', '.', '.', '.', '.', '.', '.', '.', '.', '.', '.', '.', '.', '.', '.', '.', '.', '.', '.', '.', '.', '.', '.', '.', '.', '.', '.', '.', '.', '.', '.', '.', '.', '.', '.', '.', '.', '.', '.', '.', '.', '.', '.', '.', '.', '.', '.', '.', '.', '.', '.', '.', '.', '.', '.', '.', '.', '.', '.', '.', '.', '.', '.', '.', '.', '.', '.', '.']",
                  "['O', 'O', 'O', 'O', 'O', 'O', 'O', 'O', 'O', 'O', 'O', 'O', 'O', 'O', 'O', 'O', 'O', 'O', 'O', 'O', 'O', 'O', 'O', 'O', 'O', 'O', 'O', 'O', 'O', 'O', 'O', 'B-PRODUTODELEI', 'I-PRODUTODELEI', 'I-PRODUTODELEI', 'I-PRODUTODELEI', 'I-PRODUTODELEI', 'I-PRODUTODELEI', 'I-PRODUTODELEI', 'I-PRODUTODELEI', 'I-PRODUTODELEI', 'I-PRODUTODELEI', 'O', 'O', 'O', 'B-FUNDAMENTO', 'I-FUNDAMENTO', 'I-FUNDAMENTO', 'I-FUNDAMENTO', 'I-FUNDAMENTO', 'I-FUNDAMENTO', 'I-FUNDAMENTO', 'I-FUNDAMENTO', 'I-FUNDAMENTO', 'I-FUNDAMENTO', 'O', 'O', 'O', 'O', 'B-FUNDAMENTO', 'I-FUNDAMENTO', 'I-FUNDAMENTO', 'I-FUNDAMENTO', 'I-FUNDAMENTO', 'I-FUNDAMENTO', 'I-FUNDAMENTO', 'I-FUNDAMENTO', 'I-FUNDAMENTO', 'I-FUNDAMENTO', 'O', 'O', 'O', 'O', 'O', 'O', 'O', 'O', 'O', 'O', 'O', 'O', 'O', 'O', 'O', 'O', 'O', 'O', 'O', 'O', 'O', 'O', 'O', 'O', 'O', 'O', 'O', 'O', 'O', 'O', 'O', 'O', 'O', 'O', 'O', 'O', 'O', 'O', 'O', 'O', 'O', 'O', 'O', 'O', 'O', 'O', 'O', 'O', 'O', 'O', 'O', 'O', 'O', 'O', 'O', 'O', 'O', 'O', 'O', 'O', 'O', 'O', 'O', 'O', 'O', 'O', 'O', 'O', 'O', 'O', 'O', 'O', 'O', 'O', 'O', 'O', 'O', 'O', 'O', 'O', 'O', 'O', 'O', 'O', 'O', 'O', 'O', 'O', 'O', 'O', 'O', 'O', 'O', 'O', 'O', 'O', 'O', 'O', 'O', 'O', 'O', 'O', 'O', 'O', 'O', 'O', 'O', 'O', 'O', 'O', 'O', 'O', 'O', 'O', 'O', 'O', 'O', 'O', 'O', 'O', 'O', 'O', 'O', 'O', 'O', 'O', 'O', 'O', 'O', 'O', 'O', 'O', 'O', 'O', 'O', 'O', 'O', 'O', 'O', 'O', 'O', 'O']"
                ],
                [
                  "34",
                  "nesse contexto , a lei antidrogas ( lei nº 11.343 , de 23 de agosto de 2006 ) fixou algumas obrigações estatais direcionadas à prevenção do uso indevido e à reinserção social dos usuários de drogas .",
                  "['nesse', 'contexto', ',', 'a', 'lei', 'antidrogas', '(', 'lei', 'nº', '11.343', ',', 'de', '23', 'de', 'agosto', 'de', '2006', ')', 'fixou', 'algumas', 'obrigações', 'estatais', 'direcionadas', 'à', 'prevenção', 'do', 'uso', 'indevido', 'e', 'à', 'reinserção', 'social', 'dos', 'usuários', 'de', 'drogas', '.']",
                  "['O', 'O', 'O', 'O', 'B-FUNDAMENTO', 'I-FUNDAMENTO', 'O', 'B-FUNDAMENTO', 'I-FUNDAMENTO', 'I-FUNDAMENTO', 'I-FUNDAMENTO', 'I-FUNDAMENTO', 'I-FUNDAMENTO', 'I-FUNDAMENTO', 'I-FUNDAMENTO', 'I-FUNDAMENTO', 'I-FUNDAMENTO', 'O', 'O', 'O', 'O', 'O', 'O', 'O', 'O', 'O', 'O', 'O', 'O', 'O', 'O', 'O', 'O', 'O', 'O', 'O', 'O']"
                ],
                [
                  "35",
                  "trata-se de proposição que visa a coibir abusos de poder , retirando do art . 26 da lei nº 6.815 , de 1980 , o seu caráter arbitrário , que , ao estipular as condições segundo as quais a entrada , permanência ou registro do estrangeiro em nosso país pode ser obstado , contempla a hipótese de “ inconveniência de sua presença no território nacional , a critério do ministério da justiça ” .",
                  "['trata-se', 'de', 'proposição', 'que', 'visa', 'a', 'coibir', 'abusos', 'de', 'poder', ',', 'retirando', 'do', 'art', '.', '26', 'da', 'lei', 'nº', '6.815', ',', 'de', '1980', ',', 'o', 'seu', 'caráter', 'arbitrário', ',', 'que', ',', 'ao', 'estipular', 'as', 'condições', 'segundo', 'as', 'quais', 'a', 'entrada', ',', 'permanência', 'ou', 'registro', 'do', 'estrangeiro', 'em', 'nosso', 'país', 'pode', 'ser', 'obstado', ',', 'contempla', 'a', 'hipótese', 'de', '“', 'inconveniência', 'de', 'sua', 'presença', 'no', 'território', 'nacional', ',', 'a', 'critério', 'do', 'ministério', 'da', 'justiça', '”', '.']",
                  "['O', 'O', 'O', 'O', 'O', 'O', 'O', 'O', 'O', 'O', 'O', 'O', 'O', 'B-FUNDAMENTO', 'I-FUNDAMENTO', 'I-FUNDAMENTO', 'I-FUNDAMENTO', 'I-FUNDAMENTO', 'I-FUNDAMENTO', 'I-FUNDAMENTO', 'I-FUNDAMENTO', 'I-FUNDAMENTO', 'I-FUNDAMENTO', 'O', 'O', 'O', 'O', 'O', 'O', 'O', 'O', 'O', 'O', 'O', 'O', 'O', 'O', 'O', 'O', 'O', 'O', 'O', 'O', 'O', 'O', 'O', 'O', 'O', 'O', 'O', 'O', 'O', 'O', 'O', 'O', 'O', 'O', 'O', 'O', 'O', 'O', 'O', 'O', 'O', 'O', 'O', 'O', 'O', 'O', 'B-ORGANIZACAO', 'I-ORGANIZACAO', 'I-ORGANIZACAO', 'O', 'O']"
                ],
                [
                  "36",
                  "assim , este projeto apenas adianta-se , propondo solução já aventada e mapeada como uma necessidade pelo próprio governo federal .",
                  "['assim', ',', 'este', 'projeto', 'apenas', 'adianta-se', ',', 'propondo', 'solução', 'já', 'aventada', 'e', 'mapeada', 'como', 'uma', 'necessidade', 'pelo', 'próprio', 'governo', 'federal', '.']",
                  "['O', 'O', 'O', 'O', 'O', 'O', 'O', 'O', 'O', 'O', 'O', 'O', 'O', 'O', 'O', 'O', 'O', 'O', 'B-ORGANIZACAO', 'I-ORGANIZACAO', 'O']"
                ],
                [
                  "37",
                  "art . 3 ° esta lei entra em vigor na data de sua publicação .",
                  "['art', '.', '3', '°', 'esta', 'lei', 'entra', 'em', 'vigor', 'na', 'data', 'de', 'sua', 'publicação', '.']",
                  "['O', 'O', 'O', 'O', 'O', 'O', 'O', 'O', 'O', 'O', 'O', 'O', 'O', 'O', 'O']"
                ],
                [
                  "38",
                  "não podemos mais aceitar que nossa juventude seja imolada , em favor de uns poucos e , nós parlamentares nada façamos .",
                  "['não', 'podemos', 'mais', 'aceitar', 'que', 'nossa', 'juventude', 'seja', 'imolada', ',', 'em', 'favor', 'de', 'uns', 'poucos', 'e', ',', 'nós', 'parlamentares', 'nada', 'façamos', '.']",
                  "['O', 'O', 'O', 'O', 'O', 'O', 'O', 'O', 'O', 'O', 'O', 'O', 'O', 'O', 'O', 'O', 'O', 'O', 'B-PESSOA', 'O', 'O', 'O']"
                ],
                [
                  "39",
                  "o congresso nacional decreta : art . 1º esta lei veda a divulgação ou promoção de prestadores de serviços turísticos não devidamente cadastrados no ministério do turismo .",
                  "['o', 'congresso', 'nacional', 'decreta', ':', 'art', '.', '1º', 'esta', 'lei', 'veda', 'a', 'divulgação', 'ou', 'promoção', 'de', 'prestadores', 'de', 'serviços', 'turísticos', 'não', 'devidamente', 'cadastrados', 'no', 'ministério', 'do', 'turismo', '.']",
                  "['O', 'O', 'O', 'O', 'O', 'O', 'O', 'O', 'O', 'O', 'O', 'O', 'O', 'O', 'O', 'O', 'O', 'O', 'O', 'O', 'O', 'O', 'O', 'O', 'B-ORGANIZACAO', 'I-ORGANIZACAO', 'I-ORGANIZACAO', 'O']"
                ],
                [
                  "40",
                  "dada a inequívoca importância da matéria , esperamos poder contar com o apoio dos nossos ilustres pares nessa casa para sua célere aprovação .",
                  "['dada', 'a', 'inequívoca', 'importância', 'da', 'matéria', ',', 'esperamos', 'poder', 'contar', 'com', 'o', 'apoio', 'dos', 'nossos', 'ilustres', 'pares', 'nessa', 'casa', 'para', 'sua', 'célere', 'aprovação', '.']",
                  "['O', 'O', 'O', 'O', 'O', 'O', 'O', 'O', 'O', 'O', 'O', 'O', 'O', 'O', 'O', 'O', 'O', 'O', 'O', 'O', 'O', 'O', 'O', 'O']"
                ],
                [
                  "41",
                  "p l n .4 7 4 8 / 2 0 1 9 a p re s e n ta ç ã o : 2 8 / 0 8 / 2 0 1 9 1 6 : 0 1 3 também na linha de combater a reincidência , o núcleo judiciário da mulher , no distrito federal , tem estabelecido conversas reflexivas com condenados pela lei maria da penha , que abordam sistema de crenças , dependência afetiva , e auto responsabilidade .",
                  "['p', 'l', 'n', '.4', '7', '4', '8', '/', '2', '0', '1', '9', 'a', 'p', 're', 's', 'e', 'n', 'ta', 'ç', 'ã', 'o', ':', '2', '8', '/', '0', '8', '/', '2', '0', '1', '9', '1', '6', ':', '0', '1', '3', 'também', 'na', 'linha', 'de', 'combater', 'a', 'reincidência', ',', 'o', 'núcleo', 'judiciário', 'da', 'mulher', ',', 'no', 'distrito', 'federal', ',', 'tem', 'estabelecido', 'conversas', 'reflexivas', 'com', 'condenados', 'pela', 'lei', 'maria', 'da', 'penha', ',', 'que', 'abordam', 'sistema', 'de', 'crenças', ',', 'dependência', 'afetiva', ',', 'e', 'auto', 'responsabilidade', '.']",
                  "['O', 'O', 'O', 'O', 'O', 'O', 'O', 'O', 'O', 'O', 'O', 'O', 'O', 'O', 'O', 'O', 'O', 'O', 'O', 'O', 'O', 'O', 'O', 'O', 'O', 'O', 'O', 'O', 'O', 'O', 'O', 'O', 'O', 'O', 'O', 'O', 'O', 'O', 'O', 'O', 'O', 'O', 'O', 'O', 'O', 'O', 'O', 'O', 'B-PRODUTODELEI', 'I-PRODUTODELEI', 'I-PRODUTODELEI', 'I-PRODUTODELEI', 'O', 'O', 'O', 'O', 'O', 'O', 'O', 'O', 'O', 'O', 'O', 'O', 'B-FUNDAMENTO', 'I-FUNDAMENTO', 'I-FUNDAMENTO', 'I-FUNDAMENTO', 'O', 'O', 'O', 'O', 'O', 'O', 'O', 'O', 'O', 'O', 'O', 'O', 'O', 'O']"
                ],
                [
                  "42",
                  "amparado em tais argumento , esperamos contar com o decisivo apoio dos nobres pares para a aprovação dessa proposta legislativa .",
                  "['amparado', 'em', 'tais', 'argumento', ',', 'esperamos', 'contar', 'com', 'o', 'decisivo', 'apoio', 'dos', 'nobres', 'pares', 'para', 'a', 'aprovação', 'dessa', 'proposta', 'legislativa', '.']",
                  "['O', 'O', 'O', 'O', 'O', 'O', 'O', 'O', 'O', 'O', 'O', 'O', 'O', 'O', 'O', 'O', 'O', 'O', 'O', 'O', 'O']"
                ],
                [
                  "43",
                  "foi o primeiro nissei e o único político a ser presidente da câmara municipal de são paulo e da assembléia legislativa do estado de são paulo .",
                  "['foi', 'o', 'primeiro', 'nissei', 'e', 'o', 'único', 'político', 'a', 'ser', 'presidente', 'da', 'câmara', 'municipal', 'de', 'são', 'paulo', 'e', 'da', 'assembléia', 'legislativa', 'do', 'estado', 'de', 'são', 'paulo', '.']",
                  "['O', 'O', 'O', 'O', 'O', 'O', 'O', 'B-PESSOA', 'O', 'O', 'B-PESSOA', 'O', 'B-ORGANIZACAO', 'I-ORGANIZACAO', 'I-ORGANIZACAO', 'I-ORGANIZACAO', 'I-ORGANIZACAO', 'O', 'O', 'B-ORGANIZACAO', 'I-ORGANIZACAO', 'I-ORGANIZACAO', 'I-ORGANIZACAO', 'I-ORGANIZACAO', 'I-ORGANIZACAO', 'I-ORGANIZACAO', 'O']"
                ],
                [
                  "44",
                  "justificação diante do aumento da expectativa de vida do brasileiro e da necessidade de inclusão e de manutenção dos trabalhadores com 50 anos de idade ou mais no mercado de trabalho , a fim de que possam continuar contribuindo para a previdência social o suficiente para a percepção do benefício da aposentadoria , faz-se necessária a adoção de mecanismos que incentivem as empresas a contratar empregados mais experientes .",
                  "['justificação', 'diante', 'do', 'aumento', 'da', 'expectativa', 'de', 'vida', 'do', 'brasileiro', 'e', 'da', 'necessidade', 'de', 'inclusão', 'e', 'de', 'manutenção', 'dos', 'trabalhadores', 'com', '50', 'anos', 'de', 'idade', 'ou', 'mais', 'no', 'mercado', 'de', 'trabalho', ',', 'a', 'fim', 'de', 'que', 'possam', 'continuar', 'contribuindo', 'para', 'a', 'previdência', 'social', 'o', 'suficiente', 'para', 'a', 'percepção', 'do', 'benefício', 'da', 'aposentadoria', ',', 'faz-se', 'necessária', 'a', 'adoção', 'de', 'mecanismos', 'que', 'incentivem', 'as', 'empresas', 'a', 'contratar', 'empregados', 'mais', 'experientes', '.']",
                  "['O', 'O', 'O', 'O', 'O', 'O', 'O', 'O', 'O', 'O', 'O', 'O', 'O', 'O', 'O', 'O', 'O', 'O', 'O', 'O', 'O', 'O', 'O', 'O', 'O', 'O', 'O', 'O', 'O', 'O', 'O', 'O', 'O', 'O', 'O', 'O', 'O', 'O', 'O', 'O', 'O', 'B-PRODUTODELEI', 'I-PRODUTODELEI', 'O', 'O', 'O', 'O', 'O', 'O', 'O', 'O', 'O', 'O', 'O', 'O', 'O', 'O', 'O', 'O', 'O', 'O', 'O', 'O', 'O', 'O', 'O', 'O', 'O', 'O']"
                ],
                [
                  "45",
                  "silas câmara e vinícius carvalho ) dispõe sobre a atualização do valor dos ativos das concessionárias de transmissão de energia elétrica considerados não depreciados existentes em 31 de maio de 2000 o congresso nacional decreta : art . 1º o art . 15 da lei nº 12.783 , 11 de janeiro de 2013 , passa a vigorar acrescido do seguinte § 3º-a : “ art . 15",
                  "['silas', 'câmara', 'e', 'vinícius', 'carvalho', ')', 'dispõe', 'sobre', 'a', 'atualização', 'do', 'valor', 'dos', 'ativos', 'das', 'concessionárias', 'de', 'transmissão', 'de', 'energia', 'elétrica', 'considerados', 'não', 'depreciados', 'existentes', 'em', '31', 'de', 'maio', 'de', '2000', 'o', 'congresso', 'nacional', 'decreta', ':', 'art', '.', '1º', 'o', 'art', '.', '15', 'da', 'lei', 'nº', '12.783', ',', '11', 'de', 'janeiro', 'de', '2013', ',', 'passa', 'a', 'vigorar', 'acrescido', 'do', 'seguinte', '§', '3º-a', ':', '“', 'art', '.', '15']",
                  "['B-PESSOA', 'I-PESSOA', 'O', 'B-PESSOA', 'I-PESSOA', 'O', 'O', 'O', 'O', 'O', 'O', 'O', 'O', 'O', 'O', 'O', 'O', 'O', 'O', 'O', 'O', 'O', 'O', 'O', 'O', 'O', 'B-DATA', 'I-DATA', 'I-DATA', 'I-DATA', 'I-DATA', 'O', 'O', 'O', 'O', 'O', 'O', 'O', 'O', 'O', 'B-FUNDAMENTO', 'I-FUNDAMENTO', 'I-FUNDAMENTO', 'I-FUNDAMENTO', 'I-FUNDAMENTO', 'I-FUNDAMENTO', 'I-FUNDAMENTO', 'I-FUNDAMENTO', 'I-FUNDAMENTO', 'I-FUNDAMENTO', 'I-FUNDAMENTO', 'I-FUNDAMENTO', 'I-FUNDAMENTO', 'O', 'O', 'O', 'O', 'O', 'O', 'O', 'O', 'O', 'O', 'O', 'O', 'O', 'O']"
                ],
                [
                  "46",
                  "p l n .4 7 2 2 / 2 0 1 9 a p re s e n ta ç ã o : 2 7 / 0 8 / 2 0 1 9 1 8 : 5 2 justificação o alto consumo de agrotóxicos é um problema continuamente enfrentado ao redor do mundo dadas as poucas garantias de não serem , de fato , danosos ao organismo humano .",
                  "['p', 'l', 'n', '.4', '7', '2', '2', '/', '2', '0', '1', '9', 'a', 'p', 're', 's', 'e', 'n', 'ta', 'ç', 'ã', 'o', ':', '2', '7', '/', '0', '8', '/', '2', '0', '1', '9', '1', '8', ':', '5', '2', 'justificação', 'o', 'alto', 'consumo', 'de', 'agrotóxicos', 'é', 'um', 'problema', 'continuamente', 'enfrentado', 'ao', 'redor', 'do', 'mundo', 'dadas', 'as', 'poucas', 'garantias', 'de', 'não', 'serem', ',', 'de', 'fato', ',', 'danosos', 'ao', 'organismo', 'humano', '.']",
                  "['O', 'O', 'O', 'O', 'O', 'O', 'O', 'O', 'O', 'O', 'O', 'O', 'O', 'O', 'O', 'O', 'O', 'O', 'O', 'O', 'O', 'O', 'O', 'O', 'O', 'O', 'O', 'O', 'O', 'O', 'O', 'O', 'O', 'O', 'O', 'O', 'O', 'O', 'O', 'O', 'O', 'O', 'O', 'O', 'O', 'O', 'O', 'O', 'O', 'O', 'O', 'O', 'O', 'O', 'O', 'O', 'O', 'O', 'O', 'O', 'O', 'O', 'O', 'O', 'O', 'O', 'O', 'O', 'O']"
                ],
                [
                  "47",
                  "( nr ) art . 13 - b .",
                  "['(', 'nr', ')', 'art', '.', '13', '-', 'b', '.']",
                  "['O', 'O', 'O', 'O', 'O', 'O', 'O', 'O', 'O']"
                ],
                [
                  "48",
                  "na áustria , há vedação ao encaixe de inserções publicitárias em programas infantis nos canais de tv por assinatura , mesmo aquelas não direcionadas para crianças .",
                  "['na', 'áustria', ',', 'há', 'vedação', 'ao', 'encaixe', 'de', 'inserções', 'publicitárias', 'em', 'programas', 'infantis', 'nos', 'canais', 'de', 'tv', 'por', 'assinatura', ',', 'mesmo', 'aquelas', 'não', 'direcionadas', 'para', 'crianças', '.']",
                  "['O', 'B-LOCAL', 'O', 'O', 'O', 'O', 'O', 'O', 'O', 'O', 'O', 'O', 'O', 'O', 'O', 'O', 'O', 'O', 'O', 'O', 'O', 'O', 'O', 'O', 'O', 'O', 'O']"
                ],
                [
                  "49",
                  "p l n .4 4 1 5 / 2 0 1 9 a p re s e n ta ç ã o : 1 3 / 0 8 / 2 0 1 9 1 7 : 3 5 câmara dos deputados em vista desses argumentos , contamos com o apoio dos nobres pares , para a aprovação deste projeto de lei .",
                  "['p', 'l', 'n', '.4', '4', '1', '5', '/', '2', '0', '1', '9', 'a', 'p', 're', 's', 'e', 'n', 'ta', 'ç', 'ã', 'o', ':', '1', '3', '/', '0', '8', '/', '2', '0', '1', '9', '1', '7', ':', '3', '5', 'câmara', 'dos', 'deputados', 'em', 'vista', 'desses', 'argumentos', ',', 'contamos', 'com', 'o', 'apoio', 'dos', 'nobres', 'pares', ',', 'para', 'a', 'aprovação', 'deste', 'projeto', 'de', 'lei', '.']",
                  "['O', 'O', 'O', 'O', 'O', 'O', 'O', 'O', 'O', 'O', 'O', 'O', 'O', 'O', 'O', 'O', 'O', 'O', 'O', 'O', 'O', 'O', 'O', 'O', 'O', 'O', 'O', 'O', 'O', 'O', 'O', 'O', 'O', 'O', 'O', 'O', 'O', 'O', 'B-ORGANIZACAO', 'I-ORGANIZACAO', 'I-ORGANIZACAO', 'O', 'O', 'O', 'O', 'O', 'O', 'O', 'O', 'O', 'O', 'O', 'O', 'O', 'O', 'O', 'O', 'O', 'O', 'O', 'O', 'O']"
                ]
              ],
              "shape": {
                "columns": 3,
                "rows": 1760
              }
            },
            "text/html": [
              "<div>\n",
              "<style scoped>\n",
              "    .dataframe tbody tr th:only-of-type {\n",
              "        vertical-align: middle;\n",
              "    }\n",
              "\n",
              "    .dataframe tbody tr th {\n",
              "        vertical-align: top;\n",
              "    }\n",
              "\n",
              "    .dataframe thead th {\n",
              "        text-align: right;\n",
              "    }\n",
              "</style>\n",
              "<table border=\"1\" class=\"dataframe\">\n",
              "  <thead>\n",
              "    <tr style=\"text-align: right;\">\n",
              "      <th></th>\n",
              "      <th>sentences</th>\n",
              "      <th>tokens</th>\n",
              "      <th>ner_tokens</th>\n",
              "    </tr>\n",
              "  </thead>\n",
              "  <tbody>\n",
              "    <tr>\n",
              "      <th>0</th>\n",
              "      <td>sala das sessões , em de de 2019 .</td>\n",
              "      <td>[sala, das, sessões, ,, em, de, de, 2019, .]</td>\n",
              "      <td>[O, O, O, O, O, O, O, B-DATA, O]</td>\n",
              "    </tr>\n",
              "    <tr>\n",
              "      <th>1</th>\n",
              "      <td>da decisão de que trata o § 12 deste artigo ca...</td>\n",
              "      <td>[da, decisão, de, que, trata, o, §, 12, deste,...</td>\n",
              "      <td>[O, O, O, O, O, O, O, O, O, O, O, O, O, O, O, ...</td>\n",
              "    </tr>\n",
              "    <tr>\n",
              "      <th>2</th>\n",
              "      <td>projeto de lei n.º , de 2017 ( do sr .</td>\n",
              "      <td>[projeto, de, lei, n.º, ,, de, 2017, (, do, sr...</td>\n",
              "      <td>[O, O, O, O, O, O, B-DATA, O, O, O, O]</td>\n",
              "    </tr>\n",
              "    <tr>\n",
              "      <th>3</th>\n",
              "      <td>deputado maurício dziedricki p l n .4 6 1 5 / ...</td>\n",
              "      <td>[deputado, maurício, dziedricki, p, l, n, .4, ...</td>\n",
              "      <td>[B-PESSOA, B-PESSOA, I-PESSOA, O, O, O, O, O, ...</td>\n",
              "    </tr>\n",
              "    <tr>\n",
              "      <th>4</th>\n",
              "      <td>art . 4º esta lei entra em vigor na data de su...</td>\n",
              "      <td>[art, ., 4º, esta, lei, entra, em, vigor, na, ...</td>\n",
              "      <td>[O, O, O, O, O, O, O, O, O, O, O, O, O, O]</td>\n",
              "    </tr>\n",
              "    <tr>\n",
              "      <th>...</th>\n",
              "      <td>...</td>\n",
              "      <td>...</td>\n",
              "      <td>...</td>\n",
              "    </tr>\n",
              "    <tr>\n",
              "      <th>1755</th>\n",
              "      <td>trata-se de um projeto de grande utilidade , p...</td>\n",
              "      <td>[trata-se, de, um, projeto, de, grande, utilid...</td>\n",
              "      <td>[O, O, O, O, O, O, O, O, O, O, O, O, O, O, O, ...</td>\n",
              "    </tr>\n",
              "    <tr>\n",
              "      <th>1756</th>\n",
              "      <td>paulo wagner ) dispõe sobre o programa escola ...</td>\n",
              "      <td>[paulo, wagner, ), dispõe, sobre, o, programa,...</td>\n",
              "      <td>[B-PESSOA, I-PESSOA, O, O, O, O, B-PRODUTODELE...</td>\n",
              "    </tr>\n",
              "    <tr>\n",
              "      <th>1757</th>\n",
              "      <td>iracema portella ) dispõe sobre abertura de li...</td>\n",
              "      <td>[iracema, portella, ), dispõe, sobre, abertura...</td>\n",
              "      <td>[B-PESSOA, I-PESSOA, O, O, O, O, O, O, O, O, O...</td>\n",
              "    </tr>\n",
              "    <tr>\n",
              "      <th>1758</th>\n",
              "      <td>arnaldo faria de sá deputado federal – são pau...</td>\n",
              "      <td>[arnaldo, faria, de, sá, deputado, federal, –,...</td>\n",
              "      <td>[B-PESSOA, I-PESSOA, I-PESSOA, I-PESSOA, B-PES...</td>\n",
              "    </tr>\n",
              "    <tr>\n",
              "      <th>1759</th>\n",
              "      <td>não obstante as ambiciosas metas constantes do...</td>\n",
              "      <td>[não, obstante, as, ambiciosas, metas, constan...</td>\n",
              "      <td>[O, O, O, O, O, O, O, B-PRODUTODELEI, I-PRODUT...</td>\n",
              "    </tr>\n",
              "  </tbody>\n",
              "</table>\n",
              "<p>1760 rows × 3 columns</p>\n",
              "</div>"
            ],
            "text/plain": [
              "                                              sentences  \\\n",
              "0                    sala das sessões , em de de 2019 .   \n",
              "1     da decisão de que trata o § 12 deste artigo ca...   \n",
              "2                projeto de lei n.º , de 2017 ( do sr .   \n",
              "3     deputado maurício dziedricki p l n .4 6 1 5 / ...   \n",
              "4     art . 4º esta lei entra em vigor na data de su...   \n",
              "...                                                 ...   \n",
              "1755  trata-se de um projeto de grande utilidade , p...   \n",
              "1756  paulo wagner ) dispõe sobre o programa escola ...   \n",
              "1757  iracema portella ) dispõe sobre abertura de li...   \n",
              "1758  arnaldo faria de sá deputado federal – são pau...   \n",
              "1759  não obstante as ambiciosas metas constantes do...   \n",
              "\n",
              "                                                 tokens  \\\n",
              "0          [sala, das, sessões, ,, em, de, de, 2019, .]   \n",
              "1     [da, decisão, de, que, trata, o, §, 12, deste,...   \n",
              "2     [projeto, de, lei, n.º, ,, de, 2017, (, do, sr...   \n",
              "3     [deputado, maurício, dziedricki, p, l, n, .4, ...   \n",
              "4     [art, ., 4º, esta, lei, entra, em, vigor, na, ...   \n",
              "...                                                 ...   \n",
              "1755  [trata-se, de, um, projeto, de, grande, utilid...   \n",
              "1756  [paulo, wagner, ), dispõe, sobre, o, programa,...   \n",
              "1757  [iracema, portella, ), dispõe, sobre, abertura...   \n",
              "1758  [arnaldo, faria, de, sá, deputado, federal, –,...   \n",
              "1759  [não, obstante, as, ambiciosas, metas, constan...   \n",
              "\n",
              "                                             ner_tokens  \n",
              "0                      [O, O, O, O, O, O, O, B-DATA, O]  \n",
              "1     [O, O, O, O, O, O, O, O, O, O, O, O, O, O, O, ...  \n",
              "2                [O, O, O, O, O, O, B-DATA, O, O, O, O]  \n",
              "3     [B-PESSOA, B-PESSOA, I-PESSOA, O, O, O, O, O, ...  \n",
              "4            [O, O, O, O, O, O, O, O, O, O, O, O, O, O]  \n",
              "...                                                 ...  \n",
              "1755  [O, O, O, O, O, O, O, O, O, O, O, O, O, O, O, ...  \n",
              "1756  [B-PESSOA, I-PESSOA, O, O, O, O, B-PRODUTODELE...  \n",
              "1757  [B-PESSOA, I-PESSOA, O, O, O, O, O, O, O, O, O...  \n",
              "1758  [B-PESSOA, I-PESSOA, I-PESSOA, I-PESSOA, B-PES...  \n",
              "1759  [O, O, O, O, O, O, O, B-PRODUTODELEI, I-PRODUT...  \n",
              "\n",
              "[1760 rows x 3 columns]"
            ]
          },
          "execution_count": 3,
          "metadata": {},
          "output_type": "execute_result"
        }
      ],
      "source": [
        "df_train"
      ]
    },
    {
      "cell_type": "code",
      "execution_count": 4,
      "metadata": {
        "colab": {
          "base_uri": "https://localhost:8080/"
        },
        "id": "RgCad4Mfl0r9",
        "outputId": "84565a8e-d0a8-44f7-a4b1-5080cb4a3250"
      },
      "outputs": [
        {
          "data": {
            "text/plain": [
              "((1760, 3), (140, 3), (592, 3))"
            ]
          },
          "execution_count": 4,
          "metadata": {},
          "output_type": "execute_result"
        }
      ],
      "source": [
        "df_train.shape, df_dev.shape, df_test.shape"
      ]
    },
    {
      "cell_type": "code",
      "execution_count": 5,
      "metadata": {
        "colab": {
          "base_uri": "https://localhost:8080/"
        },
        "id": "SdHl51K_muTC",
        "outputId": "7448ab5f-ce0c-4a5c-9c8c-a300b50ead33"
      },
      "outputs": [
        {
          "name": "stdout",
          "output_type": "stream",
          "text": [
            "art . 3º esta lei entra em vigor na data de sua publicação .\n"
          ]
        }
      ],
      "source": [
        "print(df_dev.iloc[0][\"sentences\"])"
      ]
    },
    {
      "cell_type": "code",
      "execution_count": 6,
      "metadata": {
        "colab": {
          "base_uri": "https://localhost:8080/",
          "height": 931
        },
        "id": "37eeee74",
        "outputId": "fed92638-8e54-4289-8096-da001b6535da"
      },
      "outputs": [
        {
          "name": "stdout",
          "output_type": "stream",
          "text": [
            "Primeiras linhas de df_train com a nova coluna 'label_iob':\n"
          ]
        },
        {
          "data": {
            "application/vnd.microsoft.datawrangler.viewer.v0+json": {
              "columns": [
                {
                  "name": "index",
                  "rawType": "int64",
                  "type": "integer"
                },
                {
                  "name": "sentences",
                  "rawType": "object",
                  "type": "string"
                },
                {
                  "name": "tokens",
                  "rawType": "object",
                  "type": "unknown"
                },
                {
                  "name": "ner_tokens",
                  "rawType": "object",
                  "type": "unknown"
                },
                {
                  "name": "label_iob",
                  "rawType": "object",
                  "type": "unknown"
                }
              ],
              "ref": "a61a60e9-e0e8-40ef-95e9-05db9b017fa8",
              "rows": [
                [
                  "0",
                  "sala das sessões , em de de 2019 .",
                  "['sala', 'das', 'sessões', ',', 'em', 'de', 'de', '2019', '.']",
                  "['O', 'O', 'O', 'O', 'O', 'O', 'O', 'B-DATA', 'O']",
                  "[('sala', 'O'), ('das', 'O'), ('sessões', 'O'), (',', 'O'), ('em', 'O'), ('de', 'O'), ('de', 'O'), ('2019', 'B-DATA'), ('.', 'O')]"
                ],
                [
                  "1",
                  "da decisão de que trata o § 12 deste artigo caberá recurso administrativo com efeito suspensivo .",
                  "['da', 'decisão', 'de', 'que', 'trata', 'o', '§', '12', 'deste', 'artigo', 'caberá', 'recurso', 'administrativo', 'com', 'efeito', 'suspensivo', '.']",
                  "['O', 'O', 'O', 'O', 'O', 'O', 'O', 'O', 'O', 'O', 'O', 'O', 'O', 'O', 'O', 'O', 'O']",
                  "[('da', 'O'), ('decisão', 'O'), ('de', 'O'), ('que', 'O'), ('trata', 'O'), ('o', 'O'), ('§', 'O'), ('12', 'O'), ('deste', 'O'), ('artigo', 'O'), ('caberá', 'O'), ('recurso', 'O'), ('administrativo', 'O'), ('com', 'O'), ('efeito', 'O'), ('suspensivo', 'O'), ('.', 'O')]"
                ],
                [
                  "2",
                  "projeto de lei n.º , de 2017 ( do sr .",
                  "['projeto', 'de', 'lei', 'n.º', ',', 'de', '2017', '(', 'do', 'sr', '.']",
                  "['O', 'O', 'O', 'O', 'O', 'O', 'B-DATA', 'O', 'O', 'O', 'O']",
                  "[('projeto', 'O'), ('de', 'O'), ('lei', 'O'), ('n.º', 'O'), (',', 'O'), ('de', 'O'), ('2017', 'B-DATA'), ('(', 'O'), ('do', 'O'), ('sr', 'O'), ('.', 'O')]"
                ],
                [
                  "3",
                  "deputado maurício dziedricki p l n .4 6 1 5 / 2 0 1 9 a p re s e n ta ç ã o : 2 1 / 0 8 / 2 0 1 9 1 4 : 1 6",
                  "['deputado', 'maurício', 'dziedricki', 'p', 'l', 'n', '.4', '6', '1', '5', '/', '2', '0', '1', '9', 'a', 'p', 're', 's', 'e', 'n', 'ta', 'ç', 'ã', 'o', ':', '2', '1', '/', '0', '8', '/', '2', '0', '1', '9', '1', '4', ':', '1', '6']",
                  "['B-PESSOA', 'B-PESSOA', 'I-PESSOA', 'O', 'O', 'O', 'O', 'O', 'O', 'O', 'O', 'O', 'O', 'O', 'O', 'O', 'O', 'O', 'O', 'O', 'O', 'O', 'O', 'O', 'O', 'O', 'O', 'O', 'O', 'O', 'O', 'O', 'O', 'O', 'O', 'O', 'O', 'O', 'O', 'O', 'O']",
                  "[('deputado', 'B-PESSOA'), ('maurício', 'B-PESSOA'), ('dziedricki', 'I-PESSOA'), ('p', 'O'), ('l', 'O'), ('n', 'O'), ('.4', 'O'), ('6', 'O'), ('1', 'O'), ('5', 'O'), ('/', 'O'), ('2', 'O'), ('0', 'O'), ('1', 'O'), ('9', 'O'), ('a', 'O'), ('p', 'O'), ('re', 'O'), ('s', 'O'), ('e', 'O'), ('n', 'O'), ('ta', 'O'), ('ç', 'O'), ('ã', 'O'), ('o', 'O'), (':', 'O'), ('2', 'O'), ('1', 'O'), ('/', 'O'), ('0', 'O'), ('8', 'O'), ('/', 'O'), ('2', 'O'), ('0', 'O'), ('1', 'O'), ('9', 'O'), ('1', 'O'), ('4', 'O'), (':', 'O'), ('1', 'O'), ('6', 'O')]"
                ],
                [
                  "4",
                  "art . 4º esta lei entra em vigor na data de sua publicação .",
                  "['art', '.', '4º', 'esta', 'lei', 'entra', 'em', 'vigor', 'na', 'data', 'de', 'sua', 'publicação', '.']",
                  "['O', 'O', 'O', 'O', 'O', 'O', 'O', 'O', 'O', 'O', 'O', 'O', 'O', 'O']",
                  "[('art', 'O'), ('.', 'O'), ('4º', 'O'), ('esta', 'O'), ('lei', 'O'), ('entra', 'O'), ('em', 'O'), ('vigor', 'O'), ('na', 'O'), ('data', 'O'), ('de', 'O'), ('sua', 'O'), ('publicação', 'O'), ('.', 'O')]"
                ]
              ],
              "shape": {
                "columns": 4,
                "rows": 5
              }
            },
            "text/html": [
              "<div>\n",
              "<style scoped>\n",
              "    .dataframe tbody tr th:only-of-type {\n",
              "        vertical-align: middle;\n",
              "    }\n",
              "\n",
              "    .dataframe tbody tr th {\n",
              "        vertical-align: top;\n",
              "    }\n",
              "\n",
              "    .dataframe thead th {\n",
              "        text-align: right;\n",
              "    }\n",
              "</style>\n",
              "<table border=\"1\" class=\"dataframe\">\n",
              "  <thead>\n",
              "    <tr style=\"text-align: right;\">\n",
              "      <th></th>\n",
              "      <th>sentences</th>\n",
              "      <th>tokens</th>\n",
              "      <th>ner_tokens</th>\n",
              "      <th>label_iob</th>\n",
              "    </tr>\n",
              "  </thead>\n",
              "  <tbody>\n",
              "    <tr>\n",
              "      <th>0</th>\n",
              "      <td>sala das sessões , em de de 2019 .</td>\n",
              "      <td>[sala, das, sessões, ,, em, de, de, 2019, .]</td>\n",
              "      <td>[O, O, O, O, O, O, O, B-DATA, O]</td>\n",
              "      <td>[(sala, O), (das, O), (sessões, O), (,, O), (e...</td>\n",
              "    </tr>\n",
              "    <tr>\n",
              "      <th>1</th>\n",
              "      <td>da decisão de que trata o § 12 deste artigo ca...</td>\n",
              "      <td>[da, decisão, de, que, trata, o, §, 12, deste,...</td>\n",
              "      <td>[O, O, O, O, O, O, O, O, O, O, O, O, O, O, O, ...</td>\n",
              "      <td>[(da, O), (decisão, O), (de, O), (que, O), (tr...</td>\n",
              "    </tr>\n",
              "    <tr>\n",
              "      <th>2</th>\n",
              "      <td>projeto de lei n.º , de 2017 ( do sr .</td>\n",
              "      <td>[projeto, de, lei, n.º, ,, de, 2017, (, do, sr...</td>\n",
              "      <td>[O, O, O, O, O, O, B-DATA, O, O, O, O]</td>\n",
              "      <td>[(projeto, O), (de, O), (lei, O), (n.º, O), (,...</td>\n",
              "    </tr>\n",
              "    <tr>\n",
              "      <th>3</th>\n",
              "      <td>deputado maurício dziedricki p l n .4 6 1 5 / ...</td>\n",
              "      <td>[deputado, maurício, dziedricki, p, l, n, .4, ...</td>\n",
              "      <td>[B-PESSOA, B-PESSOA, I-PESSOA, O, O, O, O, O, ...</td>\n",
              "      <td>[(deputado, B-PESSOA), (maurício, B-PESSOA), (...</td>\n",
              "    </tr>\n",
              "    <tr>\n",
              "      <th>4</th>\n",
              "      <td>art . 4º esta lei entra em vigor na data de su...</td>\n",
              "      <td>[art, ., 4º, esta, lei, entra, em, vigor, na, ...</td>\n",
              "      <td>[O, O, O, O, O, O, O, O, O, O, O, O, O, O]</td>\n",
              "      <td>[(art, O), (., O), (4º, O), (esta, O), (lei, O...</td>\n",
              "    </tr>\n",
              "  </tbody>\n",
              "</table>\n",
              "</div>"
            ],
            "text/plain": [
              "                                           sentences  \\\n",
              "0                 sala das sessões , em de de 2019 .   \n",
              "1  da decisão de que trata o § 12 deste artigo ca...   \n",
              "2             projeto de lei n.º , de 2017 ( do sr .   \n",
              "3  deputado maurício dziedricki p l n .4 6 1 5 / ...   \n",
              "4  art . 4º esta lei entra em vigor na data de su...   \n",
              "\n",
              "                                              tokens  \\\n",
              "0       [sala, das, sessões, ,, em, de, de, 2019, .]   \n",
              "1  [da, decisão, de, que, trata, o, §, 12, deste,...   \n",
              "2  [projeto, de, lei, n.º, ,, de, 2017, (, do, sr...   \n",
              "3  [deputado, maurício, dziedricki, p, l, n, .4, ...   \n",
              "4  [art, ., 4º, esta, lei, entra, em, vigor, na, ...   \n",
              "\n",
              "                                          ner_tokens  \\\n",
              "0                   [O, O, O, O, O, O, O, B-DATA, O]   \n",
              "1  [O, O, O, O, O, O, O, O, O, O, O, O, O, O, O, ...   \n",
              "2             [O, O, O, O, O, O, B-DATA, O, O, O, O]   \n",
              "3  [B-PESSOA, B-PESSOA, I-PESSOA, O, O, O, O, O, ...   \n",
              "4         [O, O, O, O, O, O, O, O, O, O, O, O, O, O]   \n",
              "\n",
              "                                           label_iob  \n",
              "0  [(sala, O), (das, O), (sessões, O), (,, O), (e...  \n",
              "1  [(da, O), (decisão, O), (de, O), (que, O), (tr...  \n",
              "2  [(projeto, O), (de, O), (lei, O), (n.º, O), (,...  \n",
              "3  [(deputado, B-PESSOA), (maurício, B-PESSOA), (...  \n",
              "4  [(art, O), (., O), (4º, O), (esta, O), (lei, O...  "
            ]
          },
          "metadata": {},
          "output_type": "display_data"
        }
      ],
      "source": [
        "def create_iob_labels(df):\n",
        "    df['label_iob'] = df.apply(lambda row: list(zip(row['tokens'], row['ner_tokens'])), axis=1)\n",
        "    return df\n",
        "\n",
        "df_train = create_iob_labels(df_train)\n",
        "df_dev = create_iob_labels(df_dev)\n",
        "df_test = create_iob_labels(df_test)\n",
        "\n",
        "print(\"Primeiras linhas de df_train com a nova coluna 'label_iob':\")\n",
        "display(df_train.head())"
      ]
    },
    {
      "cell_type": "code",
      "execution_count": 7,
      "metadata": {
        "colab": {
          "base_uri": "https://localhost:8080/"
        },
        "id": "924f4b3f",
        "outputId": "de9a5d34-7d33-46f6-c579-316517574d59"
      },
      "outputs": [
        {
          "name": "stdout",
          "output_type": "stream",
          "text": [
            "\n",
            "Labels únicas presentes nos datasets:\n",
            "['B-DATA', 'B-EVENTO', 'B-FUNDAMENTO', 'B-LOCAL', 'B-ORGANIZACAO', 'B-PESSOA', 'B-PRODUTODELEI', 'I-DATA', 'I-EVENTO', 'I-FUNDAMENTO', 'I-LOCAL', 'I-ORGANIZACAO', 'I-PESSOA', 'I-PRODUTODELEI']\n"
          ]
        }
      ],
      "source": [
        "all_ner_tokens = []\n",
        "for ner_tokens_list in df_train['ner_tokens']:\n",
        "    all_ner_tokens.extend(ner_tokens_list)\n",
        "for ner_tokens_list in df_dev['ner_tokens']:\n",
        "    all_ner_tokens.extend(ner_tokens_list)\n",
        "for ner_tokens_list in df_test['ner_tokens']:\n",
        "    all_ner_tokens.extend(ner_tokens_list)\n",
        "\n",
        "unique_labels = set(all_ner_tokens) - set(\"O\")\n",
        "sorted_labels = sorted(list(unique_labels))\n",
        "\n",
        "print(\"\\nLabels únicas presentes nos datasets:\")\n",
        "print(sorted_labels)"
      ]
    },
    {
      "cell_type": "markdown",
      "metadata": {
        "id": "244594b6"
      },
      "source": [
        "### Analysis of label distribution"
      ]
    },
    {
      "cell_type": "code",
      "execution_count": 8,
      "metadata": {
        "colab": {
          "base_uri": "https://localhost:8080/",
          "height": 1000
        },
        "id": "5c407d52",
        "outputId": "7fccf4d2-82e1-40c5-d5be-656baf0d3203"
      },
      "outputs": [
        {
          "name": "stdout",
          "output_type": "stream",
          "text": [
            "Frequência de cada label IOB:\n"
          ]
        },
        {
          "data": {
            "application/vnd.microsoft.datawrangler.viewer.v0+json": {
              "columns": [
                {
                  "name": "index",
                  "rawType": "object",
                  "type": "string"
                },
                {
                  "name": "0",
                  "rawType": "int64",
                  "type": "integer"
                }
              ],
              "ref": "a42e5140-5b27-43db-9b4c-80f2ced19ec8",
              "rows": [
                [
                  "B-DATA",
                  "363"
                ],
                [
                  "B-EVENTO",
                  "14"
                ],
                [
                  "B-FUNDAMENTO",
                  "597"
                ],
                [
                  "B-LOCAL",
                  "533"
                ],
                [
                  "B-ORGANIZACAO",
                  "516"
                ],
                [
                  "B-PESSOA",
                  "744"
                ],
                [
                  "B-PRODUTODELEI",
                  "269"
                ],
                [
                  "I-DATA",
                  "280"
                ],
                [
                  "I-EVENTO",
                  "35"
                ],
                [
                  "I-FUNDAMENTO",
                  "4929"
                ],
                [
                  "I-LOCAL",
                  "591"
                ],
                [
                  "I-ORGANIZACAO",
                  "1072"
                ],
                [
                  "I-PESSOA",
                  "561"
                ],
                [
                  "I-PRODUTODELEI",
                  "1032"
                ],
                [
                  "O",
                  "96239"
                ]
              ],
              "shape": {
                "columns": 1,
                "rows": 15
              }
            },
            "text/plain": [
              "B-DATA              363\n",
              "B-EVENTO             14\n",
              "B-FUNDAMENTO        597\n",
              "B-LOCAL             533\n",
              "B-ORGANIZACAO       516\n",
              "B-PESSOA            744\n",
              "B-PRODUTODELEI      269\n",
              "I-DATA              280\n",
              "I-EVENTO             35\n",
              "I-FUNDAMENTO       4929\n",
              "I-LOCAL             591\n",
              "I-ORGANIZACAO      1072\n",
              "I-PESSOA            561\n",
              "I-PRODUTODELEI     1032\n",
              "O                 96239\n",
              "dtype: int64"
            ]
          },
          "metadata": {},
          "output_type": "display_data"
        },
        {
          "data": {
            "image/png": "[encoded data removed]",
            "text/plain": [
              "<Figure size 1200x600 with 1 Axes>"
            ]
          },
          "metadata": {},
          "output_type": "display_data"
        },
        {
          "name": "stdout",
          "output_type": "stream",
          "text": [
            "\n",
            "Frequência de cada categoria de entidade:\n"
          ]
        },
        {
          "data": {
            "application/vnd.microsoft.datawrangler.viewer.v0+json": {
              "columns": [
                {
                  "name": "index",
                  "rawType": "object",
                  "type": "string"
                },
                {
                  "name": "0",
                  "rawType": "int64",
                  "type": "integer"
                }
              ],
              "ref": "fbbaaed8-7323-43d8-8cb1-b00b45340b03",
              "rows": [
                [
                  "DATA",
                  "643"
                ],
                [
                  "EVENTO",
                  "49"
                ],
                [
                  "FUNDAMENTO",
                  "5526"
                ],
                [
                  "LOCAL",
                  "1124"
                ],
                [
                  "ORGANIZACAO",
                  "1588"
                ],
                [
                  "PESSOA",
                  "1305"
                ],
                [
                  "PRODUTODELEI",
                  "1301"
                ]
              ],
              "shape": {
                "columns": 1,
                "rows": 7
              }
            },
            "text/plain": [
              "DATA             643\n",
              "EVENTO            49\n",
              "FUNDAMENTO      5526\n",
              "LOCAL           1124\n",
              "ORGANIZACAO     1588\n",
              "PESSOA          1305\n",
              "PRODUTODELEI    1301\n",
              "dtype: int64"
            ]
          },
          "metadata": {},
          "output_type": "display_data"
        },
        {
          "data": {
            "image/png": "[encoded data removed]",
            "text/plain": [
              "<Figure size 1200x600 with 1 Axes>"
            ]
          },
          "metadata": {},
          "output_type": "display_data"
        }
      ],
      "source": [
        "from collections import Counter\n",
        "\n",
        "all_iob_labels = []\n",
        "for df in [df_train, df_dev, df_test]:\n",
        "    for ner_tokens_list in df['ner_tokens']:\n",
        "        all_iob_labels.extend(ner_tokens_list)\n",
        "\n",
        "iob_label_counts = Counter(all_iob_labels)\n",
        "iob_label_counts_series = pd.Series(iob_label_counts).sort_index()\n",
        "\n",
        "entity_categories = [label.split('-')[-1] for label in all_iob_labels if label != 'O']\n",
        "entity_category_counts = Counter(entity_categories)\n",
        "entity_category_counts_series = pd.Series(entity_category_counts).sort_index()\n",
        "\n",
        "print(\"Frequência de cada label IOB:\")\n",
        "display(iob_label_counts_series)\n",
        "\n",
        "# Plot IOB label distribution\n",
        "plt.figure(figsize=(12, 6))\n",
        "plt.bar(iob_label_counts_series.index, iob_label_counts_series.values)\n",
        "plt.title(\"Distribuição dos Labels IOB\")\n",
        "plt.xlabel(\"Label IOB\")\n",
        "plt.ylabel(\"Frequência\")\n",
        "plt.xticks(rotation=45, ha='right')\n",
        "plt.tight_layout()\n",
        "plt.show()\n",
        "\n",
        "print(\"\\nFrequência de cada categoria de entidade:\")\n",
        "display(entity_category_counts_series)\n",
        "\n",
        "# Plot entity category distribution\n",
        "plt.figure(figsize=(12, 6))\n",
        "plt.bar(entity_category_counts_series.index, entity_category_counts_series.values)\n",
        "plt.title(\"Distribuição das Categorias de Entidade\")\n",
        "plt.xlabel(\"Categoria de Entidade\")\n",
        "plt.ylabel(\"Frequência\")\n",
        "plt.xticks(rotation=45, ha='right')\n",
        "plt.tight_layout()\n",
        "plt.show()"
      ]
    },
    {
      "cell_type": "markdown",
      "metadata": {
        "id": "9bea178e"
      },
      "source": [
        "### Analysis of the number of tokens per sentence"
      ]
    },
    {
      "cell_type": "code",
      "execution_count": 9,
      "metadata": {
        "colab": {
          "base_uri": "https://localhost:8080/",
          "height": 900
        },
        "id": "69e6c71d",
        "outputId": "2774164d-9a32-4892-bed1-76ceb2d01754"
      },
      "outputs": [
        {
          "name": "stdout",
          "output_type": "stream",
          "text": [
            "Estatísticas descritivas para o número de tokens por sentença:\n"
          ]
        },
        {
          "data": {
            "application/vnd.microsoft.datawrangler.viewer.v0+json": {
              "columns": [
                {
                  "name": "index",
                  "rawType": "object",
                  "type": "string"
                },
                {
                  "name": "num_tokens",
                  "rawType": "float64",
                  "type": "float"
                }
              ],
              "ref": "003b96ba-982b-40ab-ae1a-1787aef76c76",
              "rows": [
                [
                  "count",
                  "2492.0"
                ],
                [
                  "mean",
                  "43.248394863563405"
                ],
                [
                  "std",
                  "34.96077542586752"
                ],
                [
                  "min",
                  "2.0"
                ],
                [
                  "25%",
                  "22.0"
                ],
                [
                  "50%",
                  "35.0"
                ],
                [
                  "75%",
                  "52.0"
                ],
                [
                  "max",
                  "438.0"
                ]
              ],
              "shape": {
                "columns": 1,
                "rows": 8
              }
            },
            "text/plain": [
              "count    2492.000000\n",
              "mean       43.248395\n",
              "std        34.960775\n",
              "min         2.000000\n",
              "25%        22.000000\n",
              "50%        35.000000\n",
              "75%        52.000000\n",
              "max       438.000000\n",
              "Name: num_tokens, dtype: float64"
            ]
          },
          "metadata": {},
          "output_type": "display_data"
        },
        {
          "data": {
            "image/png": "[encoded data removed]",
            "text/plain": [
              "<Figure size 1000x600 with 1 Axes>"
            ]
          },
          "metadata": {},
          "output_type": "display_data"
        }
      ],
      "source": [
        "df_train['num_tokens'] = df_train['tokens'].apply(len)\n",
        "df_dev['num_tokens'] = df_dev['tokens'].apply(len)\n",
        "df_test['num_tokens'] = df_test['tokens'].apply(len)\n",
        "\n",
        "all_num_tokens = pd.concat([df_train['num_tokens'], df_dev['num_tokens'], df_test['num_tokens']])\n",
        "\n",
        "print(\"Estatísticas descritivas para o número de tokens por sentença:\")\n",
        "display(all_num_tokens.describe())\n",
        "\n",
        "all_num_tokens.hist(bins=50, figsize=(10, 6))\n",
        "plt.title('Distribuição do Número de Tokens por Sentença')\n",
        "plt.xlabel('Número de Tokens')\n",
        "plt.ylabel('Frequência')\n",
        "plt.show()"
      ]
    },
    {
      "cell_type": "markdown",
      "metadata": {
        "id": "69b33caf"
      },
      "source": [
        "### Analysis of the context of entities"
      ]
    },
    {
      "cell_type": "code",
      "execution_count": 10,
      "metadata": {
        "colab": {
          "base_uri": "https://localhost:8080/"
        },
        "id": "ab536875",
        "outputId": "9551e8fe-2429-4b99-cdf7-1016a465153e"
      },
      "outputs": [
        {
          "name": "stdout",
          "output_type": "stream",
          "text": [
            "\n",
            "Exemplos de sentenças com entidades em df_train:\n",
            "\n",
            "Sentença: sala das sessões , em de de 2019 .\n",
            "Labels IOB: [('sala', 'O'), ('das', 'O'), ('sessões', 'O'), (',', 'O'), ('em', 'O'), ('de', 'O'), ('de', 'O'), ('2019', 'B-DATA'), ('.', 'O')]\n",
            "\n",
            "Sentença: projeto de lei n.º , de 2017 ( do sr .\n",
            "Labels IOB: [('projeto', 'O'), ('de', 'O'), ('lei', 'O'), ('n.º', 'O'), (',', 'O'), ('de', 'O'), ('2017', 'B-DATA'), ('(', 'O'), ('do', 'O'), ('sr', 'O'), ('.', 'O')]\n",
            "\n",
            "Sentença: deputado maurício dziedricki p l n .4 6 1 5 / 2 0 1 9 a p re s e n ta ç ã o : 2 1 / 0 8 / 2 0 1 9 1 4 : 1 6\n",
            "Labels IOB: [('deputado', 'B-PESSOA'), ('maurício', 'B-PESSOA'), ('dziedricki', 'I-PESSOA'), ('p', 'O'), ('l', 'O'), ('n', 'O'), ('.4', 'O'), ('6', 'O'), ('1', 'O'), ('5', 'O'), ('/', 'O'), ('2', 'O'), ('0', 'O'), ('1', 'O'), ('9', 'O'), ('a', 'O'), ('p', 'O'), ('re', 'O'), ('s', 'O'), ('e', 'O'), ('n', 'O'), ('ta', 'O'), ('ç', 'O'), ('ã', 'O'), ('o', 'O'), (':', 'O'), ('2', 'O'), ('1', 'O'), ('/', 'O'), ('0', 'O'), ('8', 'O'), ('/', 'O'), ('2', 'O'), ('0', 'O'), ('1', 'O'), ('9', 'O'), ('1', 'O'), ('4', 'O'), (':', 'O'), ('1', 'O'), ('6', 'O')]\n",
            "\n",
            "Sentença: aquela autarquia , aplicando o dispositivo a partir de uma leitura literal da norma , indeferia tais requerimentos , o que levou à proposição de diversas ações na justiça federal em que se pleiteava a aplicação extensiva do parágrafo único do art . 34 do estatuto do idoso . 1 art . 29 .\n",
            "Labels IOB: [('aquela', 'O'), ('autarquia', 'O'), (',', 'O'), ('aplicando', 'O'), ('o', 'O'), ('dispositivo', 'O'), ('a', 'O'), ('partir', 'O'), ('de', 'O'), ('uma', 'O'), ('leitura', 'O'), ('literal', 'O'), ('da', 'O'), ('norma', 'O'), (',', 'O'), ('indeferia', 'O'), ('tais', 'O'), ('requerimentos', 'O'), (',', 'O'), ('o', 'O'), ('que', 'O'), ('levou', 'O'), ('à', 'O'), ('proposição', 'O'), ('de', 'O'), ('diversas', 'O'), ('ações', 'O'), ('na', 'O'), ('justiça', 'B-ORGANIZACAO'), ('federal', 'I-ORGANIZACAO'), ('em', 'O'), ('que', 'O'), ('se', 'O'), ('pleiteava', 'O'), ('a', 'O'), ('aplicação', 'O'), ('extensiva', 'O'), ('do', 'O'), ('parágrafo', 'O'), ('único', 'O'), ('do', 'O'), ('art', 'B-FUNDAMENTO'), ('.', 'I-FUNDAMENTO'), ('34', 'I-FUNDAMENTO'), ('do', 'I-FUNDAMENTO'), ('estatuto', 'I-FUNDAMENTO'), ('do', 'I-FUNDAMENTO'), ('idoso', 'I-FUNDAMENTO'), ('.', 'O'), ('1', 'O'), ('art', 'O'), ('.', 'O'), ('29', 'O'), ('.', 'O')]\n",
            "\n",
            "Sentença: a câmara dos deputados resolve : art . 1º esta resolução dá denominação ao plenário 2 , do anexo ii , da câmara dos deputados .\n",
            "Labels IOB: [('a', 'O'), ('câmara', 'O'), ('dos', 'O'), ('deputados', 'O'), ('resolve', 'O'), (':', 'O'), ('art', 'O'), ('.', 'O'), ('1º', 'O'), ('esta', 'O'), ('resolução', 'O'), ('dá', 'O'), ('denominação', 'O'), ('ao', 'O'), ('plenário', 'B-LOCAL'), ('2', 'I-LOCAL'), (',', 'I-LOCAL'), ('do', 'I-LOCAL'), ('anexo', 'I-LOCAL'), ('ii', 'I-LOCAL'), (',', 'I-LOCAL'), ('da', 'I-LOCAL'), ('câmara', 'I-LOCAL'), ('dos', 'I-LOCAL'), ('deputados', 'I-LOCAL'), ('.', 'O')]\n",
            "\n",
            "Exemplos de sentenças com entidades em df_dev:\n",
            "\n",
            "Sentença: o estatuto da juventude votado em outubro de 2011 na câmara dos deputados ( pl 4529 / 04 , pendente ainda da aprovação do senado ) , definiu como jovens as pessoas com idade entre quinze e vinte e nove anos , conforme artigo 1º , § 1º e incisos de i a iii .\n",
            "Labels IOB: [('o', 'O'), ('estatuto', 'B-FUNDAMENTO'), ('da', 'I-FUNDAMENTO'), ('juventude', 'I-FUNDAMENTO'), ('votado', 'O'), ('em', 'O'), ('outubro', 'B-DATA'), ('de', 'I-DATA'), ('2011', 'I-DATA'), ('na', 'O'), ('câmara', 'B-ORGANIZACAO'), ('dos', 'I-ORGANIZACAO'), ('deputados', 'I-ORGANIZACAO'), ('(', 'O'), ('pl', 'B-FUNDAMENTO'), ('4529', 'I-FUNDAMENTO'), ('/', 'I-FUNDAMENTO'), ('04', 'I-FUNDAMENTO'), (',', 'O'), ('pendente', 'O'), ('ainda', 'O'), ('da', 'O'), ('aprovação', 'O'), ('do', 'O'), ('senado', 'B-ORGANIZACAO'), (')', 'O'), (',', 'O'), ('definiu', 'O'), ('como', 'O'), ('jovens', 'O'), ('as', 'O'), ('pessoas', 'O'), ('com', 'O'), ('idade', 'O'), ('entre', 'O'), ('quinze', 'O'), ('e', 'O'), ('vinte', 'O'), ('e', 'O'), ('nove', 'O'), ('anos', 'O'), (',', 'O'), ('conforme', 'O'), ('artigo', 'O'), ('1º', 'O'), (',', 'O'), ('§', 'O'), ('1º', 'O'), ('e', 'O'), ('incisos', 'O'), ('de', 'O'), ('i', 'O'), ('a', 'O'), ('iii', 'O'), ('.', 'O')]\n",
            "\n",
            "Sentença: parágrafo único - o exercício da atividade de vigilante ambiental voluntário em âmbito nacional é considerado de interesse público relevante , em caráter voluntário e não será remunerado ; artigo 2º - a atividade do vigilante ambiental voluntário , que trata esta lei , tem como atribuições impedir e denunciar atos de vandalismo praticados contra o meio ambiente , em especial , áreas verdes como reservas ecológicas , públicas ou privadas , áreas de proteção ambiental , áreas de relevante interesse ecológico , estações ecológicas , recursos hídricos , outras unidades de conservação e demais áreas protegidas , e também , parques , vias e bens públicos ajardinados .\n",
            "Labels IOB: [('parágrafo', 'O'), ('único', 'O'), ('-', 'O'), ('o', 'O'), ('exercício', 'O'), ('da', 'O'), ('atividade', 'O'), ('de', 'O'), ('vigilante', 'B-PESSOA'), ('ambiental', 'I-PESSOA'), ('voluntário', 'I-PESSOA'), ('em', 'O'), ('âmbito', 'O'), ('nacional', 'O'), ('é', 'O'), ('considerado', 'O'), ('de', 'O'), ('interesse', 'O'), ('público', 'O'), ('relevante', 'O'), (',', 'O'), ('em', 'O'), ('caráter', 'O'), ('voluntário', 'O'), ('e', 'O'), ('não', 'O'), ('será', 'O'), ('remunerado', 'O'), (';', 'O'), ('artigo', 'O'), ('2º', 'O'), ('-', 'O'), ('a', 'O'), ('atividade', 'O'), ('do', 'O'), ('vigilante', 'B-PESSOA'), ('ambiental', 'I-PESSOA'), ('voluntário', 'I-PESSOA'), (',', 'O'), ('que', 'O'), ('trata', 'O'), ('esta', 'O'), ('lei', 'O'), (',', 'O'), ('tem', 'O'), ('como', 'O'), ('atribuições', 'O'), ('impedir', 'O'), ('e', 'O'), ('denunciar', 'O'), ('atos', 'O'), ('de', 'O'), ('vandalismo', 'O'), ('praticados', 'O'), ('contra', 'O'), ('o', 'O'), ('meio', 'O'), ('ambiente', 'O'), (',', 'O'), ('em', 'O'), ('especial', 'O'), (',', 'O'), ('áreas', 'O'), ('verdes', 'O'), ('como', 'O'), ('reservas', 'O'), ('ecológicas', 'O'), (',', 'O'), ('públicas', 'O'), ('ou', 'O'), ('privadas', 'O'), (',', 'O'), ('áreas', 'O'), ('de', 'O'), ('proteção', 'O'), ('ambiental', 'O'), (',', 'O'), ('áreas', 'O'), ('de', 'O'), ('relevante', 'O'), ('interesse', 'O'), ('ecológico', 'O'), (',', 'O'), ('estações', 'O'), ('ecológicas', 'O'), (',', 'O'), ('recursos', 'O'), ('hídricos', 'O'), (',', 'O'), ('outras', 'O'), ('unidades', 'O'), ('de', 'O'), ('conservação', 'O'), ('e', 'O'), ('demais', 'O'), ('áreas', 'O'), ('protegidas', 'O'), (',', 'O'), ('e', 'O'), ('também', 'O'), (',', 'O'), ('parques', 'O'), (',', 'O'), ('vias', 'O'), ('e', 'O'), ('bens', 'O'), ('públicos', 'O'), ('ajardinados', 'O'), ('.', 'O')]\n",
            "\n",
            "Sentença: aos atos infracionais análogos aos delitos existentes houve a criação de um rol de medidas socioeducativas no art . 112 do estatuto da criança e do adolescente , dentre as quais se destaca a prestação de serviços à comunidade .\n",
            "Labels IOB: [('aos', 'O'), ('atos', 'O'), ('infracionais', 'O'), ('análogos', 'O'), ('aos', 'O'), ('delitos', 'O'), ('existentes', 'O'), ('houve', 'O'), ('a', 'O'), ('criação', 'O'), ('de', 'O'), ('um', 'O'), ('rol', 'O'), ('de', 'O'), ('medidas', 'O'), ('socioeducativas', 'O'), ('no', 'O'), ('art', 'B-FUNDAMENTO'), ('.', 'I-FUNDAMENTO'), ('112', 'I-FUNDAMENTO'), ('do', 'I-FUNDAMENTO'), ('estatuto', 'I-FUNDAMENTO'), ('da', 'I-FUNDAMENTO'), ('criança', 'I-FUNDAMENTO'), ('e', 'I-FUNDAMENTO'), ('do', 'I-FUNDAMENTO'), ('adolescente', 'I-FUNDAMENTO'), (',', 'O'), ('dentre', 'O'), ('as', 'O'), ('quais', 'O'), ('se', 'O'), ('destaca', 'O'), ('a', 'O'), ('prestação', 'O'), ('de', 'O'), ('serviços', 'O'), ('à', 'O'), ('comunidade', 'O'), ('.', 'O')]\n",
            "\n",
            "Sentença: projeto de lei nº , de 2017 ( da sra .\n",
            "Labels IOB: [('projeto', 'O'), ('de', 'O'), ('lei', 'O'), ('nº', 'O'), (',', 'O'), ('de', 'O'), ('2017', 'B-DATA'), ('(', 'O'), ('da', 'O'), ('sra', 'O'), ('.', 'O')]\n",
            "\n",
            "Sentença: sala das comissões , em de de 2019 .\n",
            "Labels IOB: [('sala', 'O'), ('das', 'O'), ('comissões', 'O'), (',', 'O'), ('em', 'O'), ('de', 'O'), ('de', 'O'), ('2019', 'B-DATA'), ('.', 'O')]\n"
          ]
        }
      ],
      "source": [
        "def print_entity_examples(df, df_name, num_examples=5):\n",
        "    \"\"\"Prints examples of sentences containing entities from a dataframe.\"\"\"\n",
        "    print(f\"\\nExemplos de sentenças com entidades em {df_name}:\")\n",
        "    count = 0\n",
        "    for index, row in df.iterrows():\n",
        "        if count >= num_examples:\n",
        "            break\n",
        "        # Check if any ner_token is not 'O'\n",
        "        if any(label != 'O' for label in row['ner_tokens']):\n",
        "            print(f\"\\nSentença: {row['sentences']}\")\n",
        "            print(f\"Labels IOB: {row['label_iob']}\")\n",
        "            count += 1\n",
        "\n",
        "print_entity_examples(df_train, \"df_train\", num_examples=5)\n",
        "print_entity_examples(df_dev, \"df_dev\", num_examples=5)"
      ]
    },
    {
      "cell_type": "markdown",
      "metadata": {
        "colab": {
          "base_uri": "https://localhost:8080/"
        },
        "id": "2a2cdb79",
        "outputId": "f20b09da-5949-4267-9b7b-e4484c9b587b"
      },
      "source": [
        "## Summary\n",
        "\n",
        "### 1. Label Distribution\n",
        "- The most frequent IOB labels are ‘O’ (outside entity), followed by ‘I-FUNDAMENTO’ and ‘I-ORGANIZACAO’.\n",
        "- The most common entity categories are ‘FUNDAMENTO’, ‘ORGANIZACAO’, and ‘PESSOA’.\n",
        "\n",
        "### 2. Sentence and Token Size\n",
        "- Sentences vary significantly in size, from a minimum of 2 to a maximum of 438 tokens.\n",
        "- The average number of tokens per sentence is approximately 43.25, with a median of 35, indicating a skewed distribution toward shorter sentences.\n",
        "- Most sentences have a relatively small number of tokens, although there are some considerably long sentences.\n",
        "\n",
        "### 3. Context of Entities\n",
        "- Entities appear in a variety of contexts, often related to laws, projects, dates, names of people, and organizations.\n",
        "- Entities such as ‘FUNDAMENTO’ (laws, articles, etc.) are common in legal and regulatory texts.\n",
        "- Entities ‘PESSOA’ and ‘ORGANIZACAO’ appear in contexts related to project authors, government agencies, etc.\n",
        "- Entities ‘DATA’ are used to specify dates of documents or events."
      ]
    },
    {
      "cell_type": "code",
      "execution_count": 11,
      "metadata": {
        "colab": {
          "base_uri": "https://localhost:8080/",
          "height": 597
        },
        "id": "fRnnQFwrGwrm",
        "outputId": "976be6e2-8d1f-4bb6-fff9-a673a18b739c"
      },
      "outputs": [
        {
          "data": {
            "application/vnd.microsoft.datawrangler.viewer.v0+json": {
              "columns": [
                {
                  "name": "index",
                  "rawType": "int64",
                  "type": "integer"
                },
                {
                  "name": "sentences",
                  "rawType": "object",
                  "type": "string"
                },
                {
                  "name": "tokens",
                  "rawType": "object",
                  "type": "unknown"
                },
                {
                  "name": "ner_tokens",
                  "rawType": "object",
                  "type": "unknown"
                },
                {
                  "name": "label_iob",
                  "rawType": "object",
                  "type": "unknown"
                },
                {
                  "name": "num_tokens",
                  "rawType": "int64",
                  "type": "integer"
                }
              ],
              "ref": "40d23725-7047-47db-be25-3aa99dc4454b",
              "rows": [
                [
                  "0",
                  "sala das sessões , em de de 2019 .",
                  "['sala', 'das', 'sessões', ',', 'em', 'de', 'de', '2019', '.']",
                  "['O', 'O', 'O', 'O', 'O', 'O', 'O', 'B-DATA', 'O']",
                  "[('sala', 'O'), ('das', 'O'), ('sessões', 'O'), (',', 'O'), ('em', 'O'), ('de', 'O'), ('de', 'O'), ('2019', 'B-DATA'), ('.', 'O')]",
                  "9"
                ],
                [
                  "1",
                  "da decisão de que trata o § 12 deste artigo caberá recurso administrativo com efeito suspensivo .",
                  "['da', 'decisão', 'de', 'que', 'trata', 'o', '§', '12', 'deste', 'artigo', 'caberá', 'recurso', 'administrativo', 'com', 'efeito', 'suspensivo', '.']",
                  "['O', 'O', 'O', 'O', 'O', 'O', 'O', 'O', 'O', 'O', 'O', 'O', 'O', 'O', 'O', 'O', 'O']",
                  "[('da', 'O'), ('decisão', 'O'), ('de', 'O'), ('que', 'O'), ('trata', 'O'), ('o', 'O'), ('§', 'O'), ('12', 'O'), ('deste', 'O'), ('artigo', 'O'), ('caberá', 'O'), ('recurso', 'O'), ('administrativo', 'O'), ('com', 'O'), ('efeito', 'O'), ('suspensivo', 'O'), ('.', 'O')]",
                  "17"
                ],
                [
                  "2",
                  "projeto de lei n.º , de 2017 ( do sr .",
                  "['projeto', 'de', 'lei', 'n.º', ',', 'de', '2017', '(', 'do', 'sr', '.']",
                  "['O', 'O', 'O', 'O', 'O', 'O', 'B-DATA', 'O', 'O', 'O', 'O']",
                  "[('projeto', 'O'), ('de', 'O'), ('lei', 'O'), ('n.º', 'O'), (',', 'O'), ('de', 'O'), ('2017', 'B-DATA'), ('(', 'O'), ('do', 'O'), ('sr', 'O'), ('.', 'O')]",
                  "11"
                ],
                [
                  "3",
                  "deputado maurício dziedricki p l n .4 6 1 5 / 2 0 1 9 a p re s e n ta ç ã o : 2 1 / 0 8 / 2 0 1 9 1 4 : 1 6",
                  "['deputado', 'maurício', 'dziedricki', 'p', 'l', 'n', '.4', '6', '1', '5', '/', '2', '0', '1', '9', 'a', 'p', 're', 's', 'e', 'n', 'ta', 'ç', 'ã', 'o', ':', '2', '1', '/', '0', '8', '/', '2', '0', '1', '9', '1', '4', ':', '1', '6']",
                  "['B-PESSOA', 'B-PESSOA', 'I-PESSOA', 'O', 'O', 'O', 'O', 'O', 'O', 'O', 'O', 'O', 'O', 'O', 'O', 'O', 'O', 'O', 'O', 'O', 'O', 'O', 'O', 'O', 'O', 'O', 'O', 'O', 'O', 'O', 'O', 'O', 'O', 'O', 'O', 'O', 'O', 'O', 'O', 'O', 'O']",
                  "[('deputado', 'B-PESSOA'), ('maurício', 'B-PESSOA'), ('dziedricki', 'I-PESSOA'), ('p', 'O'), ('l', 'O'), ('n', 'O'), ('.4', 'O'), ('6', 'O'), ('1', 'O'), ('5', 'O'), ('/', 'O'), ('2', 'O'), ('0', 'O'), ('1', 'O'), ('9', 'O'), ('a', 'O'), ('p', 'O'), ('re', 'O'), ('s', 'O'), ('e', 'O'), ('n', 'O'), ('ta', 'O'), ('ç', 'O'), ('ã', 'O'), ('o', 'O'), (':', 'O'), ('2', 'O'), ('1', 'O'), ('/', 'O'), ('0', 'O'), ('8', 'O'), ('/', 'O'), ('2', 'O'), ('0', 'O'), ('1', 'O'), ('9', 'O'), ('1', 'O'), ('4', 'O'), (':', 'O'), ('1', 'O'), ('6', 'O')]",
                  "41"
                ],
                [
                  "4",
                  "art . 4º esta lei entra em vigor na data de sua publicação .",
                  "['art', '.', '4º', 'esta', 'lei', 'entra', 'em', 'vigor', 'na', 'data', 'de', 'sua', 'publicação', '.']",
                  "['O', 'O', 'O', 'O', 'O', 'O', 'O', 'O', 'O', 'O', 'O', 'O', 'O', 'O']",
                  "[('art', 'O'), ('.', 'O'), ('4º', 'O'), ('esta', 'O'), ('lei', 'O'), ('entra', 'O'), ('em', 'O'), ('vigor', 'O'), ('na', 'O'), ('data', 'O'), ('de', 'O'), ('sua', 'O'), ('publicação', 'O'), ('.', 'O')]",
                  "14"
                ],
                [
                  "5",
                  "com o forte crescimento da população idosa masculina no país , a perspectiva é a de crescimento vertiginoso dos casos de câncer de próstata , conforme já constatado pelas estatísticas disponíveis .",
                  "['com', 'o', 'forte', 'crescimento', 'da', 'população', 'idosa', 'masculina', 'no', 'país', ',', 'a', 'perspectiva', 'é', 'a', 'de', 'crescimento', 'vertiginoso', 'dos', 'casos', 'de', 'câncer', 'de', 'próstata', ',', 'conforme', 'já', 'constatado', 'pelas', 'estatísticas', 'disponíveis', '.']",
                  "['O', 'O', 'O', 'O', 'O', 'O', 'O', 'O', 'O', 'O', 'O', 'O', 'O', 'O', 'O', 'O', 'O', 'O', 'O', 'O', 'O', 'O', 'O', 'O', 'O', 'O', 'O', 'O', 'O', 'O', 'O', 'O']",
                  "[('com', 'O'), ('o', 'O'), ('forte', 'O'), ('crescimento', 'O'), ('da', 'O'), ('população', 'O'), ('idosa', 'O'), ('masculina', 'O'), ('no', 'O'), ('país', 'O'), (',', 'O'), ('a', 'O'), ('perspectiva', 'O'), ('é', 'O'), ('a', 'O'), ('de', 'O'), ('crescimento', 'O'), ('vertiginoso', 'O'), ('dos', 'O'), ('casos', 'O'), ('de', 'O'), ('câncer', 'O'), ('de', 'O'), ('próstata', 'O'), (',', 'O'), ('conforme', 'O'), ('já', 'O'), ('constatado', 'O'), ('pelas', 'O'), ('estatísticas', 'O'), ('disponíveis', 'O'), ('.', 'O')]",
                  "32"
                ],
                [
                  "6",
                  "aquela autarquia , aplicando o dispositivo a partir de uma leitura literal da norma , indeferia tais requerimentos , o que levou à proposição de diversas ações na justiça federal em que se pleiteava a aplicação extensiva do parágrafo único do art . 34 do estatuto do idoso . 1 art . 29 .",
                  "['aquela', 'autarquia', ',', 'aplicando', 'o', 'dispositivo', 'a', 'partir', 'de', 'uma', 'leitura', 'literal', 'da', 'norma', ',', 'indeferia', 'tais', 'requerimentos', ',', 'o', 'que', 'levou', 'à', 'proposição', 'de', 'diversas', 'ações', 'na', 'justiça', 'federal', 'em', 'que', 'se', 'pleiteava', 'a', 'aplicação', 'extensiva', 'do', 'parágrafo', 'único', 'do', 'art', '.', '34', 'do', 'estatuto', 'do', 'idoso', '.', '1', 'art', '.', '29', '.']",
                  "['O', 'O', 'O', 'O', 'O', 'O', 'O', 'O', 'O', 'O', 'O', 'O', 'O', 'O', 'O', 'O', 'O', 'O', 'O', 'O', 'O', 'O', 'O', 'O', 'O', 'O', 'O', 'O', 'B-ORGANIZACAO', 'I-ORGANIZACAO', 'O', 'O', 'O', 'O', 'O', 'O', 'O', 'O', 'O', 'O', 'O', 'B-FUNDAMENTO', 'I-FUNDAMENTO', 'I-FUNDAMENTO', 'I-FUNDAMENTO', 'I-FUNDAMENTO', 'I-FUNDAMENTO', 'I-FUNDAMENTO', 'O', 'O', 'O', 'O', 'O', 'O']",
                  "[('aquela', 'O'), ('autarquia', 'O'), (',', 'O'), ('aplicando', 'O'), ('o', 'O'), ('dispositivo', 'O'), ('a', 'O'), ('partir', 'O'), ('de', 'O'), ('uma', 'O'), ('leitura', 'O'), ('literal', 'O'), ('da', 'O'), ('norma', 'O'), (',', 'O'), ('indeferia', 'O'), ('tais', 'O'), ('requerimentos', 'O'), (',', 'O'), ('o', 'O'), ('que', 'O'), ('levou', 'O'), ('à', 'O'), ('proposição', 'O'), ('de', 'O'), ('diversas', 'O'), ('ações', 'O'), ('na', 'O'), ('justiça', 'B-ORGANIZACAO'), ('federal', 'I-ORGANIZACAO'), ('em', 'O'), ('que', 'O'), ('se', 'O'), ('pleiteava', 'O'), ('a', 'O'), ('aplicação', 'O'), ('extensiva', 'O'), ('do', 'O'), ('parágrafo', 'O'), ('único', 'O'), ('do', 'O'), ('art', 'B-FUNDAMENTO'), ('.', 'I-FUNDAMENTO'), ('34', 'I-FUNDAMENTO'), ('do', 'I-FUNDAMENTO'), ('estatuto', 'I-FUNDAMENTO'), ('do', 'I-FUNDAMENTO'), ('idoso', 'I-FUNDAMENTO'), ('.', 'O'), ('1', 'O'), ('art', 'O'), ('.', 'O'), ('29', 'O'), ('.', 'O')]",
                  "54"
                ],
                [
                  "7",
                  "a câmara dos deputados resolve : art . 1º esta resolução dá denominação ao plenário 2 , do anexo ii , da câmara dos deputados .",
                  "['a', 'câmara', 'dos', 'deputados', 'resolve', ':', 'art', '.', '1º', 'esta', 'resolução', 'dá', 'denominação', 'ao', 'plenário', '2', ',', 'do', 'anexo', 'ii', ',', 'da', 'câmara', 'dos', 'deputados', '.']",
                  "['O', 'O', 'O', 'O', 'O', 'O', 'O', 'O', 'O', 'O', 'O', 'O', 'O', 'O', 'B-LOCAL', 'I-LOCAL', 'I-LOCAL', 'I-LOCAL', 'I-LOCAL', 'I-LOCAL', 'I-LOCAL', 'I-LOCAL', 'I-LOCAL', 'I-LOCAL', 'I-LOCAL', 'O']",
                  "[('a', 'O'), ('câmara', 'O'), ('dos', 'O'), ('deputados', 'O'), ('resolve', 'O'), (':', 'O'), ('art', 'O'), ('.', 'O'), ('1º', 'O'), ('esta', 'O'), ('resolução', 'O'), ('dá', 'O'), ('denominação', 'O'), ('ao', 'O'), ('plenário', 'B-LOCAL'), ('2', 'I-LOCAL'), (',', 'I-LOCAL'), ('do', 'I-LOCAL'), ('anexo', 'I-LOCAL'), ('ii', 'I-LOCAL'), (',', 'I-LOCAL'), ('da', 'I-LOCAL'), ('câmara', 'I-LOCAL'), ('dos', 'I-LOCAL'), ('deputados', 'I-LOCAL'), ('.', 'O')]",
                  "26"
                ],
                [
                  "8",
                  "art . 2º as normas regulamentadoras definirão as estratégias para o cumprimento desta determinação , disciplinando sobre os participantes , pessoas físicas ou jurídicas , priorizando para temas voltados para a prevenção de acidentes de trânsito , levando em consideração os aspectos humanos e comportamentais .",
                  "['art', '.', '2º', 'as', 'normas', 'regulamentadoras', 'definirão', 'as', 'estratégias', 'para', 'o', 'cumprimento', 'desta', 'determinação', ',', 'disciplinando', 'sobre', 'os', 'participantes', ',', 'pessoas', 'físicas', 'ou', 'jurídicas', ',', 'priorizando', 'para', 'temas', 'voltados', 'para', 'a', 'prevenção', 'de', 'acidentes', 'de', 'trânsito', ',', 'levando', 'em', 'consideração', 'os', 'aspectos', 'humanos', 'e', 'comportamentais', '.']",
                  "['O', 'O', 'O', 'O', 'O', 'O', 'O', 'O', 'O', 'O', 'O', 'O', 'O', 'O', 'O', 'O', 'O', 'O', 'O', 'O', 'O', 'O', 'O', 'O', 'O', 'O', 'O', 'O', 'O', 'O', 'O', 'O', 'O', 'O', 'O', 'O', 'O', 'O', 'O', 'O', 'O', 'O', 'O', 'O', 'O', 'O']",
                  "[('art', 'O'), ('.', 'O'), ('2º', 'O'), ('as', 'O'), ('normas', 'O'), ('regulamentadoras', 'O'), ('definirão', 'O'), ('as', 'O'), ('estratégias', 'O'), ('para', 'O'), ('o', 'O'), ('cumprimento', 'O'), ('desta', 'O'), ('determinação', 'O'), (',', 'O'), ('disciplinando', 'O'), ('sobre', 'O'), ('os', 'O'), ('participantes', 'O'), (',', 'O'), ('pessoas', 'O'), ('físicas', 'O'), ('ou', 'O'), ('jurídicas', 'O'), (',', 'O'), ('priorizando', 'O'), ('para', 'O'), ('temas', 'O'), ('voltados', 'O'), ('para', 'O'), ('a', 'O'), ('prevenção', 'O'), ('de', 'O'), ('acidentes', 'O'), ('de', 'O'), ('trânsito', 'O'), (',', 'O'), ('levando', 'O'), ('em', 'O'), ('consideração', 'O'), ('os', 'O'), ('aspectos', 'O'), ('humanos', 'O'), ('e', 'O'), ('comportamentais', 'O'), ('.', 'O')]",
                  "46"
                ],
                [
                  "9",
                  "os portadores de formas crônicas de hepatite demandam atenção médica especializada constante para que seu quadro não evolua .",
                  "['os', 'portadores', 'de', 'formas', 'crônicas', 'de', 'hepatite', 'demandam', 'atenção', 'médica', 'especializada', 'constante', 'para', 'que', 'seu', 'quadro', 'não', 'evolua', '.']",
                  "['O', 'O', 'O', 'O', 'O', 'O', 'O', 'O', 'O', 'O', 'O', 'O', 'O', 'O', 'O', 'O', 'O', 'O', 'O']",
                  "[('os', 'O'), ('portadores', 'O'), ('de', 'O'), ('formas', 'O'), ('crônicas', 'O'), ('de', 'O'), ('hepatite', 'O'), ('demandam', 'O'), ('atenção', 'O'), ('médica', 'O'), ('especializada', 'O'), ('constante', 'O'), ('para', 'O'), ('que', 'O'), ('seu', 'O'), ('quadro', 'O'), ('não', 'O'), ('evolua', 'O'), ('.', 'O')]",
                  "19"
                ],
                [
                  "10",
                  "outra face deste processo foi a disseminação dos atendimentos automatizados que , além do custo da tarifa , impõem grande perda de tempo e constrangimento aos usuários .",
                  "['outra', 'face', 'deste', 'processo', 'foi', 'a', 'disseminação', 'dos', 'atendimentos', 'automatizados', 'que', ',', 'além', 'do', 'custo', 'da', 'tarifa', ',', 'impõem', 'grande', 'perda', 'de', 'tempo', 'e', 'constrangimento', 'aos', 'usuários', '.']",
                  "['O', 'O', 'O', 'O', 'O', 'O', 'O', 'O', 'O', 'O', 'O', 'O', 'O', 'O', 'O', 'O', 'O', 'O', 'O', 'O', 'O', 'O', 'O', 'O', 'O', 'O', 'O', 'O']",
                  "[('outra', 'O'), ('face', 'O'), ('deste', 'O'), ('processo', 'O'), ('foi', 'O'), ('a', 'O'), ('disseminação', 'O'), ('dos', 'O'), ('atendimentos', 'O'), ('automatizados', 'O'), ('que', 'O'), (',', 'O'), ('além', 'O'), ('do', 'O'), ('custo', 'O'), ('da', 'O'), ('tarifa', 'O'), (',', 'O'), ('impõem', 'O'), ('grande', 'O'), ('perda', 'O'), ('de', 'O'), ('tempo', 'O'), ('e', 'O'), ('constrangimento', 'O'), ('aos', 'O'), ('usuários', 'O'), ('.', 'O')]",
                  "28"
                ],
                [
                  "11",
                  "assim , considerando que esses recursos surgiriam apenas para o esporte , a alteração feita no texto da lei nº 11.438 / 2006 foi extremamente prejudicial para o desporto e paradesporto brasileiro .",
                  "['assim', ',', 'considerando', 'que', 'esses', 'recursos', 'surgiriam', 'apenas', 'para', 'o', 'esporte', ',', 'a', 'alteração', 'feita', 'no', 'texto', 'da', 'lei', 'nº', '11.438', '/', '2006', 'foi', 'extremamente', 'prejudicial', 'para', 'o', 'desporto', 'e', 'paradesporto', 'brasileiro', '.']",
                  "['O', 'O', 'O', 'O', 'O', 'O', 'O', 'O', 'O', 'O', 'O', 'O', 'O', 'O', 'O', 'O', 'O', 'O', 'B-FUNDAMENTO', 'I-FUNDAMENTO', 'I-FUNDAMENTO', 'I-FUNDAMENTO', 'I-FUNDAMENTO', 'O', 'O', 'O', 'O', 'O', 'O', 'O', 'O', 'O', 'O']",
                  "[('assim', 'O'), (',', 'O'), ('considerando', 'O'), ('que', 'O'), ('esses', 'O'), ('recursos', 'O'), ('surgiriam', 'O'), ('apenas', 'O'), ('para', 'O'), ('o', 'O'), ('esporte', 'O'), (',', 'O'), ('a', 'O'), ('alteração', 'O'), ('feita', 'O'), ('no', 'O'), ('texto', 'O'), ('da', 'O'), ('lei', 'B-FUNDAMENTO'), ('nº', 'I-FUNDAMENTO'), ('11.438', 'I-FUNDAMENTO'), ('/', 'I-FUNDAMENTO'), ('2006', 'I-FUNDAMENTO'), ('foi', 'O'), ('extremamente', 'O'), ('prejudicial', 'O'), ('para', 'O'), ('o', 'O'), ('desporto', 'O'), ('e', 'O'), ('paradesporto', 'O'), ('brasileiro', 'O'), ('.', 'O')]",
                  "33"
                ],
                [
                  "12",
                  "sala das sessões , em 16 de março de 2011 .",
                  "['sala', 'das', 'sessões', ',', 'em', '16', 'de', 'março', 'de', '2011', '.']",
                  "['O', 'O', 'O', 'O', 'O', 'B-DATA', 'I-DATA', 'I-DATA', 'I-DATA', 'I-DATA', 'O']",
                  "[('sala', 'O'), ('das', 'O'), ('sessões', 'O'), (',', 'O'), ('em', 'O'), ('16', 'B-DATA'), ('de', 'I-DATA'), ('março', 'I-DATA'), ('de', 'I-DATA'), ('2011', 'I-DATA'), ('.', 'O')]",
                  "11"
                ],
                [
                  "13",
                  "o crime já está tipificado no código brasileiro de trânsito , entretanto sua divulgação não consta da lei nº 9.294 / 96 .",
                  "['o', 'crime', 'já', 'está', 'tipificado', 'no', 'código', 'brasileiro', 'de', 'trânsito', ',', 'entretanto', 'sua', 'divulgação', 'não', 'consta', 'da', 'lei', 'nº', '9.294', '/', '96', '.']",
                  "['O', 'O', 'O', 'O', 'O', 'O', 'B-FUNDAMENTO', 'I-FUNDAMENTO', 'I-FUNDAMENTO', 'I-FUNDAMENTO', 'O', 'O', 'O', 'O', 'O', 'O', 'O', 'B-FUNDAMENTO', 'I-FUNDAMENTO', 'I-FUNDAMENTO', 'I-FUNDAMENTO', 'I-FUNDAMENTO', 'O']",
                  "[('o', 'O'), ('crime', 'O'), ('já', 'O'), ('está', 'O'), ('tipificado', 'O'), ('no', 'O'), ('código', 'B-FUNDAMENTO'), ('brasileiro', 'I-FUNDAMENTO'), ('de', 'I-FUNDAMENTO'), ('trânsito', 'I-FUNDAMENTO'), (',', 'O'), ('entretanto', 'O'), ('sua', 'O'), ('divulgação', 'O'), ('não', 'O'), ('consta', 'O'), ('da', 'O'), ('lei', 'B-FUNDAMENTO'), ('nº', 'I-FUNDAMENTO'), ('9.294', 'I-FUNDAMENTO'), ('/', 'I-FUNDAMENTO'), ('96', 'I-FUNDAMENTO'), ('.', 'O')]",
                  "23"
                ],
                [
                  "14",
                  "ademais , elencamos as políticas a serem executadas pelo poder público nas áreas especiais de interesse turístico , com vistas ao cumprimento de incentivo à atividade turística .",
                  "['ademais', ',', 'elencamos', 'as', 'políticas', 'a', 'serem', 'executadas', 'pelo', 'poder', 'público', 'nas', 'áreas', 'especiais', 'de', 'interesse', 'turístico', ',', 'com', 'vistas', 'ao', 'cumprimento', 'de', 'incentivo', 'à', 'atividade', 'turística', '.']",
                  "['O', 'O', 'O', 'O', 'O', 'O', 'O', 'O', 'O', 'B-ORGANIZACAO', 'I-ORGANIZACAO', 'O', 'B-PRODUTODELEI', 'I-PRODUTODELEI', 'I-PRODUTODELEI', 'I-PRODUTODELEI', 'I-PRODUTODELEI', 'O', 'O', 'O', 'O', 'O', 'O', 'O', 'O', 'O', 'O', 'O']",
                  "[('ademais', 'O'), (',', 'O'), ('elencamos', 'O'), ('as', 'O'), ('políticas', 'O'), ('a', 'O'), ('serem', 'O'), ('executadas', 'O'), ('pelo', 'O'), ('poder', 'B-ORGANIZACAO'), ('público', 'I-ORGANIZACAO'), ('nas', 'O'), ('áreas', 'B-PRODUTODELEI'), ('especiais', 'I-PRODUTODELEI'), ('de', 'I-PRODUTODELEI'), ('interesse', 'I-PRODUTODELEI'), ('turístico', 'I-PRODUTODELEI'), (',', 'O'), ('com', 'O'), ('vistas', 'O'), ('ao', 'O'), ('cumprimento', 'O'), ('de', 'O'), ('incentivo', 'O'), ('à', 'O'), ('atividade', 'O'), ('turística', 'O'), ('.', 'O')]",
                  "28"
                ],
                [
                  "15",
                  "projeto de lei nº , de 2011 ( do sr .",
                  "['projeto', 'de', 'lei', 'nº', ',', 'de', '2011', '(', 'do', 'sr', '.']",
                  "['O', 'O', 'O', 'O', 'O', 'O', 'B-DATA', 'O', 'O', 'O', 'O']",
                  "[('projeto', 'O'), ('de', 'O'), ('lei', 'O'), ('nº', 'O'), (',', 'O'), ('de', 'O'), ('2011', 'B-DATA'), ('(', 'O'), ('do', 'O'), ('sr', 'O'), ('.', 'O')]",
                  "11"
                ],
                [
                  "16",
                  "apesar das dificuldades apontadas , conto com o discernimento dos nobres pares para , em conjunto , alcançarmos uma solução para essas graves questões .",
                  "['apesar', 'das', 'dificuldades', 'apontadas', ',', 'conto', 'com', 'o', 'discernimento', 'dos', 'nobres', 'pares', 'para', ',', 'em', 'conjunto', ',', 'alcançarmos', 'uma', 'solução', 'para', 'essas', 'graves', 'questões', '.']",
                  "['O', 'O', 'O', 'O', 'O', 'O', 'O', 'O', 'O', 'O', 'O', 'O', 'O', 'O', 'O', 'O', 'O', 'O', 'O', 'O', 'O', 'O', 'O', 'O', 'O']",
                  "[('apesar', 'O'), ('das', 'O'), ('dificuldades', 'O'), ('apontadas', 'O'), (',', 'O'), ('conto', 'O'), ('com', 'O'), ('o', 'O'), ('discernimento', 'O'), ('dos', 'O'), ('nobres', 'O'), ('pares', 'O'), ('para', 'O'), (',', 'O'), ('em', 'O'), ('conjunto', 'O'), (',', 'O'), ('alcançarmos', 'O'), ('uma', 'O'), ('solução', 'O'), ('para', 'O'), ('essas', 'O'), ('graves', 'O'), ('questões', 'O'), ('.', 'O')]",
                  "25"
                ],
                [
                  "17",
                  "projeto de lei nº , de 2019 .",
                  "['projeto', 'de', 'lei', 'nº', ',', 'de', '2019', '.']",
                  "['O', 'O', 'O', 'O', 'O', 'O', 'B-DATA', 'O']",
                  "[('projeto', 'O'), ('de', 'O'), ('lei', 'O'), ('nº', 'O'), (',', 'O'), ('de', 'O'), ('2019', 'B-DATA'), ('.', 'O')]",
                  "8"
                ],
                [
                  "18",
                  "projeto de lei nº , de 2011 ( do sr. marllos sampaio ) torna crime aliciar idoso para contrair empréstimos .",
                  "['projeto', 'de', 'lei', 'nº', ',', 'de', '2011', '(', 'do', 'sr.', 'marllos', 'sampaio', ')', 'torna', 'crime', 'aliciar', 'idoso', 'para', 'contrair', 'empréstimos', '.']",
                  "['O', 'O', 'O', 'O', 'O', 'O', 'B-DATA', 'O', 'O', 'O', 'B-PESSOA', 'I-PESSOA', 'O', 'O', 'O', 'O', 'O', 'O', 'O', 'O', 'O']",
                  "[('projeto', 'O'), ('de', 'O'), ('lei', 'O'), ('nº', 'O'), (',', 'O'), ('de', 'O'), ('2011', 'B-DATA'), ('(', 'O'), ('do', 'O'), ('sr.', 'O'), ('marllos', 'B-PESSOA'), ('sampaio', 'I-PESSOA'), (')', 'O'), ('torna', 'O'), ('crime', 'O'), ('aliciar', 'O'), ('idoso', 'O'), ('para', 'O'), ('contrair', 'O'), ('empréstimos', 'O'), ('.', 'O')]",
                  "21"
                ],
                [
                  "19",
                  "convém , ainda , que a especificação de parâmetros e exigências venha a ser tratada em regulamento , uma vez que a dinâmica da evolução tecnológica pode impor frequentes atualizações .",
                  "['convém', ',', 'ainda', ',', 'que', 'a', 'especificação', 'de', 'parâmetros', 'e', 'exigências', 'venha', 'a', 'ser', 'tratada', 'em', 'regulamento', ',', 'uma', 'vez', 'que', 'a', 'dinâmica', 'da', 'evolução', 'tecnológica', 'pode', 'impor', 'frequentes', 'atualizações', '.']",
                  "['O', 'O', 'O', 'O', 'O', 'O', 'O', 'O', 'O', 'O', 'O', 'O', 'O', 'O', 'O', 'O', 'O', 'O', 'O', 'O', 'O', 'O', 'O', 'O', 'O', 'O', 'O', 'O', 'O', 'O', 'O']",
                  "[('convém', 'O'), (',', 'O'), ('ainda', 'O'), (',', 'O'), ('que', 'O'), ('a', 'O'), ('especificação', 'O'), ('de', 'O'), ('parâmetros', 'O'), ('e', 'O'), ('exigências', 'O'), ('venha', 'O'), ('a', 'O'), ('ser', 'O'), ('tratada', 'O'), ('em', 'O'), ('regulamento', 'O'), (',', 'O'), ('uma', 'O'), ('vez', 'O'), ('que', 'O'), ('a', 'O'), ('dinâmica', 'O'), ('da', 'O'), ('evolução', 'O'), ('tecnológica', 'O'), ('pode', 'O'), ('impor', 'O'), ('frequentes', 'O'), ('atualizações', 'O'), ('.', 'O')]",
                  "31"
                ],
                [
                  "20",
                  "afigura-se , portanto , desnecessária inscrição em ordem ou conselho para o exercício da profissão de músico . ”",
                  "['afigura-se', ',', 'portanto', ',', 'desnecessária', 'inscrição', 'em', 'ordem', 'ou', 'conselho', 'para', 'o', 'exercício', 'da', 'profissão', 'de', 'músico', '.', '”']",
                  "['O', 'O', 'O', 'O', 'O', 'O', 'O', 'O', 'O', 'O', 'O', 'O', 'O', 'O', 'O', 'O', 'B-PESSOA', 'O', 'O']",
                  "[('afigura-se', 'O'), (',', 'O'), ('portanto', 'O'), (',', 'O'), ('desnecessária', 'O'), ('inscrição', 'O'), ('em', 'O'), ('ordem', 'O'), ('ou', 'O'), ('conselho', 'O'), ('para', 'O'), ('o', 'O'), ('exercício', 'O'), ('da', 'O'), ('profissão', 'O'), ('de', 'O'), ('músico', 'B-PESSOA'), ('.', 'O'), ('”', 'O')]",
                  "19"
                ],
                [
                  "21",
                  "deputada bruna furlan",
                  "['deputada', 'bruna', 'furlan']",
                  "['B-PESSOA', 'B-PESSOA', 'I-PESSOA']",
                  "[('deputada', 'B-PESSOA'), ('bruna', 'B-PESSOA'), ('furlan', 'I-PESSOA')]",
                  "3"
                ],
                [
                  "22",
                  "o congresso nacional decreta : art . 1º esta lei acrescenta § 3º ao art . 12 da lei nº 11.947 , de 16 de junho de 2009 , para obrigar a inclusão do café e do leite nos cardápios da alimentação escolar .",
                  "['o', 'congresso', 'nacional', 'decreta', ':', 'art', '.', '1º', 'esta', 'lei', 'acrescenta', '§', '3º', 'ao', 'art', '.', '12', 'da', 'lei', 'nº', '11.947', ',', 'de', '16', 'de', 'junho', 'de', '2009', ',', 'para', 'obrigar', 'a', 'inclusão', 'do', 'café', 'e', 'do', 'leite', 'nos', 'cardápios', 'da', 'alimentação', 'escolar', '.']",
                  "['O', 'O', 'O', 'O', 'O', 'O', 'O', 'O', 'O', 'O', 'O', 'B-FUNDAMENTO', 'I-FUNDAMENTO', 'I-FUNDAMENTO', 'I-FUNDAMENTO', 'I-FUNDAMENTO', 'I-FUNDAMENTO', 'I-FUNDAMENTO', 'I-FUNDAMENTO', 'I-FUNDAMENTO', 'I-FUNDAMENTO', 'I-FUNDAMENTO', 'I-FUNDAMENTO', 'I-FUNDAMENTO', 'I-FUNDAMENTO', 'I-FUNDAMENTO', 'I-FUNDAMENTO', 'I-FUNDAMENTO', 'O', 'O', 'O', 'O', 'O', 'O', 'O', 'O', 'O', 'O', 'O', 'O', 'O', 'O', 'O', 'O']",
                  "[('o', 'O'), ('congresso', 'O'), ('nacional', 'O'), ('decreta', 'O'), (':', 'O'), ('art', 'O'), ('.', 'O'), ('1º', 'O'), ('esta', 'O'), ('lei', 'O'), ('acrescenta', 'O'), ('§', 'B-FUNDAMENTO'), ('3º', 'I-FUNDAMENTO'), ('ao', 'I-FUNDAMENTO'), ('art', 'I-FUNDAMENTO'), ('.', 'I-FUNDAMENTO'), ('12', 'I-FUNDAMENTO'), ('da', 'I-FUNDAMENTO'), ('lei', 'I-FUNDAMENTO'), ('nº', 'I-FUNDAMENTO'), ('11.947', 'I-FUNDAMENTO'), (',', 'I-FUNDAMENTO'), ('de', 'I-FUNDAMENTO'), ('16', 'I-FUNDAMENTO'), ('de', 'I-FUNDAMENTO'), ('junho', 'I-FUNDAMENTO'), ('de', 'I-FUNDAMENTO'), ('2009', 'I-FUNDAMENTO'), (',', 'O'), ('para', 'O'), ('obrigar', 'O'), ('a', 'O'), ('inclusão', 'O'), ('do', 'O'), ('café', 'O'), ('e', 'O'), ('do', 'O'), ('leite', 'O'), ('nos', 'O'), ('cardápios', 'O'), ('da', 'O'), ('alimentação', 'O'), ('escolar', 'O'), ('.', 'O')]",
                  "44"
                ],
                [
                  "23",
                  "esta resolução entra em vigor na data de sua publicação .",
                  "['esta', 'resolução', 'entra', 'em', 'vigor', 'na', 'data', 'de', 'sua', 'publicação', '.']",
                  "['O', 'O', 'O', 'O', 'O', 'O', 'O', 'O', 'O', 'O', 'O']",
                  "[('esta', 'O'), ('resolução', 'O'), ('entra', 'O'), ('em', 'O'), ('vigor', 'O'), ('na', 'O'), ('data', 'O'), ('de', 'O'), ('sua', 'O'), ('publicação', 'O'), ('.', 'O')]",
                  "11"
                ],
                [
                  "24",
                  "art . 2º revoga-se a lei nº 13.586 , de 28 de dezembro de 2017 .",
                  "['art', '.', '2º', 'revoga-se', 'a', 'lei', 'nº', '13.586', ',', 'de', '28', 'de', 'dezembro', 'de', '2017', '.']",
                  "['O', 'O', 'O', 'O', 'O', 'B-FUNDAMENTO', 'I-FUNDAMENTO', 'I-FUNDAMENTO', 'I-FUNDAMENTO', 'I-FUNDAMENTO', 'I-FUNDAMENTO', 'I-FUNDAMENTO', 'I-FUNDAMENTO', 'I-FUNDAMENTO', 'I-FUNDAMENTO', 'O']",
                  "[('art', 'O'), ('.', 'O'), ('2º', 'O'), ('revoga-se', 'O'), ('a', 'O'), ('lei', 'B-FUNDAMENTO'), ('nº', 'I-FUNDAMENTO'), ('13.586', 'I-FUNDAMENTO'), (',', 'I-FUNDAMENTO'), ('de', 'I-FUNDAMENTO'), ('28', 'I-FUNDAMENTO'), ('de', 'I-FUNDAMENTO'), ('dezembro', 'I-FUNDAMENTO'), ('de', 'I-FUNDAMENTO'), ('2017', 'I-FUNDAMENTO'), ('.', 'O')]",
                  "16"
                ],
                [
                  "25",
                  "o problema é que , uma vez verificado que determinado município enquadrado nesta categoria de pequeno ultrapassou qualquer uma p l p n .1 9 0 / 2 0 1 9 a p re s e n ta ç ã o : 1 4 / 0 8 / 2 0 1 9 1 4 : 5 5 2 das regras previstas , as sanções aplicadas são as mesmas dos demais entes , que incluem sobretudo a inclusão do município como inadimplente no cadastro único de convênios e a suspensão imediata das transferências voluntárias da união .",
                  "['o', 'problema', 'é', 'que', ',', 'uma', 'vez', 'verificado', 'que', 'determinado', 'município', 'enquadrado', 'nesta', 'categoria', 'de', 'pequeno', 'ultrapassou', 'qualquer', 'uma', 'p', 'l', 'p', 'n', '.1', '9', '0', '/', '2', '0', '1', '9', 'a', 'p', 're', 's', 'e', 'n', 'ta', 'ç', 'ã', 'o', ':', '1', '4', '/', '0', '8', '/', '2', '0', '1', '9', '1', '4', ':', '5', '5', '2', 'das', 'regras', 'previstas', ',', 'as', 'sanções', 'aplicadas', 'são', 'as', 'mesmas', 'dos', 'demais', 'entes', ',', 'que', 'incluem', 'sobretudo', 'a', 'inclusão', 'do', 'município', 'como', 'inadimplente', 'no', 'cadastro', 'único', 'de', 'convênios', 'e', 'a', 'suspensão', 'imediata', 'das', 'transferências', 'voluntárias', 'da', 'união', '.']",
                  "['O', 'O', 'O', 'O', 'O', 'O', 'O', 'O', 'O', 'O', 'O', 'O', 'O', 'O', 'O', 'O', 'O', 'O', 'O', 'O', 'O', 'O', 'O', 'O', 'O', 'O', 'O', 'O', 'O', 'O', 'O', 'O', 'O', 'O', 'O', 'O', 'O', 'O', 'O', 'O', 'O', 'O', 'O', 'O', 'O', 'O', 'O', 'O', 'O', 'O', 'O', 'O', 'O', 'O', 'O', 'O', 'O', 'O', 'O', 'O', 'O', 'O', 'O', 'O', 'O', 'O', 'O', 'O', 'O', 'O', 'O', 'O', 'O', 'O', 'O', 'O', 'O', 'O', 'O', 'O', 'O', 'O', 'O', 'O', 'O', 'O', 'O', 'O', 'O', 'O', 'O', 'O', 'O', 'O', 'O', 'O']",
                  "[('o', 'O'), ('problema', 'O'), ('é', 'O'), ('que', 'O'), (',', 'O'), ('uma', 'O'), ('vez', 'O'), ('verificado', 'O'), ('que', 'O'), ('determinado', 'O'), ('município', 'O'), ('enquadrado', 'O'), ('nesta', 'O'), ('categoria', 'O'), ('de', 'O'), ('pequeno', 'O'), ('ultrapassou', 'O'), ('qualquer', 'O'), ('uma', 'O'), ('p', 'O'), ('l', 'O'), ('p', 'O'), ('n', 'O'), ('.1', 'O'), ('9', 'O'), ('0', 'O'), ('/', 'O'), ('2', 'O'), ('0', 'O'), ('1', 'O'), ('9', 'O'), ('a', 'O'), ('p', 'O'), ('re', 'O'), ('s', 'O'), ('e', 'O'), ('n', 'O'), ('ta', 'O'), ('ç', 'O'), ('ã', 'O'), ('o', 'O'), (':', 'O'), ('1', 'O'), ('4', 'O'), ('/', 'O'), ('0', 'O'), ('8', 'O'), ('/', 'O'), ('2', 'O'), ('0', 'O'), ('1', 'O'), ('9', 'O'), ('1', 'O'), ('4', 'O'), (':', 'O'), ('5', 'O'), ('5', 'O'), ('2', 'O'), ('das', 'O'), ('regras', 'O'), ('previstas', 'O'), (',', 'O'), ('as', 'O'), ('sanções', 'O'), ('aplicadas', 'O'), ('são', 'O'), ('as', 'O'), ('mesmas', 'O'), ('dos', 'O'), ('demais', 'O'), ('entes', 'O'), (',', 'O'), ('que', 'O'), ('incluem', 'O'), ('sobretudo', 'O'), ('a', 'O'), ('inclusão', 'O'), ('do', 'O'), ('município', 'O'), ('como', 'O'), ('inadimplente', 'O'), ('no', 'O'), ('cadastro', 'O'), ('único', 'O'), ('de', 'O'), ('convênios', 'O'), ('e', 'O'), ('a', 'O'), ('suspensão', 'O'), ('imediata', 'O'), ('das', 'O'), ('transferências', 'O'), ('voluntárias', 'O'), ('da', 'O'), ('união', 'O'), ('.', 'O')]",
                  "96"
                ],
                [
                  "26",
                  "o número de assassinatos tem chegado a 4,8 para cada 100 mil mulheres .",
                  "['o', 'número', 'de', 'assassinatos', 'tem', 'chegado', 'a', '4,8', 'para', 'cada', '100', 'mil', 'mulheres', '.']",
                  "['O', 'O', 'O', 'O', 'O', 'O', 'O', 'O', 'O', 'O', 'O', 'O', 'O', 'O']",
                  "[('o', 'O'), ('número', 'O'), ('de', 'O'), ('assassinatos', 'O'), ('tem', 'O'), ('chegado', 'O'), ('a', 'O'), ('4,8', 'O'), ('para', 'O'), ('cada', 'O'), ('100', 'O'), ('mil', 'O'), ('mulheres', 'O'), ('.', 'O')]",
                  "14"
                ],
                [
                  "27",
                  "esta lei entra em vigor cento e oitenta dias após sua publicação oficial .",
                  "['esta', 'lei', 'entra', 'em', 'vigor', 'cento', 'e', 'oitenta', 'dias', 'após', 'sua', 'publicação', 'oficial', '.']",
                  "['O', 'O', 'O', 'O', 'O', 'O', 'O', 'O', 'O', 'O', 'O', 'O', 'O', 'O']",
                  "[('esta', 'O'), ('lei', 'O'), ('entra', 'O'), ('em', 'O'), ('vigor', 'O'), ('cento', 'O'), ('e', 'O'), ('oitenta', 'O'), ('dias', 'O'), ('após', 'O'), ('sua', 'O'), ('publicação', 'O'), ('oficial', 'O'), ('.', 'O')]",
                  "14"
                ],
                [
                  "28",
                  "o congresso nacional decreta : art . 1º esta lei regula a indenização de benfeitorias a agricultores ocupantes de boa-fé em terras indígenas , nos termos estabelecidos pelo § 6º do art . 231 da constituição federal .",
                  "['o', 'congresso', 'nacional', 'decreta', ':', 'art', '.', '1º', 'esta', 'lei', 'regula', 'a', 'indenização', 'de', 'benfeitorias', 'a', 'agricultores', 'ocupantes', 'de', 'boa-fé', 'em', 'terras', 'indígenas', ',', 'nos', 'termos', 'estabelecidos', 'pelo', '§', '6º', 'do', 'art', '.', '231', 'da', 'constituição', 'federal', '.']",
                  "['O', 'O', 'O', 'O', 'O', 'O', 'O', 'O', 'O', 'O', 'O', 'O', 'O', 'O', 'O', 'O', 'B-PESSOA', 'O', 'O', 'O', 'O', 'O', 'O', 'O', 'O', 'O', 'O', 'O', 'B-FUNDAMENTO', 'I-FUNDAMENTO', 'I-FUNDAMENTO', 'I-FUNDAMENTO', 'I-FUNDAMENTO', 'I-FUNDAMENTO', 'I-FUNDAMENTO', 'I-FUNDAMENTO', 'I-FUNDAMENTO', 'O']",
                  "[('o', 'O'), ('congresso', 'O'), ('nacional', 'O'), ('decreta', 'O'), (':', 'O'), ('art', 'O'), ('.', 'O'), ('1º', 'O'), ('esta', 'O'), ('lei', 'O'), ('regula', 'O'), ('a', 'O'), ('indenização', 'O'), ('de', 'O'), ('benfeitorias', 'O'), ('a', 'O'), ('agricultores', 'B-PESSOA'), ('ocupantes', 'O'), ('de', 'O'), ('boa-fé', 'O'), ('em', 'O'), ('terras', 'O'), ('indígenas', 'O'), (',', 'O'), ('nos', 'O'), ('termos', 'O'), ('estabelecidos', 'O'), ('pelo', 'O'), ('§', 'B-FUNDAMENTO'), ('6º', 'I-FUNDAMENTO'), ('do', 'I-FUNDAMENTO'), ('art', 'I-FUNDAMENTO'), ('.', 'I-FUNDAMENTO'), ('231', 'I-FUNDAMENTO'), ('da', 'I-FUNDAMENTO'), ('constituição', 'I-FUNDAMENTO'), ('federal', 'I-FUNDAMENTO'), ('.', 'O')]",
                  "38"
                ],
                [
                  "29",
                  "diante dessa realidade , o mandamento convencional e legal de integração sociocultural e laboral do refugiado admitido no brasil resta , pois , esvaziado de eficácia , havendo a necessidade de complementação da legislação existente .",
                  "['diante', 'dessa', 'realidade', ',', 'o', 'mandamento', 'convencional', 'e', 'legal', 'de', 'integração', 'sociocultural', 'e', 'laboral', 'do', 'refugiado', 'admitido', 'no', 'brasil', 'resta', ',', 'pois', ',', 'esvaziado', 'de', 'eficácia', ',', 'havendo', 'a', 'necessidade', 'de', 'complementação', 'da', 'legislação', 'existente', '.']",
                  "['O', 'O', 'O', 'O', 'O', 'O', 'O', 'O', 'O', 'O', 'O', 'O', 'O', 'O', 'O', 'O', 'O', 'O', 'B-LOCAL', 'O', 'O', 'O', 'O', 'O', 'O', 'O', 'O', 'O', 'O', 'O', 'O', 'O', 'O', 'O', 'O', 'O']",
                  "[('diante', 'O'), ('dessa', 'O'), ('realidade', 'O'), (',', 'O'), ('o', 'O'), ('mandamento', 'O'), ('convencional', 'O'), ('e', 'O'), ('legal', 'O'), ('de', 'O'), ('integração', 'O'), ('sociocultural', 'O'), ('e', 'O'), ('laboral', 'O'), ('do', 'O'), ('refugiado', 'O'), ('admitido', 'O'), ('no', 'O'), ('brasil', 'B-LOCAL'), ('resta', 'O'), (',', 'O'), ('pois', 'O'), (',', 'O'), ('esvaziado', 'O'), ('de', 'O'), ('eficácia', 'O'), (',', 'O'), ('havendo', 'O'), ('a', 'O'), ('necessidade', 'O'), ('de', 'O'), ('complementação', 'O'), ('da', 'O'), ('legislação', 'O'), ('existente', 'O'), ('.', 'O')]",
                  "36"
                ],
                [
                  "30",
                  "§ 2º a escritura e demais atos notariais serão gratuitos aos hipossuficientes econômicos . ”",
                  "['§', '2º', 'a', 'escritura', 'e', 'demais', 'atos', 'notariais', 'serão', 'gratuitos', 'aos', 'hipossuficientes', 'econômicos', '.', '”']",
                  "['O', 'O', 'O', 'O', 'O', 'O', 'O', 'O', 'O', 'O', 'O', 'O', 'O', 'O', 'O']",
                  "[('§', 'O'), ('2º', 'O'), ('a', 'O'), ('escritura', 'O'), ('e', 'O'), ('demais', 'O'), ('atos', 'O'), ('notariais', 'O'), ('serão', 'O'), ('gratuitos', 'O'), ('aos', 'O'), ('hipossuficientes', 'O'), ('econômicos', 'O'), ('.', 'O'), ('”', 'O')]",
                  "15"
                ],
                [
                  "31",
                  "esses mecanismos devem estar relacionados exatamente à execução da pena .",
                  "['esses', 'mecanismos', 'devem', 'estar', 'relacionados', 'exatamente', 'à', 'execução', 'da', 'pena', '.']",
                  "['O', 'O', 'O', 'O', 'O', 'O', 'O', 'O', 'O', 'O', 'O']",
                  "[('esses', 'O'), ('mecanismos', 'O'), ('devem', 'O'), ('estar', 'O'), ('relacionados', 'O'), ('exatamente', 'O'), ('à', 'O'), ('execução', 'O'), ('da', 'O'), ('pena', 'O'), ('.', 'O')]",
                  "11"
                ],
                [
                  "32",
                  "igualmente nocivos são os efeitos dos saltos altos sobre a coluna infantil , consistindo no aumento da curvatura da região lombar em decorrência da projeção para a frente do centro de gravidade corporal , o que pode gerar dores e , até mesmo , mudanças na posição da coluna .",
                  "['igualmente', 'nocivos', 'são', 'os', 'efeitos', 'dos', 'saltos', 'altos', 'sobre', 'a', 'coluna', 'infantil', ',', 'consistindo', 'no', 'aumento', 'da', 'curvatura', 'da', 'região', 'lombar', 'em', 'decorrência', 'da', 'projeção', 'para', 'a', 'frente', 'do', 'centro', 'de', 'gravidade', 'corporal', ',', 'o', 'que', 'pode', 'gerar', 'dores', 'e', ',', 'até', 'mesmo', ',', 'mudanças', 'na', 'posição', 'da', 'coluna', '.']",
                  "['O', 'O', 'O', 'O', 'O', 'O', 'O', 'O', 'O', 'O', 'O', 'O', 'O', 'O', 'O', 'O', 'O', 'O', 'O', 'O', 'O', 'O', 'O', 'O', 'O', 'O', 'O', 'O', 'O', 'O', 'O', 'O', 'O', 'O', 'O', 'O', 'O', 'O', 'O', 'O', 'O', 'O', 'O', 'O', 'O', 'O', 'O', 'O', 'O', 'O']",
                  "[('igualmente', 'O'), ('nocivos', 'O'), ('são', 'O'), ('os', 'O'), ('efeitos', 'O'), ('dos', 'O'), ('saltos', 'O'), ('altos', 'O'), ('sobre', 'O'), ('a', 'O'), ('coluna', 'O'), ('infantil', 'O'), (',', 'O'), ('consistindo', 'O'), ('no', 'O'), ('aumento', 'O'), ('da', 'O'), ('curvatura', 'O'), ('da', 'O'), ('região', 'O'), ('lombar', 'O'), ('em', 'O'), ('decorrência', 'O'), ('da', 'O'), ('projeção', 'O'), ('para', 'O'), ('a', 'O'), ('frente', 'O'), ('do', 'O'), ('centro', 'O'), ('de', 'O'), ('gravidade', 'O'), ('corporal', 'O'), (',', 'O'), ('o', 'O'), ('que', 'O'), ('pode', 'O'), ('gerar', 'O'), ('dores', 'O'), ('e', 'O'), (',', 'O'), ('até', 'O'), ('mesmo', 'O'), (',', 'O'), ('mudanças', 'O'), ('na', 'O'), ('posição', 'O'), ('da', 'O'), ('coluna', 'O'), ('.', 'O')]",
                  "50"
                ],
                [
                  "33",
                  "i - 6% ( seis por cento ) para a entidade reguladora do setor de mineração ; ii – 1,5% ( um inteiro e cinco décimos por cento ) para o fundo nacional de desenvolvimento científico e tecnológico ( fndct ) , instituído pelo decreto-lei nº 719 , de 31 de julho de 1969 , e restabelecido pela lei nº 8.172 , de 18 de janeiro de 1991 , destinado ao desenvolvimento científico e tecnológico do setor mineral , sendo aplicado , no mínimo , 0,5% ( cinco décimos por cento ) em pesquisas , estudos e projetos para o beneficiamento de rejeitos e estéreis de minerais para uso em outras cadeias produtivas ; . . . . . . . . . . . . . . . . . . . . . . . . . . . . . . . . . . . . . . . . . . . . . . . . . . . . . . . . . . . . . . . . . . . . . . . . . . . . . . . . . . . . . . . . . . . . . . . .",
                  "['i', '-', '6%', '(', 'seis', 'por', 'cento', ')', 'para', 'a', 'entidade', 'reguladora', 'do', 'setor', 'de', 'mineração', ';', 'ii', '–', '1,5%', '(', 'um', 'inteiro', 'e', 'cinco', 'décimos', 'por', 'cento', ')', 'para', 'o', 'fundo', 'nacional', 'de', 'desenvolvimento', 'científico', 'e', 'tecnológico', '(', 'fndct', ')', ',', 'instituído', 'pelo', 'decreto-lei', 'nº', '719', ',', 'de', '31', 'de', 'julho', 'de', '1969', ',', 'e', 'restabelecido', 'pela', 'lei', 'nº', '8.172', ',', 'de', '18', 'de', 'janeiro', 'de', '1991', ',', 'destinado', 'ao', 'desenvolvimento', 'científico', 'e', 'tecnológico', 'do', 'setor', 'mineral', ',', 'sendo', 'aplicado', ',', 'no', 'mínimo', ',', '0,5%', '(', 'cinco', 'décimos', 'por', 'cento', ')', 'em', 'pesquisas', ',', 'estudos', 'e', 'projetos', 'para', 'o', 'beneficiamento', 'de', 'rejeitos', 'e', 'estéreis', 'de', 'minerais', 'para', 'uso', 'em', 'outras', 'cadeias', 'produtivas', ';', '.', '.', '.', '.', '.', '.', '.', '.', '.', '.', '.', '.', '.', '.', '.', '.', '.', '.', '.', '.', '.', '.', '.', '.', '.', '.', '.', '.', '.', '.', '.', '.', '.', '.', '.', '.', '.', '.', '.', '.', '.', '.', '.', '.', '.', '.', '.', '.', '.', '.', '.', '.', '.', '.', '.', '.', '.', '.', '.', '.', '.', '.', '.', '.', '.', '.', '.', '.', '.', '.', '.', '.', '.', '.', '.', '.', '.', '.', '.', '.', '.', '.', '.', '.', '.', '.', '.', '.', '.', '.', '.', '.', '.', '.', '.', '.']",
                  "['O', 'O', 'O', 'O', 'O', 'O', 'O', 'O', 'O', 'O', 'O', 'O', 'O', 'O', 'O', 'O', 'O', 'O', 'O', 'O', 'O', 'O', 'O', 'O', 'O', 'O', 'O', 'O', 'O', 'O', 'O', 'B-PRODUTODELEI', 'I-PRODUTODELEI', 'I-PRODUTODELEI', 'I-PRODUTODELEI', 'I-PRODUTODELEI', 'I-PRODUTODELEI', 'I-PRODUTODELEI', 'I-PRODUTODELEI', 'I-PRODUTODELEI', 'I-PRODUTODELEI', 'O', 'O', 'O', 'B-FUNDAMENTO', 'I-FUNDAMENTO', 'I-FUNDAMENTO', 'I-FUNDAMENTO', 'I-FUNDAMENTO', 'I-FUNDAMENTO', 'I-FUNDAMENTO', 'I-FUNDAMENTO', 'I-FUNDAMENTO', 'I-FUNDAMENTO', 'O', 'O', 'O', 'O', 'B-FUNDAMENTO', 'I-FUNDAMENTO', 'I-FUNDAMENTO', 'I-FUNDAMENTO', 'I-FUNDAMENTO', 'I-FUNDAMENTO', 'I-FUNDAMENTO', 'I-FUNDAMENTO', 'I-FUNDAMENTO', 'I-FUNDAMENTO', 'O', 'O', 'O', 'O', 'O', 'O', 'O', 'O', 'O', 'O', 'O', 'O', 'O', 'O', 'O', 'O', 'O', 'O', 'O', 'O', 'O', 'O', 'O', 'O', 'O', 'O', 'O', 'O', 'O', 'O', 'O', 'O', 'O', 'O', 'O', 'O', 'O', 'O', 'O', 'O', 'O', 'O', 'O', 'O', 'O', 'O', 'O', 'O', 'O', 'O', 'O', 'O', 'O', 'O', 'O', 'O', 'O', 'O', 'O', 'O', 'O', 'O', 'O', 'O', 'O', 'O', 'O', 'O', 'O', 'O', 'O', 'O', 'O', 'O', 'O', 'O', 'O', 'O', 'O', 'O', 'O', 'O', 'O', 'O', 'O', 'O', 'O', 'O', 'O', 'O', 'O', 'O', 'O', 'O', 'O', 'O', 'O', 'O', 'O', 'O', 'O', 'O', 'O', 'O', 'O', 'O', 'O', 'O', 'O', 'O', 'O', 'O', 'O', 'O', 'O', 'O', 'O', 'O', 'O', 'O', 'O', 'O', 'O', 'O', 'O', 'O', 'O', 'O', 'O', 'O', 'O', 'O', 'O', 'O', 'O', 'O', 'O', 'O', 'O', 'O', 'O', 'O']",
                  "[('i', 'O'), ('-', 'O'), ('6%', 'O'), ('(', 'O'), ('seis', 'O'), ('por', 'O'), ('cento', 'O'), (')', 'O'), ('para', 'O'), ('a', 'O'), ('entidade', 'O'), ('reguladora', 'O'), ('do', 'O'), ('setor', 'O'), ('de', 'O'), ('mineração', 'O'), (';', 'O'), ('ii', 'O'), ('–', 'O'), ('1,5%', 'O'), ('(', 'O'), ('um', 'O'), ('inteiro', 'O'), ('e', 'O'), ('cinco', 'O'), ('décimos', 'O'), ('por', 'O'), ('cento', 'O'), (')', 'O'), ('para', 'O'), ('o', 'O'), ('fundo', 'B-PRODUTODELEI'), ('nacional', 'I-PRODUTODELEI'), ('de', 'I-PRODUTODELEI'), ('desenvolvimento', 'I-PRODUTODELEI'), ('científico', 'I-PRODUTODELEI'), ('e', 'I-PRODUTODELEI'), ('tecnológico', 'I-PRODUTODELEI'), ('(', 'I-PRODUTODELEI'), ('fndct', 'I-PRODUTODELEI'), (')', 'I-PRODUTODELEI'), (',', 'O'), ('instituído', 'O'), ('pelo', 'O'), ('decreto-lei', 'B-FUNDAMENTO'), ('nº', 'I-FUNDAMENTO'), ('719', 'I-FUNDAMENTO'), (',', 'I-FUNDAMENTO'), ('de', 'I-FUNDAMENTO'), ('31', 'I-FUNDAMENTO'), ('de', 'I-FUNDAMENTO'), ('julho', 'I-FUNDAMENTO'), ('de', 'I-FUNDAMENTO'), ('1969', 'I-FUNDAMENTO'), (',', 'O'), ('e', 'O'), ('restabelecido', 'O'), ('pela', 'O'), ('lei', 'B-FUNDAMENTO'), ('nº', 'I-FUNDAMENTO'), ('8.172', 'I-FUNDAMENTO'), (',', 'I-FUNDAMENTO'), ('de', 'I-FUNDAMENTO'), ('18', 'I-FUNDAMENTO'), ('de', 'I-FUNDAMENTO'), ('janeiro', 'I-FUNDAMENTO'), ('de', 'I-FUNDAMENTO'), ('1991', 'I-FUNDAMENTO'), (',', 'O'), ('destinado', 'O'), ('ao', 'O'), ('desenvolvimento', 'O'), ('científico', 'O'), ('e', 'O'), ('tecnológico', 'O'), ('do', 'O'), ('setor', 'O'), ('mineral', 'O'), (',', 'O'), ('sendo', 'O'), ('aplicado', 'O'), (',', 'O'), ('no', 'O'), ('mínimo', 'O'), (',', 'O'), ('0,5%', 'O'), ('(', 'O'), ('cinco', 'O'), ('décimos', 'O'), ('por', 'O'), ('cento', 'O'), (')', 'O'), ('em', 'O'), ('pesquisas', 'O'), (',', 'O'), ('estudos', 'O'), ('e', 'O'), ('projetos', 'O'), ('para', 'O'), ('o', 'O'), ('beneficiamento', 'O'), ('de', 'O'), ('rejeitos', 'O'), ('e', 'O'), ('estéreis', 'O'), ('de', 'O'), ('minerais', 'O'), ('para', 'O'), ('uso', 'O'), ('em', 'O'), ('outras', 'O'), ('cadeias', 'O'), ('produtivas', 'O'), (';', 'O'), ('.', 'O'), ('.', 'O'), ('.', 'O'), ('.', 'O'), ('.', 'O'), ('.', 'O'), ('.', 'O'), ('.', 'O'), ('.', 'O'), ('.', 'O'), ('.', 'O'), ('.', 'O'), ('.', 'O'), ('.', 'O'), ('.', 'O'), ('.', 'O'), ('.', 'O'), ('.', 'O'), ('.', 'O'), ('.', 'O'), ('.', 'O'), ('.', 'O'), ('.', 'O'), ('.', 'O'), ('.', 'O'), ('.', 'O'), ('.', 'O'), ('.', 'O'), ('.', 'O'), ('.', 'O'), ('.', 'O'), ('.', 'O'), ('.', 'O'), ('.', 'O'), ('.', 'O'), ('.', 'O'), ('.', 'O'), ('.', 'O'), ('.', 'O'), ('.', 'O'), ('.', 'O'), ('.', 'O'), ('.', 'O'), ('.', 'O'), ('.', 'O'), ('.', 'O'), ('.', 'O'), ('.', 'O'), ('.', 'O'), ('.', 'O'), ('.', 'O'), ('.', 'O'), ('.', 'O'), ('.', 'O'), ('.', 'O'), ('.', 'O'), ('.', 'O'), ('.', 'O'), ('.', 'O'), ('.', 'O'), ('.', 'O'), ('.', 'O'), ('.', 'O'), ('.', 'O'), ('.', 'O'), ('.', 'O'), ('.', 'O'), ('.', 'O'), ('.', 'O'), ('.', 'O'), ('.', 'O'), ('.', 'O'), ('.', 'O'), ('.', 'O'), ('.', 'O'), ('.', 'O'), ('.', 'O'), ('.', 'O'), ('.', 'O'), ('.', 'O'), ('.', 'O'), ('.', 'O'), ('.', 'O'), ('.', 'O'), ('.', 'O'), ('.', 'O'), ('.', 'O'), ('.', 'O'), ('.', 'O'), ('.', 'O'), ('.', 'O'), ('.', 'O'), ('.', 'O'), ('.', 'O'), ('.', 'O'), ('.', 'O')]",
                  "210"
                ],
                [
                  "34",
                  "nesse contexto , a lei antidrogas ( lei nº 11.343 , de 23 de agosto de 2006 ) fixou algumas obrigações estatais direcionadas à prevenção do uso indevido e à reinserção social dos usuários de drogas .",
                  "['nesse', 'contexto', ',', 'a', 'lei', 'antidrogas', '(', 'lei', 'nº', '11.343', ',', 'de', '23', 'de', 'agosto', 'de', '2006', ')', 'fixou', 'algumas', 'obrigações', 'estatais', 'direcionadas', 'à', 'prevenção', 'do', 'uso', 'indevido', 'e', 'à', 'reinserção', 'social', 'dos', 'usuários', 'de', 'drogas', '.']",
                  "['O', 'O', 'O', 'O', 'B-FUNDAMENTO', 'I-FUNDAMENTO', 'O', 'B-FUNDAMENTO', 'I-FUNDAMENTO', 'I-FUNDAMENTO', 'I-FUNDAMENTO', 'I-FUNDAMENTO', 'I-FUNDAMENTO', 'I-FUNDAMENTO', 'I-FUNDAMENTO', 'I-FUNDAMENTO', 'I-FUNDAMENTO', 'O', 'O', 'O', 'O', 'O', 'O', 'O', 'O', 'O', 'O', 'O', 'O', 'O', 'O', 'O', 'O', 'O', 'O', 'O', 'O']",
                  "[('nesse', 'O'), ('contexto', 'O'), (',', 'O'), ('a', 'O'), ('lei', 'B-FUNDAMENTO'), ('antidrogas', 'I-FUNDAMENTO'), ('(', 'O'), ('lei', 'B-FUNDAMENTO'), ('nº', 'I-FUNDAMENTO'), ('11.343', 'I-FUNDAMENTO'), (',', 'I-FUNDAMENTO'), ('de', 'I-FUNDAMENTO'), ('23', 'I-FUNDAMENTO'), ('de', 'I-FUNDAMENTO'), ('agosto', 'I-FUNDAMENTO'), ('de', 'I-FUNDAMENTO'), ('2006', 'I-FUNDAMENTO'), (')', 'O'), ('fixou', 'O'), ('algumas', 'O'), ('obrigações', 'O'), ('estatais', 'O'), ('direcionadas', 'O'), ('à', 'O'), ('prevenção', 'O'), ('do', 'O'), ('uso', 'O'), ('indevido', 'O'), ('e', 'O'), ('à', 'O'), ('reinserção', 'O'), ('social', 'O'), ('dos', 'O'), ('usuários', 'O'), ('de', 'O'), ('drogas', 'O'), ('.', 'O')]",
                  "37"
                ],
                [
                  "35",
                  "trata-se de proposição que visa a coibir abusos de poder , retirando do art . 26 da lei nº 6.815 , de 1980 , o seu caráter arbitrário , que , ao estipular as condições segundo as quais a entrada , permanência ou registro do estrangeiro em nosso país pode ser obstado , contempla a hipótese de “ inconveniência de sua presença no território nacional , a critério do ministério da justiça ” .",
                  "['trata-se', 'de', 'proposição', 'que', 'visa', 'a', 'coibir', 'abusos', 'de', 'poder', ',', 'retirando', 'do', 'art', '.', '26', 'da', 'lei', 'nº', '6.815', ',', 'de', '1980', ',', 'o', 'seu', 'caráter', 'arbitrário', ',', 'que', ',', 'ao', 'estipular', 'as', 'condições', 'segundo', 'as', 'quais', 'a', 'entrada', ',', 'permanência', 'ou', 'registro', 'do', 'estrangeiro', 'em', 'nosso', 'país', 'pode', 'ser', 'obstado', ',', 'contempla', 'a', 'hipótese', 'de', '“', 'inconveniência', 'de', 'sua', 'presença', 'no', 'território', 'nacional', ',', 'a', 'critério', 'do', 'ministério', 'da', 'justiça', '”', '.']",
                  "['O', 'O', 'O', 'O', 'O', 'O', 'O', 'O', 'O', 'O', 'O', 'O', 'O', 'B-FUNDAMENTO', 'I-FUNDAMENTO', 'I-FUNDAMENTO', 'I-FUNDAMENTO', 'I-FUNDAMENTO', 'I-FUNDAMENTO', 'I-FUNDAMENTO', 'I-FUNDAMENTO', 'I-FUNDAMENTO', 'I-FUNDAMENTO', 'O', 'O', 'O', 'O', 'O', 'O', 'O', 'O', 'O', 'O', 'O', 'O', 'O', 'O', 'O', 'O', 'O', 'O', 'O', 'O', 'O', 'O', 'O', 'O', 'O', 'O', 'O', 'O', 'O', 'O', 'O', 'O', 'O', 'O', 'O', 'O', 'O', 'O', 'O', 'O', 'O', 'O', 'O', 'O', 'O', 'O', 'B-ORGANIZACAO', 'I-ORGANIZACAO', 'I-ORGANIZACAO', 'O', 'O']",
                  "[('trata-se', 'O'), ('de', 'O'), ('proposição', 'O'), ('que', 'O'), ('visa', 'O'), ('a', 'O'), ('coibir', 'O'), ('abusos', 'O'), ('de', 'O'), ('poder', 'O'), (',', 'O'), ('retirando', 'O'), ('do', 'O'), ('art', 'B-FUNDAMENTO'), ('.', 'I-FUNDAMENTO'), ('26', 'I-FUNDAMENTO'), ('da', 'I-FUNDAMENTO'), ('lei', 'I-FUNDAMENTO'), ('nº', 'I-FUNDAMENTO'), ('6.815', 'I-FUNDAMENTO'), (',', 'I-FUNDAMENTO'), ('de', 'I-FUNDAMENTO'), ('1980', 'I-FUNDAMENTO'), (',', 'O'), ('o', 'O'), ('seu', 'O'), ('caráter', 'O'), ('arbitrário', 'O'), (',', 'O'), ('que', 'O'), (',', 'O'), ('ao', 'O'), ('estipular', 'O'), ('as', 'O'), ('condições', 'O'), ('segundo', 'O'), ('as', 'O'), ('quais', 'O'), ('a', 'O'), ('entrada', 'O'), (',', 'O'), ('permanência', 'O'), ('ou', 'O'), ('registro', 'O'), ('do', 'O'), ('estrangeiro', 'O'), ('em', 'O'), ('nosso', 'O'), ('país', 'O'), ('pode', 'O'), ('ser', 'O'), ('obstado', 'O'), (',', 'O'), ('contempla', 'O'), ('a', 'O'), ('hipótese', 'O'), ('de', 'O'), ('“', 'O'), ('inconveniência', 'O'), ('de', 'O'), ('sua', 'O'), ('presença', 'O'), ('no', 'O'), ('território', 'O'), ('nacional', 'O'), (',', 'O'), ('a', 'O'), ('critério', 'O'), ('do', 'O'), ('ministério', 'B-ORGANIZACAO'), ('da', 'I-ORGANIZACAO'), ('justiça', 'I-ORGANIZACAO'), ('”', 'O'), ('.', 'O')]",
                  "74"
                ],
                [
                  "36",
                  "assim , este projeto apenas adianta-se , propondo solução já aventada e mapeada como uma necessidade pelo próprio governo federal .",
                  "['assim', ',', 'este', 'projeto', 'apenas', 'adianta-se', ',', 'propondo', 'solução', 'já', 'aventada', 'e', 'mapeada', 'como', 'uma', 'necessidade', 'pelo', 'próprio', 'governo', 'federal', '.']",
                  "['O', 'O', 'O', 'O', 'O', 'O', 'O', 'O', 'O', 'O', 'O', 'O', 'O', 'O', 'O', 'O', 'O', 'O', 'B-ORGANIZACAO', 'I-ORGANIZACAO', 'O']",
                  "[('assim', 'O'), (',', 'O'), ('este', 'O'), ('projeto', 'O'), ('apenas', 'O'), ('adianta-se', 'O'), (',', 'O'), ('propondo', 'O'), ('solução', 'O'), ('já', 'O'), ('aventada', 'O'), ('e', 'O'), ('mapeada', 'O'), ('como', 'O'), ('uma', 'O'), ('necessidade', 'O'), ('pelo', 'O'), ('próprio', 'O'), ('governo', 'B-ORGANIZACAO'), ('federal', 'I-ORGANIZACAO'), ('.', 'O')]",
                  "21"
                ],
                [
                  "37",
                  "art . 3 ° esta lei entra em vigor na data de sua publicação .",
                  "['art', '.', '3', '°', 'esta', 'lei', 'entra', 'em', 'vigor', 'na', 'data', 'de', 'sua', 'publicação', '.']",
                  "['O', 'O', 'O', 'O', 'O', 'O', 'O', 'O', 'O', 'O', 'O', 'O', 'O', 'O', 'O']",
                  "[('art', 'O'), ('.', 'O'), ('3', 'O'), ('°', 'O'), ('esta', 'O'), ('lei', 'O'), ('entra', 'O'), ('em', 'O'), ('vigor', 'O'), ('na', 'O'), ('data', 'O'), ('de', 'O'), ('sua', 'O'), ('publicação', 'O'), ('.', 'O')]",
                  "15"
                ],
                [
                  "38",
                  "não podemos mais aceitar que nossa juventude seja imolada , em favor de uns poucos e , nós parlamentares nada façamos .",
                  "['não', 'podemos', 'mais', 'aceitar', 'que', 'nossa', 'juventude', 'seja', 'imolada', ',', 'em', 'favor', 'de', 'uns', 'poucos', 'e', ',', 'nós', 'parlamentares', 'nada', 'façamos', '.']",
                  "['O', 'O', 'O', 'O', 'O', 'O', 'O', 'O', 'O', 'O', 'O', 'O', 'O', 'O', 'O', 'O', 'O', 'O', 'B-PESSOA', 'O', 'O', 'O']",
                  "[('não', 'O'), ('podemos', 'O'), ('mais', 'O'), ('aceitar', 'O'), ('que', 'O'), ('nossa', 'O'), ('juventude', 'O'), ('seja', 'O'), ('imolada', 'O'), (',', 'O'), ('em', 'O'), ('favor', 'O'), ('de', 'O'), ('uns', 'O'), ('poucos', 'O'), ('e', 'O'), (',', 'O'), ('nós', 'O'), ('parlamentares', 'B-PESSOA'), ('nada', 'O'), ('façamos', 'O'), ('.', 'O')]",
                  "22"
                ],
                [
                  "39",
                  "o congresso nacional decreta : art . 1º esta lei veda a divulgação ou promoção de prestadores de serviços turísticos não devidamente cadastrados no ministério do turismo .",
                  "['o', 'congresso', 'nacional', 'decreta', ':', 'art', '.', '1º', 'esta', 'lei', 'veda', 'a', 'divulgação', 'ou', 'promoção', 'de', 'prestadores', 'de', 'serviços', 'turísticos', 'não', 'devidamente', 'cadastrados', 'no', 'ministério', 'do', 'turismo', '.']",
                  "['O', 'O', 'O', 'O', 'O', 'O', 'O', 'O', 'O', 'O', 'O', 'O', 'O', 'O', 'O', 'O', 'O', 'O', 'O', 'O', 'O', 'O', 'O', 'O', 'B-ORGANIZACAO', 'I-ORGANIZACAO', 'I-ORGANIZACAO', 'O']",
                  "[('o', 'O'), ('congresso', 'O'), ('nacional', 'O'), ('decreta', 'O'), (':', 'O'), ('art', 'O'), ('.', 'O'), ('1º', 'O'), ('esta', 'O'), ('lei', 'O'), ('veda', 'O'), ('a', 'O'), ('divulgação', 'O'), ('ou', 'O'), ('promoção', 'O'), ('de', 'O'), ('prestadores', 'O'), ('de', 'O'), ('serviços', 'O'), ('turísticos', 'O'), ('não', 'O'), ('devidamente', 'O'), ('cadastrados', 'O'), ('no', 'O'), ('ministério', 'B-ORGANIZACAO'), ('do', 'I-ORGANIZACAO'), ('turismo', 'I-ORGANIZACAO'), ('.', 'O')]",
                  "28"
                ],
                [
                  "40",
                  "dada a inequívoca importância da matéria , esperamos poder contar com o apoio dos nossos ilustres pares nessa casa para sua célere aprovação .",
                  "['dada', 'a', 'inequívoca', 'importância', 'da', 'matéria', ',', 'esperamos', 'poder', 'contar', 'com', 'o', 'apoio', 'dos', 'nossos', 'ilustres', 'pares', 'nessa', 'casa', 'para', 'sua', 'célere', 'aprovação', '.']",
                  "['O', 'O', 'O', 'O', 'O', 'O', 'O', 'O', 'O', 'O', 'O', 'O', 'O', 'O', 'O', 'O', 'O', 'O', 'O', 'O', 'O', 'O', 'O', 'O']",
                  "[('dada', 'O'), ('a', 'O'), ('inequívoca', 'O'), ('importância', 'O'), ('da', 'O'), ('matéria', 'O'), (',', 'O'), ('esperamos', 'O'), ('poder', 'O'), ('contar', 'O'), ('com', 'O'), ('o', 'O'), ('apoio', 'O'), ('dos', 'O'), ('nossos', 'O'), ('ilustres', 'O'), ('pares', 'O'), ('nessa', 'O'), ('casa', 'O'), ('para', 'O'), ('sua', 'O'), ('célere', 'O'), ('aprovação', 'O'), ('.', 'O')]",
                  "24"
                ],
                [
                  "41",
                  "p l n .4 7 4 8 / 2 0 1 9 a p re s e n ta ç ã o : 2 8 / 0 8 / 2 0 1 9 1 6 : 0 1 3 também na linha de combater a reincidência , o núcleo judiciário da mulher , no distrito federal , tem estabelecido conversas reflexivas com condenados pela lei maria da penha , que abordam sistema de crenças , dependência afetiva , e auto responsabilidade .",
                  "['p', 'l', 'n', '.4', '7', '4', '8', '/', '2', '0', '1', '9', 'a', 'p', 're', 's', 'e', 'n', 'ta', 'ç', 'ã', 'o', ':', '2', '8', '/', '0', '8', '/', '2', '0', '1', '9', '1', '6', ':', '0', '1', '3', 'também', 'na', 'linha', 'de', 'combater', 'a', 'reincidência', ',', 'o', 'núcleo', 'judiciário', 'da', 'mulher', ',', 'no', 'distrito', 'federal', ',', 'tem', 'estabelecido', 'conversas', 'reflexivas', 'com', 'condenados', 'pela', 'lei', 'maria', 'da', 'penha', ',', 'que', 'abordam', 'sistema', 'de', 'crenças', ',', 'dependência', 'afetiva', ',', 'e', 'auto', 'responsabilidade', '.']",
                  "['O', 'O', 'O', 'O', 'O', 'O', 'O', 'O', 'O', 'O', 'O', 'O', 'O', 'O', 'O', 'O', 'O', 'O', 'O', 'O', 'O', 'O', 'O', 'O', 'O', 'O', 'O', 'O', 'O', 'O', 'O', 'O', 'O', 'O', 'O', 'O', 'O', 'O', 'O', 'O', 'O', 'O', 'O', 'O', 'O', 'O', 'O', 'O', 'B-PRODUTODELEI', 'I-PRODUTODELEI', 'I-PRODUTODELEI', 'I-PRODUTODELEI', 'O', 'O', 'O', 'O', 'O', 'O', 'O', 'O', 'O', 'O', 'O', 'O', 'B-FUNDAMENTO', 'I-FUNDAMENTO', 'I-FUNDAMENTO', 'I-FUNDAMENTO', 'O', 'O', 'O', 'O', 'O', 'O', 'O', 'O', 'O', 'O', 'O', 'O', 'O', 'O']",
                  "[('p', 'O'), ('l', 'O'), ('n', 'O'), ('.4', 'O'), ('7', 'O'), ('4', 'O'), ('8', 'O'), ('/', 'O'), ('2', 'O'), ('0', 'O'), ('1', 'O'), ('9', 'O'), ('a', 'O'), ('p', 'O'), ('re', 'O'), ('s', 'O'), ('e', 'O'), ('n', 'O'), ('ta', 'O'), ('ç', 'O'), ('ã', 'O'), ('o', 'O'), (':', 'O'), ('2', 'O'), ('8', 'O'), ('/', 'O'), ('0', 'O'), ('8', 'O'), ('/', 'O'), ('2', 'O'), ('0', 'O'), ('1', 'O'), ('9', 'O'), ('1', 'O'), ('6', 'O'), (':', 'O'), ('0', 'O'), ('1', 'O'), ('3', 'O'), ('também', 'O'), ('na', 'O'), ('linha', 'O'), ('de', 'O'), ('combater', 'O'), ('a', 'O'), ('reincidência', 'O'), (',', 'O'), ('o', 'O'), ('núcleo', 'B-PRODUTODELEI'), ('judiciário', 'I-PRODUTODELEI'), ('da', 'I-PRODUTODELEI'), ('mulher', 'I-PRODUTODELEI'), (',', 'O'), ('no', 'O'), ('distrito', 'O'), ('federal', 'O'), (',', 'O'), ('tem', 'O'), ('estabelecido', 'O'), ('conversas', 'O'), ('reflexivas', 'O'), ('com', 'O'), ('condenados', 'O'), ('pela', 'O'), ('lei', 'B-FUNDAMENTO'), ('maria', 'I-FUNDAMENTO'), ('da', 'I-FUNDAMENTO'), ('penha', 'I-FUNDAMENTO'), (',', 'O'), ('que', 'O'), ('abordam', 'O'), ('sistema', 'O'), ('de', 'O'), ('crenças', 'O'), (',', 'O'), ('dependência', 'O'), ('afetiva', 'O'), (',', 'O'), ('e', 'O'), ('auto', 'O'), ('responsabilidade', 'O'), ('.', 'O')]",
                  "82"
                ],
                [
                  "42",
                  "amparado em tais argumento , esperamos contar com o decisivo apoio dos nobres pares para a aprovação dessa proposta legislativa .",
                  "['amparado', 'em', 'tais', 'argumento', ',', 'esperamos', 'contar', 'com', 'o', 'decisivo', 'apoio', 'dos', 'nobres', 'pares', 'para', 'a', 'aprovação', 'dessa', 'proposta', 'legislativa', '.']",
                  "['O', 'O', 'O', 'O', 'O', 'O', 'O', 'O', 'O', 'O', 'O', 'O', 'O', 'O', 'O', 'O', 'O', 'O', 'O', 'O', 'O']",
                  "[('amparado', 'O'), ('em', 'O'), ('tais', 'O'), ('argumento', 'O'), (',', 'O'), ('esperamos', 'O'), ('contar', 'O'), ('com', 'O'), ('o', 'O'), ('decisivo', 'O'), ('apoio', 'O'), ('dos', 'O'), ('nobres', 'O'), ('pares', 'O'), ('para', 'O'), ('a', 'O'), ('aprovação', 'O'), ('dessa', 'O'), ('proposta', 'O'), ('legislativa', 'O'), ('.', 'O')]",
                  "21"
                ],
                [
                  "43",
                  "foi o primeiro nissei e o único político a ser presidente da câmara municipal de são paulo e da assembléia legislativa do estado de são paulo .",
                  "['foi', 'o', 'primeiro', 'nissei', 'e', 'o', 'único', 'político', 'a', 'ser', 'presidente', 'da', 'câmara', 'municipal', 'de', 'são', 'paulo', 'e', 'da', 'assembléia', 'legislativa', 'do', 'estado', 'de', 'são', 'paulo', '.']",
                  "['O', 'O', 'O', 'O', 'O', 'O', 'O', 'B-PESSOA', 'O', 'O', 'B-PESSOA', 'O', 'B-ORGANIZACAO', 'I-ORGANIZACAO', 'I-ORGANIZACAO', 'I-ORGANIZACAO', 'I-ORGANIZACAO', 'O', 'O', 'B-ORGANIZACAO', 'I-ORGANIZACAO', 'I-ORGANIZACAO', 'I-ORGANIZACAO', 'I-ORGANIZACAO', 'I-ORGANIZACAO', 'I-ORGANIZACAO', 'O']",
                  "[('foi', 'O'), ('o', 'O'), ('primeiro', 'O'), ('nissei', 'O'), ('e', 'O'), ('o', 'O'), ('único', 'O'), ('político', 'B-PESSOA'), ('a', 'O'), ('ser', 'O'), ('presidente', 'B-PESSOA'), ('da', 'O'), ('câmara', 'B-ORGANIZACAO'), ('municipal', 'I-ORGANIZACAO'), ('de', 'I-ORGANIZACAO'), ('são', 'I-ORGANIZACAO'), ('paulo', 'I-ORGANIZACAO'), ('e', 'O'), ('da', 'O'), ('assembléia', 'B-ORGANIZACAO'), ('legislativa', 'I-ORGANIZACAO'), ('do', 'I-ORGANIZACAO'), ('estado', 'I-ORGANIZACAO'), ('de', 'I-ORGANIZACAO'), ('são', 'I-ORGANIZACAO'), ('paulo', 'I-ORGANIZACAO'), ('.', 'O')]",
                  "27"
                ],
                [
                  "44",
                  "justificação diante do aumento da expectativa de vida do brasileiro e da necessidade de inclusão e de manutenção dos trabalhadores com 50 anos de idade ou mais no mercado de trabalho , a fim de que possam continuar contribuindo para a previdência social o suficiente para a percepção do benefício da aposentadoria , faz-se necessária a adoção de mecanismos que incentivem as empresas a contratar empregados mais experientes .",
                  "['justificação', 'diante', 'do', 'aumento', 'da', 'expectativa', 'de', 'vida', 'do', 'brasileiro', 'e', 'da', 'necessidade', 'de', 'inclusão', 'e', 'de', 'manutenção', 'dos', 'trabalhadores', 'com', '50', 'anos', 'de', 'idade', 'ou', 'mais', 'no', 'mercado', 'de', 'trabalho', ',', 'a', 'fim', 'de', 'que', 'possam', 'continuar', 'contribuindo', 'para', 'a', 'previdência', 'social', 'o', 'suficiente', 'para', 'a', 'percepção', 'do', 'benefício', 'da', 'aposentadoria', ',', 'faz-se', 'necessária', 'a', 'adoção', 'de', 'mecanismos', 'que', 'incentivem', 'as', 'empresas', 'a', 'contratar', 'empregados', 'mais', 'experientes', '.']",
                  "['O', 'O', 'O', 'O', 'O', 'O', 'O', 'O', 'O', 'O', 'O', 'O', 'O', 'O', 'O', 'O', 'O', 'O', 'O', 'O', 'O', 'O', 'O', 'O', 'O', 'O', 'O', 'O', 'O', 'O', 'O', 'O', 'O', 'O', 'O', 'O', 'O', 'O', 'O', 'O', 'O', 'B-PRODUTODELEI', 'I-PRODUTODELEI', 'O', 'O', 'O', 'O', 'O', 'O', 'O', 'O', 'O', 'O', 'O', 'O', 'O', 'O', 'O', 'O', 'O', 'O', 'O', 'O', 'O', 'O', 'O', 'O', 'O', 'O']",
                  "[('justificação', 'O'), ('diante', 'O'), ('do', 'O'), ('aumento', 'O'), ('da', 'O'), ('expectativa', 'O'), ('de', 'O'), ('vida', 'O'), ('do', 'O'), ('brasileiro', 'O'), ('e', 'O'), ('da', 'O'), ('necessidade', 'O'), ('de', 'O'), ('inclusão', 'O'), ('e', 'O'), ('de', 'O'), ('manutenção', 'O'), ('dos', 'O'), ('trabalhadores', 'O'), ('com', 'O'), ('50', 'O'), ('anos', 'O'), ('de', 'O'), ('idade', 'O'), ('ou', 'O'), ('mais', 'O'), ('no', 'O'), ('mercado', 'O'), ('de', 'O'), ('trabalho', 'O'), (',', 'O'), ('a', 'O'), ('fim', 'O'), ('de', 'O'), ('que', 'O'), ('possam', 'O'), ('continuar', 'O'), ('contribuindo', 'O'), ('para', 'O'), ('a', 'O'), ('previdência', 'B-PRODUTODELEI'), ('social', 'I-PRODUTODELEI'), ('o', 'O'), ('suficiente', 'O'), ('para', 'O'), ('a', 'O'), ('percepção', 'O'), ('do', 'O'), ('benefício', 'O'), ('da', 'O'), ('aposentadoria', 'O'), (',', 'O'), ('faz-se', 'O'), ('necessária', 'O'), ('a', 'O'), ('adoção', 'O'), ('de', 'O'), ('mecanismos', 'O'), ('que', 'O'), ('incentivem', 'O'), ('as', 'O'), ('empresas', 'O'), ('a', 'O'), ('contratar', 'O'), ('empregados', 'O'), ('mais', 'O'), ('experientes', 'O'), ('.', 'O')]",
                  "69"
                ],
                [
                  "45",
                  "silas câmara e vinícius carvalho ) dispõe sobre a atualização do valor dos ativos das concessionárias de transmissão de energia elétrica considerados não depreciados existentes em 31 de maio de 2000 o congresso nacional decreta : art . 1º o art . 15 da lei nº 12.783 , 11 de janeiro de 2013 , passa a vigorar acrescido do seguinte § 3º-a : “ art . 15",
                  "['silas', 'câmara', 'e', 'vinícius', 'carvalho', ')', 'dispõe', 'sobre', 'a', 'atualização', 'do', 'valor', 'dos', 'ativos', 'das', 'concessionárias', 'de', 'transmissão', 'de', 'energia', 'elétrica', 'considerados', 'não', 'depreciados', 'existentes', 'em', '31', 'de', 'maio', 'de', '2000', 'o', 'congresso', 'nacional', 'decreta', ':', 'art', '.', '1º', 'o', 'art', '.', '15', 'da', 'lei', 'nº', '12.783', ',', '11', 'de', 'janeiro', 'de', '2013', ',', 'passa', 'a', 'vigorar', 'acrescido', 'do', 'seguinte', '§', '3º-a', ':', '“', 'art', '.', '15']",
                  "['B-PESSOA', 'I-PESSOA', 'O', 'B-PESSOA', 'I-PESSOA', 'O', 'O', 'O', 'O', 'O', 'O', 'O', 'O', 'O', 'O', 'O', 'O', 'O', 'O', 'O', 'O', 'O', 'O', 'O', 'O', 'O', 'B-DATA', 'I-DATA', 'I-DATA', 'I-DATA', 'I-DATA', 'O', 'O', 'O', 'O', 'O', 'O', 'O', 'O', 'O', 'B-FUNDAMENTO', 'I-FUNDAMENTO', 'I-FUNDAMENTO', 'I-FUNDAMENTO', 'I-FUNDAMENTO', 'I-FUNDAMENTO', 'I-FUNDAMENTO', 'I-FUNDAMENTO', 'I-FUNDAMENTO', 'I-FUNDAMENTO', 'I-FUNDAMENTO', 'I-FUNDAMENTO', 'I-FUNDAMENTO', 'O', 'O', 'O', 'O', 'O', 'O', 'O', 'O', 'O', 'O', 'O', 'O', 'O', 'O']",
                  "[('silas', 'B-PESSOA'), ('câmara', 'I-PESSOA'), ('e', 'O'), ('vinícius', 'B-PESSOA'), ('carvalho', 'I-PESSOA'), (')', 'O'), ('dispõe', 'O'), ('sobre', 'O'), ('a', 'O'), ('atualização', 'O'), ('do', 'O'), ('valor', 'O'), ('dos', 'O'), ('ativos', 'O'), ('das', 'O'), ('concessionárias', 'O'), ('de', 'O'), ('transmissão', 'O'), ('de', 'O'), ('energia', 'O'), ('elétrica', 'O'), ('considerados', 'O'), ('não', 'O'), ('depreciados', 'O'), ('existentes', 'O'), ('em', 'O'), ('31', 'B-DATA'), ('de', 'I-DATA'), ('maio', 'I-DATA'), ('de', 'I-DATA'), ('2000', 'I-DATA'), ('o', 'O'), ('congresso', 'O'), ('nacional', 'O'), ('decreta', 'O'), (':', 'O'), ('art', 'O'), ('.', 'O'), ('1º', 'O'), ('o', 'O'), ('art', 'B-FUNDAMENTO'), ('.', 'I-FUNDAMENTO'), ('15', 'I-FUNDAMENTO'), ('da', 'I-FUNDAMENTO'), ('lei', 'I-FUNDAMENTO'), ('nº', 'I-FUNDAMENTO'), ('12.783', 'I-FUNDAMENTO'), (',', 'I-FUNDAMENTO'), ('11', 'I-FUNDAMENTO'), ('de', 'I-FUNDAMENTO'), ('janeiro', 'I-FUNDAMENTO'), ('de', 'I-FUNDAMENTO'), ('2013', 'I-FUNDAMENTO'), (',', 'O'), ('passa', 'O'), ('a', 'O'), ('vigorar', 'O'), ('acrescido', 'O'), ('do', 'O'), ('seguinte', 'O'), ('§', 'O'), ('3º-a', 'O'), (':', 'O'), ('“', 'O'), ('art', 'O'), ('.', 'O'), ('15', 'O')]",
                  "67"
                ],
                [
                  "46",
                  "p l n .4 7 2 2 / 2 0 1 9 a p re s e n ta ç ã o : 2 7 / 0 8 / 2 0 1 9 1 8 : 5 2 justificação o alto consumo de agrotóxicos é um problema continuamente enfrentado ao redor do mundo dadas as poucas garantias de não serem , de fato , danosos ao organismo humano .",
                  "['p', 'l', 'n', '.4', '7', '2', '2', '/', '2', '0', '1', '9', 'a', 'p', 're', 's', 'e', 'n', 'ta', 'ç', 'ã', 'o', ':', '2', '7', '/', '0', '8', '/', '2', '0', '1', '9', '1', '8', ':', '5', '2', 'justificação', 'o', 'alto', 'consumo', 'de', 'agrotóxicos', 'é', 'um', 'problema', 'continuamente', 'enfrentado', 'ao', 'redor', 'do', 'mundo', 'dadas', 'as', 'poucas', 'garantias', 'de', 'não', 'serem', ',', 'de', 'fato', ',', 'danosos', 'ao', 'organismo', 'humano', '.']",
                  "['O', 'O', 'O', 'O', 'O', 'O', 'O', 'O', 'O', 'O', 'O', 'O', 'O', 'O', 'O', 'O', 'O', 'O', 'O', 'O', 'O', 'O', 'O', 'O', 'O', 'O', 'O', 'O', 'O', 'O', 'O', 'O', 'O', 'O', 'O', 'O', 'O', 'O', 'O', 'O', 'O', 'O', 'O', 'O', 'O', 'O', 'O', 'O', 'O', 'O', 'O', 'O', 'O', 'O', 'O', 'O', 'O', 'O', 'O', 'O', 'O', 'O', 'O', 'O', 'O', 'O', 'O', 'O', 'O']",
                  "[('p', 'O'), ('l', 'O'), ('n', 'O'), ('.4', 'O'), ('7', 'O'), ('2', 'O'), ('2', 'O'), ('/', 'O'), ('2', 'O'), ('0', 'O'), ('1', 'O'), ('9', 'O'), ('a', 'O'), ('p', 'O'), ('re', 'O'), ('s', 'O'), ('e', 'O'), ('n', 'O'), ('ta', 'O'), ('ç', 'O'), ('ã', 'O'), ('o', 'O'), (':', 'O'), ('2', 'O'), ('7', 'O'), ('/', 'O'), ('0', 'O'), ('8', 'O'), ('/', 'O'), ('2', 'O'), ('0', 'O'), ('1', 'O'), ('9', 'O'), ('1', 'O'), ('8', 'O'), (':', 'O'), ('5', 'O'), ('2', 'O'), ('justificação', 'O'), ('o', 'O'), ('alto', 'O'), ('consumo', 'O'), ('de', 'O'), ('agrotóxicos', 'O'), ('é', 'O'), ('um', 'O'), ('problema', 'O'), ('continuamente', 'O'), ('enfrentado', 'O'), ('ao', 'O'), ('redor', 'O'), ('do', 'O'), ('mundo', 'O'), ('dadas', 'O'), ('as', 'O'), ('poucas', 'O'), ('garantias', 'O'), ('de', 'O'), ('não', 'O'), ('serem', 'O'), (',', 'O'), ('de', 'O'), ('fato', 'O'), (',', 'O'), ('danosos', 'O'), ('ao', 'O'), ('organismo', 'O'), ('humano', 'O'), ('.', 'O')]",
                  "69"
                ],
                [
                  "47",
                  "( nr ) art . 13 - b .",
                  "['(', 'nr', ')', 'art', '.', '13', '-', 'b', '.']",
                  "['O', 'O', 'O', 'O', 'O', 'O', 'O', 'O', 'O']",
                  "[('(', 'O'), ('nr', 'O'), (')', 'O'), ('art', 'O'), ('.', 'O'), ('13', 'O'), ('-', 'O'), ('b', 'O'), ('.', 'O')]",
                  "9"
                ],
                [
                  "48",
                  "na áustria , há vedação ao encaixe de inserções publicitárias em programas infantis nos canais de tv por assinatura , mesmo aquelas não direcionadas para crianças .",
                  "['na', 'áustria', ',', 'há', 'vedação', 'ao', 'encaixe', 'de', 'inserções', 'publicitárias', 'em', 'programas', 'infantis', 'nos', 'canais', 'de', 'tv', 'por', 'assinatura', ',', 'mesmo', 'aquelas', 'não', 'direcionadas', 'para', 'crianças', '.']",
                  "['O', 'B-LOCAL', 'O', 'O', 'O', 'O', 'O', 'O', 'O', 'O', 'O', 'O', 'O', 'O', 'O', 'O', 'O', 'O', 'O', 'O', 'O', 'O', 'O', 'O', 'O', 'O', 'O']",
                  "[('na', 'O'), ('áustria', 'B-LOCAL'), (',', 'O'), ('há', 'O'), ('vedação', 'O'), ('ao', 'O'), ('encaixe', 'O'), ('de', 'O'), ('inserções', 'O'), ('publicitárias', 'O'), ('em', 'O'), ('programas', 'O'), ('infantis', 'O'), ('nos', 'O'), ('canais', 'O'), ('de', 'O'), ('tv', 'O'), ('por', 'O'), ('assinatura', 'O'), (',', 'O'), ('mesmo', 'O'), ('aquelas', 'O'), ('não', 'O'), ('direcionadas', 'O'), ('para', 'O'), ('crianças', 'O'), ('.', 'O')]",
                  "27"
                ],
                [
                  "49",
                  "p l n .4 4 1 5 / 2 0 1 9 a p re s e n ta ç ã o : 1 3 / 0 8 / 2 0 1 9 1 7 : 3 5 câmara dos deputados em vista desses argumentos , contamos com o apoio dos nobres pares , para a aprovação deste projeto de lei .",
                  "['p', 'l', 'n', '.4', '4', '1', '5', '/', '2', '0', '1', '9', 'a', 'p', 're', 's', 'e', 'n', 'ta', 'ç', 'ã', 'o', ':', '1', '3', '/', '0', '8', '/', '2', '0', '1', '9', '1', '7', ':', '3', '5', 'câmara', 'dos', 'deputados', 'em', 'vista', 'desses', 'argumentos', ',', 'contamos', 'com', 'o', 'apoio', 'dos', 'nobres', 'pares', ',', 'para', 'a', 'aprovação', 'deste', 'projeto', 'de', 'lei', '.']",
                  "['O', 'O', 'O', 'O', 'O', 'O', 'O', 'O', 'O', 'O', 'O', 'O', 'O', 'O', 'O', 'O', 'O', 'O', 'O', 'O', 'O', 'O', 'O', 'O', 'O', 'O', 'O', 'O', 'O', 'O', 'O', 'O', 'O', 'O', 'O', 'O', 'O', 'O', 'B-ORGANIZACAO', 'I-ORGANIZACAO', 'I-ORGANIZACAO', 'O', 'O', 'O', 'O', 'O', 'O', 'O', 'O', 'O', 'O', 'O', 'O', 'O', 'O', 'O', 'O', 'O', 'O', 'O', 'O', 'O']",
                  "[('p', 'O'), ('l', 'O'), ('n', 'O'), ('.4', 'O'), ('4', 'O'), ('1', 'O'), ('5', 'O'), ('/', 'O'), ('2', 'O'), ('0', 'O'), ('1', 'O'), ('9', 'O'), ('a', 'O'), ('p', 'O'), ('re', 'O'), ('s', 'O'), ('e', 'O'), ('n', 'O'), ('ta', 'O'), ('ç', 'O'), ('ã', 'O'), ('o', 'O'), (':', 'O'), ('1', 'O'), ('3', 'O'), ('/', 'O'), ('0', 'O'), ('8', 'O'), ('/', 'O'), ('2', 'O'), ('0', 'O'), ('1', 'O'), ('9', 'O'), ('1', 'O'), ('7', 'O'), (':', 'O'), ('3', 'O'), ('5', 'O'), ('câmara', 'B-ORGANIZACAO'), ('dos', 'I-ORGANIZACAO'), ('deputados', 'I-ORGANIZACAO'), ('em', 'O'), ('vista', 'O'), ('desses', 'O'), ('argumentos', 'O'), (',', 'O'), ('contamos', 'O'), ('com', 'O'), ('o', 'O'), ('apoio', 'O'), ('dos', 'O'), ('nobres', 'O'), ('pares', 'O'), (',', 'O'), ('para', 'O'), ('a', 'O'), ('aprovação', 'O'), ('deste', 'O'), ('projeto', 'O'), ('de', 'O'), ('lei', 'O'), ('.', 'O')]",
                  "62"
                ]
              ],
              "shape": {
                "columns": 5,
                "rows": 1760
              }
            },
            "text/html": [
              "<div>\n",
              "<style scoped>\n",
              "    .dataframe tbody tr th:only-of-type {\n",
              "        vertical-align: middle;\n",
              "    }\n",
              "\n",
              "    .dataframe tbody tr th {\n",
              "        vertical-align: top;\n",
              "    }\n",
              "\n",
              "    .dataframe thead th {\n",
              "        text-align: right;\n",
              "    }\n",
              "</style>\n",
              "<table border=\"1\" class=\"dataframe\">\n",
              "  <thead>\n",
              "    <tr style=\"text-align: right;\">\n",
              "      <th></th>\n",
              "      <th>sentences</th>\n",
              "      <th>tokens</th>\n",
              "      <th>ner_tokens</th>\n",
              "      <th>label_iob</th>\n",
              "      <th>num_tokens</th>\n",
              "    </tr>\n",
              "  </thead>\n",
              "  <tbody>\n",
              "    <tr>\n",
              "      <th>0</th>\n",
              "      <td>sala das sessões , em de de 2019 .</td>\n",
              "      <td>[sala, das, sessões, ,, em, de, de, 2019, .]</td>\n",
              "      <td>[O, O, O, O, O, O, O, B-DATA, O]</td>\n",
              "      <td>[(sala, O), (das, O), (sessões, O), (,, O), (e...</td>\n",
              "      <td>9</td>\n",
              "    </tr>\n",
              "    <tr>\n",
              "      <th>1</th>\n",
              "      <td>da decisão de que trata o § 12 deste artigo ca...</td>\n",
              "      <td>[da, decisão, de, que, trata, o, §, 12, deste,...</td>\n",
              "      <td>[O, O, O, O, O, O, O, O, O, O, O, O, O, O, O, ...</td>\n",
              "      <td>[(da, O), (decisão, O), (de, O), (que, O), (tr...</td>\n",
              "      <td>17</td>\n",
              "    </tr>\n",
              "    <tr>\n",
              "      <th>2</th>\n",
              "      <td>projeto de lei n.º , de 2017 ( do sr .</td>\n",
              "      <td>[projeto, de, lei, n.º, ,, de, 2017, (, do, sr...</td>\n",
              "      <td>[O, O, O, O, O, O, B-DATA, O, O, O, O]</td>\n",
              "      <td>[(projeto, O), (de, O), (lei, O), (n.º, O), (,...</td>\n",
              "      <td>11</td>\n",
              "    </tr>\n",
              "    <tr>\n",
              "      <th>3</th>\n",
              "      <td>deputado maurício dziedricki p l n .4 6 1 5 / ...</td>\n",
              "      <td>[deputado, maurício, dziedricki, p, l, n, .4, ...</td>\n",
              "      <td>[B-PESSOA, B-PESSOA, I-PESSOA, O, O, O, O, O, ...</td>\n",
              "      <td>[(deputado, B-PESSOA), (maurício, B-PESSOA), (...</td>\n",
              "      <td>41</td>\n",
              "    </tr>\n",
              "    <tr>\n",
              "      <th>4</th>\n",
              "      <td>art . 4º esta lei entra em vigor na data de su...</td>\n",
              "      <td>[art, ., 4º, esta, lei, entra, em, vigor, na, ...</td>\n",
              "      <td>[O, O, O, O, O, O, O, O, O, O, O, O, O, O]</td>\n",
              "      <td>[(art, O), (., O), (4º, O), (esta, O), (lei, O...</td>\n",
              "      <td>14</td>\n",
              "    </tr>\n",
              "    <tr>\n",
              "      <th>...</th>\n",
              "      <td>...</td>\n",
              "      <td>...</td>\n",
              "      <td>...</td>\n",
              "      <td>...</td>\n",
              "      <td>...</td>\n",
              "    </tr>\n",
              "    <tr>\n",
              "      <th>1755</th>\n",
              "      <td>trata-se de um projeto de grande utilidade , p...</td>\n",
              "      <td>[trata-se, de, um, projeto, de, grande, utilid...</td>\n",
              "      <td>[O, O, O, O, O, O, O, O, O, O, O, O, O, O, O, ...</td>\n",
              "      <td>[(trata-se, O), (de, O), (um, O), (projeto, O)...</td>\n",
              "      <td>29</td>\n",
              "    </tr>\n",
              "    <tr>\n",
              "      <th>1756</th>\n",
              "      <td>paulo wagner ) dispõe sobre o programa escola ...</td>\n",
              "      <td>[paulo, wagner, ), dispõe, sobre, o, programa,...</td>\n",
              "      <td>[B-PESSOA, I-PESSOA, O, O, O, O, B-PRODUTODELE...</td>\n",
              "      <td>[(paulo, B-PESSOA), (wagner, I-PESSOA), (), O)...</td>\n",
              "      <td>17</td>\n",
              "    </tr>\n",
              "    <tr>\n",
              "      <th>1757</th>\n",
              "      <td>iracema portella ) dispõe sobre abertura de li...</td>\n",
              "      <td>[iracema, portella, ), dispõe, sobre, abertura...</td>\n",
              "      <td>[B-PESSOA, I-PESSOA, O, O, O, O, O, O, O, O, O...</td>\n",
              "      <td>[(iracema, B-PESSOA), (portella, I-PESSOA), ()...</td>\n",
              "      <td>22</td>\n",
              "    </tr>\n",
              "    <tr>\n",
              "      <th>1758</th>\n",
              "      <td>arnaldo faria de sá deputado federal – são pau...</td>\n",
              "      <td>[arnaldo, faria, de, sá, deputado, federal, –,...</td>\n",
              "      <td>[B-PESSOA, I-PESSOA, I-PESSOA, I-PESSOA, B-PES...</td>\n",
              "      <td>[(arnaldo, B-PESSOA), (faria, I-PESSOA), (de, ...</td>\n",
              "      <td>37</td>\n",
              "    </tr>\n",
              "    <tr>\n",
              "      <th>1759</th>\n",
              "      <td>não obstante as ambiciosas metas constantes do...</td>\n",
              "      <td>[não, obstante, as, ambiciosas, metas, constan...</td>\n",
              "      <td>[O, O, O, O, O, O, O, B-PRODUTODELEI, I-PRODUT...</td>\n",
              "      <td>[(não, O), (obstante, O), (as, O), (ambiciosas...</td>\n",
              "      <td>26</td>\n",
              "    </tr>\n",
              "  </tbody>\n",
              "</table>\n",
              "<p>1760 rows × 5 columns</p>\n",
              "</div>"
            ],
            "text/plain": [
              "                                              sentences  \\\n",
              "0                    sala das sessões , em de de 2019 .   \n",
              "1     da decisão de que trata o § 12 deste artigo ca...   \n",
              "2                projeto de lei n.º , de 2017 ( do sr .   \n",
              "3     deputado maurício dziedricki p l n .4 6 1 5 / ...   \n",
              "4     art . 4º esta lei entra em vigor na data de su...   \n",
              "...                                                 ...   \n",
              "1755  trata-se de um projeto de grande utilidade , p...   \n",
              "1756  paulo wagner ) dispõe sobre o programa escola ...   \n",
              "1757  iracema portella ) dispõe sobre abertura de li...   \n",
              "1758  arnaldo faria de sá deputado federal – são pau...   \n",
              "1759  não obstante as ambiciosas metas constantes do...   \n",
              "\n",
              "                                                 tokens  \\\n",
              "0          [sala, das, sessões, ,, em, de, de, 2019, .]   \n",
              "1     [da, decisão, de, que, trata, o, §, 12, deste,...   \n",
              "2     [projeto, de, lei, n.º, ,, de, 2017, (, do, sr...   \n",
              "3     [deputado, maurício, dziedricki, p, l, n, .4, ...   \n",
              "4     [art, ., 4º, esta, lei, entra, em, vigor, na, ...   \n",
              "...                                                 ...   \n",
              "1755  [trata-se, de, um, projeto, de, grande, utilid...   \n",
              "1756  [paulo, wagner, ), dispõe, sobre, o, programa,...   \n",
              "1757  [iracema, portella, ), dispõe, sobre, abertura...   \n",
              "1758  [arnaldo, faria, de, sá, deputado, federal, –,...   \n",
              "1759  [não, obstante, as, ambiciosas, metas, constan...   \n",
              "\n",
              "                                             ner_tokens  \\\n",
              "0                      [O, O, O, O, O, O, O, B-DATA, O]   \n",
              "1     [O, O, O, O, O, O, O, O, O, O, O, O, O, O, O, ...   \n",
              "2                [O, O, O, O, O, O, B-DATA, O, O, O, O]   \n",
              "3     [B-PESSOA, B-PESSOA, I-PESSOA, O, O, O, O, O, ...   \n",
              "4            [O, O, O, O, O, O, O, O, O, O, O, O, O, O]   \n",
              "...                                                 ...   \n",
              "1755  [O, O, O, O, O, O, O, O, O, O, O, O, O, O, O, ...   \n",
              "1756  [B-PESSOA, I-PESSOA, O, O, O, O, B-PRODUTODELE...   \n",
              "1757  [B-PESSOA, I-PESSOA, O, O, O, O, O, O, O, O, O...   \n",
              "1758  [B-PESSOA, I-PESSOA, I-PESSOA, I-PESSOA, B-PES...   \n",
              "1759  [O, O, O, O, O, O, O, B-PRODUTODELEI, I-PRODUT...   \n",
              "\n",
              "                                              label_iob  num_tokens  \n",
              "0     [(sala, O), (das, O), (sessões, O), (,, O), (e...           9  \n",
              "1     [(da, O), (decisão, O), (de, O), (que, O), (tr...          17  \n",
              "2     [(projeto, O), (de, O), (lei, O), (n.º, O), (,...          11  \n",
              "3     [(deputado, B-PESSOA), (maurício, B-PESSOA), (...          41  \n",
              "4     [(art, O), (., O), (4º, O), (esta, O), (lei, O...          14  \n",
              "...                                                 ...         ...  \n",
              "1755  [(trata-se, O), (de, O), (um, O), (projeto, O)...          29  \n",
              "1756  [(paulo, B-PESSOA), (wagner, I-PESSOA), (), O)...          17  \n",
              "1757  [(iracema, B-PESSOA), (portella, I-PESSOA), ()...          22  \n",
              "1758  [(arnaldo, B-PESSOA), (faria, I-PESSOA), (de, ...          37  \n",
              "1759  [(não, O), (obstante, O), (as, O), (ambiciosas...          26  \n",
              "\n",
              "[1760 rows x 5 columns]"
            ]
          },
          "execution_count": 11,
          "metadata": {},
          "output_type": "execute_result"
        }
      ],
      "source": [
        "df_train"
      ]
    },
    {
      "cell_type": "markdown",
      "metadata": {
        "id": "RdzS39-IIUQZ"
      },
      "source": [
        "The ORGANIZATION class has been removed so that we can work with it in recognizing named entities."
      ]
    },
    {
      "cell_type": "code",
      "execution_count": 130,
      "metadata": {
        "colab": {
          "base_uri": "https://localhost:8080/",
          "height": 362
        },
        "id": "4abc3bc0",
        "outputId": "87e0581d-75d3-4d87-bf33-de960df1d488"
      },
      "outputs": [
        {
          "name": "stdout",
          "output_type": "stream",
          "text": [
            "Número de sentenças no df_train original: 1760\n",
            "Número de sentenças no df_train_filtered (sem 'ORGANIZACAO'): 1478\n",
            "\n",
            "Primeiras linhas do df_train_filtered:\n"
          ]
        },
        {
          "data": {
            "application/vnd.microsoft.datawrangler.viewer.v0+json": {
              "columns": [
                {
                  "name": "index",
                  "rawType": "int64",
                  "type": "integer"
                },
                {
                  "name": "sentences",
                  "rawType": "object",
                  "type": "string"
                },
                {
                  "name": "tokens",
                  "rawType": "object",
                  "type": "unknown"
                },
                {
                  "name": "ner_tokens",
                  "rawType": "object",
                  "type": "unknown"
                },
                {
                  "name": "label_iob",
                  "rawType": "object",
                  "type": "unknown"
                },
                {
                  "name": "num_tokens",
                  "rawType": "int64",
                  "type": "integer"
                }
              ],
              "ref": "1478a69c-449c-4a19-8d3c-7ed3346dda1c",
              "rows": [
                [
                  "0",
                  "sala das sessões , em de de 2019 .",
                  "['sala', 'das', 'sessões', ',', 'em', 'de', 'de', '2019', '.']",
                  "['O', 'O', 'O', 'O', 'O', 'O', 'O', 'B-DATA', 'O']",
                  "[('sala', 'O'), ('das', 'O'), ('sessões', 'O'), (',', 'O'), ('em', 'O'), ('de', 'O'), ('de', 'O'), ('2019', 'B-DATA'), ('.', 'O')]",
                  "9"
                ],
                [
                  "1",
                  "da decisão de que trata o § 12 deste artigo caberá recurso administrativo com efeito suspensivo .",
                  "['da', 'decisão', 'de', 'que', 'trata', 'o', '§', '12', 'deste', 'artigo', 'caberá', 'recurso', 'administrativo', 'com', 'efeito', 'suspensivo', '.']",
                  "['O', 'O', 'O', 'O', 'O', 'O', 'O', 'O', 'O', 'O', 'O', 'O', 'O', 'O', 'O', 'O', 'O']",
                  "[('da', 'O'), ('decisão', 'O'), ('de', 'O'), ('que', 'O'), ('trata', 'O'), ('o', 'O'), ('§', 'O'), ('12', 'O'), ('deste', 'O'), ('artigo', 'O'), ('caberá', 'O'), ('recurso', 'O'), ('administrativo', 'O'), ('com', 'O'), ('efeito', 'O'), ('suspensivo', 'O'), ('.', 'O')]",
                  "17"
                ],
                [
                  "2",
                  "projeto de lei n.º , de 2017 ( do sr .",
                  "['projeto', 'de', 'lei', 'n.º', ',', 'de', '2017', '(', 'do', 'sr', '.']",
                  "['O', 'O', 'O', 'O', 'O', 'O', 'B-DATA', 'O', 'O', 'O', 'O']",
                  "[('projeto', 'O'), ('de', 'O'), ('lei', 'O'), ('n.º', 'O'), (',', 'O'), ('de', 'O'), ('2017', 'B-DATA'), ('(', 'O'), ('do', 'O'), ('sr', 'O'), ('.', 'O')]",
                  "11"
                ],
                [
                  "3",
                  "deputado maurício dziedricki p l n .4 6 1 5 / 2 0 1 9 a p re s e n ta ç ã o : 2 1 / 0 8 / 2 0 1 9 1 4 : 1 6",
                  "['deputado', 'maurício', 'dziedricki', 'p', 'l', 'n', '.4', '6', '1', '5', '/', '2', '0', '1', '9', 'a', 'p', 're', 's', 'e', 'n', 'ta', 'ç', 'ã', 'o', ':', '2', '1', '/', '0', '8', '/', '2', '0', '1', '9', '1', '4', ':', '1', '6']",
                  "['B-PESSOA', 'B-PESSOA', 'I-PESSOA', 'O', 'O', 'O', 'O', 'O', 'O', 'O', 'O', 'O', 'O', 'O', 'O', 'O', 'O', 'O', 'O', 'O', 'O', 'O', 'O', 'O', 'O', 'O', 'O', 'O', 'O', 'O', 'O', 'O', 'O', 'O', 'O', 'O', 'O', 'O', 'O', 'O', 'O']",
                  "[('deputado', 'B-PESSOA'), ('maurício', 'B-PESSOA'), ('dziedricki', 'I-PESSOA'), ('p', 'O'), ('l', 'O'), ('n', 'O'), ('.4', 'O'), ('6', 'O'), ('1', 'O'), ('5', 'O'), ('/', 'O'), ('2', 'O'), ('0', 'O'), ('1', 'O'), ('9', 'O'), ('a', 'O'), ('p', 'O'), ('re', 'O'), ('s', 'O'), ('e', 'O'), ('n', 'O'), ('ta', 'O'), ('ç', 'O'), ('ã', 'O'), ('o', 'O'), (':', 'O'), ('2', 'O'), ('1', 'O'), ('/', 'O'), ('0', 'O'), ('8', 'O'), ('/', 'O'), ('2', 'O'), ('0', 'O'), ('1', 'O'), ('9', 'O'), ('1', 'O'), ('4', 'O'), (':', 'O'), ('1', 'O'), ('6', 'O')]",
                  "41"
                ],
                [
                  "4",
                  "art . 4º esta lei entra em vigor na data de sua publicação .",
                  "['art', '.', '4º', 'esta', 'lei', 'entra', 'em', 'vigor', 'na', 'data', 'de', 'sua', 'publicação', '.']",
                  "['O', 'O', 'O', 'O', 'O', 'O', 'O', 'O', 'O', 'O', 'O', 'O', 'O', 'O']",
                  "[('art', 'O'), ('.', 'O'), ('4º', 'O'), ('esta', 'O'), ('lei', 'O'), ('entra', 'O'), ('em', 'O'), ('vigor', 'O'), ('na', 'O'), ('data', 'O'), ('de', 'O'), ('sua', 'O'), ('publicação', 'O'), ('.', 'O')]",
                  "14"
                ]
              ],
              "shape": {
                "columns": 5,
                "rows": 5
              }
            },
            "text/html": [
              "<div>\n",
              "<style scoped>\n",
              "    .dataframe tbody tr th:only-of-type {\n",
              "        vertical-align: middle;\n",
              "    }\n",
              "\n",
              "    .dataframe tbody tr th {\n",
              "        vertical-align: top;\n",
              "    }\n",
              "\n",
              "    .dataframe thead th {\n",
              "        text-align: right;\n",
              "    }\n",
              "</style>\n",
              "<table border=\"1\" class=\"dataframe\">\n",
              "  <thead>\n",
              "    <tr style=\"text-align: right;\">\n",
              "      <th></th>\n",
              "      <th>sentences</th>\n",
              "      <th>tokens</th>\n",
              "      <th>ner_tokens</th>\n",
              "      <th>label_iob</th>\n",
              "      <th>num_tokens</th>\n",
              "    </tr>\n",
              "  </thead>\n",
              "  <tbody>\n",
              "    <tr>\n",
              "      <th>0</th>\n",
              "      <td>sala das sessões , em de de 2019 .</td>\n",
              "      <td>[sala, das, sessões, ,, em, de, de, 2019, .]</td>\n",
              "      <td>[O, O, O, O, O, O, O, B-DATA, O]</td>\n",
              "      <td>[(sala, O), (das, O), (sessões, O), (,, O), (e...</td>\n",
              "      <td>9</td>\n",
              "    </tr>\n",
              "    <tr>\n",
              "      <th>1</th>\n",
              "      <td>da decisão de que trata o § 12 deste artigo ca...</td>\n",
              "      <td>[da, decisão, de, que, trata, o, §, 12, deste,...</td>\n",
              "      <td>[O, O, O, O, O, O, O, O, O, O, O, O, O, O, O, ...</td>\n",
              "      <td>[(da, O), (decisão, O), (de, O), (que, O), (tr...</td>\n",
              "      <td>17</td>\n",
              "    </tr>\n",
              "    <tr>\n",
              "      <th>2</th>\n",
              "      <td>projeto de lei n.º , de 2017 ( do sr .</td>\n",
              "      <td>[projeto, de, lei, n.º, ,, de, 2017, (, do, sr...</td>\n",
              "      <td>[O, O, O, O, O, O, B-DATA, O, O, O, O]</td>\n",
              "      <td>[(projeto, O), (de, O), (lei, O), (n.º, O), (,...</td>\n",
              "      <td>11</td>\n",
              "    </tr>\n",
              "    <tr>\n",
              "      <th>3</th>\n",
              "      <td>deputado maurício dziedricki p l n .4 6 1 5 / ...</td>\n",
              "      <td>[deputado, maurício, dziedricki, p, l, n, .4, ...</td>\n",
              "      <td>[B-PESSOA, B-PESSOA, I-PESSOA, O, O, O, O, O, ...</td>\n",
              "      <td>[(deputado, B-PESSOA), (maurício, B-PESSOA), (...</td>\n",
              "      <td>41</td>\n",
              "    </tr>\n",
              "    <tr>\n",
              "      <th>4</th>\n",
              "      <td>art . 4º esta lei entra em vigor na data de su...</td>\n",
              "      <td>[art, ., 4º, esta, lei, entra, em, vigor, na, ...</td>\n",
              "      <td>[O, O, O, O, O, O, O, O, O, O, O, O, O, O]</td>\n",
              "      <td>[(art, O), (., O), (4º, O), (esta, O), (lei, O...</td>\n",
              "      <td>14</td>\n",
              "    </tr>\n",
              "  </tbody>\n",
              "</table>\n",
              "</div>"
            ],
            "text/plain": [
              "                                           sentences                                             tokens                                         ner_tokens                                          label_iob  num_tokens\n",
              "0                 sala das sessões , em de de 2019 .       [sala, das, sessões, ,, em, de, de, 2019, .]                   [O, O, O, O, O, O, O, B-DATA, O]  [(sala, O), (das, O), (sessões, O), (,, O), (e...           9\n",
              "1  da decisão de que trata o § 12 deste artigo ca...  [da, decisão, de, que, trata, o, §, 12, deste,...  [O, O, O, O, O, O, O, O, O, O, O, O, O, O, O, ...  [(da, O), (decisão, O), (de, O), (que, O), (tr...          17\n",
              "2             projeto de lei n.º , de 2017 ( do sr .  [projeto, de, lei, n.º, ,, de, 2017, (, do, sr...             [O, O, O, O, O, O, B-DATA, O, O, O, O]  [(projeto, O), (de, O), (lei, O), (n.º, O), (,...          11\n",
              "3  deputado maurício dziedricki p l n .4 6 1 5 / ...  [deputado, maurício, dziedricki, p, l, n, .4, ...  [B-PESSOA, B-PESSOA, I-PESSOA, O, O, O, O, O, ...  [(deputado, B-PESSOA), (maurício, B-PESSOA), (...          41\n",
              "4  art . 4º esta lei entra em vigor na data de su...  [art, ., 4º, esta, lei, entra, em, vigor, na, ...         [O, O, O, O, O, O, O, O, O, O, O, O, O, O]  [(art, O), (., O), (4º, O), (esta, O), (lei, O...          14"
            ]
          },
          "metadata": {},
          "output_type": "display_data"
        }
      ],
      "source": [
        "# Filter out rows where 'ner_tokens' contains any 'B-ORGANIZACAO' or 'I-ORGANIZACAO' labels\n",
        "df_train_filtered = df_train[~df_train['ner_tokens'].apply(lambda tokens: any('ORGANIZACAO' in label for label in tokens))].copy().reset_index(drop=True)\n",
        "\n",
        "print(\"Número de sentenças no df_train original:\", len(df_train))\n",
        "print(\"Número de sentenças no df_train_filtered (sem 'ORGANIZACAO'):\", len(df_train_filtered))\n",
        "\n",
        "# Display the first few rows of the filtered DataFrame to confirm\n",
        "print(\"\\nPrimeiras linhas do df_train_filtered:\")\n",
        "display(df_train_filtered.head())"
      ]
    },
    {
      "cell_type": "markdown",
      "metadata": {
        "id": "OaqiEBb-SXzl"
      },
      "source": [
        "Apparently, the texts are all lowercase, but to be sure, let's apply `.lower()`."
      ]
    },
    {
      "cell_type": "code",
      "execution_count": 13,
      "metadata": {
        "id": "I18puT_DSWVr"
      },
      "outputs": [],
      "source": [
        "df_train_filtered[\"sentences\"] = df_train_filtered[\"sentences\"].str.lower()"
      ]
    },
    {
      "cell_type": "markdown",
      "metadata": {
        "id": "4UayBPq2LD6J"
      },
      "source": [
        "## Step 1 - Convert Text Data to Spacy Doc Objects\n",
        "\n",
        "To start the skweak workflow, I converted the raw text data into spaCy Doc objects. This is necessary because skweak operates on spaCy’s format, which includes efficient tokenization and linguistic annotations used in the labeling process."
      ]
    },
    {
      "cell_type": "code",
      "execution_count": null,
      "metadata": {
        "id": "OMd5-ueLIaaO"
      },
      "outputs": [],
      "source": [
        "# Import the spaCy library for natural language processing\n",
        "# spaCy provides tools for tokenization, part-of-speech tagging, named entity recognition, and more\n",
        "import spacy\n",
        "\n",
        "# Import the skweak library for weak supervision\n",
        "# skweak allows us to combine multiple weak supervision sources to create high-quality training data\n",
        "import skweak\n",
        "\n",
        "# Load the spaCy model for Portuguese\n",
        "# 'pt_core_news_lg' is a large model with more accuracy and features\n",
        "# You can also use 'pt_core_news_sm' for a smaller, faster model with fewer features\n",
        "nlp = spacy.load(\"pt_core_news_lg\")"
      ]
    },
    {
      "cell_type": "code",
      "execution_count": 15,
      "metadata": {
        "colab": {
          "base_uri": "https://localhost:8080/"
        },
        "id": "6Cxdr1lRJ9Uk",
        "outputId": "2f7f6c6b-3918-4935-975a-9411a860b3e1"
      },
      "outputs": [
        {
          "name": "stdout",
          "output_type": "stream",
          "text": [
            "Write to data/bin/ner/spacy_docs_train.bin...done\n",
            "Write to data/bin/ner/spacy_docs_dev.bin...done\n",
            "Write to data/bin/ner/spacy_docs_test.bin...done\n"
          ]
        }
      ],
      "source": [
        "# Process the training dataset using the spaCy pipeline\n",
        "# The nlp.pipe method processes the text in batches, which is more efficient than processing each text individually\n",
        "# df_train['text'].values contains the text data from the training dataset\n",
        "spacy_docs_train = list(nlp.pipe(df_train_filtered[\"sentences\"].values))\n",
        "\n",
        "# # Process the validation dataset using the spaCy pipeline\n",
        "# # df_dev['text'].values contains the text data from the validation dataset\n",
        "spacy_docs_dev = list(nlp.pipe(df_dev[\"sentences\"].values))\n",
        "\n",
        "# # Process the test dataset using the spaCy pipeline\n",
        "# # df_test['text'].values contains the text data from the test dataset\n",
        "spacy_docs_test = list(nlp.pipe(df_test[\"sentences\"].values))\n",
        "\n",
        "# Save the processed spaCy documents to disk\n",
        "# This avoids the need to run the spaCy pipeline again, saving time in future runs\n",
        "# skweak.utils.docbin_writer writes the spaCy documents to a binary file\n",
        "# The first argument is the list of spaCy documents, and the second argument is the file path\n",
        "skweak.utils.docbin_writer(spacy_docs_train, \"data/bin/ner/spacy_docs_train.bin\")\n",
        "skweak.utils.docbin_writer(spacy_docs_dev, \"data/bin/ner/spacy_docs_dev.bin\")\n",
        "skweak.utils.docbin_writer(spacy_docs_test, \"data/bin/ner/spacy_docs_test.bin\")"
      ]
    },
    {
      "cell_type": "code",
      "execution_count": 16,
      "metadata": {
        "id": "d4BzDdkQKcPO"
      },
      "outputs": [],
      "source": [
        "# Load the processed spaCy documents from disk\n",
        "# This avoids the need to run the spaCy pipeline again, saving time in future runs\n",
        "# skweak.utils.docbin_reader reads the spaCy documents from a binary file\n",
        "# The first argument is the file path, and the second argument is the name of the spaCy model used for processing\n",
        "\n",
        "# Load the training documents\n",
        "spacy_docs_train = skweak.utils.docbin_reader(\"data/bin/ner/spacy_docs_train.bin\", spacy_model_name=\"pt_core_news_lg\")\n",
        "\n",
        "# Load the validation documents\n",
        "spacy_docs_dev = skweak.utils.docbin_reader(\"data/bin/ner/spacy_docs_dev.bin\", spacy_model_name=\"pt_core_news_lg\")\n",
        "\n",
        "# Load the test documents\n",
        "spacy_docs_test = skweak.utils.docbin_reader(\"data/bin/ner/spacy_docs_test.bin\", spacy_model_name=\"pt_core_news_lg\")\n",
        "\n",
        "# Convert the loaded documents to lists\n",
        "# This step ensures that the documents are in a list format, which is easier to work with in subsequent steps\n",
        "spacy_docs_train = list(spacy_docs_train)\n",
        "spacy_docs_dev = list(spacy_docs_dev)\n",
        "spacy_docs_test = list(spacy_docs_test)"
      ]
    },
    {
      "cell_type": "code",
      "execution_count": 17,
      "metadata": {
        "colab": {
          "base_uri": "https://localhost:8080/"
        },
        "id": "7YLpzk0jK2ks",
        "outputId": "b812db86-8035-41af-d6b9-a36480a1af39"
      },
      "outputs": [
        {
          "data": {
            "text/plain": [
              "[sala das sessões , em de de 2019 .,\n",
              " da decisão de que trata o § 12 deste artigo caberá recurso administrativo com efeito suspensivo .,\n",
              " projeto de lei n.º , de 2017 ( do sr .,\n",
              " deputado maurício dziedricki p l n .4 6 1 5 / 2 0 1 9 a p re s e n ta ç ã o : 2 1 / 0 8 / 2 0 1 9 1 4 : 1 6,\n",
              " art . 4º esta lei entra em vigor na data de sua publicação .,\n",
              " com o forte crescimento da população idosa masculina no país , a perspectiva é a de crescimento vertiginoso dos casos de câncer de próstata , conforme já constatado pelas estatísticas disponíveis .,\n",
              " a câmara dos deputados resolve : art . 1º esta resolução dá denominação ao plenário 2 , do anexo ii , da câmara dos deputados .,\n",
              " art . 2º as normas regulamentadoras definirão as estratégias para o cumprimento desta determinação , disciplinando sobre os participantes , pessoas físicas ou jurídicas , priorizando para temas voltados para a prevenção de acidentes de trânsito , levando em consideração os aspectos humanos e comportamentais .,\n",
              " os portadores de formas crônicas de hepatite demandam atenção médica especializada constante para que seu quadro não evolua .,\n",
              " outra face deste processo foi a disseminação dos atendimentos automatizados que , além do custo da tarifa , impõem grande perda de tempo e constrangimento aos usuários .,\n",
              " assim , considerando que esses recursos surgiriam apenas para o esporte , a alteração feita no texto da lei nº 11.438 / 2006 foi extremamente prejudicial para o desporto e paradesporto brasileiro .,\n",
              " sala das sessões , em 16 de março de 2011 .,\n",
              " o crime já está tipificado no código brasileiro de trânsito , entretanto sua divulgação não consta da lei nº 9.294 / 96 .,\n",
              " projeto de lei nº , de 2011 ( do sr .,\n",
              " apesar das dificuldades apontadas , conto com o discernimento dos nobres pares para , em conjunto , alcançarmos uma solução para essas graves questões .]"
            ]
          },
          "execution_count": 17,
          "metadata": {},
          "output_type": "execute_result"
        }
      ],
      "source": [
        "spacy_docs_train[:15]"
      ]
    },
    {
      "cell_type": "markdown",
      "metadata": {},
      "source": [
        "# Step 2 - Define Labeling Functions\n",
        "\n",
        "In this step, I implemented labeling functions to automatically assign weak labels to entities. Each function receives a spaCy Doc and returns spans with labels, working at the token level. This allows efficient annotation without manual effort and is essential for weak supervision in NER tasks."
      ]
    },
    {
      "cell_type": "markdown",
      "metadata": {
        "id": "Tw1B5G4WMjGd"
      },
      "source": [
        "### 2.1 Using a predefined list of possible organizations (gazetteer)\n",
        "\n",
        "As a first labeling function, I used a predefined list of Brazilian organizations (a gazetteer) to identify known entity names in the text. This is a simple and effective rule-based method for detecting entities like public institutions and political parties."
      ]
    },
    {
      "cell_type": "code",
      "execution_count": 18,
      "metadata": {
        "id": "_8AbSRxDK3SV"
      },
      "outputs": [],
      "source": [
        "organizacoes_gazetteer = [\n",
        "    # Órgãos públicos federais\n",
        "    \"Câmara dos Deputados\",\n",
        "    \"Congresso Nacional\",\n",
        "    \"Senado Federal\",\n",
        "    \"Presidência da República\",\n",
        "    \"Supremo Tribunal Federal\",\n",
        "    \"STF\",\n",
        "    \"Superior Tribunal de Justiça\",\n",
        "    \"STJ\",\n",
        "    \"Tribunal Superior Eleitoral\",\n",
        "    \"TSE\",\n",
        "    \"Tribunal de Contas da União\",\n",
        "    \"TCU\",\n",
        "    \"Ministério Público Federal\",\n",
        "    \"MPF\",\n",
        "    \"Advocacia-Geral da União\",\n",
        "    \"Advocacia Geral da União\",\n",
        "    \"AGU\",\n",
        "    \"Controladoria-Geral da União\",\n",
        "    \"Controladoria Geral da União\",\n",
        "    \"CGU\",\n",
        "    \"Banco Central do Brasil\",\n",
        "    \"Banco Central\",\n",
        "    \"Instituto Brasileiro de Geografia e Estatística\",\n",
        "    \"IBGE\",\n",
        "    \"Anatel\",\n",
        "    \"Agência Nacional de Águas\",\n",
        "    \"ANA\",\n",
        "    \"Agência Nacional de Vigilância Sanitária\",\n",
        "    \"Anvisa\",\n",
        "    \"Agência Nacional de Energia Elétrica\",\n",
        "    \"ANEEL\",\n",
        "    \"Instituto Nacional do Seguro Social\",\n",
        "    \"INSS\",\n",
        "    \"Fundação Oswaldo Cruz\",\n",
        "    \"Fiocruz\",\n",
        "    \"Empresa Brasileira de Pesquisa Agropecuária\",\n",
        "    \"Embrapa\",\n",
        "    \"Fundação Biblioteca Nacional\",\n",
        "    # Ministérios\n",
        "    \"Ministério da Saúde\",\n",
        "    \"Ministério da Educação\",\n",
        "    \"Ministério da Fazenda\",\n",
        "    \"Ministério do Trabalho\",\n",
        "    \"Ministério da Justiça\",\n",
        "    \"Ministério da Cidadania\",\n",
        "    \"Ministério da Agricultura\",\n",
        "    \"Ministério do Meio Ambiente\",\n",
        "    \"Ministério da Infraestrutura\",\n",
        "    \"Ministério da Economia\",\n",
        "    \"Ministério da Defesa\",\n",
        "    \"Ministério das Relações Exteriores\",\n",
        "    # Empresas estatais e autarquias\n",
        "    \"Petrobras\",\n",
        "    \"Caixa Econômica Federal\",\n",
        "    \"Caixa\",\n",
        "    \"Banco do Brasil\",\n",
        "    \"Correios\",\n",
        "    \"Empresa Brasileira de Correios e Telégrafos\",\n",
        "    \"BNDES\",\n",
        "    \"Banco Nacional de Desenvolvimento Econômico e Social\",\n",
        "    \"Eletrobras\",\n",
        "    \"Infraero\",\n",
        "    \"Telebras\",\n",
        "    \"Embraer\",\n",
        "    \"VALE\",\n",
        "    \"Companhia Vale do Rio Doce\",\n",
        "    \"Conab\",\n",
        "    \"Companhia Nacional de Abastecimento\",\n",
        "    \"Ceagesp\",\n",
        "    # Partidos políticos\n",
        "    \"Partido dos Trabalhadores\",\n",
        "    \"PT\",\n",
        "    \"Partido da Social Democracia Brasileira\",\n",
        "    \"PSDB\",\n",
        "    \"Movimento Democrático Brasileiro\",\n",
        "    \"MDB\",\n",
        "    \"Partido Liberal\",\n",
        "    \"PL\",\n",
        "    \"Partido Progressistas\",\n",
        "    \"PP\",\n",
        "    \"União Brasil\",\n",
        "    \"Partido Socialista Brasileiro\",\n",
        "    \"PSB\",\n",
        "    \"Partido Democrático Trabalhista\",\n",
        "    \"PDT\",\n",
        "    \"Republicanos\",\n",
        "    \"Partido Comunista do Brasil\",\n",
        "    \"PCdoB\",\n",
        "    \"Partido Socialista dos Trabalhadores Unificado\",\n",
        "    \"PSTU\",\n",
        "    \"Partido Novo\",\n",
        "    \"Rede Sustentabilidade\",\n",
        "    \"Solidariedade\",\n",
        "    \"Partido Verde\",\n",
        "    \"PV\",\n",
        "    \"Cidadania\",\n",
        "    # Sindicatos, federações e confederações\n",
        "    \"Central Única dos Trabalhadores\",\n",
        "    \"CUT\",\n",
        "    \"Força Sindical\",\n",
        "    \"União Geral dos Trabalhadores\",\n",
        "    \"UGT\",\n",
        "    \"Nova Central Sindical de Trabalhadores\",\n",
        "    \"NCST\",\n",
        "    \"Central dos Sindicatos Brasileiros\",\n",
        "    \"CSB\",\n",
        "    \"Confederação Nacional dos Trabalhadores em Educação\",\n",
        "    \"CNTE\",\n",
        "    \"Confederação Nacional dos Metalúrgicos\",\n",
        "    \"CNM\",\n",
        "    \"Federação Nacional dos Jornalistas\",\n",
        "    \"FENAJ\",\n",
        "    \"Sindicato Nacional dos Auditores Fiscais do Trabalho\",\n",
        "    \"Sinait\",\n",
        "    # Associações profissionais e comerciais\n",
        "    \"Ordem dos Advogados do Brasil\",\n",
        "    \"OAB\",\n",
        "    \"Federação das Indústrias do Estado de São Paulo\",\n",
        "    \"FIESP\",\n",
        "    \"Associação Brasileira de Municípios\",\n",
        "    \"ABM\",\n",
        "    \"Associação Brasileira das Empresas de Tecnologia da Informação e Comunicação\",\n",
        "    \"Brasscom\",\n",
        "    \"Associação Brasileira de Antropologia\",\n",
        "    \"Associação Brasileira de Editores Científicos\",\n",
        "    \"Associação Nacional dos Magistrados da Justiça do Trabalho\",\n",
        "    \"Anamatra\",\n",
        "    \"Associação Brasileira da Indústria de Máquinas e Equipamentos\",\n",
        "    \"Abimaq\",\n",
        "    # Universidades e institutos federais\n",
        "    \"Universidade de São Paulo\",\n",
        "    \"USP\",\n",
        "    \"Universidade Federal do Rio de Janeiro\",\n",
        "    \"UFRJ\",\n",
        "    \"Universidade de Brasília\",\n",
        "    \"UnB\",\n",
        "    # Entidades internacionais\n",
        "    \"Organização das Nações Unidas\",\n",
        "    \"ONU\",\n",
        "    \"Organização Mundial da Saúde\",\n",
        "    \"OMS\",\n",
        "    \"Mercosul\",\n",
        "    \"Organização Internacional do Trabalho\",\n",
        "    \"OIT\",\n",
        "    \"Banco Mundial\",\n",
        "]\n"
      ]
    },
    {
      "cell_type": "code",
      "execution_count": 19,
      "metadata": {
        "colab": {
          "base_uri": "https://localhost:8080/"
        },
        "id": "HZQ0cMlNOKeN",
        "outputId": "0f7243d6-c49e-4333-8441-6e4b7c772075"
      },
      "outputs": [
        {
          "name": "stdout",
          "output_type": "stream",
          "text": [
            "Quantidade de organizações listadas: 190\n",
            "\n"
          ]
        },
        {
          "data": {
            "text/plain": [
              "['CSB',\n",
              " 'Confederacao Nacional dos Metalurgicos',\n",
              " 'CNTE',\n",
              " 'Uniao Brasil',\n",
              " 'Ministerio Publico Federal',\n",
              " 'Ministério da Economia',\n",
              " 'USP',\n",
              " 'Ministério do Meio Ambiente',\n",
              " 'Ordem dos Advogados do Brasil',\n",
              " 'Associacao Nacional dos Magistrados da Justica do Trabalho']"
            ]
          },
          "execution_count": 19,
          "metadata": {},
          "output_type": "execute_result"
        }
      ],
      "source": [
        "from helpers.text import remove_accented_characters\n",
        "\n",
        "# Remove accented characters from each organization name\n",
        "# This is useful for standardizing the organization names for further processing\n",
        "organizacoes_gazetteer.extend([remove_accented_characters(d) for d in organizacoes_gazetteer])\n",
        "\n",
        "# Remove duplicates by converting the list to a set and back to a list\n",
        "# This ensures that each organization name appears only once in the list\n",
        "organizacoes_gazetteer = list(set(organizacoes_gazetteer))\n",
        "\n",
        "print(f\"Quantidade de organizações listadas: {len(organizacoes_gazetteer)}\\n\")\n",
        "\n",
        "# Display the first 10 organization names\n",
        "# This is useful for quickly checking the contents of the list\n",
        "organizacoes_gazetteer[:10]"
      ]
    },
    {
      "cell_type": "code",
      "execution_count": 20,
      "metadata": {
        "colab": {
          "base_uri": "https://localhost:8080/"
        },
        "id": "zw48AxjRPcOB",
        "outputId": "7f9c7cc7-e159-45b3-b501-abb4e098ea3c"
      },
      "outputs": [
        {
          "data": {
            "text/plain": [
              "['fenaj',\n",
              " 'ministerio do trabalho',\n",
              " 'brasscom',\n",
              " 'agencia nacional de vigilancia sanitaria',\n",
              " 'controladoria-geral da união',\n",
              " 'uniao brasil',\n",
              " 'ministerio da educacao',\n",
              " 'presidência da república',\n",
              " 'controladoria-geral da uniao',\n",
              " 'fundação oswaldo cruz']"
            ]
          },
          "execution_count": 20,
          "metadata": {},
          "output_type": "execute_result"
        }
      ],
      "source": [
        "# Convert all organization names to lowercase\n",
        "# This ensures that the comparison of organization names is case-insensitive\n",
        "# The list comprehension iterates over each organization name in the 'organizacoes' list and converts it to lowercase\n",
        "organizacoes_gazetteer = [d.lower() for d in organizacoes_gazetteer]\n",
        "\n",
        "# Remove duplicate organization names\n",
        "# The set() function removes duplicates by converting the list to a set, which only keeps unique elements\n",
        "# The list() function converts the set back to a list\n",
        "organizacoes_gazetteer = list(set(organizacoes_gazetteer))\n",
        "\n",
        "# Display the first 10 organization names\n",
        "# This allows us to inspect a sample of the processed organization names\n",
        "# The slicing operation [:10] retrieves the first 10 elements from the 'organizacoes' list\n",
        "organizacoes_gazetteer[:10]"
      ]
    },
    {
      "cell_type": "code",
      "execution_count": null,
      "metadata": {
        "colab": {
          "base_uri": "https://localhost:8080/"
        },
        "id": "dcqzCLmIPF0T",
        "outputId": "66403685-97aa-4d26-e732-34f1e0072261"
      },
      "outputs": [
        {
          "name": "stdout",
          "output_type": "stream",
          "text": [
            "Extracting data from data/ner/organizations_gazetteer.json\n",
            "Populating trie for class ORGANIZACAO (number: 190)\n"
          ]
        }
      ],
      "source": [
        "# Import the json module to handle JSON data\n",
        "import json\n",
        "\n",
        "# Initialize an empty dictionary to store the organizations names\n",
        "json_organizations = {}\n",
        "\n",
        "# Add the list of organizations names to the dictionary under the key 'ORGANIZACAO'\n",
        "json_organizations[\"ORGANIZACAO\"] = organizacoes_gazetteer\n",
        "\n",
        "# Save the dictionary as a JSON file\n",
        "# The ensure_ascii=False parameter allows for non-ASCII characters to be saved correctly\n",
        "# The indent=4 parameter makes the JSON file more readable by adding indentation\n",
        "with open(\"data/ner/organizations_gazetteer.json\", \"w\") as f:\n",
        "    json.dump(json_organizations, f, ensure_ascii=False, indent=4)\n",
        "\n",
        "# Load the JSON file into a gazetteer for weak supervision\n",
        "# The extract_json_data function reads the JSON file and prepares it for use with skweak\n",
        "tries_organizations = skweak.gazetteers.extract_json_data(\"data/ner/organizations_gazetteer.json\", spacy_model=\"pt_core_news_lg\")\n",
        "\n",
        "# Create a GazetteerAnnotator for labeling the data\n",
        "# The GazetteerAnnotator uses the gazetteer to annotate text with organization names\n",
        "# The case_sensitive=False parameter makes the annotation case-insensitive\n",
        "lf_organizations_gazetteer = skweak.gazetteers.GazetteerAnnotator(\"organizations_gazetteer\", tries_organizations, case_sensitive=False)"
      ]
    },
    {
      "cell_type": "code",
      "execution_count": null,
      "metadata": {},
      "outputs": [],
      "source": [
        "# It is important to document and highlight that the error below occurs due to updates in the latest versions of IPython.\n",
        "# The correction made was as follows:\n",
        "\n",
        "# First import: `from IPython.display import display, HTML`\n",
        "\n",
        "# The change was in skweak.utils.display_entities, last two lines of the function:\n",
        "# ipython_html = HTML(‘<span class=\"tex2jax_ignore\">{}</span>’.format(html))\n",
        "# return display(ipython_html)\n",
        "\n",
        "%load_ext autoreload\n",
        "%autoreload 2"
      ]
    },
    {
      "cell_type": "code",
      "execution_count": 23,
      "metadata": {
        "colab": {
          "base_uri": "https://localhost:8080/",
          "height": 52
        },
        "id": "MKoHnXuwPGGr",
        "outputId": "4437d86b-da9b-44fa-c037-1bf871723ac4"
      },
      "outputs": [
        {
          "data": {
            "text/html": [
              "<span class=\"tex2jax_ignore\"><div class=\"entities\" style=\"line-height: 2.5; direction: ltr\">a \n",
              "<mark class=\"entity\" style=\"background: #ddd; padding: 0.45em 0.6em; margin: 0 0.25em; line-height: 1; border-radius: 0.35em;\">\n",
              "    câmara dos deputados\n",
              "    <span style=\"font-size: 0.8em; font-weight: bold; line-height: 1; border-radius: 0.35em; vertical-align: middle; margin-left: 0.5rem\">ORGANIZACAO</span>\n",
              "</mark>\n",
              " resolve : art . 1º esta resolução dá denominação ao plenário 2 , do anexo ii , da \n",
              "<mark class=\"entity\" style=\"background: #ddd; padding: 0.45em 0.6em; margin: 0 0.25em; line-height: 1; border-radius: 0.35em;\">\n",
              "    câmara dos deputados\n",
              "    <span style=\"font-size: 0.8em; font-weight: bold; line-height: 1; border-radius: 0.35em; vertical-align: middle; margin-left: 0.5rem\">ORGANIZACAO</span>\n",
              "</mark>\n",
              " .</div></span>"
            ],
            "text/plain": [
              "<IPython.core.display.HTML object>"
            ]
          },
          "metadata": {},
          "output_type": "display_data"
        }
      ],
      "source": [
        "# Define a sample text containing organization names for testing the function\n",
        "text = \"a câmara dos deputados resolve : art . 1º esta resolução dá denominação ao plenário 2 , do anexo ii , da câmara dos deputados .\"\n",
        "\n",
        "# Process the text using the spaCy NLP pipeline\n",
        "# This step tokenizes the text and applies linguistic annotations\n",
        "doc = nlp(text)\n",
        "\n",
        "# Apply the GazetteerAnnotator to the processed text\n",
        "# This annotates the text with organization names using the gazetteer\n",
        "lf_organizations_gazetteer(doc)\n",
        "\n",
        "# Display the annotated entities in the text\n",
        "# This function highlights the recognized organization names in the text for visualization\n",
        "skweak.utils.display_entities(doc, \"organizations_gazetteer\")\n",
        "\n",
        "# You may get an error on this cell due to IPython recent changes in the display functionality.  You may need to edit skweak utils to fix it. Check the error message and edit the appropriate file inside your virtual environment"
      ]
    },
    {
      "cell_type": "code",
      "execution_count": null,
      "metadata": {
        "colab": {
          "base_uri": "https://localhost:8080/",
          "height": 1000
        },
        "id": "IQ2osAI7RPmB",
        "outputId": "a873c627-7ef4-4dc8-e191-12e23a2617a3"
      },
      "outputs": [
        {
          "data": {
            "text/html": [
              "<span class=\"tex2jax_ignore\"><div class=\"entities\" style=\"line-height: 2.5; direction: ltr\">art . 2º o § 1º do art . 146 do decreto-lei nº 2.848 , de 7 de dezembro de 1940 – código penal passa a vigorar com a seguinte redação : “ art . 146</div></span>"
            ],
            "text/plain": [
              "<IPython.core.display.HTML object>"
            ]
          },
          "metadata": {},
          "output_type": "display_data"
        },
        {
          "data": {
            "text/html": [
              "<span class=\"tex2jax_ignore\"><div class=\"entities\" style=\"line-height: 2.5; direction: ltr\">projeto de lei nº , de 2019 ( da sra. rejane dias ) institui o dia nacional de prevenção ao suicídio .</div></span>"
            ],
            "text/plain": [
              "<IPython.core.display.HTML object>"
            ]
          },
          "metadata": {},
          "output_type": "display_data"
        },
        {
          "data": {
            "text/html": [
              "<span class=\"tex2jax_ignore\"><div class=\"entities\" style=\"line-height: 2.5; direction: ltr\">projeto de lei nº , de 2011 ( do sr .</div></span>"
            ],
            "text/plain": [
              "<IPython.core.display.HTML object>"
            ]
          },
          "metadata": {},
          "output_type": "display_data"
        },
        {
          "data": {
            "text/html": [
              "<span class=\"tex2jax_ignore\"><div class=\"entities\" style=\"line-height: 2.5; direction: ltr\">o usuário de drogas tem sua vontade viciada .</div></span>"
            ],
            "text/plain": [
              "<IPython.core.display.HTML object>"
            ]
          },
          "metadata": {},
          "output_type": "display_data"
        },
        {
          "data": {
            "text/html": [
              "<span class=\"tex2jax_ignore\"><div class=\"entities\" style=\"line-height: 2.5; direction: ltr\">trata-se de um problema social de enorme alcance , de conhecimento de todos os membros desta casa , todos também usuários contumazes da facilidade propiciada pelo telefone celular , que , de resto , agiliza em muito o exercício do mandato .</div></span>"
            ],
            "text/plain": [
              "<IPython.core.display.HTML object>"
            ]
          },
          "metadata": {},
          "output_type": "display_data"
        },
        {
          "data": {
            "text/html": [
              "<span class=\"tex2jax_ignore\"><div class=\"entities\" style=\"line-height: 2.5; direction: ltr\">mas o caso é diferente em estados menos populosos e no distrito federal .</div></span>"
            ],
            "text/plain": [
              "<IPython.core.display.HTML object>"
            ]
          },
          "metadata": {},
          "output_type": "display_data"
        },
        {
          "data": {
            "text/html": [
              "<span class=\"tex2jax_ignore\"><div class=\"entities\" style=\"line-height: 2.5; direction: ltr\">deputado silas câmara 2019 - 17106 p l n .4 8 0 6 / 2 0 1 9 a p re s e n ta ç ã o : 0 3 / 0 9 / 2 0 1 9 1 4 : 4 6</div></span>"
            ],
            "text/plain": [
              "<IPython.core.display.HTML object>"
            ]
          },
          "metadata": {},
          "output_type": "display_data"
        },
        {
          "data": {
            "text/html": [
              "<span class=\"tex2jax_ignore\"><div class=\"entities\" style=\"line-height: 2.5; direction: ltr\">há que ressaltar que toda a população , direta ou indiretamente , é favorecida pelos incontáveis serviços ambientais decorrentes das app e , portanto , nada mais justo do que destinar recursos financeiros aos proprietários rurais que adotem práticas voltadas à recuperação e manutenção dessas áreas . 3 com esse objetivo , sugerimos incluir novo dispositivo no código florestal , nos termos do art . 1º do projeto de lei em tela .</div></span>"
            ],
            "text/plain": [
              "<IPython.core.display.HTML object>"
            ]
          },
          "metadata": {},
          "output_type": "display_data"
        },
        {
          "data": {
            "text/html": [
              "<span class=\"tex2jax_ignore\"><div class=\"entities\" style=\"line-height: 2.5; direction: ltr\">mas eles existem .</div></span>"
            ],
            "text/plain": [
              "<IPython.core.display.HTML object>"
            ]
          },
          "metadata": {},
          "output_type": "display_data"
        },
        {
          "data": {
            "text/html": [
              "<span class=\"tex2jax_ignore\"><div class=\"entities\" style=\"line-height: 2.5; direction: ltr\">art . 2 ° esta lei complementar entra em vigor após decorridos dois anos de sua publicação .</div></span>"
            ],
            "text/plain": [
              "<IPython.core.display.HTML object>"
            ]
          },
          "metadata": {},
          "output_type": "display_data"
        },
        {
          "data": {
            "text/html": [
              "<span class=\"tex2jax_ignore\"><div class=\"entities\" style=\"line-height: 2.5; direction: ltr\">o rio paraguaçu é o responsável por mais de 80% da água que abastece a capital baiana , proveniente da barragem de pedra do cavalo .</div></span>"
            ],
            "text/plain": [
              "<IPython.core.display.HTML object>"
            ]
          },
          "metadata": {},
          "output_type": "display_data"
        },
        {
          "data": {
            "text/html": [
              "<span class=\"tex2jax_ignore\"><div class=\"entities\" style=\"line-height: 2.5; direction: ltr\">também em relação à difusão da doutrina espírita , a presença , entre nós , do incomparável chico xavier tornou-se fundamental .</div></span>"
            ],
            "text/plain": [
              "<IPython.core.display.HTML object>"
            ]
          },
          "metadata": {},
          "output_type": "display_data"
        },
        {
          "data": {
            "text/html": [
              "<span class=\"tex2jax_ignore\"><div class=\"entities\" style=\"line-height: 2.5; direction: ltr\">desta forma , nossa iniciativa busca coibir a comercialização de sapatos de saltos altos – isto é , aqueles com alturas superiores a 2 cm – nos tamanhos apropriados a crianças .</div></span>"
            ],
            "text/plain": [
              "<IPython.core.display.HTML object>"
            ]
          },
          "metadata": {},
          "output_type": "display_data"
        },
        {
          "data": {
            "text/html": [
              "<span class=\"tex2jax_ignore\"><div class=\"entities\" style=\"line-height: 2.5; direction: ltr\">pelo acima exposto , contamos com apoio dos nobres colegas para a aprovação de nosso projeto de lei .</div></span>"
            ],
            "text/plain": [
              "<IPython.core.display.HTML object>"
            ]
          },
          "metadata": {},
          "output_type": "display_data"
        },
        {
          "data": {
            "text/html": [
              "<span class=\"tex2jax_ignore\"><div class=\"entities\" style=\"line-height: 2.5; direction: ltr\">art . 4º os infratores do disposto na presente lei sujeitam - se às penalidades estabelecidas pelo artigo 56 da lei nº 8.078 , de 11 de setembro de 1990 .</div></span>"
            ],
            "text/plain": [
              "<IPython.core.display.HTML object>"
            ]
          },
          "metadata": {},
          "output_type": "display_data"
        },
        {
          "data": {
            "text/html": [
              "<span class=\"tex2jax_ignore\"><div class=\"entities\" style=\"line-height: 2.5; direction: ltr\">( nr ) art . 3º o art . 146 do decreto-lei nº 2.848 , de 7 de dezembro de 1940 – código penal , passa a vigorar acrescido do seguinte § 4º : “ art . 146</div></span>"
            ],
            "text/plain": [
              "<IPython.core.display.HTML object>"
            ]
          },
          "metadata": {},
          "output_type": "display_data"
        },
        {
          "data": {
            "text/html": [
              "<span class=\"tex2jax_ignore\"><div class=\"entities\" style=\"line-height: 2.5; direction: ltr\">e sempre é bom lembrar que a atividade do tabelião é particular , não afetando o orçamento público .</div></span>"
            ],
            "text/plain": [
              "<IPython.core.display.HTML object>"
            ]
          },
          "metadata": {},
          "output_type": "display_data"
        },
        {
          "data": {
            "text/html": [
              "<span class=\"tex2jax_ignore\"><div class=\"entities\" style=\"line-height: 2.5; direction: ltr\">um dos compostos isolados da planta , denominado de salvinorina a , está sendo considerado como um dos mais potentes alucinógenos conhecidos .</div></span>"
            ],
            "text/plain": [
              "<IPython.core.display.HTML object>"
            ]
          },
          "metadata": {},
          "output_type": "display_data"
        },
        {
          "data": {
            "text/html": [
              "<span class=\"tex2jax_ignore\"><div class=\"entities\" style=\"line-height: 2.5; direction: ltr\">estabelecemos ainda uma carência de 36 ( trinta e seis ) meses para iniciar o pagamento do financiamento .</div></span>"
            ],
            "text/plain": [
              "<IPython.core.display.HTML object>"
            ]
          },
          "metadata": {},
          "output_type": "display_data"
        },
        {
          "data": {
            "text/html": [
              "<span class=\"tex2jax_ignore\"><div class=\"entities\" style=\"line-height: 2.5; direction: ltr\">o reforço escolar é uma estratégia válida para contribuir para o sucesso escolar e a conclusão de estudos na educação , de forma a reduzir a repetência e a evasão .</div></span>"
            ],
            "text/plain": [
              "<IPython.core.display.HTML object>"
            ]
          },
          "metadata": {},
          "output_type": "display_data"
        },
        {
          "data": {
            "text/html": [
              "<span class=\"tex2jax_ignore\"><div class=\"entities\" style=\"line-height: 2.5; direction: ltr\">( nr ) ” art . 3º esta lei entra em vigor na data de sua publicação .</div></span>"
            ],
            "text/plain": [
              "<IPython.core.display.HTML object>"
            ]
          },
          "metadata": {},
          "output_type": "display_data"
        },
        {
          "data": {
            "text/html": [
              "<span class=\"tex2jax_ignore\"><div class=\"entities\" style=\"line-height: 2.5; direction: ltr\">§ 2º . . . . . . . . . . . . . . . . . . . . . . . . . . . . . . . . . . . . . . . . . . . . . . . . . . . . . . . . . . . . . . . . . . . . . . . . . . . . . . . . . . . . .</div></span>"
            ],
            "text/plain": [
              "<IPython.core.display.HTML object>"
            ]
          },
          "metadata": {},
          "output_type": "display_data"
        },
        {
          "data": {
            "text/html": [
              "<span class=\"tex2jax_ignore\"><div class=\"entities\" style=\"line-height: 2.5; direction: ltr\">a pesquisa confirma resultados de estudos realizados na alemanha e em israel .</div></span>"
            ],
            "text/plain": [
              "<IPython.core.display.HTML object>"
            ]
          },
          "metadata": {},
          "output_type": "display_data"
        },
        {
          "data": {
            "text/html": [
              "<span class=\"tex2jax_ignore\"><div class=\"entities\" style=\"line-height: 2.5; direction: ltr\">professora dayane pimentel ) altera o art . 117 da lei nº 8.069 , de 13 de julho de 1990 ( estatuto da criança e do adolescente ) , aumentando para um ano o tempo máximo para prestação de serviços comunitários .</div></span>"
            ],
            "text/plain": [
              "<IPython.core.display.HTML object>"
            ]
          },
          "metadata": {},
          "output_type": "display_data"
        },
        {
          "data": {
            "text/html": [
              "<span class=\"tex2jax_ignore\"><div class=\"entities\" style=\"line-height: 2.5; direction: ltr\">contamos com o indispensável apoio dos nobres pares para a rápida aprovação da matéria .</div></span>"
            ],
            "text/plain": [
              "<IPython.core.display.HTML object>"
            ]
          },
          "metadata": {},
          "output_type": "display_data"
        },
        {
          "data": {
            "text/html": [
              "<span class=\"tex2jax_ignore\"><div class=\"entities\" style=\"line-height: 2.5; direction: ltr\">esperamos , assim , contribuir para o uso eficaz e responsável da água e para ganhos de eficiência em toda a cadeia produtiva e de consumo desse bem essencial à vida e à economia .</div></span>"
            ],
            "text/plain": [
              "<IPython.core.display.HTML object>"
            ]
          },
          "metadata": {},
          "output_type": "display_data"
        },
        {
          "data": {
            "text/html": [
              "<span class=\"tex2jax_ignore\"><div class=\"entities\" style=\"line-height: 2.5; direction: ltr\">essas modificações podem contribuir para aumentar os recursos financeiros à disposição dos contribuintes .</div></span>"
            ],
            "text/plain": [
              "<IPython.core.display.HTML object>"
            ]
          },
          "metadata": {},
          "output_type": "display_data"
        },
        {
          "data": {
            "text/html": [
              "<span class=\"tex2jax_ignore\"><div class=\"entities\" style=\"line-height: 2.5; direction: ltr\">esses temporizadores só aumentam a segurança do trânsito , e têm grande potencial para a redução de acidentes .</div></span>"
            ],
            "text/plain": [
              "<IPython.core.display.HTML object>"
            ]
          },
          "metadata": {},
          "output_type": "display_data"
        },
        {
          "data": {
            "text/html": [
              "<span class=\"tex2jax_ignore\"><div class=\"entities\" style=\"line-height: 2.5; direction: ltr\">justificação os especialistas nas questões ambientais afirmam , não sem razão , que a civilização contemporânea pode ser caracterizada como a civilização dos resíduos , uma das vertentes pouco atraentes derivadas das externalidades nem sempre positivas do avanço tecnológico nos últimos tempos , sem precedentes na história .</div></span>"
            ],
            "text/plain": [
              "<IPython.core.display.HTML object>"
            ]
          },
          "metadata": {},
          "output_type": "display_data"
        },
        {
          "data": {
            "text/html": [
              "<span class=\"tex2jax_ignore\"><div class=\"entities\" style=\"line-height: 2.5; direction: ltr\">entendemos que essa medida possibilitará uma melhor reflexão ao adolescente infrator , na hora de deparar-se com a chance de cometer nova infração .</div></span>"
            ],
            "text/plain": [
              "<IPython.core.display.HTML object>"
            ]
          },
          "metadata": {},
          "output_type": "display_data"
        },
        {
          "data": {
            "text/html": [
              "<span class=\"tex2jax_ignore\"><div class=\"entities\" style=\"line-height: 2.5; direction: ltr\">observamos que , a partir da privatização dos serviços de telecomunicações e conseqüente elevação das tarifas , muitas empresas substituíram os telefones 0800 por linhas de número 0300 , cujas ligações são cobradas .</div></span>"
            ],
            "text/plain": [
              "<IPython.core.display.HTML object>"
            ]
          },
          "metadata": {},
          "output_type": "display_data"
        },
        {
          "data": {
            "text/html": [
              "<span class=\"tex2jax_ignore\"><div class=\"entities\" style=\"line-height: 2.5; direction: ltr\">já na região flamenga da bélgica , não pode haver veiculação de anúncios no período compreendido entre cinco minutos antes do início de um programa destinado a crianças e cinco minutos após o seu término .</div></span>"
            ],
            "text/plain": [
              "<IPython.core.display.HTML object>"
            ]
          },
          "metadata": {},
          "output_type": "display_data"
        },
        {
          "data": {
            "text/html": [
              "<span class=\"tex2jax_ignore\"><div class=\"entities\" style=\"line-height: 2.5; direction: ltr\">deputada caroline de toni 2019 - 9991 * c d 1 9 2 1 7 0 7 3 7 5 0 0 * d o c u m e n to e le tr ô n ic o a s s in a d o p o r c a ro li n e d e t o n i ( p s l / s c ) , n a f o rm a d o a rt . 1 0 2 , § 1 º , d o r ic d c / c o a rt . 2 º , ii i , d o a to d a m e s a n . 8 0 d e 2 0 1 6 .</div></span>"
            ],
            "text/plain": [
              "<IPython.core.display.HTML object>"
            ]
          },
          "metadata": {},
          "output_type": "display_data"
        },
        {
          "data": {
            "text/html": [
              "<span class=\"tex2jax_ignore\"><div class=\"entities\" style=\"line-height: 2.5; direction: ltr\">cientes da relevância da matéria , esperamos contar com o apoio de nossos ilustres pares para a aprovação deste projeto de lei .</div></span>"
            ],
            "text/plain": [
              "<IPython.core.display.HTML object>"
            ]
          },
          "metadata": {},
          "output_type": "display_data"
        },
        {
          "data": {
            "text/html": [
              "<span class=\"tex2jax_ignore\"><div class=\"entities\" style=\"line-height: 2.5; direction: ltr\">art . 2º a lei nº 9.492 , de 10 de setembro de 1997 , passa a vigorar acrescida do seguinte parágrafo único : “ art . 1º . . . . . . . . . . . . . . . . . . . . . . . . . . . . . . . . . . . . . . . . . . . . . . . . . . . . . . . . . . . . . . . . . . . . . . . . . . . . . . . . . .</div></span>"
            ],
            "text/plain": [
              "<IPython.core.display.HTML object>"
            ]
          },
          "metadata": {},
          "output_type": "display_data"
        },
        {
          "data": {
            "text/html": [
              "<span class=\"tex2jax_ignore\"><div class=\"entities\" style=\"line-height: 2.5; direction: ltr\">p l p n .1 9 1 / 2 0 1 9 a p re s e n ta ç ã o : 1 4 / 0 8 / 2 0 1 9 1 9 : 2 0 3 justificação estamos convencidos de que precisamos avançar na fiscalização das ações de governo , sejam elas de responsabilidade da união , como dos entes subnacionais , sobretudo nas situações que envolvam elevadas quantias de recursos públicos , como sói ocorrer nos casos de obras públicas de grande interesse da população .</div></span>"
            ],
            "text/plain": [
              "<IPython.core.display.HTML object>"
            ]
          },
          "metadata": {},
          "output_type": "display_data"
        },
        {
          "data": {
            "text/html": [
              "<span class=\"tex2jax_ignore\"><div class=\"entities\" style=\"line-height: 2.5; direction: ltr\">tratando-se de pessoa jurídica sem fins lucrativos , há necessidade de sua previsão no código civil , com o fim de permitir o seu registro perante o registro civil das pessoas jurídicas , condição indispensável para atribuir existência legal à sociedade .</div></span>"
            ],
            "text/plain": [
              "<IPython.core.display.HTML object>"
            ]
          },
          "metadata": {},
          "output_type": "display_data"
        },
        {
          "data": {
            "text/html": [
              "<span class=\"tex2jax_ignore\"><div class=\"entities\" style=\"line-height: 2.5; direction: ltr\">o \n",
              "<mark class=\"entity\" style=\"background: #ddd; padding: 0.45em 0.6em; margin: 0 0.25em; line-height: 1; border-radius: 0.35em;\">\n",
              "    congresso nacional\n",
              "    <span style=\"font-size: 0.8em; font-weight: bold; line-height: 1; border-radius: 0.35em; vertical-align: middle; margin-left: 0.5rem\">ORGANIZACAO</span>\n",
              "</mark>\n",
              " decreta : art . 1º ficam os parques de diversão obrigados a dispor de gerador de energia elétrica de reserva .</div></span>"
            ],
            "text/plain": [
              "<IPython.core.display.HTML object>"
            ]
          },
          "metadata": {},
          "output_type": "display_data"
        },
        {
          "data": {
            "text/html": [
              "<span class=\"tex2jax_ignore\"><div class=\"entities\" style=\"line-height: 2.5; direction: ltr\">vi – as entidades de previdência complementar</div></span>"
            ],
            "text/plain": [
              "<IPython.core.display.HTML object>"
            ]
          },
          "metadata": {},
          "output_type": "display_data"
        },
        {
          "data": {
            "text/html": [
              "<span class=\"tex2jax_ignore\"><div class=\"entities\" style=\"line-height: 2.5; direction: ltr\">a matéria tratada na presente proposta de projeto de lei ordinária não está em confronto com o disciplinamento contido em nenhuma norma de hierarquia superior .</div></span>"
            ],
            "text/plain": [
              "<IPython.core.display.HTML object>"
            ]
          },
          "metadata": {},
          "output_type": "display_data"
        },
        {
          "data": {
            "text/html": [
              "<span class=\"tex2jax_ignore\"><div class=\"entities\" style=\"line-height: 2.5; direction: ltr\">como se vê , 27% do mercado de produtos florestais destinados a atividades diversas da produção de papel e celulose é abastecido por madeira oriunda de floresta nativa .</div></span>"
            ],
            "text/plain": [
              "<IPython.core.display.HTML object>"
            ]
          },
          "metadata": {},
          "output_type": "display_data"
        },
        {
          "data": {
            "text/html": [
              "<span class=\"tex2jax_ignore\"><div class=\"entities\" style=\"line-height: 2.5; direction: ltr\">art . 4º os recursos do funalixo serão aplicados prioritariamente no financiamento de projetos voltados à pesquisa de novas tecnologias , ao tratamento , coleta e implantação de sistemas de destinação de resíduos sólidos urbanos e hospitalares .</div></span>"
            ],
            "text/plain": [
              "<IPython.core.display.HTML object>"
            ]
          },
          "metadata": {},
          "output_type": "display_data"
        },
        {
          "data": {
            "text/html": [
              "<span class=\"tex2jax_ignore\"><div class=\"entities\" style=\"line-height: 2.5; direction: ltr\">o \n",
              "<mark class=\"entity\" style=\"background: #ddd; padding: 0.45em 0.6em; margin: 0 0.25em; line-height: 1; border-radius: 0.35em;\">\n",
              "    congresso nacional\n",
              "    <span style=\"font-size: 0.8em; font-weight: bold; line-height: 1; border-radius: 0.35em; vertical-align: middle; margin-left: 0.5rem\">ORGANIZACAO</span>\n",
              "</mark>\n",
              " decreta : art . 1º o art . 3º da lei nº 9.393 , de 19 de dezembro de 1996 , passa a vigorar com a seguinte redação : “ art . 3º . . . . . . . . . . . . . . . . . . . . . . . . . . . . . . . . . . . . . . . . . . . . . . . . . . . . . . . . . . . . . . . . . . . . . . . . . . . . . . . . . . . . . . . . . . . . . . . . . . . . . . . . . . . . . . . . . . . . . . . . . . . . . . . . . . . . . . . . . . . . . . . . . . . . . . . . . . . . . . . . . . . . . . . . . . . . . . . . . . . . . . . . . . . . . .</div></span>"
            ],
            "text/plain": [
              "<IPython.core.display.HTML object>"
            ]
          },
          "metadata": {},
          "output_type": "display_data"
        },
        {
          "data": {
            "text/html": [
              "<span class=\"tex2jax_ignore\"><div class=\"entities\" style=\"line-height: 2.5; direction: ltr\">nesse contexto , surge a tese do pagamento pelos serviços ambientais ( psa ) prestados pela natureza .</div></span>"
            ],
            "text/plain": [
              "<IPython.core.display.HTML object>"
            ]
          },
          "metadata": {},
          "output_type": "display_data"
        },
        {
          "data": {
            "text/html": [
              "<span class=\"tex2jax_ignore\"><div class=\"entities\" style=\"line-height: 2.5; direction: ltr\">( nr ) art . 3º a lei nº 11.771 , de 17 de setembro de 2008 , passa a vigorar acrescida do seguinte art . 41 - a : art . 41 - a .</div></span>"
            ],
            "text/plain": [
              "<IPython.core.display.HTML object>"
            ]
          },
          "metadata": {},
          "output_type": "display_data"
        },
        {
          "data": {
            "text/html": [
              "<span class=\"tex2jax_ignore\"><div class=\"entities\" style=\"line-height: 2.5; direction: ltr\">§ 2º é opcional o cumprimento do disposto no caput nos municípios com população inferior a quinhentos mil habitantes .</div></span>"
            ],
            "text/plain": [
              "<IPython.core.display.HTML object>"
            ]
          },
          "metadata": {},
          "output_type": "display_data"
        },
        {
          "data": {
            "text/html": [
              "<span class=\"tex2jax_ignore\"><div class=\"entities\" style=\"line-height: 2.5; direction: ltr\">art . 2º esta emenda constitucional entra em vigor na data de sua publicação . 2 justificação recentemente , fomos surpreendidos pelas tristes e chocantes imagens de um safári turístico ilegal destinado ao abate de animais silvestres em pleno pantanal brasileiro .</div></span>"
            ],
            "text/plain": [
              "<IPython.core.display.HTML object>"
            ]
          },
          "metadata": {},
          "output_type": "display_data"
        },
        {
          "data": {
            "text/html": [
              "<span class=\"tex2jax_ignore\"><div class=\"entities\" style=\"line-height: 2.5; direction: ltr\">( nr ) art . 13 - b .</div></span>"
            ],
            "text/plain": [
              "<IPython.core.display.HTML object>"
            ]
          },
          "metadata": {},
          "output_type": "display_data"
        },
        {
          "data": {
            "text/html": [
              "<span class=\"tex2jax_ignore\"><div class=\"entities\" style=\"line-height: 2.5; direction: ltr\">acreditamos que seus dispositivos garantam o efetivo atendimento às demandas do consumidor de bens e serviços .</div></span>"
            ],
            "text/plain": [
              "<IPython.core.display.HTML object>"
            ]
          },
          "metadata": {},
          "output_type": "display_data"
        },
        {
          "data": {
            "text/html": [
              "<span class=\"tex2jax_ignore\"><div class=\"entities\" style=\"line-height: 2.5; direction: ltr\">os efeitos da condição dos refugiados são igualmente extensivos ao cônjuge , aos ascendentes e descendentes , assim como aos demais membros do grupo familiar do refugiado que dele dependerem economicamente , desde que se encontrem em território nacional . 3 dentro das medidas destinadas a integrar o refugiado e seus dependentes à sociedade e ao mercado de trabalho do país de acolhimento , inclui-se a necessidade de facilitação do reconhecimento de certificados e diplomas , como preceitua o art . 44 , da lei nº 9.474 , de 22 de julho de 1997 : art . 44 .</div></span>"
            ],
            "text/plain": [
              "<IPython.core.display.HTML object>"
            ]
          },
          "metadata": {},
          "output_type": "display_data"
        }
      ],
      "source": [
        "# Select a sample of 50 documents from the training set\n",
        "for doc in pd.Series(spacy_docs_train).sample(50):\n",
        "\n",
        "    # Apply the GazetteerAnnotator to the selected document\n",
        "    # This annotates the document with organizations names using the gazetteer\n",
        "    lf_organizations_gazetteer(doc)\n",
        "\n",
        "    # Display the annotated entities in the document\n",
        "    # This function highlights the recognized organizations names in the document for visualization\n",
        "    skweak.utils.display_entities(doc, \"organizations_gazetteer\")"
      ]
    },
    {
      "cell_type": "markdown",
      "metadata": {
        "id": "eQP0TZttXAlE"
      },
      "source": [
        "## 2.2 Utilizing Pretrained Transformer Models for Labeling Functions\n",
        "In this step, I used a pretrained NER model from Hugging Face to create a labeling function. Instead of relying on rules, the model predicts organization entities based on its prior training on large Portuguese corpora. This adds a data-driven layer to the weak supervision process."
      ]
    },
    {
      "cell_type": "code",
      "execution_count": null,
      "metadata": {
        "colab": {
          "base_uri": "https://localhost:8080/",
          "height": 417,
          "referenced_widgets": [
            "433709337eba411cb503e2bd36a9ec74",
            "3783e4ce079d4f6e9e4c07a956cabb28",
            "97bb291b33e24b06ab1bcb646106499c",
            "e87cbf0d1cc3427ebe3c2b5059fc8565",
            "687d133d4e48438383086b7a45d7a9b3",
            "c0c5314368874d25b48eaeeb1128c836",
            "4197518915134e38b25e867b75e24caf",
            "d41cc51a97394af0b46d553e00a8fe52",
            "f52358e166b0464da9b7c767606ca1a5",
            "93983bd3d7994d8fa542eee685a980ef",
            "556f8b6c893444eebb9f676a2a03375a",
            "9fef0d02e61b43abbce204b62889bca4",
            "fcd2c486dba244a5a1cc42954e5d0049",
            "bb8c9aa5f70546d087b15ff6250952f7",
            "2c107315b72d435c92365140b3624d2c",
            "92552506802d4b0286c750e11745d6fb",
            "eb5085006889459ab4af9349f99e9e5c",
            "d1b9bf54d14147f1a51a7fefde323ede",
            "65e0d0ec1bb147cba0d3a26773239938",
            "0d4ec775bfbf419ebb7f3c47febeec92",
            "6bf246d6b7494e36ae1d301699d578a5",
            "9aeb20a831474cc780a5f8788d125565",
            "e7f086ca9fd041ee972955f69cb78120",
            "21c7890ef0f24badb4f9dc721eb7a65c",
            "45e37380d8a34c0f96ae38ed1e7dae4c",
            "ea67348c8ced4fe9aa441bcb04037baf",
            "5777f8a02f4c47958cc915b7abb416ee",
            "62461adad8a2440e95da2b2e8f43ce61",
            "e4fe2eeb069c4b0f87adc8ab85bf08d4",
            "cc7e67e6e93144a4801b95b217e99146",
            "cb0110eeeb2840d4b38843d636e3ccb5",
            "c5d2fe4ee5494e9c980d2dc098d0ddfc",
            "a87372d21768414e89d78702fa8d3543",
            "0cb6bbe47c864eb5afa6901bfde0aef9",
            "1c428b72bcd041cf9efdc2b690c2bfa3",
            "d3c8c7c8be534f4f92adfb1c17d05b66",
            "cf39d96a0a2a454c960753ad3b16e5cd",
            "cc736675fce349e6ad1e6be1eb3110b1",
            "6e436cf5384a4714a387130330688604",
            "033c88e2803e4778b3f4f96d0e09d1c4",
            "11d2aa91e0eb44bfbb72868e801d82c2",
            "88936e176e024b529a9197974cf07ad2",
            "11ef2a4b93984326a0ff3b19d57cc348",
            "6290de6875ac4a26b9cce5e9d80927f6",
            "af8754d9c9094b30bc139b20a17e038e",
            "b46f74ce74d2402ca972b6b3bc37d958",
            "588a339f80b14517b268a603cea0e24b",
            "caf2d89ef9fa4a93b15cf452f1ec1314",
            "4a4803a00599420f8b3dfc621ec7dbaf",
            "04e064422009485c8cfc17732a03c7e3",
            "4de92c0516ea452997fba7d02087b93f",
            "8191b3c17a2f4f02862b9cd56e2353f6",
            "f3c475ffc4d5455c9e5cffbb4609ab39",
            "43207d41a668459ebec0ea81138731d5",
            "e304d72c799d4517933bb01cd75751c6",
            "ece1080b651540a3a15da2afdc717c96",
            "e53328614cce40d59484f20d27354cec",
            "85a2235dd3fd4ac384f61184c7783ac0",
            "c8535912e81f4582b8ab0607bdff05ce",
            "24f3b02a779948feaaa80318fd6116a3",
            "53b34c8501304f889a9a42536da48d9b",
            "fef8ed8eac804295b8017af627cf9ed6",
            "d5f5039207ac42029d2fd61de519b6dc",
            "d96c722e12bd4904a502fbab7baf12d4",
            "82f7af4daa304568bcd5c56fc6202ced",
            "0b8345271b4b49498df49592ea04859b",
            "48cc0ff0f5e5402087792d81a666aadd",
            "44201f87b4684e5196fc7eacf4904688",
            "e4d44536347e443db7e28cea1e80456f",
            "f434185d63334c4ea4be181ba0a52e93",
            "25b1d66af7864edb9145e50d78506d0a",
            "6e68b7605e2a4fe9916c989a2d6ed1b6",
            "2bb19388527746e9b5287f39d68c04a0",
            "8c9f6eceb428414fa9349b7dcf2549c3",
            "14b564c2a2654c0f9153045a31751dcb",
            "e3afd5f2921b46bda22a43416ecfbbce",
            "9fa6435a60864d94b635fb414aa54970"
          ]
        },
        "id": "h960IcbVTJVU",
        "outputId": "5186ea46-4ce1-4cf9-bc36-fbcf1dd56b0f"
      },
      "outputs": [
        {
          "name": "stderr",
          "output_type": "stream",
          "text": [
            "/home/user/joao/ner-weak-supervision/venv/lib/python3.12/site-packages/tqdm/auto.py:21: TqdmWarning: IProgress not found. Please update jupyter and ipywidgets. See https://ipywidgets.readthedocs.io/en/stable/user_install.html\n",
            "  from .autonotebook import tqdm as notebook_tqdm\n",
            "Device set to use cuda:0\n",
            "Asking to truncate to max_length but no maximum length is provided and the model has no predefined maximum length. Default to no truncation.\n"
          ]
        },
        {
          "name": "stdout",
          "output_type": "stream",
          "text": [
            "[{'entity_group': 'LEGISLACAO', 'score': np.float32(0.99768925), 'word': 'art. 44, da lei nº 9. 474', 'start': 495, 'end': 521}, {'entity_group': 'TEMPO', 'score': np.float32(0.99957526), 'word': '22 de julho de 1997', 'start': 527, 'end': 546}]\n"
          ]
        }
      ],
      "source": [
        "# Import the pipeline function from the transformers library\n",
        "# This function is used to create a NER pipeline\n",
        "from transformers import pipeline\n",
        "import torch\n",
        "\n",
        "# Create an NER pipeline using a pre-trained model for organization entities\n",
        "# The aggregation_strategy=\"first\" parameter ensures that only the first sub-token of a word is used for entity recognition\n",
        "# The device=-1 parameter indicates that the pipeline should run on the CPU (use 0 or a positive integer for GPU)\n",
        "ner_pipeline = pipeline(\"ner\", model=\"pierreguillou/ner-bert-large-cased-pt-lenerbr\", aggregation_strategy=\"first\", device=0)\n",
        "\n",
        "# Apply the NER pipeline to the text of the spaCy document\n",
        "# This step performs named entity recognition on the text, identifying organization entities\n",
        "ner_results = ner_pipeline(doc.text)\n",
        "\n",
        "# Display the NER results\n",
        "# This will show the recognized organization entities along with their positions and labels\n",
        "print(ner_results)"
      ]
    },
    {
      "cell_type": "markdown",
      "metadata": {},
      "source": [
        "The choice of the transformer `pierreguillou/ner-bert-large-cased-pt-lenerbr` was the result of tests to find out what could best label ORGANIZACAO. Other transformers such as the one below were tested:\n",
        "\n",
        "- `marcosgg/bert-large-pt-ner-enamex`\n",
        "- `monilouise/ner_news_portuguese`\n",
        "- One or two others that I forgot to note"
      ]
    },
    {
      "cell_type": "markdown",
      "metadata": {},
      "source": [
        "Another change was needed in the spacy library within venv.\n",
        "\n",
        "```\n",
        "Import from line 69 in spacy.displacy. __init__ .py\n",
        "from IPython.display import HTML, display\n",
        "```"
      ]
    },
    {
      "cell_type": "code",
      "execution_count": null,
      "metadata": {
        "colab": {
          "base_uri": "https://localhost:8080/",
          "height": 52
        },
        "id": "KwUjvoKbYnnr",
        "outputId": "b4bdefa8-8050-49d5-b12c-1254dd5a922c"
      },
      "outputs": [
        {
          "data": {
            "text/html": [
              "<span class=\"tex2jax_ignore\"><div class=\"entities\" style=\"line-height: 2.5; direction: ltr\">Texto de teste na \n",
              "<mark class=\"entity\" style=\"background: #a269e6; padding: 0.45em 0.6em; margin: 0 0.25em; line-height: 1; border-radius: 0.35em;\">\n",
              "    câmara dos deputados\n",
              "    <span style=\"font-size: 0.8em; font-weight: bold; line-height: 1; border-radius: 0.35em; vertical-align: middle; margin-left: 0.5rem\">ORGANIZACAO</span>\n",
              "</mark>\n",
              ", a \n",
              "<mark class=\"entity\" style=\"background: #a269e6; padding: 0.45em 0.6em; margin: 0 0.25em; line-height: 1; border-radius: 0.35em;\">\n",
              "    agu\n",
              "    <span style=\"font-size: 0.8em; font-weight: bold; line-height: 1; border-radius: 0.35em; vertical-align: middle; margin-left: 0.5rem\">ORGANIZACAO</span>\n",
              "</mark>\n",
              " e o \n",
              "<mark class=\"entity\" style=\"background: #a269e6; padding: 0.45em 0.6em; margin: 0 0.25em; line-height: 1; border-radius: 0.35em;\">\n",
              "    tribunal de contas da união\n",
              "    <span style=\"font-size: 0.8em; font-weight: bold; line-height: 1; border-radius: 0.35em; vertical-align: middle; margin-left: 0.5rem\">ORGANIZACAO</span>\n",
              "</mark>\n",
              ", na \n",
              "<mark class=\"entity\" style=\"background: #a269e6; padding: 0.45em 0.6em; margin: 0 0.25em; line-height: 1; border-radius: 0.35em;\">\n",
              "    companhia vale do rio doce\n",
              "    <span style=\"font-size: 0.8em; font-weight: bold; line-height: 1; border-radius: 0.35em; vertical-align: middle; margin-left: 0.5rem\">ORGANIZACAO</span>\n",
              "</mark>\n",
              " (\n",
              "<mark class=\"entity\" style=\"background: #a269e6; padding: 0.45em 0.6em; margin: 0 0.25em; line-height: 1; border-radius: 0.35em;\">\n",
              "    VALE\n",
              "    <span style=\"font-size: 0.8em; font-weight: bold; line-height: 1; border-radius: 0.35em; vertical-align: middle; margin-left: 0.5rem\">ORGANIZACAO</span>\n",
              "</mark>\n",
              "), na \n",
              "<mark class=\"entity\" style=\"background: #a269e6; padding: 0.45em 0.6em; margin: 0 0.25em; line-height: 1; border-radius: 0.35em;\">\n",
              "    petrobras\n",
              "    <span style=\"font-size: 0.8em; font-weight: bold; line-height: 1; border-radius: 0.35em; vertical-align: middle; margin-left: 0.5rem\">ORGANIZACAO</span>\n",
              "</mark>\n",
              " e no \n",
              "<mark class=\"entity\" style=\"background: #a269e6; padding: 0.45em 0.6em; margin: 0 0.25em; line-height: 1; border-radius: 0.35em;\">\n",
              "    PSDB\n",
              "    <span style=\"font-size: 0.8em; font-weight: bold; line-height: 1; border-radius: 0.35em; vertical-align: middle; margin-left: 0.5rem\">ORGANIZACAO</span>\n",
              "</mark>\n",
              "</div></span>"
            ],
            "text/plain": [
              "<IPython.core.display.HTML object>"
            ]
          },
          "metadata": {},
          "output_type": "display_data"
        }
      ],
      "source": [
        "from helpers.ner import render_entity_data_from_pipeline\n",
        "\n",
        "# Define a sample text containing organization names for testing the NER pipeline\n",
        "sample_text = \"Texto de teste na câmara dos deputados, a agu e o tribunal de contas da união, na companhia vale do rio doce (VALE), na petrobras e no PSDB\"\n",
        "\n",
        "# Apply the NER pipeline to the sample text\n",
        "# This step performs named entity recognition on the text, identifying organization entities\n",
        "ner_results = ner_pipeline(sample_text)\n",
        "\n",
        "# Render the annotated entities in the sample text\n",
        "# This function highlights the recognized organization entities in the text for visualization\n",
        "render_entity_data_from_pipeline(sample_text, ner_results)"
      ]
    },
    {
      "cell_type": "code",
      "execution_count": 27,
      "metadata": {
        "colab": {
          "base_uri": "https://localhost:8080/",
          "height": 423
        },
        "id": "4FtyyyyCYzgL",
        "outputId": "82792c66-2d7b-4d0f-cf77-f70a9477fda7"
      },
      "outputs": [
        {
          "data": {
            "application/vnd.microsoft.datawrangler.viewer.v0+json": {
              "columns": [
                {
                  "name": "index",
                  "rawType": "int64",
                  "type": "integer"
                },
                {
                  "name": "text",
                  "rawType": "object",
                  "type": "string"
                }
              ],
              "ref": "d7d6c696-b65d-4803-a5f1-5851f072b4a9",
              "rows": [
                [
                  "0",
                  "sala das sessões , em de de 2019 ."
                ],
                [
                  "1",
                  "da decisão de que trata o § 12 deste artigo caberá recurso administrativo com efeito suspensivo ."
                ],
                [
                  "2",
                  "projeto de lei n.º , de 2017 ( do sr ."
                ],
                [
                  "3",
                  "deputado maurício dziedricki p l n .4 6 1 5 / 2 0 1 9 a p re s e n ta ç ã o : 2 1 / 0 8 / 2 0 1 9 1 4 : 1 6"
                ],
                [
                  "4",
                  "art . 4º esta lei entra em vigor na data de sua publicação ."
                ],
                [
                  "5",
                  "com o forte crescimento da população idosa masculina no país , a perspectiva é a de crescimento vertiginoso dos casos de câncer de próstata , conforme já constatado pelas estatísticas disponíveis ."
                ],
                [
                  "6",
                  "a câmara dos deputados resolve : art . 1º esta resolução dá denominação ao plenário 2 , do anexo ii , da câmara dos deputados ."
                ],
                [
                  "7",
                  "art . 2º as normas regulamentadoras definirão as estratégias para o cumprimento desta determinação , disciplinando sobre os participantes , pessoas físicas ou jurídicas , priorizando para temas voltados para a prevenção de acidentes de trânsito , levando em consideração os aspectos humanos e comportamentais ."
                ],
                [
                  "8",
                  "os portadores de formas crônicas de hepatite demandam atenção médica especializada constante para que seu quadro não evolua ."
                ],
                [
                  "9",
                  "outra face deste processo foi a disseminação dos atendimentos automatizados que , além do custo da tarifa , impõem grande perda de tempo e constrangimento aos usuários ."
                ],
                [
                  "10",
                  "assim , considerando que esses recursos surgiriam apenas para o esporte , a alteração feita no texto da lei nº 11.438 / 2006 foi extremamente prejudicial para o desporto e paradesporto brasileiro ."
                ],
                [
                  "11",
                  "sala das sessões , em 16 de março de 2011 ."
                ],
                [
                  "12",
                  "o crime já está tipificado no código brasileiro de trânsito , entretanto sua divulgação não consta da lei nº 9.294 / 96 ."
                ],
                [
                  "13",
                  "projeto de lei nº , de 2011 ( do sr ."
                ],
                [
                  "14",
                  "apesar das dificuldades apontadas , conto com o discernimento dos nobres pares para , em conjunto , alcançarmos uma solução para essas graves questões ."
                ],
                [
                  "15",
                  "projeto de lei nº , de 2019 ."
                ],
                [
                  "16",
                  "projeto de lei nº , de 2011 ( do sr. marllos sampaio ) torna crime aliciar idoso para contrair empréstimos ."
                ],
                [
                  "17",
                  "convém , ainda , que a especificação de parâmetros e exigências venha a ser tratada em regulamento , uma vez que a dinâmica da evolução tecnológica pode impor frequentes atualizações ."
                ],
                [
                  "18",
                  "afigura-se , portanto , desnecessária inscrição em ordem ou conselho para o exercício da profissão de músico . ”"
                ],
                [
                  "19",
                  "deputada bruna furlan"
                ],
                [
                  "20",
                  "o congresso nacional decreta : art . 1º esta lei acrescenta § 3º ao art . 12 da lei nº 11.947 , de 16 de junho de 2009 , para obrigar a inclusão do café e do leite nos cardápios da alimentação escolar ."
                ],
                [
                  "21",
                  "esta resolução entra em vigor na data de sua publicação ."
                ],
                [
                  "22",
                  "art . 2º revoga-se a lei nº 13.586 , de 28 de dezembro de 2017 ."
                ],
                [
                  "23",
                  "o problema é que , uma vez verificado que determinado município enquadrado nesta categoria de pequeno ultrapassou qualquer uma p l p n .1 9 0 / 2 0 1 9 a p re s e n ta ç ã o : 1 4 / 0 8 / 2 0 1 9 1 4 : 5 5 2 das regras previstas , as sanções aplicadas são as mesmas dos demais entes , que incluem sobretudo a inclusão do município como inadimplente no cadastro único de convênios e a suspensão imediata das transferências voluntárias da união ."
                ],
                [
                  "24",
                  "o número de assassinatos tem chegado a 4,8 para cada 100 mil mulheres ."
                ],
                [
                  "25",
                  "esta lei entra em vigor cento e oitenta dias após sua publicação oficial ."
                ],
                [
                  "26",
                  "o congresso nacional decreta : art . 1º esta lei regula a indenização de benfeitorias a agricultores ocupantes de boa-fé em terras indígenas , nos termos estabelecidos pelo § 6º do art . 231 da constituição federal ."
                ],
                [
                  "27",
                  "diante dessa realidade , o mandamento convencional e legal de integração sociocultural e laboral do refugiado admitido no brasil resta , pois , esvaziado de eficácia , havendo a necessidade de complementação da legislação existente ."
                ],
                [
                  "28",
                  "§ 2º a escritura e demais atos notariais serão gratuitos aos hipossuficientes econômicos . ”"
                ],
                [
                  "29",
                  "esses mecanismos devem estar relacionados exatamente à execução da pena ."
                ],
                [
                  "30",
                  "igualmente nocivos são os efeitos dos saltos altos sobre a coluna infantil , consistindo no aumento da curvatura da região lombar em decorrência da projeção para a frente do centro de gravidade corporal , o que pode gerar dores e , até mesmo , mudanças na posição da coluna ."
                ],
                [
                  "31",
                  "i - 6% ( seis por cento ) para a entidade reguladora do setor de mineração ; ii – 1,5% ( um inteiro e cinco décimos por cento ) para o fundo nacional de desenvolvimento científico e tecnológico ( fndct ) , instituído pelo decreto-lei nº 719 , de 31 de julho de 1969 , e restabelecido pela lei nº 8.172 , de 18 de janeiro de 1991 , destinado ao desenvolvimento científico e tecnológico do setor mineral , sendo aplicado , no mínimo , 0,5% ( cinco décimos por cento ) em pesquisas , estudos e projetos para o beneficiamento de rejeitos e estéreis de minerais para uso em outras cadeias produtivas ; . . . . . . . . . . . . . . . . . . . . . . . . . . . . . . . . . . . . . . . . . . . . . . . . . . . . . . . . . . . . . . . . . . . . . . . . . . . . . . . . . . . . . . . . . . . . . . . ."
                ],
                [
                  "32",
                  "nesse contexto , a lei antidrogas ( lei nº 11.343 , de 23 de agosto de 2006 ) fixou algumas obrigações estatais direcionadas à prevenção do uso indevido e à reinserção social dos usuários de drogas ."
                ],
                [
                  "33",
                  "art . 3 ° esta lei entra em vigor na data de sua publicação ."
                ],
                [
                  "34",
                  "não podemos mais aceitar que nossa juventude seja imolada , em favor de uns poucos e , nós parlamentares nada façamos ."
                ],
                [
                  "35",
                  "dada a inequívoca importância da matéria , esperamos poder contar com o apoio dos nossos ilustres pares nessa casa para sua célere aprovação ."
                ],
                [
                  "36",
                  "p l n .4 7 4 8 / 2 0 1 9 a p re s e n ta ç ã o : 2 8 / 0 8 / 2 0 1 9 1 6 : 0 1 3 também na linha de combater a reincidência , o núcleo judiciário da mulher , no distrito federal , tem estabelecido conversas reflexivas com condenados pela lei maria da penha , que abordam sistema de crenças , dependência afetiva , e auto responsabilidade ."
                ],
                [
                  "37",
                  "amparado em tais argumento , esperamos contar com o decisivo apoio dos nobres pares para a aprovação dessa proposta legislativa ."
                ],
                [
                  "38",
                  "justificação diante do aumento da expectativa de vida do brasileiro e da necessidade de inclusão e de manutenção dos trabalhadores com 50 anos de idade ou mais no mercado de trabalho , a fim de que possam continuar contribuindo para a previdência social o suficiente para a percepção do benefício da aposentadoria , faz-se necessária a adoção de mecanismos que incentivem as empresas a contratar empregados mais experientes ."
                ],
                [
                  "39",
                  "silas câmara e vinícius carvalho ) dispõe sobre a atualização do valor dos ativos das concessionárias de transmissão de energia elétrica considerados não depreciados existentes em 31 de maio de 2000 o congresso nacional decreta : art . 1º o art . 15 da lei nº 12.783 , 11 de janeiro de 2013 , passa a vigorar acrescido do seguinte § 3º-a : “ art . 15"
                ],
                [
                  "40",
                  "p l n .4 7 2 2 / 2 0 1 9 a p re s e n ta ç ã o : 2 7 / 0 8 / 2 0 1 9 1 8 : 5 2 justificação o alto consumo de agrotóxicos é um problema continuamente enfrentado ao redor do mundo dadas as poucas garantias de não serem , de fato , danosos ao organismo humano ."
                ],
                [
                  "41",
                  "( nr ) art . 13 - b ."
                ],
                [
                  "42",
                  "na áustria , há vedação ao encaixe de inserções publicitárias em programas infantis nos canais de tv por assinatura , mesmo aquelas não direcionadas para crianças ."
                ],
                [
                  "43",
                  "( nr ) “ art . 22"
                ],
                [
                  "44",
                  "cabe observar que muitos são os municípios que decretaram situação de emergência , bem como estado de calamidade pública , isto em virtude das enchentes provocadas pelos excessos de chuvas , trazendo assim endemias e epidemias animal e humana à população local ."
                ],
                [
                  "45",
                  "atualmente , o diploma de regência é a lei nº 6.001 , de 19 de dezembro de 1973 , denominada estatuto do índio , juntamente com sua regulamentação , o decreto nº 1.775 , de 8 de janeiro de 1996 ."
                ],
                [
                  "46",
                  "v – ter atuado como organização criminosa , possuir vínculo com organização ou facção criminosa ou ter se beneficiado de atividades criminosas . . . . . . . . . . . . . . . . . . . . . . . . . . . . . . . . . . . . . . . . . . . . . . . . . . . . . . . . . . . . . . . . . . . . . . . . . . . . . . . . . . . . . . ” ."
                ],
                [
                  "47",
                  "em um grande número de casos torna-se necessário o uso de medicação com potencial para reduzir um pouco o tamanho da próstata , e outros medicamentos que abrem o canal da uretra ."
                ],
                [
                  "48",
                  "o objetivo precípuo da regularização fundiária mais expedita e direcionada à amazônia , como apregoa o programa terra legal , é contribuir para a desconcentração fundiária do território e a democratização do acesso à terra ."
                ],
                [
                  "49",
                  "junji abe ) acrescenta dispositivo à lei complementar nº 123 , de 14 de dezembro de 2006 , para estabelecer previsão legal de reajuste do limite de faturamento anual da empresa que integra o regime especial do microempreendedor individual – mei , na forma que especifica ."
                ]
              ],
              "shape": {
                "columns": 1,
                "rows": 1478
              }
            },
            "text/html": [
              "<div>\n",
              "<style scoped>\n",
              "    .dataframe tbody tr th:only-of-type {\n",
              "        vertical-align: middle;\n",
              "    }\n",
              "\n",
              "    .dataframe tbody tr th {\n",
              "        vertical-align: top;\n",
              "    }\n",
              "\n",
              "    .dataframe thead th {\n",
              "        text-align: right;\n",
              "    }\n",
              "</style>\n",
              "<table border=\"1\" class=\"dataframe\">\n",
              "  <thead>\n",
              "    <tr style=\"text-align: right;\">\n",
              "      <th></th>\n",
              "      <th>text</th>\n",
              "    </tr>\n",
              "  </thead>\n",
              "  <tbody>\n",
              "    <tr>\n",
              "      <th>0</th>\n",
              "      <td>sala das sessões , em de de 2019 .</td>\n",
              "    </tr>\n",
              "    <tr>\n",
              "      <th>1</th>\n",
              "      <td>da decisão de que trata o § 12 deste artigo ca...</td>\n",
              "    </tr>\n",
              "    <tr>\n",
              "      <th>2</th>\n",
              "      <td>projeto de lei n.º , de 2017 ( do sr .</td>\n",
              "    </tr>\n",
              "    <tr>\n",
              "      <th>3</th>\n",
              "      <td>deputado maurício dziedricki p l n .4 6 1 5 / ...</td>\n",
              "    </tr>\n",
              "    <tr>\n",
              "      <th>4</th>\n",
              "      <td>art . 4º esta lei entra em vigor na data de su...</td>\n",
              "    </tr>\n",
              "    <tr>\n",
              "      <th>...</th>\n",
              "      <td>...</td>\n",
              "    </tr>\n",
              "    <tr>\n",
              "      <th>1473</th>\n",
              "      <td>trata-se de um projeto de grande utilidade , p...</td>\n",
              "    </tr>\n",
              "    <tr>\n",
              "      <th>1474</th>\n",
              "      <td>paulo wagner ) dispõe sobre o programa escola ...</td>\n",
              "    </tr>\n",
              "    <tr>\n",
              "      <th>1475</th>\n",
              "      <td>iracema portella ) dispõe sobre abertura de li...</td>\n",
              "    </tr>\n",
              "    <tr>\n",
              "      <th>1476</th>\n",
              "      <td>arnaldo faria de sá deputado federal – são pau...</td>\n",
              "    </tr>\n",
              "    <tr>\n",
              "      <th>1477</th>\n",
              "      <td>não obstante as ambiciosas metas constantes do...</td>\n",
              "    </tr>\n",
              "  </tbody>\n",
              "</table>\n",
              "<p>1478 rows × 1 columns</p>\n",
              "</div>"
            ],
            "text/plain": [
              "                                                   text\n",
              "0                    sala das sessões , em de de 2019 .\n",
              "1     da decisão de que trata o § 12 deste artigo ca...\n",
              "2                projeto de lei n.º , de 2017 ( do sr .\n",
              "3     deputado maurício dziedricki p l n .4 6 1 5 / ...\n",
              "4     art . 4º esta lei entra em vigor na data de su...\n",
              "...                                                 ...\n",
              "1473  trata-se de um projeto de grande utilidade , p...\n",
              "1474  paulo wagner ) dispõe sobre o programa escola ...\n",
              "1475  iracema portella ) dispõe sobre abertura de li...\n",
              "1476  arnaldo faria de sá deputado federal – são pau...\n",
              "1477  não obstante as ambiciosas metas constantes do...\n",
              "\n",
              "[1478 rows x 1 columns]"
            ]
          },
          "execution_count": 27,
          "metadata": {},
          "output_type": "execute_result"
        }
      ],
      "source": [
        "df_lf_transfomer_1 = pd.DataFrame([doc.text for doc in spacy_docs_train], columns=[\"text\"])\n",
        "df_lf_transfomer_1"
      ]
    },
    {
      "cell_type": "code",
      "execution_count": 28,
      "metadata": {
        "colab": {
          "base_uri": "https://localhost:8080/",
          "height": 304
        },
        "id": "FJXRM6dlZKHL",
        "outputId": "3238d7f5-5a18-4acb-b57c-599e4f0e06d6"
      },
      "outputs": [
        {
          "data": {
            "application/vnd.microsoft.datawrangler.viewer.v0+json": {
              "columns": [
                {
                  "name": "index",
                  "rawType": "int64",
                  "type": "integer"
                },
                {
                  "name": "text",
                  "rawType": "object",
                  "type": "string"
                },
                {
                  "name": "weak_label",
                  "rawType": "object",
                  "type": "unknown"
                }
              ],
              "ref": "d4459e98-547a-4632-a1ec-f44404fb0337",
              "rows": [
                [
                  "0",
                  "sala das sessões , em de de 2019 .",
                  "[{'entity_group': 'TEMPO', 'score': np.float32(0.9972467), 'word': 'de de 2019', 'start': 22, 'end': 32}]"
                ],
                [
                  "1",
                  "da decisão de que trata o § 12 deste artigo caberá recurso administrativo com efeito suspensivo .",
                  "[]"
                ],
                [
                  "2",
                  "projeto de lei n.º , de 2017 ( do sr .",
                  "[{'entity_group': 'LEGISLACAO', 'score': np.float32(0.9582413), 'word': 'projeto de lei n. º', 'start': 0, 'end': 18}, {'entity_group': 'TEMPO', 'score': np.float32(0.9563159), 'word': '2017', 'start': 24, 'end': 28}]"
                ],
                [
                  "3",
                  "deputado maurício dziedricki p l n .4 6 1 5 / 2 0 1 9 a p re s e n ta ç ã o : 2 1 / 0 8 / 2 0 1 9 1 4 : 1 6",
                  "[{'entity_group': 'PESSOA', 'score': np.float32(0.99847376), 'word': 'maurício dziedricki', 'start': 9, 'end': 28}]"
                ],
                [
                  "4",
                  "art . 4º esta lei entra em vigor na data de sua publicação .",
                  "[]"
                ],
                [
                  "5",
                  "com o forte crescimento da população idosa masculina no país , a perspectiva é a de crescimento vertiginoso dos casos de câncer de próstata , conforme já constatado pelas estatísticas disponíveis .",
                  "[]"
                ],
                [
                  "6",
                  "a câmara dos deputados resolve : art . 1º esta resolução dá denominação ao plenário 2 , do anexo ii , da câmara dos deputados .",
                  "[{'entity_group': 'ORGANIZACAO', 'score': np.float32(0.99789613), 'word': 'câmara dos deputados', 'start': 2, 'end': 22}, {'entity_group': 'ORGANIZACAO', 'score': np.float32(0.5280306), 'word': 'plenário', 'start': 75, 'end': 83}, {'entity_group': 'ORGANIZACAO', 'score': np.float32(0.6140501), 'word': 'câmara dos deputados', 'start': 105, 'end': 125}]"
                ],
                [
                  "7",
                  "art . 2º as normas regulamentadoras definirão as estratégias para o cumprimento desta determinação , disciplinando sobre os participantes , pessoas físicas ou jurídicas , priorizando para temas voltados para a prevenção de acidentes de trânsito , levando em consideração os aspectos humanos e comportamentais .",
                  "[]"
                ],
                [
                  "8",
                  "os portadores de formas crônicas de hepatite demandam atenção médica especializada constante para que seu quadro não evolua .",
                  "[]"
                ],
                [
                  "9",
                  "outra face deste processo foi a disseminação dos atendimentos automatizados que , além do custo da tarifa , impõem grande perda de tempo e constrangimento aos usuários .",
                  "[]"
                ],
                [
                  "10",
                  "assim , considerando que esses recursos surgiriam apenas para o esporte , a alteração feita no texto da lei nº 11.438 / 2006 foi extremamente prejudicial para o desporto e paradesporto brasileiro .",
                  "[{'entity_group': 'LEGISLACAO', 'score': np.float32(0.99942535), 'word': 'lei nº 11. 438 / 2006', 'start': 104, 'end': 124}]"
                ],
                [
                  "11",
                  "sala das sessões , em 16 de março de 2011 .",
                  "[{'entity_group': 'TEMPO', 'score': np.float32(0.999788), 'word': '16 de março de 2011', 'start': 22, 'end': 41}]"
                ],
                [
                  "12",
                  "o crime já está tipificado no código brasileiro de trânsito , entretanto sua divulgação não consta da lei nº 9.294 / 96 .",
                  "[{'entity_group': 'LEGISLACAO', 'score': np.float32(0.9981476), 'word': 'código brasileiro de trânsito', 'start': 30, 'end': 59}, {'entity_group': 'LEGISLACAO', 'score': np.float32(0.999467), 'word': 'lei nº 9. 294 / 96', 'start': 102, 'end': 119}]"
                ],
                [
                  "13",
                  "projeto de lei nº , de 2011 ( do sr .",
                  "[{'entity_group': 'LEGISLACAO', 'score': np.float32(0.7147542), 'word': 'projeto de lei nº', 'start': 0, 'end': 17}, {'entity_group': 'TEMPO', 'score': np.float32(0.9950937), 'word': '2011', 'start': 23, 'end': 27}]"
                ],
                [
                  "14",
                  "apesar das dificuldades apontadas , conto com o discernimento dos nobres pares para , em conjunto , alcançarmos uma solução para essas graves questões .",
                  "[]"
                ],
                [
                  "15",
                  "projeto de lei nº , de 2019 .",
                  "[{'entity_group': 'LEGISLACAO', 'score': np.float32(0.64846784), 'word': 'de lei nº', 'start': 8, 'end': 17}, {'entity_group': 'TEMPO', 'score': np.float32(0.9909203), 'word': '2019', 'start': 23, 'end': 27}]"
                ],
                [
                  "16",
                  "projeto de lei nº , de 2011 ( do sr. marllos sampaio ) torna crime aliciar idoso para contrair empréstimos .",
                  "[{'entity_group': 'LEGISLACAO', 'score': np.float32(0.65371), 'word': 'projeto de lei nº', 'start': 0, 'end': 17}, {'entity_group': 'TEMPO', 'score': np.float32(0.99311674), 'word': '2011', 'start': 23, 'end': 27}, {'entity_group': 'PESSOA', 'score': np.float32(0.9988102), 'word': 'marllos sampaio', 'start': 37, 'end': 52}]"
                ],
                [
                  "17",
                  "convém , ainda , que a especificação de parâmetros e exigências venha a ser tratada em regulamento , uma vez que a dinâmica da evolução tecnológica pode impor frequentes atualizações .",
                  "[]"
                ],
                [
                  "18",
                  "afigura-se , portanto , desnecessária inscrição em ordem ou conselho para o exercício da profissão de músico . ”",
                  "[]"
                ],
                [
                  "19",
                  "deputada bruna furlan",
                  "[{'entity_group': 'PESSOA', 'score': np.float32(0.99029624), 'word': 'bruna furlan', 'start': 9, 'end': 21}]"
                ],
                [
                  "20",
                  "o congresso nacional decreta : art . 1º esta lei acrescenta § 3º ao art . 12 da lei nº 11.947 , de 16 de junho de 2009 , para obrigar a inclusão do café e do leite nos cardápios da alimentação escolar .",
                  "[{'entity_group': 'ORGANIZACAO', 'score': np.float32(0.9892431), 'word': 'congresso nacional', 'start': 2, 'end': 20}, {'entity_group': 'LEGISLACAO', 'score': np.float32(0.9749722), 'word': '3º ao art. 12 da lei nº 11. 947', 'start': 62, 'end': 93}, {'entity_group': 'TEMPO', 'score': np.float32(0.99938977), 'word': '16 de junho de 2009', 'start': 99, 'end': 118}]"
                ],
                [
                  "21",
                  "esta resolução entra em vigor na data de sua publicação .",
                  "[]"
                ],
                [
                  "22",
                  "art . 2º revoga-se a lei nº 13.586 , de 28 de dezembro de 2017 .",
                  "[{'entity_group': 'LEGISLACAO', 'score': np.float32(0.9993518), 'word': 'lei nº 13. 586', 'start': 21, 'end': 34}, {'entity_group': 'TEMPO', 'score': np.float32(0.999524), 'word': '28 de dezembro de 2017', 'start': 40, 'end': 62}]"
                ],
                [
                  "23",
                  "o problema é que , uma vez verificado que determinado município enquadrado nesta categoria de pequeno ultrapassou qualquer uma p l p n .1 9 0 / 2 0 1 9 a p re s e n ta ç ã o : 1 4 / 0 8 / 2 0 1 9 1 4 : 5 5 2 das regras previstas , as sanções aplicadas são as mesmas dos demais entes , que incluem sobretudo a inclusão do município como inadimplente no cadastro único de convênios e a suspensão imediata das transferências voluntárias da união .",
                  "[]"
                ],
                [
                  "24",
                  "o número de assassinatos tem chegado a 4,8 para cada 100 mil mulheres .",
                  "[]"
                ],
                [
                  "25",
                  "esta lei entra em vigor cento e oitenta dias após sua publicação oficial .",
                  "[]"
                ],
                [
                  "26",
                  "o congresso nacional decreta : art . 1º esta lei regula a indenização de benfeitorias a agricultores ocupantes de boa-fé em terras indígenas , nos termos estabelecidos pelo § 6º do art . 231 da constituição federal .",
                  "[{'entity_group': 'ORGANIZACAO', 'score': np.float32(0.9897264), 'word': 'congresso nacional', 'start': 2, 'end': 20}, {'entity_group': 'LEGISLACAO', 'score': np.float32(0.99908286), 'word': '§ 6º do art. 231 da constituição federal', 'start': 173, 'end': 214}]"
                ],
                [
                  "27",
                  "diante dessa realidade , o mandamento convencional e legal de integração sociocultural e laboral do refugiado admitido no brasil resta , pois , esvaziado de eficácia , havendo a necessidade de complementação da legislação existente .",
                  "[{'entity_group': 'LOCAL', 'score': np.float32(0.9549119), 'word': 'brasil', 'start': 122, 'end': 128}]"
                ],
                [
                  "28",
                  "§ 2º a escritura e demais atos notariais serão gratuitos aos hipossuficientes econômicos . ”",
                  "[]"
                ],
                [
                  "29",
                  "esses mecanismos devem estar relacionados exatamente à execução da pena .",
                  "[]"
                ],
                [
                  "30",
                  "igualmente nocivos são os efeitos dos saltos altos sobre a coluna infantil , consistindo no aumento da curvatura da região lombar em decorrência da projeção para a frente do centro de gravidade corporal , o que pode gerar dores e , até mesmo , mudanças na posição da coluna .",
                  "[]"
                ],
                [
                  "31",
                  "i - 6% ( seis por cento ) para a entidade reguladora do setor de mineração ; ii – 1,5% ( um inteiro e cinco décimos por cento ) para o fundo nacional de desenvolvimento científico e tecnológico ( fndct ) , instituído pelo decreto-lei nº 719 , de 31 de julho de 1969 , e restabelecido pela lei nº 8.172 , de 18 de janeiro de 1991 , destinado ao desenvolvimento científico e tecnológico do setor mineral , sendo aplicado , no mínimo , 0,5% ( cinco décimos por cento ) em pesquisas , estudos e projetos para o beneficiamento de rejeitos e estéreis de minerais para uso em outras cadeias produtivas ; . . . . . . . . . . . . . . . . . . . . . . . . . . . . . . . . . . . . . . . . . . . . . . . . . . . . . . . . . . . . . . . . . . . . . . . . . . . . . . . . . . . . . . . . . . . . . . . .",
                  "[{'entity_group': 'LEGISLACAO', 'score': np.float32(0.9949976), 'word': 'decreto', 'start': 222, 'end': 229}, {'entity_group': 'LEGISLACAO', 'score': np.float32(0.988694), 'word': '-', 'start': 229, 'end': 230}, {'entity_group': 'LEGISLACAO', 'score': np.float32(0.98975927), 'word': 'lei nº 719', 'start': 230, 'end': 240}, {'entity_group': 'TEMPO', 'score': np.float32(0.9994321), 'word': '31 de julho de 1969', 'start': 246, 'end': 265}, {'entity_group': 'LEGISLACAO', 'score': np.float32(0.998419), 'word': 'lei nº 8. 172', 'start': 289, 'end': 301}, {'entity_group': 'TEMPO', 'score': np.float32(0.99954396), 'word': '18 de janeiro de 1991', 'start': 307, 'end': 328}]"
                ],
                [
                  "32",
                  "nesse contexto , a lei antidrogas ( lei nº 11.343 , de 23 de agosto de 2006 ) fixou algumas obrigações estatais direcionadas à prevenção do uso indevido e à reinserção social dos usuários de drogas .",
                  "[{'entity_group': 'LEGISLACAO', 'score': np.float32(0.9948454), 'word': 'lei antidrogas', 'start': 19, 'end': 33}, {'entity_group': 'LEGISLACAO', 'score': np.float32(0.99910116), 'word': 'lei nº 11. 343', 'start': 36, 'end': 49}, {'entity_group': 'TEMPO', 'score': np.float32(0.99927205), 'word': '23 de agosto de 2006', 'start': 55, 'end': 75}]"
                ],
                [
                  "33",
                  "art . 3 ° esta lei entra em vigor na data de sua publicação .",
                  "[]"
                ],
                [
                  "34",
                  "não podemos mais aceitar que nossa juventude seja imolada , em favor de uns poucos e , nós parlamentares nada façamos .",
                  "[]"
                ],
                [
                  "35",
                  "dada a inequívoca importância da matéria , esperamos poder contar com o apoio dos nossos ilustres pares nessa casa para sua célere aprovação .",
                  "[]"
                ],
                [
                  "36",
                  "p l n .4 7 4 8 / 2 0 1 9 a p re s e n ta ç ã o : 2 8 / 0 8 / 2 0 1 9 1 6 : 0 1 3 também na linha de combater a reincidência , o núcleo judiciário da mulher , no distrito federal , tem estabelecido conversas reflexivas com condenados pela lei maria da penha , que abordam sistema de crenças , dependência afetiva , e auto responsabilidade .",
                  "[{'entity_group': 'LOCAL', 'score': np.float32(0.9887345), 'word': 'distrito federal', 'start': 161, 'end': 177}, {'entity_group': 'LEGISLACAO', 'score': np.float32(0.9763343), 'word': 'lei maria da penha', 'start': 238, 'end': 256}]"
                ],
                [
                  "37",
                  "amparado em tais argumento , esperamos contar com o decisivo apoio dos nobres pares para a aprovação dessa proposta legislativa .",
                  "[]"
                ],
                [
                  "38",
                  "justificação diante do aumento da expectativa de vida do brasileiro e da necessidade de inclusão e de manutenção dos trabalhadores com 50 anos de idade ou mais no mercado de trabalho , a fim de que possam continuar contribuindo para a previdência social o suficiente para a percepção do benefício da aposentadoria , faz-se necessária a adoção de mecanismos que incentivem as empresas a contratar empregados mais experientes .",
                  "[]"
                ],
                [
                  "39",
                  "silas câmara e vinícius carvalho ) dispõe sobre a atualização do valor dos ativos das concessionárias de transmissão de energia elétrica considerados não depreciados existentes em 31 de maio de 2000 o congresso nacional decreta : art . 1º o art . 15 da lei nº 12.783 , 11 de janeiro de 2013 , passa a vigorar acrescido do seguinte § 3º-a : “ art . 15",
                  "[{'entity_group': 'PESSOA', 'score': np.float32(0.99696726), 'word': 'silas câmara', 'start': 0, 'end': 12}, {'entity_group': 'PESSOA', 'score': np.float32(0.998476), 'word': 'vinícius carvalho', 'start': 15, 'end': 32}, {'entity_group': 'TEMPO', 'score': np.float32(0.99944097), 'word': '31 de maio de 2000', 'start': 180, 'end': 198}, {'entity_group': 'ORGANIZACAO', 'score': np.float32(0.9775461), 'word': 'congresso nacional', 'start': 201, 'end': 219}, {'entity_group': 'LEGISLACAO', 'score': np.float32(0.9907359), 'word': 'art. 1º o art. 15 da lei nº 12. 783', 'start': 230, 'end': 266}, {'entity_group': 'TEMPO', 'score': np.float32(0.99958754), 'word': '11 de janeiro de 2013', 'start': 269, 'end': 290}]"
                ],
                [
                  "40",
                  "p l n .4 7 2 2 / 2 0 1 9 a p re s e n ta ç ã o : 2 7 / 0 8 / 2 0 1 9 1 8 : 5 2 justificação o alto consumo de agrotóxicos é um problema continuamente enfrentado ao redor do mundo dadas as poucas garantias de não serem , de fato , danosos ao organismo humano .",
                  "[]"
                ],
                [
                  "41",
                  "( nr ) art . 13 - b .",
                  "[]"
                ],
                [
                  "42",
                  "na áustria , há vedação ao encaixe de inserções publicitárias em programas infantis nos canais de tv por assinatura , mesmo aquelas não direcionadas para crianças .",
                  "[]"
                ],
                [
                  "43",
                  "( nr ) “ art . 22",
                  "[]"
                ],
                [
                  "44",
                  "cabe observar que muitos são os municípios que decretaram situação de emergência , bem como estado de calamidade pública , isto em virtude das enchentes provocadas pelos excessos de chuvas , trazendo assim endemias e epidemias animal e humana à população local .",
                  "[]"
                ],
                [
                  "45",
                  "atualmente , o diploma de regência é a lei nº 6.001 , de 19 de dezembro de 1973 , denominada estatuto do índio , juntamente com sua regulamentação , o decreto nº 1.775 , de 8 de janeiro de 1996 .",
                  "[{'entity_group': 'LEGISLACAO', 'score': np.float32(0.9992361), 'word': 'lei nº 6. 001', 'start': 39, 'end': 51}, {'entity_group': 'TEMPO', 'score': np.float32(0.9994564), 'word': '19 de dezembro de 1973', 'start': 57, 'end': 79}, {'entity_group': 'LEGISLACAO', 'score': np.float32(0.99920017), 'word': 'decreto nº 1. 775', 'start': 151, 'end': 167}, {'entity_group': 'TEMPO', 'score': np.float32(0.999598), 'word': '8 de janeiro de 1996', 'start': 173, 'end': 193}]"
                ],
                [
                  "46",
                  "v – ter atuado como organização criminosa , possuir vínculo com organização ou facção criminosa ou ter se beneficiado de atividades criminosas . . . . . . . . . . . . . . . . . . . . . . . . . . . . . . . . . . . . . . . . . . . . . . . . . . . . . . . . . . . . . . . . . . . . . . . . . . . . . . . . . . . . . . ” .",
                  "[]"
                ],
                [
                  "47",
                  "em um grande número de casos torna-se necessário o uso de medicação com potencial para reduzir um pouco o tamanho da próstata , e outros medicamentos que abrem o canal da uretra .",
                  "[]"
                ],
                [
                  "48",
                  "o objetivo precípuo da regularização fundiária mais expedita e direcionada à amazônia , como apregoa o programa terra legal , é contribuir para a desconcentração fundiária do território e a democratização do acesso à terra .",
                  "[{'entity_group': 'LOCAL', 'score': np.float32(0.98734146), 'word': 'amazônia', 'start': 77, 'end': 85}]"
                ],
                [
                  "49",
                  "junji abe ) acrescenta dispositivo à lei complementar nº 123 , de 14 de dezembro de 2006 , para estabelecer previsão legal de reajuste do limite de faturamento anual da empresa que integra o regime especial do microempreendedor individual – mei , na forma que especifica .",
                  "[{'entity_group': 'LEGISLACAO', 'score': np.float32(0.99896634), 'word': 'lei complementar nº 123', 'start': 37, 'end': 60}, {'entity_group': 'TEMPO', 'score': np.float32(0.99957335), 'word': '14 de dezembro de 2006', 'start': 66, 'end': 88}]"
                ]
              ],
              "shape": {
                "columns": 2,
                "rows": 1478
              }
            },
            "text/html": [
              "<div>\n",
              "<style scoped>\n",
              "    .dataframe tbody tr th:only-of-type {\n",
              "        vertical-align: middle;\n",
              "    }\n",
              "\n",
              "    .dataframe tbody tr th {\n",
              "        vertical-align: top;\n",
              "    }\n",
              "\n",
              "    .dataframe thead th {\n",
              "        text-align: right;\n",
              "    }\n",
              "</style>\n",
              "<table border=\"1\" class=\"dataframe\">\n",
              "  <thead>\n",
              "    <tr style=\"text-align: right;\">\n",
              "      <th></th>\n",
              "      <th>text</th>\n",
              "      <th>weak_label</th>\n",
              "    </tr>\n",
              "  </thead>\n",
              "  <tbody>\n",
              "    <tr>\n",
              "      <th>0</th>\n",
              "      <td>sala das sessões , em de de 2019 .</td>\n",
              "      <td>[{'entity_group': 'TEMPO', 'score': 0.9972467,...</td>\n",
              "    </tr>\n",
              "    <tr>\n",
              "      <th>1</th>\n",
              "      <td>da decisão de que trata o § 12 deste artigo ca...</td>\n",
              "      <td>[]</td>\n",
              "    </tr>\n",
              "    <tr>\n",
              "      <th>2</th>\n",
              "      <td>projeto de lei n.º , de 2017 ( do sr .</td>\n",
              "      <td>[{'entity_group': 'LEGISLACAO', 'score': 0.958...</td>\n",
              "    </tr>\n",
              "    <tr>\n",
              "      <th>3</th>\n",
              "      <td>deputado maurício dziedricki p l n .4 6 1 5 / ...</td>\n",
              "      <td>[{'entity_group': 'PESSOA', 'score': 0.9984737...</td>\n",
              "    </tr>\n",
              "    <tr>\n",
              "      <th>4</th>\n",
              "      <td>art . 4º esta lei entra em vigor na data de su...</td>\n",
              "      <td>[]</td>\n",
              "    </tr>\n",
              "    <tr>\n",
              "      <th>...</th>\n",
              "      <td>...</td>\n",
              "      <td>...</td>\n",
              "    </tr>\n",
              "    <tr>\n",
              "      <th>1473</th>\n",
              "      <td>trata-se de um projeto de grande utilidade , p...</td>\n",
              "      <td>[]</td>\n",
              "    </tr>\n",
              "    <tr>\n",
              "      <th>1474</th>\n",
              "      <td>paulo wagner ) dispõe sobre o programa escola ...</td>\n",
              "      <td>[{'entity_group': 'PESSOA', 'score': 0.9944211...</td>\n",
              "    </tr>\n",
              "    <tr>\n",
              "      <th>1475</th>\n",
              "      <td>iracema portella ) dispõe sobre abertura de li...</td>\n",
              "      <td>[{'entity_group': 'PESSOA', 'score': 0.8518268...</td>\n",
              "    </tr>\n",
              "    <tr>\n",
              "      <th>1476</th>\n",
              "      <td>arnaldo faria de sá deputado federal – são pau...</td>\n",
              "      <td>[{'entity_group': 'PESSOA', 'score': 0.9988308...</td>\n",
              "    </tr>\n",
              "    <tr>\n",
              "      <th>1477</th>\n",
              "      <td>não obstante as ambiciosas metas constantes do...</td>\n",
              "      <td>[]</td>\n",
              "    </tr>\n",
              "  </tbody>\n",
              "</table>\n",
              "<p>1478 rows × 2 columns</p>\n",
              "</div>"
            ],
            "text/plain": [
              "                                                   text  \\\n",
              "0                    sala das sessões , em de de 2019 .   \n",
              "1     da decisão de que trata o § 12 deste artigo ca...   \n",
              "2                projeto de lei n.º , de 2017 ( do sr .   \n",
              "3     deputado maurício dziedricki p l n .4 6 1 5 / ...   \n",
              "4     art . 4º esta lei entra em vigor na data de su...   \n",
              "...                                                 ...   \n",
              "1473  trata-se de um projeto de grande utilidade , p...   \n",
              "1474  paulo wagner ) dispõe sobre o programa escola ...   \n",
              "1475  iracema portella ) dispõe sobre abertura de li...   \n",
              "1476  arnaldo faria de sá deputado federal – são pau...   \n",
              "1477  não obstante as ambiciosas metas constantes do...   \n",
              "\n",
              "                                             weak_label  \n",
              "0     [{'entity_group': 'TEMPO', 'score': 0.9972467,...  \n",
              "1                                                    []  \n",
              "2     [{'entity_group': 'LEGISLACAO', 'score': 0.958...  \n",
              "3     [{'entity_group': 'PESSOA', 'score': 0.9984737...  \n",
              "4                                                    []  \n",
              "...                                                 ...  \n",
              "1473                                                 []  \n",
              "1474  [{'entity_group': 'PESSOA', 'score': 0.9944211...  \n",
              "1475  [{'entity_group': 'PESSOA', 'score': 0.8518268...  \n",
              "1476  [{'entity_group': 'PESSOA', 'score': 0.9988308...  \n",
              "1477                                                 []  \n",
              "\n",
              "[1478 rows x 2 columns]"
            ]
          },
          "execution_count": 28,
          "metadata": {},
          "output_type": "execute_result"
        }
      ],
      "source": [
        "df_lf_transfomer_1[\"weak_label\"] = ner_pipeline(df_lf_transfomer_1.text.values.tolist())\n",
        "df_lf_transfomer_1"
      ]
    },
    {
      "cell_type": "code",
      "execution_count": 29,
      "metadata": {
        "id": "FUddvPB8ZK_x"
      },
      "outputs": [],
      "source": [
        "import gc\n",
        "\n",
        "ner_pipeline = None\n",
        "gc.collect()\n",
        "torch.cuda.empty_cache()"
      ]
    },
    {
      "cell_type": "code",
      "execution_count": 30,
      "metadata": {
        "id": "ZxswJ0_DZTCJ"
      },
      "outputs": [
        {
          "data": {
            "text/plain": [
              "[{'entity_group': 'ORGANIZACAO',\n",
              "  'score': np.float32(0.9892431),\n",
              "  'word': 'congresso nacional',\n",
              "  'start': 2,\n",
              "  'end': 20},\n",
              " {'entity_group': 'LEGISLACAO',\n",
              "  'score': np.float32(0.9749722),\n",
              "  'word': '3º ao art. 12 da lei nº 11. 947',\n",
              "  'start': 62,\n",
              "  'end': 93},\n",
              " {'entity_group': 'TEMPO',\n",
              "  'score': np.float32(0.99938977),\n",
              "  'word': '16 de junho de 2009',\n",
              "  'start': 99,\n",
              "  'end': 118}]"
            ]
          },
          "execution_count": 30,
          "metadata": {},
          "output_type": "execute_result"
        }
      ],
      "source": [
        "df_lf_transfomer_1[\"weak_label\"].iloc[20]"
      ]
    },
    {
      "cell_type": "code",
      "execution_count": 31,
      "metadata": {},
      "outputs": [
        {
          "data": {
            "text/plain": [
              "'o congresso nacional decreta : art . 1º esta lei acrescenta § 3º ao art . 12 da lei nº 11.947 , de 16 de junho de 2009 , para obrigar a inclusão do café e do leite nos cardápios da alimentação escolar .'"
            ]
          },
          "execution_count": 31,
          "metadata": {},
          "output_type": "execute_result"
        }
      ],
      "source": [
        "df_lf_transfomer_1[\"text\"].iloc[20]"
      ]
    },
    {
      "cell_type": "code",
      "execution_count": 32,
      "metadata": {},
      "outputs": [],
      "source": [
        "def filter_organizacao_entities(weak_labels):\n",
        "    \"\"\"\n",
        "    Filtra apenas os objetos com entity_group == \"ORGANIZACAO\" em uma lista de entidades.\n",
        "\n",
        "    Args:\n",
        "        weak_labels (list): Lista de dicionários de entidades.\n",
        "\n",
        "    Returns:\n",
        "        list: Lista filtrada apenas com entidades do grupo \"ORGANIZACAO\".\n",
        "    \"\"\"\n",
        "    if not isinstance(weak_labels, list):\n",
        "        return []\n",
        "    return [entity for entity in weak_labels if entity.get(\"entity_group\") == \"ORGANIZACAO\"]\n",
        "\n",
        "\n",
        "df_lf_transfomer_1[\"weak_label\"] = df_lf_transfomer_1[\"weak_label\"].apply(filter_organizacao_entities)"
      ]
    },
    {
      "cell_type": "code",
      "execution_count": 33,
      "metadata": {},
      "outputs": [],
      "source": [
        "from helpers.ner import (\n",
        "    DataFrameAnnotator,\n",
        ") \n",
        "\n",
        "lf_transformer_1 = DataFrameAnnotator(\n",
        "    annotator_name=\"lf_transformer_1\",\n",
        "    data_frame=df_lf_transfomer_1,  # The DataFrame containing the weak labels\n",
        "    column_weak_label=\"weak_label\",\n",
        "    column_text=\"text\",\n",
        "    column_uid=\"uid\",\n",
        "    label_key_name=\"entity_group\",\n",
        ")"
      ]
    },
    {
      "cell_type": "code",
      "execution_count": 34,
      "metadata": {},
      "outputs": [
        {
          "data": {
            "text/html": [
              "<span class=\"tex2jax_ignore\"><div class=\"entities\" style=\"line-height: 2.5; direction: ltr\">os efeitos da condição dos refugiados são igualmente extensivos ao cônjuge , aos ascendentes e descendentes , assim como aos demais membros do grupo familiar do refugiado que dele dependerem economicamente , desde que se encontrem em território nacional . 3 dentro das medidas destinadas a integrar o refugiado e seus dependentes à sociedade e ao mercado de trabalho do país de acolhimento , inclui-se a necessidade de facilitação do reconhecimento de certificados e diplomas , como preceitua o art . 44 , da lei nº 9.474 , de 22 de julho de 1997 : art . 44 .</div></span>"
            ],
            "text/plain": [
              "<IPython.core.display.HTML object>"
            ]
          },
          "metadata": {},
          "output_type": "display_data"
        }
      ],
      "source": [
        "# Apply the TransformerNERAnnotator to the spaCy document\n",
        "# This step annotates the document with named entities using the pre-trained model\n",
        "lf_transformer_1(doc)\n",
        "\n",
        "# Display the annotated entities in the document\n",
        "# This function highlights the recognized entities in the document for visualization\n",
        "skweak.utils.display_entities(doc, \"lf_transformer_1\")"
      ]
    },
    {
      "cell_type": "markdown",
      "metadata": {},
      "source": [
        "## 2.3 Using Zero-Shot NER with GLiNER\n",
        "To complement other approaches, I used GLiNER, a zero-shot NER model that can detect custom entity types without task-specific fine-tuning. It allows flexible identification of “organization” entities even when not explicitly seen during training, making it a lightweight alternative to large language models."
      ]
    },
    {
      "cell_type": "code",
      "execution_count": 35,
      "metadata": {},
      "outputs": [
        {
          "name": "stderr",
          "output_type": "stream",
          "text": [
            "Fetching 11 files: 100%|██████████| 11/11 [00:00<00:00, 22138.84it/s]\n",
            "You are using the default legacy behaviour of the <class 'transformers.models.llama.tokenization_llama_fast.LlamaTokenizerFast'>. This is expected, and simply means that the `legacy` (previous) behavior will be used so nothing changes for you. If you want to use the new behaviour, set `legacy=False`. This should only be set if you understand what it means, and thoroughly read the reason why this was added as explained in https://github.com/huggingface/transformers/pull/24565 - if you loaded a llama tokenizer from a GGUF file you can ignore this message.\n",
            "Fetching 10 files: 100%|██████████| 10/10 [00:00<00:00, 210769.05it/s]\n",
            "Fetching 12 files: 100%|██████████| 12/12 [00:00<00:00, 33112.93it/s]\n",
            "/home/user/joao/ner-weak-supervision/venv/lib/python3.12/site-packages/gliner/model.py:92: UserWarning: Vocab size of the model (151648) does't match length of tokenizer (151649). \n",
            "                            You should to consider manually add new tokens to tokenizer or to load tokenizer with added tokens.\n",
            "  warnings.warn(f\"\"\"Vocab size of the model ({config.vocab_size}) does't match length of tokenizer ({len(self.data_processor.transformer_tokenizer)}).\n",
            "Fetching 11 files: 100%|██████████| 11/11 [00:00<00:00, 159644.79it/s]\n"
          ]
        }
      ],
      "source": [
        "# Import the GLiNER class from the gliner library\n",
        "# GLiNER is used for NER tasks\n",
        "from gliner import GLiNER\n",
        "\n",
        "# Import the helpers.ner module\n",
        "# This module contains helper functions for NER tasks\n",
        "import helpers.ner\n",
        "\n",
        "# Load a pre-trained GLiNER model\n",
        "# We'll use 3 different GLiNER flavours as Labeling Functions\n",
        "# The from_pretrained method loads the model weights and configuration\n",
        "model_gliner_llama = GLiNER.from_pretrained(\n",
        "    \"knowledgator/gliner-llama-1.3B-v1.0\",\n",
        ")\n",
        "\n",
        "model_gliner_bi_large = GLiNER.from_pretrained(\n",
        "    \"knowledgator/gliner-bi-large-v1.0\",\n",
        ")\n",
        "\n",
        "model_gliner_qwen = GLiNER.from_pretrained(\n",
        "    \"knowledgator/gliner-qwen-1.5B-v1.0\",\n",
        ")\n",
        "\n",
        "model_gliner_x_small = GLiNER.from_pretrained(\n",
        "    \"knowledgator/gliner-x-small-v0.5\",\n",
        ")\n",
        "\n",
        "model_gliner_llama = model_gliner_llama.half()\n",
        "model_gliner_bi_large = model_gliner_bi_large.half()\n",
        "model_gliner_qwen = model_gliner_qwen.half()\n",
        "model_gliner_x_small = model_gliner_x_small.half()"
      ]
    },
    {
      "cell_type": "code",
      "execution_count": 36,
      "metadata": {},
      "outputs": [],
      "source": [
        "# Extract the text content from the spaCy document\n",
        "# This text will be used as input for the GLiNER model\n",
        "text = doc.text\n",
        "\n",
        "# Define the list of labels to be recognized by the GLiNER model\n",
        "# In this case, we are interested in recognizing entities labeled as 'organization'\n",
        "labels = [\"organization\"]"
      ]
    },
    {
      "cell_type": "code",
      "execution_count": 37,
      "metadata": {},
      "outputs": [
        {
          "name": "stderr",
          "output_type": "stream",
          "text": [
            "Asking to truncate to max_length but no maximum length is provided and the model has no predefined maximum length. Default to no truncation.\n"
          ]
        },
        {
          "name": "stdout",
          "output_type": "stream",
          "text": [
            "[{'start': 72, 'end': 77, 'text': 'união', 'label': 'organization', 'score': 0.05291748046875}, {'start': 110, 'end': 114, 'text': 'VALE', 'label': 'organization', 'score': 0.0552978515625}, {'start': 135, 'end': 139, 'text': 'PSDB', 'label': 'organization', 'score': 0.168212890625}]\n"
          ]
        },
        {
          "data": {
            "text/html": [
              "<span class=\"tex2jax_ignore\"><div class=\"entities\" style=\"line-height: 2.5; direction: ltr\">Texto de teste na câmara dos deputados, a agu e o tribunal de contas da \n",
              "<mark class=\"entity\" style=\"background: #ff0a86; padding: 0.45em 0.6em; margin: 0 0.25em; line-height: 1; border-radius: 0.35em;\">\n",
              "    união\n",
              "    <span style=\"font-size: 0.8em; font-weight: bold; line-height: 1; border-radius: 0.35em; vertical-align: middle; margin-left: 0.5rem\">organization</span>\n",
              "</mark>\n",
              ", na companhia vale do rio doce (\n",
              "<mark class=\"entity\" style=\"background: #ff0a86; padding: 0.45em 0.6em; margin: 0 0.25em; line-height: 1; border-radius: 0.35em;\">\n",
              "    VALE\n",
              "    <span style=\"font-size: 0.8em; font-weight: bold; line-height: 1; border-radius: 0.35em; vertical-align: middle; margin-left: 0.5rem\">organization</span>\n",
              "</mark>\n",
              "), na petrobras e no \n",
              "<mark class=\"entity\" style=\"background: #ff0a86; padding: 0.45em 0.6em; margin: 0 0.25em; line-height: 1; border-radius: 0.35em;\">\n",
              "    PSDB\n",
              "    <span style=\"font-size: 0.8em; font-weight: bold; line-height: 1; border-radius: 0.35em; vertical-align: middle; margin-left: 0.5rem\">organization</span>\n",
              "</mark>\n",
              "</div></span>"
            ],
            "text/plain": [
              "<IPython.core.display.HTML object>"
            ]
          },
          "metadata": {},
          "output_type": "display_data"
        }
      ],
      "source": [
        "# Use the GLiNER model to predict entities in the text\n",
        "# The predict_entities method takes the text, labels, and a confidence threshold as input\n",
        "# The threshold parameter specifies the minimum confidence score for an entity to be considered valid\n",
        "result = model_gliner_llama.predict_entities(sample_text, labels, threshold=0.05)\n",
        "\n",
        "# Display the prediction results\n",
        "# This will show the recognized entities along with their positions and confidence scores\n",
        "print(result)\n",
        "\n",
        "# Render the annotated entities in the text using the helpers.ner module\n",
        "helpers.ner.render_entity_data_from_pipeline(sample_text, result, label_key_name=\"label\")"
      ]
    },
    {
      "cell_type": "code",
      "execution_count": 38,
      "metadata": {},
      "outputs": [
        {
          "name": "stderr",
          "output_type": "stream",
          "text": [
            "Asking to truncate to max_length but no maximum length is provided and the model has no predefined maximum length. Default to no truncation.\n"
          ]
        },
        {
          "name": "stdout",
          "output_type": "stream",
          "text": [
            "[{'start': 18, 'end': 38, 'text': 'câmara dos deputados', 'label': 'organization', 'score': 0.51806640625}, {'start': 42, 'end': 45, 'text': 'agu', 'label': 'organization', 'score': 0.431884765625}, {'start': 50, 'end': 77, 'text': 'tribunal de contas da união', 'label': 'organization', 'score': 0.470458984375}, {'start': 82, 'end': 108, 'text': 'companhia vale do rio doce', 'label': 'organization', 'score': 0.492431640625}, {'start': 110, 'end': 114, 'text': 'VALE', 'label': 'organization', 'score': 0.43505859375}, {'start': 120, 'end': 129, 'text': 'petrobras', 'label': 'organization', 'score': 0.5673828125}, {'start': 135, 'end': 139, 'text': 'PSDB', 'label': 'organization', 'score': 0.47998046875}]\n"
          ]
        },
        {
          "data": {
            "text/html": [
              "<span class=\"tex2jax_ignore\"><div class=\"entities\" style=\"line-height: 2.5; direction: ltr\">Texto de teste na \n",
              "<mark class=\"entity\" style=\"background: #3a1e8a; padding: 0.45em 0.6em; margin: 0 0.25em; line-height: 1; border-radius: 0.35em;\">\n",
              "    câmara dos deputados\n",
              "    <span style=\"font-size: 0.8em; font-weight: bold; line-height: 1; border-radius: 0.35em; vertical-align: middle; margin-left: 0.5rem\">organization</span>\n",
              "</mark>\n",
              ", a \n",
              "<mark class=\"entity\" style=\"background: #3a1e8a; padding: 0.45em 0.6em; margin: 0 0.25em; line-height: 1; border-radius: 0.35em;\">\n",
              "    agu\n",
              "    <span style=\"font-size: 0.8em; font-weight: bold; line-height: 1; border-radius: 0.35em; vertical-align: middle; margin-left: 0.5rem\">organization</span>\n",
              "</mark>\n",
              " e o \n",
              "<mark class=\"entity\" style=\"background: #3a1e8a; padding: 0.45em 0.6em; margin: 0 0.25em; line-height: 1; border-radius: 0.35em;\">\n",
              "    tribunal de contas da união\n",
              "    <span style=\"font-size: 0.8em; font-weight: bold; line-height: 1; border-radius: 0.35em; vertical-align: middle; margin-left: 0.5rem\">organization</span>\n",
              "</mark>\n",
              ", na \n",
              "<mark class=\"entity\" style=\"background: #3a1e8a; padding: 0.45em 0.6em; margin: 0 0.25em; line-height: 1; border-radius: 0.35em;\">\n",
              "    companhia vale do rio doce\n",
              "    <span style=\"font-size: 0.8em; font-weight: bold; line-height: 1; border-radius: 0.35em; vertical-align: middle; margin-left: 0.5rem\">organization</span>\n",
              "</mark>\n",
              " (\n",
              "<mark class=\"entity\" style=\"background: #3a1e8a; padding: 0.45em 0.6em; margin: 0 0.25em; line-height: 1; border-radius: 0.35em;\">\n",
              "    VALE\n",
              "    <span style=\"font-size: 0.8em; font-weight: bold; line-height: 1; border-radius: 0.35em; vertical-align: middle; margin-left: 0.5rem\">organization</span>\n",
              "</mark>\n",
              "), na \n",
              "<mark class=\"entity\" style=\"background: #3a1e8a; padding: 0.45em 0.6em; margin: 0 0.25em; line-height: 1; border-radius: 0.35em;\">\n",
              "    petrobras\n",
              "    <span style=\"font-size: 0.8em; font-weight: bold; line-height: 1; border-radius: 0.35em; vertical-align: middle; margin-left: 0.5rem\">organization</span>\n",
              "</mark>\n",
              " e no \n",
              "<mark class=\"entity\" style=\"background: #3a1e8a; padding: 0.45em 0.6em; margin: 0 0.25em; line-height: 1; border-radius: 0.35em;\">\n",
              "    PSDB\n",
              "    <span style=\"font-size: 0.8em; font-weight: bold; line-height: 1; border-radius: 0.35em; vertical-align: middle; margin-left: 0.5rem\">organization</span>\n",
              "</mark>\n",
              "</div></span>"
            ],
            "text/plain": [
              "<IPython.core.display.HTML object>"
            ]
          },
          "metadata": {},
          "output_type": "display_data"
        }
      ],
      "source": [
        "# Use the GLiNER model to predict entities in the text\n",
        "# The predict_entities method takes the text, labels, and a confidence threshold as input\n",
        "# The threshold parameter specifies the minimum confidence score for an entity to be considered valid\n",
        "result = model_gliner_bi_large.predict_entities(sample_text, labels, threshold=0.4)\n",
        "\n",
        "# Display the prediction results\n",
        "# This will show the recognized entities along with their positions and confidence scores\n",
        "print(result)\n",
        "\n",
        "# Render the annotated entities in the text using the helpers.ner module\n",
        "helpers.ner.render_entity_data_from_pipeline(sample_text, result, label_key_name=\"label\")"
      ]
    },
    {
      "cell_type": "code",
      "execution_count": 39,
      "metadata": {},
      "outputs": [
        {
          "name": "stdout",
          "output_type": "stream",
          "text": [
            "[]\n"
          ]
        },
        {
          "data": {
            "text/html": [
              "<span class=\"tex2jax_ignore\"><div class=\"entities\" style=\"line-height: 2.5; direction: ltr\">Texto de teste na câmara dos deputados, a agu e o tribunal de contas da união, na companhia vale do rio doce (VALE), na petrobras e no PSDB</div></span>"
            ],
            "text/plain": [
              "<IPython.core.display.HTML object>"
            ]
          },
          "metadata": {},
          "output_type": "display_data"
        }
      ],
      "source": [
        "# Use the GLiNER model to predict entities in the text\n",
        "# The predict_entities method takes the text, labels, and a confidence threshold as input\n",
        "# The threshold parameter specifies the minimum confidence score for an entity to be considered valid\n",
        "result = model_gliner_qwen.predict_entities(sample_text, labels, threshold=0.05)\n",
        "\n",
        "# Display the prediction results\n",
        "# This will show the recognized entities along with their positions and confidence scores\n",
        "print(result)\n",
        "\n",
        "# Render the annotated entities in the text using the helpers.ner module\n",
        "helpers.ner.render_entity_data_from_pipeline(sample_text, result, label_key_name=\"label\")"
      ]
    },
    {
      "cell_type": "code",
      "execution_count": 40,
      "metadata": {},
      "outputs": [
        {
          "name": "stderr",
          "output_type": "stream",
          "text": [
            "Asking to truncate to max_length but no maximum length is provided and the model has no predefined maximum length. Default to no truncation.\n"
          ]
        },
        {
          "name": "stdout",
          "output_type": "stream",
          "text": [
            "[{'start': 92, 'end': 108, 'text': 'vale do rio doce', 'label': 'organization', 'score': 0.437744140625}, {'start': 110, 'end': 114, 'text': 'VALE', 'label': 'organization', 'score': 0.7509765625}, {'start': 135, 'end': 139, 'text': 'PSDB', 'label': 'organization', 'score': 0.9951171875}]\n"
          ]
        },
        {
          "data": {
            "text/html": [
              "<span class=\"tex2jax_ignore\"><div class=\"entities\" style=\"line-height: 2.5; direction: ltr\">Texto de teste na câmara dos deputados, a agu e o tribunal de contas da união, na companhia \n",
              "<mark class=\"entity\" style=\"background: #3538be; padding: 0.45em 0.6em; margin: 0 0.25em; line-height: 1; border-radius: 0.35em;\">\n",
              "    vale do rio doce\n",
              "    <span style=\"font-size: 0.8em; font-weight: bold; line-height: 1; border-radius: 0.35em; vertical-align: middle; margin-left: 0.5rem\">organization</span>\n",
              "</mark>\n",
              " (\n",
              "<mark class=\"entity\" style=\"background: #3538be; padding: 0.45em 0.6em; margin: 0 0.25em; line-height: 1; border-radius: 0.35em;\">\n",
              "    VALE\n",
              "    <span style=\"font-size: 0.8em; font-weight: bold; line-height: 1; border-radius: 0.35em; vertical-align: middle; margin-left: 0.5rem\">organization</span>\n",
              "</mark>\n",
              "), na petrobras e no \n",
              "<mark class=\"entity\" style=\"background: #3538be; padding: 0.45em 0.6em; margin: 0 0.25em; line-height: 1; border-radius: 0.35em;\">\n",
              "    PSDB\n",
              "    <span style=\"font-size: 0.8em; font-weight: bold; line-height: 1; border-radius: 0.35em; vertical-align: middle; margin-left: 0.5rem\">organization</span>\n",
              "</mark>\n",
              "</div></span>"
            ],
            "text/plain": [
              "<IPython.core.display.HTML object>"
            ]
          },
          "metadata": {},
          "output_type": "display_data"
        }
      ],
      "source": [
        "# Use the GLiNER model to predict entities in the text\n",
        "# The predict_entities method takes the text, labels, and a confidence threshold as input\n",
        "# The threshold parameter specifies the minimum confidence score for an entity to be considered valid\n",
        "result = model_gliner_x_small.predict_entities(sample_text, labels, threshold=0.4)\n",
        "\n",
        "# Display the prediction results\n",
        "# This will show the recognized entities along with their positions and confidence scores\n",
        "print(result)\n",
        "\n",
        "# Render the annotated entities in the text using the helpers.ner module\n",
        "helpers.ner.render_entity_data_from_pipeline(sample_text, result, label_key_name=\"label\")"
      ]
    },
    {
      "cell_type": "markdown",
      "metadata": {},
      "source": [
        "- The performance of gliner llama and gliner qwen was not good enough to be used in our label function\n",
        "\n",
        "- I set the threshold to 0.4 because it was a good common result\n",
        "\n",
        "- Searching for other types of gliner models, I found gliner x small, which I thought was good enough to add to the pipeline"
      ]
    },
    {
      "cell_type": "code",
      "execution_count": 41,
      "metadata": {},
      "outputs": [],
      "source": [
        "def create_batches(data, batch_size):\n",
        "    \"\"\"\n",
        "    Create batches of data with a specified batch size.\n",
        "\n",
        "    Args:\n",
        "        data (list): The input data to be batched.\n",
        "        batch_size (int): The size of each batch.\n",
        "\n",
        "    Returns:\n",
        "        list: A list of batches containing the input data.\n",
        "    \"\"\"\n",
        "    # Initialize an empty list to store the batches\n",
        "    batches = []\n",
        "\n",
        "    # Iterate over the data in steps of the batch size\n",
        "    for i in range(0, len(data), batch_size):\n",
        "        # Extract a batch of data with the specified size\n",
        "        batch = data[i : i + batch_size]\n",
        "        # Append the batch to the list of batches\n",
        "        batches.append(batch)\n",
        "\n",
        "    return batches"
      ]
    },
    {
      "cell_type": "code",
      "execution_count": 42,
      "metadata": {},
      "outputs": [],
      "source": [
        "from tqdm import tqdm\n",
        "import torch\n",
        "import gc\n",
        "\n",
        "\n",
        "def process_labels_gliner(model, spacy_docs, batch_size):\n",
        "    \"\"\"\n",
        "    Process weak labels using a GLiNER model.\n",
        "\n",
        "    Args:\n",
        "        model: The GLiNER model for predicting entities.\n",
        "        spacy_docs: A list of spaCy documents to process.\n",
        "        batch_size: The size of each batch for processing.\n",
        "\n",
        "    Returns:\n",
        "        list: A list of weak labels predicted by the model.\n",
        "    \"\"\"\n",
        "    # Send the model to the GPU for faster processing\n",
        "    model = model.cuda()\n",
        "\n",
        "    # Initialize an empty list to store the weak labels\n",
        "    weak_labels = []\n",
        "\n",
        "    # Create a DataFrame to store the text data\n",
        "    df = pd.DataFrame([doc.text for doc in spacy_docs], columns=[\"text\"])\n",
        "\n",
        "    # Create batches of spaCy documents for processing\n",
        "    batches = create_batches(spacy_docs, batch_size)\n",
        "\n",
        "    # Iterate over the batches of data\n",
        "    for batch in tqdm(batches):\n",
        "        # Extract the text content from the spaCy documents in the batch\n",
        "        texts = [doc.text for doc in batch]\n",
        "        # Use the GLiNER model to predict entities in the batch of text\n",
        "        # The predict_entities method takes the text, labels, and a confidence threshold as input\n",
        "        # The threshold parameter specifies the minimum confidence score for an entity to be considered valid\n",
        "        result = model.batch_predict_entities(texts, labels, threshold=0.4)\n",
        "        # Append the prediction results to the list of weak labels\n",
        "        weak_labels.extend(result)\n",
        "\n",
        "    # Assign the weak labels to the 'weak_label' column in the DataFrame\n",
        "    df[\"weak_label\"] = weak_labels\n",
        "\n",
        "    # Send the model back to the CPU to free up GPU memory\n",
        "    model = model.cpu()\n",
        "    model = None\n",
        "    gc.collect()\n",
        "    torch.cuda.empty_cache()\n",
        "\n",
        "    return df"
      ]
    },
    {
      "cell_type": "code",
      "execution_count": 43,
      "metadata": {},
      "outputs": [
        {
          "name": "stderr",
          "output_type": "stream",
          "text": [
            "100%|██████████| 74/74 [00:05<00:00, 12.63it/s]\n"
          ]
        },
        {
          "data": {
            "text/plain": [
              "[{'start': 2,\n",
              "  'end': 20,\n",
              "  'text': 'congresso nacional',\n",
              "  'label': 'organization',\n",
              "  'score': 0.5},\n",
              " {'start': 181,\n",
              "  'end': 200,\n",
              "  'text': 'alimentação escolar',\n",
              "  'label': 'organization',\n",
              "  'score': 0.41552734375}]"
            ]
          },
          "execution_count": 43,
          "metadata": {},
          "output_type": "execute_result"
        }
      ],
      "source": [
        "df_lf_gliner_bi_large = process_labels_gliner(model_gliner_bi_large, spacy_docs_train, 20)\n",
        "df_lf_gliner_bi_large.iloc[20][\"weak_label\"]"
      ]
    },
    {
      "cell_type": "code",
      "execution_count": 44,
      "metadata": {},
      "outputs": [
        {
          "name": "stderr",
          "output_type": "stream",
          "text": [
            "100%|██████████| 74/74 [00:01<00:00, 39.48it/s]\n"
          ]
        },
        {
          "data": {
            "text/plain": [
              "[{'start': 2,\n",
              "  'end': 20,\n",
              "  'text': 'congresso nacional',\n",
              "  'label': 'organization',\n",
              "  'score': 0.96728515625}]"
            ]
          },
          "execution_count": 44,
          "metadata": {},
          "output_type": "execute_result"
        }
      ],
      "source": [
        "df_lf_gliner_x_small = process_labels_gliner(model_gliner_x_small, spacy_docs_train, 20)\n",
        "df_lf_gliner_x_small.iloc[20][\"weak_label\"]"
      ]
    },
    {
      "cell_type": "code",
      "execution_count": 45,
      "metadata": {},
      "outputs": [
        {
          "name": "stdout",
          "output_type": "stream",
          "text": [
            "Df com as labels fracas do GLiNER bi large:\n"
          ]
        },
        {
          "data": {
            "application/vnd.microsoft.datawrangler.viewer.v0+json": {
              "columns": [
                {
                  "name": "index",
                  "rawType": "int64",
                  "type": "integer"
                },
                {
                  "name": "text",
                  "rawType": "object",
                  "type": "string"
                },
                {
                  "name": "weak_label",
                  "rawType": "object",
                  "type": "unknown"
                }
              ],
              "ref": "0ffd06a9-1505-49c0-983d-6b16a3ca2d1c",
              "rows": [
                [
                  "0",
                  "sala das sessões , em de de 2019 .",
                  "[]"
                ],
                [
                  "1",
                  "da decisão de que trata o § 12 deste artigo caberá recurso administrativo com efeito suspensivo .",
                  "[]"
                ],
                [
                  "2",
                  "projeto de lei n.º , de 2017 ( do sr .",
                  "[]"
                ],
                [
                  "3",
                  "deputado maurício dziedricki p l n .4 6 1 5 / 2 0 1 9 a p re s e n ta ç ã o : 2 1 / 0 8 / 2 0 1 9 1 4 : 1 6",
                  "[]"
                ],
                [
                  "4",
                  "art . 4º esta lei entra em vigor na data de sua publicação .",
                  "[]"
                ],
                [
                  "5",
                  "com o forte crescimento da população idosa masculina no país , a perspectiva é a de crescimento vertiginoso dos casos de câncer de próstata , conforme já constatado pelas estatísticas disponíveis .",
                  "[]"
                ],
                [
                  "6",
                  "a câmara dos deputados resolve : art . 1º esta resolução dá denominação ao plenário 2 , do anexo ii , da câmara dos deputados .",
                  "[{'start': 2, 'end': 22, 'text': 'câmara dos deputados', 'label': 'organization', 'score': 0.58349609375}, {'start': 105, 'end': 125, 'text': 'câmara dos deputados', 'label': 'organization', 'score': 0.55029296875}]"
                ],
                [
                  "7",
                  "art . 2º as normas regulamentadoras definirão as estratégias para o cumprimento desta determinação , disciplinando sobre os participantes , pessoas físicas ou jurídicas , priorizando para temas voltados para a prevenção de acidentes de trânsito , levando em consideração os aspectos humanos e comportamentais .",
                  "[]"
                ],
                [
                  "8",
                  "os portadores de formas crônicas de hepatite demandam atenção médica especializada constante para que seu quadro não evolua .",
                  "[]"
                ],
                [
                  "9",
                  "outra face deste processo foi a disseminação dos atendimentos automatizados que , além do custo da tarifa , impõem grande perda de tempo e constrangimento aos usuários .",
                  "[]"
                ],
                [
                  "10",
                  "assim , considerando que esses recursos surgiriam apenas para o esporte , a alteração feita no texto da lei nº 11.438 / 2006 foi extremamente prejudicial para o desporto e paradesporto brasileiro .",
                  "[]"
                ],
                [
                  "11",
                  "sala das sessões , em 16 de março de 2011 .",
                  "[]"
                ],
                [
                  "12",
                  "o crime já está tipificado no código brasileiro de trânsito , entretanto sua divulgação não consta da lei nº 9.294 / 96 .",
                  "[]"
                ],
                [
                  "13",
                  "projeto de lei nº , de 2011 ( do sr .",
                  "[]"
                ],
                [
                  "14",
                  "apesar das dificuldades apontadas , conto com o discernimento dos nobres pares para , em conjunto , alcançarmos uma solução para essas graves questões .",
                  "[]"
                ],
                [
                  "15",
                  "projeto de lei nº , de 2019 .",
                  "[]"
                ],
                [
                  "16",
                  "projeto de lei nº , de 2011 ( do sr. marllos sampaio ) torna crime aliciar idoso para contrair empréstimos .",
                  "[]"
                ],
                [
                  "17",
                  "convém , ainda , que a especificação de parâmetros e exigências venha a ser tratada em regulamento , uma vez que a dinâmica da evolução tecnológica pode impor frequentes atualizações .",
                  "[]"
                ],
                [
                  "18",
                  "afigura-se , portanto , desnecessária inscrição em ordem ou conselho para o exercício da profissão de músico . ”",
                  "[]"
                ],
                [
                  "19",
                  "deputada bruna furlan",
                  "[]"
                ],
                [
                  "20",
                  "o congresso nacional decreta : art . 1º esta lei acrescenta § 3º ao art . 12 da lei nº 11.947 , de 16 de junho de 2009 , para obrigar a inclusão do café e do leite nos cardápios da alimentação escolar .",
                  "[{'start': 2, 'end': 20, 'text': 'congresso nacional', 'label': 'organization', 'score': 0.5}, {'start': 181, 'end': 200, 'text': 'alimentação escolar', 'label': 'organization', 'score': 0.41552734375}]"
                ],
                [
                  "21",
                  "esta resolução entra em vigor na data de sua publicação .",
                  "[]"
                ],
                [
                  "22",
                  "art . 2º revoga-se a lei nº 13.586 , de 28 de dezembro de 2017 .",
                  "[]"
                ],
                [
                  "23",
                  "o problema é que , uma vez verificado que determinado município enquadrado nesta categoria de pequeno ultrapassou qualquer uma p l p n .1 9 0 / 2 0 1 9 a p re s e n ta ç ã o : 1 4 / 0 8 / 2 0 1 9 1 4 : 5 5 2 das regras previstas , as sanções aplicadas são as mesmas dos demais entes , que incluem sobretudo a inclusão do município como inadimplente no cadastro único de convênios e a suspensão imediata das transferências voluntárias da união .",
                  "[]"
                ],
                [
                  "24",
                  "o número de assassinatos tem chegado a 4,8 para cada 100 mil mulheres .",
                  "[]"
                ],
                [
                  "25",
                  "esta lei entra em vigor cento e oitenta dias após sua publicação oficial .",
                  "[]"
                ],
                [
                  "26",
                  "o congresso nacional decreta : art . 1º esta lei regula a indenização de benfeitorias a agricultores ocupantes de boa-fé em terras indígenas , nos termos estabelecidos pelo § 6º do art . 231 da constituição federal .",
                  "[{'start': 2, 'end': 20, 'text': 'congresso nacional', 'label': 'organization', 'score': 0.51318359375}]"
                ],
                [
                  "27",
                  "diante dessa realidade , o mandamento convencional e legal de integração sociocultural e laboral do refugiado admitido no brasil resta , pois , esvaziado de eficácia , havendo a necessidade de complementação da legislação existente .",
                  "[]"
                ],
                [
                  "28",
                  "§ 2º a escritura e demais atos notariais serão gratuitos aos hipossuficientes econômicos . ”",
                  "[]"
                ],
                [
                  "29",
                  "esses mecanismos devem estar relacionados exatamente à execução da pena .",
                  "[]"
                ],
                [
                  "30",
                  "igualmente nocivos são os efeitos dos saltos altos sobre a coluna infantil , consistindo no aumento da curvatura da região lombar em decorrência da projeção para a frente do centro de gravidade corporal , o que pode gerar dores e , até mesmo , mudanças na posição da coluna .",
                  "[]"
                ],
                [
                  "31",
                  "i - 6% ( seis por cento ) para a entidade reguladora do setor de mineração ; ii – 1,5% ( um inteiro e cinco décimos por cento ) para o fundo nacional de desenvolvimento científico e tecnológico ( fndct ) , instituído pelo decreto-lei nº 719 , de 31 de julho de 1969 , e restabelecido pela lei nº 8.172 , de 18 de janeiro de 1991 , destinado ao desenvolvimento científico e tecnológico do setor mineral , sendo aplicado , no mínimo , 0,5% ( cinco décimos por cento ) em pesquisas , estudos e projetos para o beneficiamento de rejeitos e estéreis de minerais para uso em outras cadeias produtivas ; . . . . . . . . . . . . . . . . . . . . . . . . . . . . . . . . . . . . . . . . . . . . . . . . . . . . . . . . . . . . . . . . . . . . . . . . . . . . . . . . . . . . . . . . . . . . . . . .",
                  "[{'start': 33, 'end': 74, 'text': 'entidade reguladora do setor de mineração', 'label': 'organization', 'score': 0.52197265625}, {'start': 135, 'end': 193, 'text': 'fundo nacional de desenvolvimento científico e tecnológico', 'label': 'organization', 'score': 0.52392578125}, {'start': 196, 'end': 201, 'text': 'fndct', 'label': 'organization', 'score': 0.43310546875}]"
                ],
                [
                  "32",
                  "nesse contexto , a lei antidrogas ( lei nº 11.343 , de 23 de agosto de 2006 ) fixou algumas obrigações estatais direcionadas à prevenção do uso indevido e à reinserção social dos usuários de drogas .",
                  "[]"
                ],
                [
                  "33",
                  "art . 3 ° esta lei entra em vigor na data de sua publicação .",
                  "[]"
                ],
                [
                  "34",
                  "não podemos mais aceitar que nossa juventude seja imolada , em favor de uns poucos e , nós parlamentares nada façamos .",
                  "[]"
                ],
                [
                  "35",
                  "dada a inequívoca importância da matéria , esperamos poder contar com o apoio dos nossos ilustres pares nessa casa para sua célere aprovação .",
                  "[]"
                ],
                [
                  "36",
                  "p l n .4 7 4 8 / 2 0 1 9 a p re s e n ta ç ã o : 2 8 / 0 8 / 2 0 1 9 1 6 : 0 1 3 também na linha de combater a reincidência , o núcleo judiciário da mulher , no distrito federal , tem estabelecido conversas reflexivas com condenados pela lei maria da penha , que abordam sistema de crenças , dependência afetiva , e auto responsabilidade .",
                  "[{'start': 128, 'end': 155, 'text': 'núcleo judiciário da mulher', 'label': 'organization', 'score': 0.515625}]"
                ],
                [
                  "37",
                  "amparado em tais argumento , esperamos contar com o decisivo apoio dos nobres pares para a aprovação dessa proposta legislativa .",
                  "[]"
                ],
                [
                  "38",
                  "justificação diante do aumento da expectativa de vida do brasileiro e da necessidade de inclusão e de manutenção dos trabalhadores com 50 anos de idade ou mais no mercado de trabalho , a fim de que possam continuar contribuindo para a previdência social o suficiente para a percepção do benefício da aposentadoria , faz-se necessária a adoção de mecanismos que incentivem as empresas a contratar empregados mais experientes .",
                  "[{'start': 235, 'end': 253, 'text': 'previdência social', 'label': 'organization', 'score': 0.421142578125}, {'start': 375, 'end': 383, 'text': 'empresas', 'label': 'organization', 'score': 0.5595703125}]"
                ],
                [
                  "39",
                  "silas câmara e vinícius carvalho ) dispõe sobre a atualização do valor dos ativos das concessionárias de transmissão de energia elétrica considerados não depreciados existentes em 31 de maio de 2000 o congresso nacional decreta : art . 1º o art . 15 da lei nº 12.783 , 11 de janeiro de 2013 , passa a vigorar acrescido do seguinte § 3º-a : “ art . 15",
                  "[{'start': 86, 'end': 136, 'text': 'concessionárias de transmissão de energia elétrica', 'label': 'organization', 'score': 0.50146484375}, {'start': 201, 'end': 219, 'text': 'congresso nacional', 'label': 'organization', 'score': 0.440673828125}]"
                ],
                [
                  "40",
                  "p l n .4 7 2 2 / 2 0 1 9 a p re s e n ta ç ã o : 2 7 / 0 8 / 2 0 1 9 1 8 : 5 2 justificação o alto consumo de agrotóxicos é um problema continuamente enfrentado ao redor do mundo dadas as poucas garantias de não serem , de fato , danosos ao organismo humano .",
                  "[]"
                ],
                [
                  "41",
                  "( nr ) art . 13 - b .",
                  "[]"
                ],
                [
                  "42",
                  "na áustria , há vedação ao encaixe de inserções publicitárias em programas infantis nos canais de tv por assinatura , mesmo aquelas não direcionadas para crianças .",
                  "[]"
                ],
                [
                  "43",
                  "( nr ) “ art . 22",
                  "[]"
                ],
                [
                  "44",
                  "cabe observar que muitos são os municípios que decretaram situação de emergência , bem como estado de calamidade pública , isto em virtude das enchentes provocadas pelos excessos de chuvas , trazendo assim endemias e epidemias animal e humana à população local .",
                  "[]"
                ],
                [
                  "45",
                  "atualmente , o diploma de regência é a lei nº 6.001 , de 19 de dezembro de 1973 , denominada estatuto do índio , juntamente com sua regulamentação , o decreto nº 1.775 , de 8 de janeiro de 1996 .",
                  "[]"
                ],
                [
                  "46",
                  "v – ter atuado como organização criminosa , possuir vínculo com organização ou facção criminosa ou ter se beneficiado de atividades criminosas . . . . . . . . . . . . . . . . . . . . . . . . . . . . . . . . . . . . . . . . . . . . . . . . . . . . . . . . . . . . . . . . . . . . . . . . . . . . . . . . . . . . . . ” .",
                  "[]"
                ],
                [
                  "47",
                  "em um grande número de casos torna-se necessário o uso de medicação com potencial para reduzir um pouco o tamanho da próstata , e outros medicamentos que abrem o canal da uretra .",
                  "[]"
                ],
                [
                  "48",
                  "o objetivo precípuo da regularização fundiária mais expedita e direcionada à amazônia , como apregoa o programa terra legal , é contribuir para a desconcentração fundiária do território e a democratização do acesso à terra .",
                  "[]"
                ],
                [
                  "49",
                  "junji abe ) acrescenta dispositivo à lei complementar nº 123 , de 14 de dezembro de 2006 , para estabelecer previsão legal de reajuste do limite de faturamento anual da empresa que integra o regime especial do microempreendedor individual – mei , na forma que especifica .",
                  "[{'start': 169, 'end': 176, 'text': 'empresa', 'label': 'organization', 'score': 0.48974609375}]"
                ]
              ],
              "shape": {
                "columns": 2,
                "rows": 1478
              }
            },
            "text/html": [
              "<div>\n",
              "<style scoped>\n",
              "    .dataframe tbody tr th:only-of-type {\n",
              "        vertical-align: middle;\n",
              "    }\n",
              "\n",
              "    .dataframe tbody tr th {\n",
              "        vertical-align: top;\n",
              "    }\n",
              "\n",
              "    .dataframe thead th {\n",
              "        text-align: right;\n",
              "    }\n",
              "</style>\n",
              "<table border=\"1\" class=\"dataframe\">\n",
              "  <thead>\n",
              "    <tr style=\"text-align: right;\">\n",
              "      <th></th>\n",
              "      <th>text</th>\n",
              "      <th>weak_label</th>\n",
              "    </tr>\n",
              "  </thead>\n",
              "  <tbody>\n",
              "    <tr>\n",
              "      <th>0</th>\n",
              "      <td>sala das sessões , em de de 2019 .</td>\n",
              "      <td>[]</td>\n",
              "    </tr>\n",
              "    <tr>\n",
              "      <th>1</th>\n",
              "      <td>da decisão de que trata o § 12 deste artigo ca...</td>\n",
              "      <td>[]</td>\n",
              "    </tr>\n",
              "    <tr>\n",
              "      <th>2</th>\n",
              "      <td>projeto de lei n.º , de 2017 ( do sr .</td>\n",
              "      <td>[]</td>\n",
              "    </tr>\n",
              "    <tr>\n",
              "      <th>3</th>\n",
              "      <td>deputado maurício dziedricki p l n .4 6 1 5 / ...</td>\n",
              "      <td>[]</td>\n",
              "    </tr>\n",
              "    <tr>\n",
              "      <th>4</th>\n",
              "      <td>art . 4º esta lei entra em vigor na data de su...</td>\n",
              "      <td>[]</td>\n",
              "    </tr>\n",
              "    <tr>\n",
              "      <th>...</th>\n",
              "      <td>...</td>\n",
              "      <td>...</td>\n",
              "    </tr>\n",
              "    <tr>\n",
              "      <th>1473</th>\n",
              "      <td>trata-se de um projeto de grande utilidade , p...</td>\n",
              "      <td>[]</td>\n",
              "    </tr>\n",
              "    <tr>\n",
              "      <th>1474</th>\n",
              "      <td>paulo wagner ) dispõe sobre o programa escola ...</td>\n",
              "      <td>[]</td>\n",
              "    </tr>\n",
              "    <tr>\n",
              "      <th>1475</th>\n",
              "      <td>iracema portella ) dispõe sobre abertura de li...</td>\n",
              "      <td>[{'start': 75, 'end': 97, 'text': 'instituiçõe...</td>\n",
              "    </tr>\n",
              "    <tr>\n",
              "      <th>1476</th>\n",
              "      <td>arnaldo faria de sá deputado federal – são pau...</td>\n",
              "      <td>[]</td>\n",
              "    </tr>\n",
              "    <tr>\n",
              "      <th>1477</th>\n",
              "      <td>não obstante as ambiciosas metas constantes do...</td>\n",
              "      <td>[]</td>\n",
              "    </tr>\n",
              "  </tbody>\n",
              "</table>\n",
              "<p>1478 rows × 2 columns</p>\n",
              "</div>"
            ],
            "text/plain": [
              "                                                   text  \\\n",
              "0                    sala das sessões , em de de 2019 .   \n",
              "1     da decisão de que trata o § 12 deste artigo ca...   \n",
              "2                projeto de lei n.º , de 2017 ( do sr .   \n",
              "3     deputado maurício dziedricki p l n .4 6 1 5 / ...   \n",
              "4     art . 4º esta lei entra em vigor na data de su...   \n",
              "...                                                 ...   \n",
              "1473  trata-se de um projeto de grande utilidade , p...   \n",
              "1474  paulo wagner ) dispõe sobre o programa escola ...   \n",
              "1475  iracema portella ) dispõe sobre abertura de li...   \n",
              "1476  arnaldo faria de sá deputado federal – são pau...   \n",
              "1477  não obstante as ambiciosas metas constantes do...   \n",
              "\n",
              "                                             weak_label  \n",
              "0                                                    []  \n",
              "1                                                    []  \n",
              "2                                                    []  \n",
              "3                                                    []  \n",
              "4                                                    []  \n",
              "...                                                 ...  \n",
              "1473                                                 []  \n",
              "1474                                                 []  \n",
              "1475  [{'start': 75, 'end': 97, 'text': 'instituiçõe...  \n",
              "1476                                                 []  \n",
              "1477                                                 []  \n",
              "\n",
              "[1478 rows x 2 columns]"
            ]
          },
          "metadata": {},
          "output_type": "display_data"
        },
        {
          "name": "stdout",
          "output_type": "stream",
          "text": [
            "\n",
            "\n",
            "\n",
            "Df com as labels fracas do GLiNER x small:\n"
          ]
        },
        {
          "data": {
            "application/vnd.microsoft.datawrangler.viewer.v0+json": {
              "columns": [
                {
                  "name": "index",
                  "rawType": "int64",
                  "type": "integer"
                },
                {
                  "name": "text",
                  "rawType": "object",
                  "type": "string"
                },
                {
                  "name": "weak_label",
                  "rawType": "object",
                  "type": "unknown"
                }
              ],
              "ref": "677e8296-cbe9-4e9f-9ed2-e5f13d6aa894",
              "rows": [
                [
                  "0",
                  "sala das sessões , em de de 2019 .",
                  "[]"
                ],
                [
                  "1",
                  "da decisão de que trata o § 12 deste artigo caberá recurso administrativo com efeito suspensivo .",
                  "[]"
                ],
                [
                  "2",
                  "projeto de lei n.º , de 2017 ( do sr .",
                  "[]"
                ],
                [
                  "3",
                  "deputado maurício dziedricki p l n .4 6 1 5 / 2 0 1 9 a p re s e n ta ç ã o : 2 1 / 0 8 / 2 0 1 9 1 4 : 1 6",
                  "[]"
                ],
                [
                  "4",
                  "art . 4º esta lei entra em vigor na data de sua publicação .",
                  "[]"
                ],
                [
                  "5",
                  "com o forte crescimento da população idosa masculina no país , a perspectiva é a de crescimento vertiginoso dos casos de câncer de próstata , conforme já constatado pelas estatísticas disponíveis .",
                  "[]"
                ],
                [
                  "6",
                  "a câmara dos deputados resolve : art . 1º esta resolução dá denominação ao plenário 2 , do anexo ii , da câmara dos deputados .",
                  "[{'start': 2, 'end': 22, 'text': 'câmara dos deputados', 'label': 'organization', 'score': 0.98046875}, {'start': 105, 'end': 125, 'text': 'câmara dos deputados', 'label': 'organization', 'score': 0.98583984375}]"
                ],
                [
                  "7",
                  "art . 2º as normas regulamentadoras definirão as estratégias para o cumprimento desta determinação , disciplinando sobre os participantes , pessoas físicas ou jurídicas , priorizando para temas voltados para a prevenção de acidentes de trânsito , levando em consideração os aspectos humanos e comportamentais .",
                  "[]"
                ],
                [
                  "8",
                  "os portadores de formas crônicas de hepatite demandam atenção médica especializada constante para que seu quadro não evolua .",
                  "[]"
                ],
                [
                  "9",
                  "outra face deste processo foi a disseminação dos atendimentos automatizados que , além do custo da tarifa , impõem grande perda de tempo e constrangimento aos usuários .",
                  "[]"
                ],
                [
                  "10",
                  "assim , considerando que esses recursos surgiriam apenas para o esporte , a alteração feita no texto da lei nº 11.438 / 2006 foi extremamente prejudicial para o desporto e paradesporto brasileiro .",
                  "[]"
                ],
                [
                  "11",
                  "sala das sessões , em 16 de março de 2011 .",
                  "[]"
                ],
                [
                  "12",
                  "o crime já está tipificado no código brasileiro de trânsito , entretanto sua divulgação não consta da lei nº 9.294 / 96 .",
                  "[]"
                ],
                [
                  "13",
                  "projeto de lei nº , de 2011 ( do sr .",
                  "[]"
                ],
                [
                  "14",
                  "apesar das dificuldades apontadas , conto com o discernimento dos nobres pares para , em conjunto , alcançarmos uma solução para essas graves questões .",
                  "[]"
                ],
                [
                  "15",
                  "projeto de lei nº , de 2019 .",
                  "[]"
                ],
                [
                  "16",
                  "projeto de lei nº , de 2011 ( do sr. marllos sampaio ) torna crime aliciar idoso para contrair empréstimos .",
                  "[]"
                ],
                [
                  "17",
                  "convém , ainda , que a especificação de parâmetros e exigências venha a ser tratada em regulamento , uma vez que a dinâmica da evolução tecnológica pode impor frequentes atualizações .",
                  "[]"
                ],
                [
                  "18",
                  "afigura-se , portanto , desnecessária inscrição em ordem ou conselho para o exercício da profissão de músico . ”",
                  "[]"
                ],
                [
                  "19",
                  "deputada bruna furlan",
                  "[]"
                ],
                [
                  "20",
                  "o congresso nacional decreta : art . 1º esta lei acrescenta § 3º ao art . 12 da lei nº 11.947 , de 16 de junho de 2009 , para obrigar a inclusão do café e do leite nos cardápios da alimentação escolar .",
                  "[{'start': 2, 'end': 20, 'text': 'congresso nacional', 'label': 'organization', 'score': 0.96728515625}]"
                ],
                [
                  "21",
                  "esta resolução entra em vigor na data de sua publicação .",
                  "[]"
                ],
                [
                  "22",
                  "art . 2º revoga-se a lei nº 13.586 , de 28 de dezembro de 2017 .",
                  "[]"
                ],
                [
                  "23",
                  "o problema é que , uma vez verificado que determinado município enquadrado nesta categoria de pequeno ultrapassou qualquer uma p l p n .1 9 0 / 2 0 1 9 a p re s e n ta ç ã o : 1 4 / 0 8 / 2 0 1 9 1 4 : 5 5 2 das regras previstas , as sanções aplicadas são as mesmas dos demais entes , que incluem sobretudo a inclusão do município como inadimplente no cadastro único de convênios e a suspensão imediata das transferências voluntárias da união .",
                  "[]"
                ],
                [
                  "24",
                  "o número de assassinatos tem chegado a 4,8 para cada 100 mil mulheres .",
                  "[]"
                ],
                [
                  "25",
                  "esta lei entra em vigor cento e oitenta dias após sua publicação oficial .",
                  "[]"
                ],
                [
                  "26",
                  "o congresso nacional decreta : art . 1º esta lei regula a indenização de benfeitorias a agricultores ocupantes de boa-fé em terras indígenas , nos termos estabelecidos pelo § 6º do art . 231 da constituição federal .",
                  "[{'start': 2, 'end': 20, 'text': 'congresso nacional', 'label': 'organization', 'score': 0.96875}, {'start': 194, 'end': 214, 'text': 'constituição federal', 'label': 'organization', 'score': 0.5068359375}]"
                ],
                [
                  "27",
                  "diante dessa realidade , o mandamento convencional e legal de integração sociocultural e laboral do refugiado admitido no brasil resta , pois , esvaziado de eficácia , havendo a necessidade de complementação da legislação existente .",
                  "[{'start': 122, 'end': 128, 'text': 'brasil', 'label': 'organization', 'score': 0.445068359375}]"
                ],
                [
                  "28",
                  "§ 2º a escritura e demais atos notariais serão gratuitos aos hipossuficientes econômicos . ”",
                  "[]"
                ],
                [
                  "29",
                  "esses mecanismos devem estar relacionados exatamente à execução da pena .",
                  "[]"
                ],
                [
                  "30",
                  "igualmente nocivos são os efeitos dos saltos altos sobre a coluna infantil , consistindo no aumento da curvatura da região lombar em decorrência da projeção para a frente do centro de gravidade corporal , o que pode gerar dores e , até mesmo , mudanças na posição da coluna .",
                  "[]"
                ],
                [
                  "31",
                  "i - 6% ( seis por cento ) para a entidade reguladora do setor de mineração ; ii – 1,5% ( um inteiro e cinco décimos por cento ) para o fundo nacional de desenvolvimento científico e tecnológico ( fndct ) , instituído pelo decreto-lei nº 719 , de 31 de julho de 1969 , e restabelecido pela lei nº 8.172 , de 18 de janeiro de 1991 , destinado ao desenvolvimento científico e tecnológico do setor mineral , sendo aplicado , no mínimo , 0,5% ( cinco décimos por cento ) em pesquisas , estudos e projetos para o beneficiamento de rejeitos e estéreis de minerais para uso em outras cadeias produtivas ; . . . . . . . . . . . . . . . . . . . . . . . . . . . . . . . . . . . . . . . . . . . . . . . . . . . . . . . . . . . . . . . . . . . . . . . . . . . . . . . . . . . . . . . . . . . . . . . .",
                  "[{'start': 33, 'end': 74, 'text': 'entidade reguladora do setor de mineração', 'label': 'organization', 'score': 0.8603515625}, {'start': 135, 'end': 203, 'text': 'fundo nacional de desenvolvimento científico e tecnológico ( fndct )', 'label': 'organization', 'score': 0.7958984375}]"
                ],
                [
                  "32",
                  "nesse contexto , a lei antidrogas ( lei nº 11.343 , de 23 de agosto de 2006 ) fixou algumas obrigações estatais direcionadas à prevenção do uso indevido e à reinserção social dos usuários de drogas .",
                  "[]"
                ],
                [
                  "33",
                  "art . 3 ° esta lei entra em vigor na data de sua publicação .",
                  "[]"
                ],
                [
                  "34",
                  "não podemos mais aceitar que nossa juventude seja imolada , em favor de uns poucos e , nós parlamentares nada façamos .",
                  "[]"
                ],
                [
                  "35",
                  "dada a inequívoca importância da matéria , esperamos poder contar com o apoio dos nossos ilustres pares nessa casa para sua célere aprovação .",
                  "[]"
                ],
                [
                  "36",
                  "p l n .4 7 4 8 / 2 0 1 9 a p re s e n ta ç ã o : 2 8 / 0 8 / 2 0 1 9 1 6 : 0 1 3 também na linha de combater a reincidência , o núcleo judiciário da mulher , no distrito federal , tem estabelecido conversas reflexivas com condenados pela lei maria da penha , que abordam sistema de crenças , dependência afetiva , e auto responsabilidade .",
                  "[{'start': 128, 'end': 155, 'text': 'núcleo judiciário da mulher', 'label': 'organization', 'score': 0.86181640625}, {'start': 238, 'end': 256, 'text': 'lei maria da penha', 'label': 'organization', 'score': 0.8681640625}]"
                ],
                [
                  "37",
                  "amparado em tais argumento , esperamos contar com o decisivo apoio dos nobres pares para a aprovação dessa proposta legislativa .",
                  "[]"
                ],
                [
                  "38",
                  "justificação diante do aumento da expectativa de vida do brasileiro e da necessidade de inclusão e de manutenção dos trabalhadores com 50 anos de idade ou mais no mercado de trabalho , a fim de que possam continuar contribuindo para a previdência social o suficiente para a percepção do benefício da aposentadoria , faz-se necessária a adoção de mecanismos que incentivem as empresas a contratar empregados mais experientes .",
                  "[{'start': 163, 'end': 182, 'text': 'mercado de trabalho', 'label': 'organization', 'score': 0.406982421875}]"
                ],
                [
                  "39",
                  "silas câmara e vinícius carvalho ) dispõe sobre a atualização do valor dos ativos das concessionárias de transmissão de energia elétrica considerados não depreciados existentes em 31 de maio de 2000 o congresso nacional decreta : art . 1º o art . 15 da lei nº 12.783 , 11 de janeiro de 2013 , passa a vigorar acrescido do seguinte § 3º-a : “ art . 15",
                  "[{'start': 86, 'end': 136, 'text': 'concessionárias de transmissão de energia elétrica', 'label': 'organization', 'score': 0.414306640625}, {'start': 201, 'end': 219, 'text': 'congresso nacional', 'label': 'organization', 'score': 0.751953125}]"
                ],
                [
                  "40",
                  "p l n .4 7 2 2 / 2 0 1 9 a p re s e n ta ç ã o : 2 7 / 0 8 / 2 0 1 9 1 8 : 5 2 justificação o alto consumo de agrotóxicos é um problema continuamente enfrentado ao redor do mundo dadas as poucas garantias de não serem , de fato , danosos ao organismo humano .",
                  "[]"
                ],
                [
                  "41",
                  "( nr ) art . 13 - b .",
                  "[]"
                ],
                [
                  "42",
                  "na áustria , há vedação ao encaixe de inserções publicitárias em programas infantis nos canais de tv por assinatura , mesmo aquelas não direcionadas para crianças .",
                  "[]"
                ],
                [
                  "43",
                  "( nr ) “ art . 22",
                  "[]"
                ],
                [
                  "44",
                  "cabe observar que muitos são os municípios que decretaram situação de emergência , bem como estado de calamidade pública , isto em virtude das enchentes provocadas pelos excessos de chuvas , trazendo assim endemias e epidemias animal e humana à população local .",
                  "[]"
                ],
                [
                  "45",
                  "atualmente , o diploma de regência é a lei nº 6.001 , de 19 de dezembro de 1973 , denominada estatuto do índio , juntamente com sua regulamentação , o decreto nº 1.775 , de 8 de janeiro de 1996 .",
                  "[]"
                ],
                [
                  "46",
                  "v – ter atuado como organização criminosa , possuir vínculo com organização ou facção criminosa ou ter se beneficiado de atividades criminosas . . . . . . . . . . . . . . . . . . . . . . . . . . . . . . . . . . . . . . . . . . . . . . . . . . . . . . . . . . . . . . . . . . . . . . . . . . . . . . . . . . . . . . ” .",
                  "[{'start': 20, 'end': 41, 'text': 'organização criminosa', 'label': 'organization', 'score': 0.71044921875}]"
                ],
                [
                  "47",
                  "em um grande número de casos torna-se necessário o uso de medicação com potencial para reduzir um pouco o tamanho da próstata , e outros medicamentos que abrem o canal da uretra .",
                  "[]"
                ],
                [
                  "48",
                  "o objetivo precípuo da regularização fundiária mais expedita e direcionada à amazônia , como apregoa o programa terra legal , é contribuir para a desconcentração fundiária do território e a democratização do acesso à terra .",
                  "[{'start': 77, 'end': 85, 'text': 'amazônia', 'label': 'organization', 'score': 0.4423828125}]"
                ],
                [
                  "49",
                  "junji abe ) acrescenta dispositivo à lei complementar nº 123 , de 14 de dezembro de 2006 , para estabelecer previsão legal de reajuste do limite de faturamento anual da empresa que integra o regime especial do microempreendedor individual – mei , na forma que especifica .",
                  "[]"
                ]
              ],
              "shape": {
                "columns": 2,
                "rows": 1478
              }
            },
            "text/html": [
              "<div>\n",
              "<style scoped>\n",
              "    .dataframe tbody tr th:only-of-type {\n",
              "        vertical-align: middle;\n",
              "    }\n",
              "\n",
              "    .dataframe tbody tr th {\n",
              "        vertical-align: top;\n",
              "    }\n",
              "\n",
              "    .dataframe thead th {\n",
              "        text-align: right;\n",
              "    }\n",
              "</style>\n",
              "<table border=\"1\" class=\"dataframe\">\n",
              "  <thead>\n",
              "    <tr style=\"text-align: right;\">\n",
              "      <th></th>\n",
              "      <th>text</th>\n",
              "      <th>weak_label</th>\n",
              "    </tr>\n",
              "  </thead>\n",
              "  <tbody>\n",
              "    <tr>\n",
              "      <th>0</th>\n",
              "      <td>sala das sessões , em de de 2019 .</td>\n",
              "      <td>[]</td>\n",
              "    </tr>\n",
              "    <tr>\n",
              "      <th>1</th>\n",
              "      <td>da decisão de que trata o § 12 deste artigo ca...</td>\n",
              "      <td>[]</td>\n",
              "    </tr>\n",
              "    <tr>\n",
              "      <th>2</th>\n",
              "      <td>projeto de lei n.º , de 2017 ( do sr .</td>\n",
              "      <td>[]</td>\n",
              "    </tr>\n",
              "    <tr>\n",
              "      <th>3</th>\n",
              "      <td>deputado maurício dziedricki p l n .4 6 1 5 / ...</td>\n",
              "      <td>[]</td>\n",
              "    </tr>\n",
              "    <tr>\n",
              "      <th>4</th>\n",
              "      <td>art . 4º esta lei entra em vigor na data de su...</td>\n",
              "      <td>[]</td>\n",
              "    </tr>\n",
              "    <tr>\n",
              "      <th>...</th>\n",
              "      <td>...</td>\n",
              "      <td>...</td>\n",
              "    </tr>\n",
              "    <tr>\n",
              "      <th>1473</th>\n",
              "      <td>trata-se de um projeto de grande utilidade , p...</td>\n",
              "      <td>[]</td>\n",
              "    </tr>\n",
              "    <tr>\n",
              "      <th>1474</th>\n",
              "      <td>paulo wagner ) dispõe sobre o programa escola ...</td>\n",
              "      <td>[{'start': 57, 'end': 100, 'text': 'escolas pú...</td>\n",
              "    </tr>\n",
              "    <tr>\n",
              "      <th>1475</th>\n",
              "      <td>iracema portella ) dispõe sobre abertura de li...</td>\n",
              "      <td>[{'start': 0, 'end': 16, 'text': 'iracema port...</td>\n",
              "    </tr>\n",
              "    <tr>\n",
              "      <th>1476</th>\n",
              "      <td>arnaldo faria de sá deputado federal – são pau...</td>\n",
              "      <td>[]</td>\n",
              "    </tr>\n",
              "    <tr>\n",
              "      <th>1477</th>\n",
              "      <td>não obstante as ambiciosas metas constantes do...</td>\n",
              "      <td>[]</td>\n",
              "    </tr>\n",
              "  </tbody>\n",
              "</table>\n",
              "<p>1478 rows × 2 columns</p>\n",
              "</div>"
            ],
            "text/plain": [
              "                                                   text  \\\n",
              "0                    sala das sessões , em de de 2019 .   \n",
              "1     da decisão de que trata o § 12 deste artigo ca...   \n",
              "2                projeto de lei n.º , de 2017 ( do sr .   \n",
              "3     deputado maurício dziedricki p l n .4 6 1 5 / ...   \n",
              "4     art . 4º esta lei entra em vigor na data de su...   \n",
              "...                                                 ...   \n",
              "1473  trata-se de um projeto de grande utilidade , p...   \n",
              "1474  paulo wagner ) dispõe sobre o programa escola ...   \n",
              "1475  iracema portella ) dispõe sobre abertura de li...   \n",
              "1476  arnaldo faria de sá deputado federal – são pau...   \n",
              "1477  não obstante as ambiciosas metas constantes do...   \n",
              "\n",
              "                                             weak_label  \n",
              "0                                                    []  \n",
              "1                                                    []  \n",
              "2                                                    []  \n",
              "3                                                    []  \n",
              "4                                                    []  \n",
              "...                                                 ...  \n",
              "1473                                                 []  \n",
              "1474  [{'start': 57, 'end': 100, 'text': 'escolas pú...  \n",
              "1475  [{'start': 0, 'end': 16, 'text': 'iracema port...  \n",
              "1476                                                 []  \n",
              "1477                                                 []  \n",
              "\n",
              "[1478 rows x 2 columns]"
            ]
          },
          "metadata": {},
          "output_type": "display_data"
        }
      ],
      "source": [
        "print(\"Df com as labels fracas do GLiNER bi large:\")\n",
        "display(df_lf_gliner_bi_large)\n",
        "\n",
        "print(\"\\n\\n\")\n",
        "\n",
        "print(\"Df com as labels fracas do GLiNER x small:\")\n",
        "display(df_lf_gliner_x_small)"
      ]
    },
    {
      "cell_type": "code",
      "execution_count": 46,
      "metadata": {},
      "outputs": [],
      "source": [
        "def remap_label(label_key, label_mapping, label_list_of_dicts):\n",
        "    \"\"\"\n",
        "    Remap a label key using a label mapping dictionary.\n",
        "    Preserves original value if not found in mapping.\n",
        "\n",
        "    Args:\n",
        "        label_key (str): The key in the label dictionaries to remap.\n",
        "        label_mapping (dict): A dictionary mapping old labels to new labels.\n",
        "        label_list_of_dicts (list): A list of dictionaries containing labels.\n",
        "\n",
        "    Returns:\n",
        "        list: A list of dictionaries with remapped labels.\n",
        "    \"\"\"\n",
        "    output = []\n",
        "    for label_dict in label_list_of_dicts:\n",
        "        if label_key in label_dict:\n",
        "            # Use the original value if not found in mapping\n",
        "            label_dict[label_key] = label_mapping.get(label_dict[label_key], label_dict[label_key])\n",
        "        output.append(label_dict)\n",
        "    return output"
      ]
    },
    {
      "cell_type": "code",
      "execution_count": 47,
      "metadata": {},
      "outputs": [],
      "source": [
        "# Define a custom label mapping for the NER annotator\n",
        "# This mapping translates the model's \"organization\" label to \"ORGANIZACAO\"\n",
        "custom_label_mapping_lf_gliner = {\n",
        "    \"organization\": \"ORGANIZACAO\",\n",
        "}\n",
        "\n",
        "df_lf_gliner = pd.DataFrame()\n",
        "\n",
        "# Apply the remap_label function to the weak label\n",
        "# This step remaps the label from \"organization\" to \"ORGANIZACAO\"\n",
        "df_lf_gliner_bi_large[\"weak_label\"] = df_lf_gliner_bi_large[\"weak_label\"].apply(lambda x: remap_label(\"label\", custom_label_mapping_lf_gliner, x))\n",
        "\n",
        "df_lf_gliner_x_small[\"weak_label\"] = df_lf_gliner_x_small[\"weak_label\"].apply(lambda x: remap_label(\"label\", custom_label_mapping_lf_gliner, x))"
      ]
    },
    {
      "cell_type": "code",
      "execution_count": 48,
      "metadata": {},
      "outputs": [
        {
          "data": {
            "text/plain": [
              "[{'start': 2,\n",
              "  'end': 20,\n",
              "  'text': 'congresso nacional',\n",
              "  'label': 'ORGANIZACAO',\n",
              "  'score': 0.5},\n",
              " {'start': 181,\n",
              "  'end': 200,\n",
              "  'text': 'alimentação escolar',\n",
              "  'label': 'ORGANIZACAO',\n",
              "  'score': 0.41552734375}]"
            ]
          },
          "execution_count": 48,
          "metadata": {},
          "output_type": "execute_result"
        }
      ],
      "source": [
        "df_lf_gliner_bi_large.iloc[20][\"weak_label\"]"
      ]
    },
    {
      "cell_type": "code",
      "execution_count": 49,
      "metadata": {},
      "outputs": [],
      "source": [
        "lf_gliner_bi_large = DataFrameAnnotator(\n",
        "    annotator_name=\"lf_gliner_bi_large\",\n",
        "    data_frame=df_lf_gliner_bi_large,\n",
        "    column_weak_label=\"weak_label\",\n",
        "    column_text=\"text\",\n",
        "    column_uid=\"uid\",\n",
        "    label_key_name=\"label\",\n",
        ")"
      ]
    },
    {
      "cell_type": "code",
      "execution_count": 50,
      "metadata": {},
      "outputs": [],
      "source": [
        "lf_gliner_x_small = DataFrameAnnotator(\n",
        "    annotator_name=\"lf_gliner_x_small\",\n",
        "    data_frame=df_lf_gliner_x_small,\n",
        "    column_weak_label=\"weak_label\",\n",
        "    column_text=\"text\",\n",
        "    column_uid=\"uid\",\n",
        "    label_key_name=\"label\",\n",
        ")"
      ]
    },
    {
      "cell_type": "code",
      "execution_count": 51,
      "metadata": {},
      "outputs": [
        {
          "data": {
            "text/plain": [
              "os efeitos da condição dos refugiados são igualmente extensivos ao cônjuge , aos ascendentes e descendentes , assim como aos demais membros do grupo familiar do refugiado que dele dependerem economicamente , desde que se encontrem em território nacional . 3 dentro das medidas destinadas a integrar o refugiado e seus dependentes à sociedade e ao mercado de trabalho do país de acolhimento , inclui-se a necessidade de facilitação do reconhecimento de certificados e diplomas , como preceitua o art . 44 , da lei nº 9.474 , de 22 de julho de 1997 : art . 44 ."
            ]
          },
          "execution_count": 51,
          "metadata": {},
          "output_type": "execute_result"
        }
      ],
      "source": [
        "# Apply the GLiNER model with the \"bi_large\" configuration to the spaCy document\n",
        "lf_gliner_bi_large(doc)\n",
        "\n",
        "# Applt the GliNER model with the \"x_small\" configuration to the spaCy document\n",
        "lf_gliner_x_small(doc)"
      ]
    },
    {
      "cell_type": "code",
      "execution_count": 52,
      "metadata": {},
      "outputs": [
        {
          "data": {
            "text/html": [
              "<span class=\"tex2jax_ignore\"><div class=\"entities\" style=\"line-height: 2.5; direction: ltr\">os efeitos da condição dos refugiados são igualmente extensivos ao cônjuge , aos ascendentes e descendentes , assim como aos demais membros do grupo familiar do refugiado que dele dependerem economicamente , desde que se encontrem em território nacional . 3 dentro das medidas destinadas a integrar o refugiado e seus dependentes à sociedade e ao mercado de trabalho do país de acolhimento , inclui-se a necessidade de facilitação do reconhecimento de certificados e diplomas , como preceitua o art . 44 , da lei nº 9.474 , de 22 de julho de 1997 : art . 44 .</div></span>"
            ],
            "text/plain": [
              "<IPython.core.display.HTML object>"
            ]
          },
          "metadata": {},
          "output_type": "display_data"
        }
      ],
      "source": [
        "# Display the annotated entities in the document\n",
        "# This function highlights the recognized entities in the document for visualization\n",
        "skweak.utils.display_entities(doc, \"lf_gliner_bi_large\")"
      ]
    },
    {
      "cell_type": "code",
      "execution_count": 53,
      "metadata": {},
      "outputs": [
        {
          "data": {
            "text/html": [
              "<span class=\"tex2jax_ignore\"><div class=\"entities\" style=\"line-height: 2.5; direction: ltr\">os efeitos da condição dos refugiados são igualmente extensivos ao cônjuge , aos ascendentes e descendentes , assim como aos demais membros do grupo familiar do refugiado que dele dependerem economicamente , desde que se encontrem em território nacional . 3 dentro das medidas destinadas a integrar o refugiado e seus dependentes à sociedade e ao mercado de trabalho do país de acolhimento , inclui-se a necessidade de facilitação do reconhecimento de certificados e diplomas , como preceitua o art . 44 , da lei nº 9.474 , de 22 de julho de 1997 : art . 44 .</div></span>"
            ],
            "text/plain": [
              "<IPython.core.display.HTML object>"
            ]
          },
          "metadata": {},
          "output_type": "display_data"
        }
      ],
      "source": [
        "# Display the annotated entities in the document\n",
        "# This function highlights the recognized entities in the document for visualization\n",
        "skweak.utils.display_entities(doc, \"lf_gliner_x_small\")"
      ]
    },
    {
      "cell_type": "markdown",
      "metadata": {},
      "source": [
        "## 2.4 Using Zero-Shot NER with LLMs and Function Calling Capabilities\n",
        "\n",
        "I also explored using LLMs like GPT-4 to perform zero-shot NER. By leveraging function calling, the model can extract organization entities directly from text without any task-specific training, offering a flexible and powerful way to build labeling functions.\n",
        "\n",
        "Instead of using GPT, I tried using a model running locally (seriously, I tested about 3/4 models—including a 14b model) using Ollama, but none of them were good enough. So I ended up having to use GPT."
      ]
    },
    {
      "cell_type": "code",
      "execution_count": 54,
      "metadata": {},
      "outputs": [
        {
          "name": "stdout",
          "output_type": "stream",
          "text": [
            "First 5 characters of API key: sk-pr\n"
          ]
        }
      ],
      "source": [
        "from langchain_openai import ChatOpenAI\n",
        "\n",
        "from dotenv import load_dotenv\n",
        "import os\n",
        "\n",
        "# Load environment variables from .env file\n",
        "# This is useful for keeping sensitive information like API keys out of your code\n",
        "load_dotenv(override=True)  # You are expected to have a .env file with the OpenAI API KEY `OPENAI_API_KEY`\n",
        "\n",
        "# Retrieve the OpenAI API key from environment variables\n",
        "# We're only displaying the first 5 characters for security reasons\n",
        "# This is a good practice to verify the key is loaded without exposing it entirely\n",
        "api_key_preview = os.getenv(\"OPENAI_API_KEY\")[:5]\n",
        "print(f\"First 5 characters of API key: {api_key_preview}\")"
      ]
    },
    {
      "cell_type": "code",
      "execution_count": 67,
      "metadata": {},
      "outputs": [],
      "source": [
        "model_openai = ChatOpenAI(model=\"gpt-4.1-mini\", temperature=0.0)"
      ]
    },
    {
      "cell_type": "code",
      "execution_count": 68,
      "metadata": {},
      "outputs": [],
      "source": [
        "from typing import Optional, List\n",
        "from pydantic import BaseModel, Field\n",
        "\n",
        "class Organizacao(BaseModel):\n",
        "    \"\"\"\n",
        "    Representa informações sobre uma organização mencionada em textos legislativos da Câmara dos Deputados.\n",
        "    \"\"\"\n",
        "\n",
        "    nome_oficial: str = Field(default=None, description=\"Nome oficial completo da organização.\")\n",
        "    sigla: Optional[str] = Field(default=None, description=\"Sigla da organização, caso existente.\")\n",
        "    tipo: Optional[str] = Field(\n",
        "        default=None,\n",
        "        description=\"Tipo ou categoria da organização, ex: Ministério, Tribunal, Partido Político, Empresa Estatal, Sindicato, etc.\"\n",
        "    )\n",
        "    descricao: Optional[str] = Field(\n",
        "        default=None,\n",
        "        description=\"Descrição breve ou área de atuação da organização.\"\n",
        "    )\n",
        "\n",
        "\n",
        "class ListaOrganizacoes(BaseModel):\n",
        "    \"\"\"\n",
        "    Lista de organizações.\n",
        "    \"\"\"\n",
        "\n",
        "    organizacoes: Optional[List[Organizacao]] = Field(default_factory=list, description=\"Lista de organizações extraídas.\")\n"
      ]
    },
    {
      "cell_type": "code",
      "execution_count": 69,
      "metadata": {},
      "outputs": [],
      "source": [
        "from langchain.prompts import ChatPromptTemplate\n",
        "\n",
        "prompt = ChatPromptTemplate.from_messages(\n",
        "    [\n",
        "        (\n",
        "            \"system\",\n",
        "            \"Você é um especialista em extração de entidades nomeadas com precisão excepcional, \"\n",
        "            \"focado em organizações mencionadas em textos legislativos brasileiros.\\n\"\n",
        "            \"Sua tarefa é identificar e extrair informações específicas do texto fornecido, seguindo estas diretrizes:\\n\\n\"\n",
        "            \"1. Extraia as informações exatamente como aparecem no texto, sem interpretações ou alterações.\\n\"\n",
        "            \"2. Se uma informação solicitada não estiver presente ou for ambígua, retorne null para esse campo.\\n\"\n",
        "            \"3. Mantenha-se estritamente dentro do escopo das entidades e atributos definidos no esquema: nome_oficial, sigla, tipo e descricao.\\n\"\n",
        "            \"4. Mantenha a mesma ortografia, pontuação e formatação das informações extraídas.\\n\"\n",
        "            \"5. Não infira ou adicione informações que não estejam explicitamente presentes no texto.\\n\"\n",
        "            \"6. Se houver múltiplas menções da mesma organização, extraia todas as ocorrências relevantes.\\n\"\n",
        "            \"7. Ignore informações irrelevantes ou que não sejam organizações.\\n\\n\"\n",
        "            \"Considere como organizações para extração: órgãos públicos federais, empresas estatais, partidos políticos, sindicatos, federações, associações profissionais e comerciais, ONGs relevantes, universidades públicas e institutos federais, e entidades internacionais em contexto oficial.\\n\\n\"\n",
        "            \"Lembre-se: sua precisão e rigor na extração serão cruciais para o sucesso desta tarefa.\\n\"\n",
        "            \"Responda em formato JSON, seguindo o esquema fornecido.\"\n",
        "        ),\n",
        "        (\"human\", \"{text}\"),\n",
        "    ]\n",
        ")\n"
      ]
    },
    {
      "cell_type": "code",
      "execution_count": 70,
      "metadata": {},
      "outputs": [],
      "source": [
        "structured_chat = model_openai.with_structured_output(\n",
        "    ListaOrganizacoes,\n",
        "    method=\"json_mode\",    # ou o método apropriado, como \"default\" ou \"json\"\n",
        "    include_raw=False      # opcional, conforme necessidade\n",
        ")\n",
        "\n",
        "# Combine prompt e modelo configurado para criar a cadeia\n",
        "chain = prompt | structured_chat"
      ]
    },
    {
      "cell_type": "code",
      "execution_count": 71,
      "metadata": {},
      "outputs": [
        {
          "name": "stdout",
          "output_type": "stream",
          "text": [
            "organizacoes=[Organizacao(nome_oficial='Congresso Nacional', sigla=None, tipo='órgão público federal', descricao=None)]\n"
          ]
        }
      ],
      "source": [
        "result = chain.invoke(spacy_docs_train[20].text)\n",
        "print(result)"
      ]
    },
    {
      "cell_type": "code",
      "execution_count": 72,
      "metadata": {},
      "outputs": [
        {
          "name": "stderr",
          "output_type": "stream",
          "text": [
            "100%|██████████| 15/15 [02:33<00:00, 10.21s/it]\n"
          ]
        }
      ],
      "source": [
        "# Let's process in batches of 100\n",
        "\n",
        "# Divide the inputs in batches of size 100\n",
        "batch_size = 100\n",
        "texts = [doc.text for doc in spacy_docs_train]\n",
        "text_batches = [texts[i : i + 100] for i in range(0, len(texts), 100)]\n",
        "\n",
        "# run the model\n",
        "results = []\n",
        "for batch in tqdm(text_batches):\n",
        "    try:\n",
        "        out = chain.batch(batch, config={\"max_concurrency\": 100})\n",
        "        results.extend(out)\n",
        "    except Exception as e:\n",
        "        print(e)\n",
        "        results.extend([None] * len(batch))"
      ]
    },
    {
      "cell_type": "code",
      "execution_count": 73,
      "metadata": {},
      "outputs": [],
      "source": [
        "from typing import Any\n",
        "\n",
        "\n",
        "def convert_pydantic_to_gliner_format(text: str, lista_organizacoes: BaseModel) -> List[dict[str, Any]]:\n",
        "    \"\"\"\n",
        "    Convert Pydantic model output to GLiNER format.\n",
        "\n",
        "    Args:\n",
        "        text (str): Original text.\n",
        "        lista_organizacoes (BaseModel): Pydantic model instance with organization information.\n",
        "\n",
        "    Returns:\n",
        "        List[Dict[str, Any]]: List of entity dictionaries in GLiNER format.\n",
        "    \"\"\"\n",
        "    result = []\n",
        "    if lista_organizacoes is None:\n",
        "        return []\n",
        "\n",
        "    if lista_organizacoes.organizacoes is None:\n",
        "        lista_organizacoes.organizacoes = []\n",
        "\n",
        "    # Iterate over each organization in the Pydantic model\n",
        "    for organizacao in lista_organizacoes.organizacoes:\n",
        "        if organizacao.nome_oficial:\n",
        "            # Find all matches of the organization name in the text\n",
        "            for match in re.finditer(re.escape(organizacao.nome_oficial), text, re.IGNORECASE):\n",
        "                result.append(\n",
        "                    {\n",
        "                        \"start\": match.start(),\n",
        "                        \"end\": match.end(),\n",
        "                        \"text\": match.group(),\n",
        "                        \"label\": \"ORGANIZACAO\",\n",
        "                        \"score\": 1.0,\n",
        "                    }\n",
        "                )\n",
        "\n",
        "        # If the organization has an active ingredient, find all matches in the text\n",
        "        if organizacao.nome_oficial:\n",
        "            for match in re.finditer(re.escape(organizacao.nome_oficial), text, re.IGNORECASE):\n",
        "                result.append(\n",
        "                    {\n",
        "                        \"start\": match.start(),\n",
        "                        \"end\": match.end(),\n",
        "                        \"text\": match.group(),\n",
        "                        \"label\": \"ORGANIZACAO\",\n",
        "                        \"score\": 1.0,\n",
        "                    }\n",
        "                )\n",
        "\n",
        "        # If the organization has a sigla, find all matches in the text\n",
        "        elif organizacao.sigla:\n",
        "            for match in re.finditer(re.escape(organizacao.sigla), text, re.IGNORECASE):\n",
        "                result.append(\n",
        "                    {\n",
        "                        \"start\": match.start(),\n",
        "                        \"end\": match.end(),\n",
        "                        \"text\": match.group(),\n",
        "                        \"label\": \"ORGANIZACAO\",\n",
        "                        \"score\": 1.0,\n",
        "                    }\n",
        "                )\n",
        "\n",
        "    # Sort the results by the start index of the matches\n",
        "    result.sort(key=lambda x: x[\"start\"])\n",
        "    return result"
      ]
    },
    {
      "cell_type": "code",
      "execution_count": 74,
      "metadata": {},
      "outputs": [
        {
          "data": {
            "application/vnd.microsoft.datawrangler.viewer.v0+json": {
              "columns": [
                {
                  "name": "index",
                  "rawType": "int64",
                  "type": "integer"
                },
                {
                  "name": "text",
                  "rawType": "object",
                  "type": "string"
                },
                {
                  "name": "weak_label",
                  "rawType": "object",
                  "type": "unknown"
                }
              ],
              "ref": "6cf98c0c-54e7-4d7c-a24c-a0e2d20b1aa1",
              "rows": [
                [
                  "0",
                  "sala das sessões , em de de 2019 .",
                  "[]"
                ],
                [
                  "1",
                  "da decisão de que trata o § 12 deste artigo caberá recurso administrativo com efeito suspensivo .",
                  "[]"
                ],
                [
                  "2",
                  "projeto de lei n.º , de 2017 ( do sr .",
                  "[]"
                ],
                [
                  "3",
                  "deputado maurício dziedricki p l n .4 6 1 5 / 2 0 1 9 a p re s e n ta ç ã o : 2 1 / 0 8 / 2 0 1 9 1 4 : 1 6",
                  "[]"
                ],
                [
                  "4",
                  "art . 4º esta lei entra em vigor na data de sua publicação .",
                  "[]"
                ],
                [
                  "5",
                  "com o forte crescimento da população idosa masculina no país , a perspectiva é a de crescimento vertiginoso dos casos de câncer de próstata , conforme já constatado pelas estatísticas disponíveis .",
                  "[]"
                ],
                [
                  "6",
                  "a câmara dos deputados resolve : art . 1º esta resolução dá denominação ao plenário 2 , do anexo ii , da câmara dos deputados .",
                  "[{'start': 2, 'end': 22, 'text': 'câmara dos deputados', 'label': 'ORGANIZACAO', 'score': 1.0}, {'start': 2, 'end': 22, 'text': 'câmara dos deputados', 'label': 'ORGANIZACAO', 'score': 1.0}, {'start': 105, 'end': 125, 'text': 'câmara dos deputados', 'label': 'ORGANIZACAO', 'score': 1.0}, {'start': 105, 'end': 125, 'text': 'câmara dos deputados', 'label': 'ORGANIZACAO', 'score': 1.0}]"
                ],
                [
                  "7",
                  "art . 2º as normas regulamentadoras definirão as estratégias para o cumprimento desta determinação , disciplinando sobre os participantes , pessoas físicas ou jurídicas , priorizando para temas voltados para a prevenção de acidentes de trânsito , levando em consideração os aspectos humanos e comportamentais .",
                  "[]"
                ],
                [
                  "8",
                  "os portadores de formas crônicas de hepatite demandam atenção médica especializada constante para que seu quadro não evolua .",
                  "[]"
                ],
                [
                  "9",
                  "outra face deste processo foi a disseminação dos atendimentos automatizados que , além do custo da tarifa , impõem grande perda de tempo e constrangimento aos usuários .",
                  "[]"
                ],
                [
                  "10",
                  "assim , considerando que esses recursos surgiriam apenas para o esporte , a alteração feita no texto da lei nº 11.438 / 2006 foi extremamente prejudicial para o desporto e paradesporto brasileiro .",
                  "[]"
                ],
                [
                  "11",
                  "sala das sessões , em 16 de março de 2011 .",
                  "[]"
                ],
                [
                  "12",
                  "o crime já está tipificado no código brasileiro de trânsito , entretanto sua divulgação não consta da lei nº 9.294 / 96 .",
                  "[{'start': 30, 'end': 59, 'text': 'código brasileiro de trânsito', 'label': 'ORGANIZACAO', 'score': 1.0}, {'start': 30, 'end': 59, 'text': 'código brasileiro de trânsito', 'label': 'ORGANIZACAO', 'score': 1.0}, {'start': 102, 'end': 119, 'text': 'lei nº 9.294 / 96', 'label': 'ORGANIZACAO', 'score': 1.0}, {'start': 102, 'end': 119, 'text': 'lei nº 9.294 / 96', 'label': 'ORGANIZACAO', 'score': 1.0}]"
                ],
                [
                  "13",
                  "projeto de lei nº , de 2011 ( do sr .",
                  "[]"
                ],
                [
                  "14",
                  "apesar das dificuldades apontadas , conto com o discernimento dos nobres pares para , em conjunto , alcançarmos uma solução para essas graves questões .",
                  "[]"
                ],
                [
                  "15",
                  "projeto de lei nº , de 2019 .",
                  "[]"
                ],
                [
                  "16",
                  "projeto de lei nº , de 2011 ( do sr. marllos sampaio ) torna crime aliciar idoso para contrair empréstimos .",
                  "[]"
                ],
                [
                  "17",
                  "convém , ainda , que a especificação de parâmetros e exigências venha a ser tratada em regulamento , uma vez que a dinâmica da evolução tecnológica pode impor frequentes atualizações .",
                  "[]"
                ],
                [
                  "18",
                  "afigura-se , portanto , desnecessária inscrição em ordem ou conselho para o exercício da profissão de músico . ”",
                  "[]"
                ],
                [
                  "19",
                  "deputada bruna furlan",
                  "[]"
                ],
                [
                  "20",
                  "o congresso nacional decreta : art . 1º esta lei acrescenta § 3º ao art . 12 da lei nº 11.947 , de 16 de junho de 2009 , para obrigar a inclusão do café e do leite nos cardápios da alimentação escolar .",
                  "[{'start': 2, 'end': 20, 'text': 'congresso nacional', 'label': 'ORGANIZACAO', 'score': 1.0}, {'start': 2, 'end': 20, 'text': 'congresso nacional', 'label': 'ORGANIZACAO', 'score': 1.0}]"
                ],
                [
                  "21",
                  "esta resolução entra em vigor na data de sua publicação .",
                  "[]"
                ],
                [
                  "22",
                  "art . 2º revoga-se a lei nº 13.586 , de 28 de dezembro de 2017 .",
                  "[]"
                ],
                [
                  "23",
                  "o problema é que , uma vez verificado que determinado município enquadrado nesta categoria de pequeno ultrapassou qualquer uma p l p n .1 9 0 / 2 0 1 9 a p re s e n ta ç ã o : 1 4 / 0 8 / 2 0 1 9 1 4 : 5 5 2 das regras previstas , as sanções aplicadas são as mesmas dos demais entes , que incluem sobretudo a inclusão do município como inadimplente no cadastro único de convênios e a suspensão imediata das transferências voluntárias da união .",
                  "[{'start': 437, 'end': 442, 'text': 'união', 'label': 'ORGANIZACAO', 'score': 1.0}, {'start': 437, 'end': 442, 'text': 'união', 'label': 'ORGANIZACAO', 'score': 1.0}]"
                ],
                [
                  "24",
                  "o número de assassinatos tem chegado a 4,8 para cada 100 mil mulheres .",
                  "[]"
                ],
                [
                  "25",
                  "esta lei entra em vigor cento e oitenta dias após sua publicação oficial .",
                  "[]"
                ],
                [
                  "26",
                  "o congresso nacional decreta : art . 1º esta lei regula a indenização de benfeitorias a agricultores ocupantes de boa-fé em terras indígenas , nos termos estabelecidos pelo § 6º do art . 231 da constituição federal .",
                  "[{'start': 2, 'end': 20, 'text': 'congresso nacional', 'label': 'ORGANIZACAO', 'score': 1.0}, {'start': 2, 'end': 20, 'text': 'congresso nacional', 'label': 'ORGANIZACAO', 'score': 1.0}]"
                ],
                [
                  "27",
                  "diante dessa realidade , o mandamento convencional e legal de integração sociocultural e laboral do refugiado admitido no brasil resta , pois , esvaziado de eficácia , havendo a necessidade de complementação da legislação existente .",
                  "[]"
                ],
                [
                  "28",
                  "§ 2º a escritura e demais atos notariais serão gratuitos aos hipossuficientes econômicos . ”",
                  "[]"
                ],
                [
                  "29",
                  "esses mecanismos devem estar relacionados exatamente à execução da pena .",
                  "[]"
                ],
                [
                  "30",
                  "igualmente nocivos são os efeitos dos saltos altos sobre a coluna infantil , consistindo no aumento da curvatura da região lombar em decorrência da projeção para a frente do centro de gravidade corporal , o que pode gerar dores e , até mesmo , mudanças na posição da coluna .",
                  "[]"
                ],
                [
                  "31",
                  "i - 6% ( seis por cento ) para a entidade reguladora do setor de mineração ; ii – 1,5% ( um inteiro e cinco décimos por cento ) para o fundo nacional de desenvolvimento científico e tecnológico ( fndct ) , instituído pelo decreto-lei nº 719 , de 31 de julho de 1969 , e restabelecido pela lei nº 8.172 , de 18 de janeiro de 1991 , destinado ao desenvolvimento científico e tecnológico do setor mineral , sendo aplicado , no mínimo , 0,5% ( cinco décimos por cento ) em pesquisas , estudos e projetos para o beneficiamento de rejeitos e estéreis de minerais para uso em outras cadeias produtivas ; . . . . . . . . . . . . . . . . . . . . . . . . . . . . . . . . . . . . . . . . . . . . . . . . . . . . . . . . . . . . . . . . . . . . . . . . . . . . . . . . . . . . . . . . . . . . . . . .",
                  "[{'start': 33, 'end': 74, 'text': 'entidade reguladora do setor de mineração', 'label': 'ORGANIZACAO', 'score': 1.0}, {'start': 33, 'end': 74, 'text': 'entidade reguladora do setor de mineração', 'label': 'ORGANIZACAO', 'score': 1.0}, {'start': 135, 'end': 193, 'text': 'fundo nacional de desenvolvimento científico e tecnológico', 'label': 'ORGANIZACAO', 'score': 1.0}, {'start': 135, 'end': 193, 'text': 'fundo nacional de desenvolvimento científico e tecnológico', 'label': 'ORGANIZACAO', 'score': 1.0}]"
                ],
                [
                  "32",
                  "nesse contexto , a lei antidrogas ( lei nº 11.343 , de 23 de agosto de 2006 ) fixou algumas obrigações estatais direcionadas à prevenção do uso indevido e à reinserção social dos usuários de drogas .",
                  "[]"
                ],
                [
                  "33",
                  "art . 3 ° esta lei entra em vigor na data de sua publicação .",
                  "[]"
                ],
                [
                  "34",
                  "não podemos mais aceitar que nossa juventude seja imolada , em favor de uns poucos e , nós parlamentares nada façamos .",
                  "[]"
                ],
                [
                  "35",
                  "dada a inequívoca importância da matéria , esperamos poder contar com o apoio dos nossos ilustres pares nessa casa para sua célere aprovação .",
                  "[]"
                ],
                [
                  "36",
                  "p l n .4 7 4 8 / 2 0 1 9 a p re s e n ta ç ã o : 2 8 / 0 8 / 2 0 1 9 1 6 : 0 1 3 também na linha de combater a reincidência , o núcleo judiciário da mulher , no distrito federal , tem estabelecido conversas reflexivas com condenados pela lei maria da penha , que abordam sistema de crenças , dependência afetiva , e auto responsabilidade .",
                  "[{'start': 128, 'end': 155, 'text': 'núcleo judiciário da mulher', 'label': 'ORGANIZACAO', 'score': 1.0}, {'start': 128, 'end': 155, 'text': 'núcleo judiciário da mulher', 'label': 'ORGANIZACAO', 'score': 1.0}]"
                ],
                [
                  "37",
                  "amparado em tais argumento , esperamos contar com o decisivo apoio dos nobres pares para a aprovação dessa proposta legislativa .",
                  "[]"
                ],
                [
                  "38",
                  "justificação diante do aumento da expectativa de vida do brasileiro e da necessidade de inclusão e de manutenção dos trabalhadores com 50 anos de idade ou mais no mercado de trabalho , a fim de que possam continuar contribuindo para a previdência social o suficiente para a percepção do benefício da aposentadoria , faz-se necessária a adoção de mecanismos que incentivem as empresas a contratar empregados mais experientes .",
                  "[{'start': 235, 'end': 253, 'text': 'previdência social', 'label': 'ORGANIZACAO', 'score': 1.0}, {'start': 235, 'end': 253, 'text': 'previdência social', 'label': 'ORGANIZACAO', 'score': 1.0}]"
                ],
                [
                  "39",
                  "silas câmara e vinícius carvalho ) dispõe sobre a atualização do valor dos ativos das concessionárias de transmissão de energia elétrica considerados não depreciados existentes em 31 de maio de 2000 o congresso nacional decreta : art . 1º o art . 15 da lei nº 12.783 , 11 de janeiro de 2013 , passa a vigorar acrescido do seguinte § 3º-a : “ art . 15",
                  "[{'start': 201, 'end': 219, 'text': 'congresso nacional', 'label': 'ORGANIZACAO', 'score': 1.0}, {'start': 201, 'end': 219, 'text': 'congresso nacional', 'label': 'ORGANIZACAO', 'score': 1.0}]"
                ],
                [
                  "40",
                  "p l n .4 7 2 2 / 2 0 1 9 a p re s e n ta ç ã o : 2 7 / 0 8 / 2 0 1 9 1 8 : 5 2 justificação o alto consumo de agrotóxicos é um problema continuamente enfrentado ao redor do mundo dadas as poucas garantias de não serem , de fato , danosos ao organismo humano .",
                  "[]"
                ],
                [
                  "41",
                  "( nr ) art . 13 - b .",
                  "[]"
                ],
                [
                  "42",
                  "na áustria , há vedação ao encaixe de inserções publicitárias em programas infantis nos canais de tv por assinatura , mesmo aquelas não direcionadas para crianças .",
                  "[]"
                ],
                [
                  "43",
                  "( nr ) “ art . 22",
                  "[]"
                ],
                [
                  "44",
                  "cabe observar que muitos são os municípios que decretaram situação de emergência , bem como estado de calamidade pública , isto em virtude das enchentes provocadas pelos excessos de chuvas , trazendo assim endemias e epidemias animal e humana à população local .",
                  "[]"
                ],
                [
                  "45",
                  "atualmente , o diploma de regência é a lei nº 6.001 , de 19 de dezembro de 1973 , denominada estatuto do índio , juntamente com sua regulamentação , o decreto nº 1.775 , de 8 de janeiro de 1996 .",
                  "[]"
                ],
                [
                  "46",
                  "v – ter atuado como organização criminosa , possuir vínculo com organização ou facção criminosa ou ter se beneficiado de atividades criminosas . . . . . . . . . . . . . . . . . . . . . . . . . . . . . . . . . . . . . . . . . . . . . . . . . . . . . . . . . . . . . . . . . . . . . . . . . . . . . . . . . . . . . . ” .",
                  "[]"
                ],
                [
                  "47",
                  "em um grande número de casos torna-se necessário o uso de medicação com potencial para reduzir um pouco o tamanho da próstata , e outros medicamentos que abrem o canal da uretra .",
                  "[]"
                ],
                [
                  "48",
                  "o objetivo precípuo da regularização fundiária mais expedita e direcionada à amazônia , como apregoa o programa terra legal , é contribuir para a desconcentração fundiária do território e a democratização do acesso à terra .",
                  "[{'start': 103, 'end': 123, 'text': 'programa terra legal', 'label': 'ORGANIZACAO', 'score': 1.0}, {'start': 103, 'end': 123, 'text': 'programa terra legal', 'label': 'ORGANIZACAO', 'score': 1.0}]"
                ],
                [
                  "49",
                  "junji abe ) acrescenta dispositivo à lei complementar nº 123 , de 14 de dezembro de 2006 , para estabelecer previsão legal de reajuste do limite de faturamento anual da empresa que integra o regime especial do microempreendedor individual – mei , na forma que especifica .",
                  "[]"
                ]
              ],
              "shape": {
                "columns": 2,
                "rows": 1478
              }
            },
            "text/html": [
              "<div>\n",
              "<style scoped>\n",
              "    .dataframe tbody tr th:only-of-type {\n",
              "        vertical-align: middle;\n",
              "    }\n",
              "\n",
              "    .dataframe tbody tr th {\n",
              "        vertical-align: top;\n",
              "    }\n",
              "\n",
              "    .dataframe thead th {\n",
              "        text-align: right;\n",
              "    }\n",
              "</style>\n",
              "<table border=\"1\" class=\"dataframe\">\n",
              "  <thead>\n",
              "    <tr style=\"text-align: right;\">\n",
              "      <th></th>\n",
              "      <th>text</th>\n",
              "      <th>weak_label</th>\n",
              "    </tr>\n",
              "  </thead>\n",
              "  <tbody>\n",
              "    <tr>\n",
              "      <th>0</th>\n",
              "      <td>sala das sessões , em de de 2019 .</td>\n",
              "      <td>[]</td>\n",
              "    </tr>\n",
              "    <tr>\n",
              "      <th>1</th>\n",
              "      <td>da decisão de que trata o § 12 deste artigo ca...</td>\n",
              "      <td>[]</td>\n",
              "    </tr>\n",
              "    <tr>\n",
              "      <th>2</th>\n",
              "      <td>projeto de lei n.º , de 2017 ( do sr .</td>\n",
              "      <td>[]</td>\n",
              "    </tr>\n",
              "    <tr>\n",
              "      <th>3</th>\n",
              "      <td>deputado maurício dziedricki p l n .4 6 1 5 / ...</td>\n",
              "      <td>[]</td>\n",
              "    </tr>\n",
              "    <tr>\n",
              "      <th>4</th>\n",
              "      <td>art . 4º esta lei entra em vigor na data de su...</td>\n",
              "      <td>[]</td>\n",
              "    </tr>\n",
              "    <tr>\n",
              "      <th>...</th>\n",
              "      <td>...</td>\n",
              "      <td>...</td>\n",
              "    </tr>\n",
              "    <tr>\n",
              "      <th>1473</th>\n",
              "      <td>trata-se de um projeto de grande utilidade , p...</td>\n",
              "      <td>[]</td>\n",
              "    </tr>\n",
              "    <tr>\n",
              "      <th>1474</th>\n",
              "      <td>paulo wagner ) dispõe sobre o programa escola ...</td>\n",
              "      <td>[{'start': 57, 'end': 100, 'text': 'escolas pú...</td>\n",
              "    </tr>\n",
              "    <tr>\n",
              "      <th>1475</th>\n",
              "      <td>iracema portella ) dispõe sobre abertura de li...</td>\n",
              "      <td>[]</td>\n",
              "    </tr>\n",
              "    <tr>\n",
              "      <th>1476</th>\n",
              "      <td>arnaldo faria de sá deputado federal – são pau...</td>\n",
              "      <td>[]</td>\n",
              "    </tr>\n",
              "    <tr>\n",
              "      <th>1477</th>\n",
              "      <td>não obstante as ambiciosas metas constantes do...</td>\n",
              "      <td>[]</td>\n",
              "    </tr>\n",
              "  </tbody>\n",
              "</table>\n",
              "<p>1478 rows × 2 columns</p>\n",
              "</div>"
            ],
            "text/plain": [
              "                                                   text  \\\n",
              "0                    sala das sessões , em de de 2019 .   \n",
              "1     da decisão de que trata o § 12 deste artigo ca...   \n",
              "2                projeto de lei n.º , de 2017 ( do sr .   \n",
              "3     deputado maurício dziedricki p l n .4 6 1 5 / ...   \n",
              "4     art . 4º esta lei entra em vigor na data de su...   \n",
              "...                                                 ...   \n",
              "1473  trata-se de um projeto de grande utilidade , p...   \n",
              "1474  paulo wagner ) dispõe sobre o programa escola ...   \n",
              "1475  iracema portella ) dispõe sobre abertura de li...   \n",
              "1476  arnaldo faria de sá deputado federal – são pau...   \n",
              "1477  não obstante as ambiciosas metas constantes do...   \n",
              "\n",
              "                                             weak_label  \n",
              "0                                                    []  \n",
              "1                                                    []  \n",
              "2                                                    []  \n",
              "3                                                    []  \n",
              "4                                                    []  \n",
              "...                                                 ...  \n",
              "1473                                                 []  \n",
              "1474  [{'start': 57, 'end': 100, 'text': 'escolas pú...  \n",
              "1475                                                 []  \n",
              "1476                                                 []  \n",
              "1477                                                 []  \n",
              "\n",
              "[1478 rows x 2 columns]"
            ]
          },
          "execution_count": 74,
          "metadata": {},
          "output_type": "execute_result"
        }
      ],
      "source": [
        "import re\n",
        "\n",
        "df_lf_openai = pd.DataFrame([doc.text for doc in spacy_docs_train], columns=[\"text\"])\n",
        "df_lf_openai[\"weak_label\"] = results\n",
        "df_lf_openai[\"weak_label\"] = df_lf_openai.apply(lambda x: convert_pydantic_to_gliner_format(x.text, x.weak_label), axis=1)\n",
        "\n",
        "df_lf_openai"
      ]
    },
    {
      "cell_type": "code",
      "execution_count": 75,
      "metadata": {},
      "outputs": [
        {
          "data": {
            "application/vnd.microsoft.datawrangler.viewer.v0+json": {
              "columns": [
                {
                  "name": "index",
                  "rawType": "object",
                  "type": "string"
                },
                {
                  "name": "20",
                  "rawType": "object",
                  "type": "unknown"
                }
              ],
              "ref": "d337737b-6546-4c20-94bd-edb65e235987",
              "rows": [
                [
                  "text",
                  "o congresso nacional decreta : art . 1º esta lei acrescenta § 3º ao art . 12 da lei nº 11.947 , de 16 de junho de 2009 , para obrigar a inclusão do café e do leite nos cardápios da alimentação escolar ."
                ],
                [
                  "weak_label",
                  "[{'start': 2, 'end': 20, 'text': 'congresso nacional', 'label': 'ORGANIZACAO', 'score': 1.0}, {'start': 2, 'end': 20, 'text': 'congresso nacional', 'label': 'ORGANIZACAO', 'score': 1.0}]"
                ]
              ],
              "shape": {
                "columns": 1,
                "rows": 2
              }
            },
            "text/plain": [
              "text          o congresso nacional decreta : art . 1º esta l...\n",
              "weak_label    [{'start': 2, 'end': 20, 'text': 'congresso na...\n",
              "Name: 20, dtype: object"
            ]
          },
          "execution_count": 75,
          "metadata": {},
          "output_type": "execute_result"
        }
      ],
      "source": [
        "df_lf_openai.iloc[20]"
      ]
    },
    {
      "cell_type": "code",
      "execution_count": 76,
      "metadata": {},
      "outputs": [
        {
          "data": {
            "text/html": [
              "<span class=\"tex2jax_ignore\"><div class=\"entities\" style=\"line-height: 2.5; direction: ltr\">os efeitos da condição dos refugiados são igualmente extensivos ao cônjuge , aos ascendentes e descendentes , assim como aos demais membros do grupo familiar do refugiado que dele dependerem economicamente , desde que se encontrem em território nacional . 3 dentro das medidas destinadas a integrar o refugiado e seus dependentes à sociedade e ao mercado de trabalho do país de acolhimento , inclui-se a necessidade de facilitação do reconhecimento de certificados e diplomas , como preceitua o art . 44 , da lei nº 9.474 , de 22 de julho de 1997 : art . 44 .</div></span>"
            ],
            "text/plain": [
              "<IPython.core.display.HTML object>"
            ]
          },
          "metadata": {},
          "output_type": "display_data"
        }
      ],
      "source": [
        "lf_openai = DataFrameAnnotator(\n",
        "    annotator_name=\"lf_openai\",\n",
        "    data_frame=df_lf_openai,\n",
        "    column_weak_label=\"weak_label\",\n",
        "    column_text=\"text\",\n",
        "    column_uid=\"uid\",\n",
        "    label_key_name=\"label\",\n",
        ")\n",
        "lf_openai(doc)\n",
        "skweak.utils.display_entities(doc, \"lf_openai\")"
      ]
    },
    {
      "cell_type": "markdown",
      "metadata": {},
      "source": [
        "## 2.5 Using Regex Patterns for Labeling Functions\n",
        "\n",
        "In this step, I implemented a custom labeling function using regular expressions to identify organization-related patterns. This rule-based approach works well when entities follow predictable structures, allowing detection without external models.\n",
        "\n",
        "To achieve this, I created a class called OrganizacaoAnnotator, which uses handcrafted linguistic rules to capture four main patterns commonly found in Brazilian institutional names:\n",
        "\n",
        "- Acronyms – Matches uppercase abbreviations such as STF or B.N.D.E.S.\n",
        "\n",
        "- Name followed by acronym – Detects structures like Banco Central (BC)\n",
        "\n",
        "- Known prefixes – Identifies names starting with terms like Ministério, Tribunal, or Agência, followed by capitalized words or prepositions\n",
        "\n",
        "- Known suffixes – Looks back up to 4 tokens to find endings like Federação, Universidade, or Instituto\n",
        "\n",
        "- This method enhances recall for formal and structured organization names commonly found in legislative texts."
      ]
    },
    {
      "cell_type": "code",
      "execution_count": 77,
      "metadata": {},
      "outputs": [
        {
          "name": "stdout",
          "output_type": "stream",
          "text": [
            "a câmara dos deputados resolve : art . 1º esta resolução dá denominação ao plenário 2 , do anexo ii , da câmara dos deputados .\n"
          ]
        }
      ],
      "source": [
        "# Select the 1st document from the training set of spaCy documents\n",
        "doc = spacy_docs_train[6]\n",
        "\n",
        "# Print the text of the selected document for reference\n",
        "print(doc.text)"
      ]
    },
    {
      "cell_type": "code",
      "execution_count": 78,
      "metadata": {},
      "outputs": [
        {
          "data": {
            "text/html": [
              "<span class=\"tex2jax_ignore\"><div class=\"entities\" style=\"line-height: 2.5; direction: ltr\">a \n",
              "<mark class=\"entity\" style=\"background: #ddd; padding: 0.45em 0.6em; margin: 0 0.25em; line-height: 1; border-radius: 0.35em;\">\n",
              "    câmara dos deputados\n",
              "    <span style=\"font-size: 0.8em; font-weight: bold; line-height: 1; border-radius: 0.35em; vertical-align: middle; margin-left: 0.5rem\">ORGANIZACAO</span>\n",
              "</mark>\n",
              " resolve : art . 1º esta resolução dá denominação ao plenário 2 , do anexo ii , da \n",
              "<mark class=\"entity\" style=\"background: #ddd; padding: 0.45em 0.6em; margin: 0 0.25em; line-height: 1; border-radius: 0.35em;\">\n",
              "    câmara dos deputados\n",
              "    <span style=\"font-size: 0.8em; font-weight: bold; line-height: 1; border-radius: 0.35em; vertical-align: middle; margin-left: 0.5rem\">ORGANIZACAO</span>\n",
              "</mark>\n",
              " .</div></span>"
            ],
            "text/plain": [
              "<IPython.core.display.HTML object>"
            ]
          },
          "metadata": {},
          "output_type": "display_data"
        }
      ],
      "source": [
        "import importlib\n",
        "\n",
        "importlib.reload(helpers.ner)\n",
        "\n",
        "# Initialize the OrganizacaoAnnotator from the helpers.ner module\n",
        "lf_organizacao = helpers.ner.OrganizacaoAnnotator()\n",
        "\n",
        "# Apply the OrganizacaoAnnotator to the selected document\n",
        "lf_organizacao(doc)\n",
        "\n",
        "# Display the entities annotated by the OrganizacaoAnnotator using skweak's display_entities function\n",
        "skweak.utils.display_entities(doc, \"lf_organizacao\")"
      ]
    },
    {
      "cell_type": "markdown",
      "metadata": {},
      "source": [
        "## 2.6 Apply Labeling Functions"
      ]
    },
    {
      "cell_type": "code",
      "execution_count": null,
      "metadata": {},
      "outputs": [],
      "source": [
        "# Create a CombinedAnnotator instance\n",
        "# The CombinedAnnotator allows us to combine multiple weak supervision sources (annotators)\n",
        "# Each annotator will provide its own annotations, which will be combined to create a final set of annotations\n",
        "combined = skweak.base.CombinedAnnotator()\n",
        "\n",
        "# Add various annotators to the CombinedAnnotator\n",
        "# Each annotator is responsible for a different type of annotation or uses a different method to generate annotations\n",
        "\n",
        "# Add a gazetteer-based annotator for organizations names\n",
        "combined.add_annotator(lf_organizations_gazetteer)\n",
        "\n",
        "# Add a transformer-based annotator (e.g., BERT, RoBERTa)\n",
        "combined.add_annotator(lf_transformer_1)\n",
        "\n",
        "# Add a GLINER-based annotator using a large BiLSTM model\n",
        "combined.add_annotator(lf_gliner_bi_large)\n",
        "\n",
        "# Add a GLINER-based annotator using a small X model\n",
        "combined.add_annotator(lf_gliner_x_small)\n",
        "\n",
        "# Add a GPT-4o annotator using OpenAI's models\n",
        "combined.add_annotator(lf_openai)\n",
        "\n",
        "# Add a regex-based annotator for organization names\n",
        "combined.add_annotator(lf_organizacao)\n",
        "\n",
        "# Apply the combined annotators to the training documents\n",
        "# The combined.pipe method processes the documents in batches, applying all the annotators\n",
        "# This step generates the combined annotations for each document in the training dataset\n",
        "spacy_docs_train = list(combined.pipe(spacy_docs_train))"
      ]
    },
    {
      "cell_type": "code",
      "execution_count": 80,
      "metadata": {},
      "outputs": [
        {
          "name": "stdout",
          "output_type": "stream",
          "text": [
            "Write to data/bin/ner/spacy_docs_train_annotated.bin...done\n"
          ]
        }
      ],
      "source": [
        "# We can save the weakly annotated spacy_docs to disk to avoid running the labelling functions again\n",
        "skweak.utils.docbin_writer(spacy_docs_train, \"data/bin/ner/spacy_docs_train_annotated.bin\")"
      ]
    },
    {
      "cell_type": "markdown",
      "metadata": {},
      "source": [
        "### 2.7 Document-Level Labelling Functions"
      ]
    },
    {
      "cell_type": "code",
      "execution_count": 81,
      "metadata": {},
      "outputs": [],
      "source": [
        "# Create a MajorityVoter instance for aggregating annotations\n",
        "# The MajorityVoter combines annotations from multiple annotators using a majority voting scheme\n",
        "# \"doclevel_voter\" is the name of the voter\n",
        "# initial_weights={\"doc_majority\":0.0} sets the initial weight for the \"doc_majority\" annotator to 0.0\n",
        "# This means we do not want to include the \"doc_majority\" annotator itself in the vote\n",
        "majority_voter = skweak.aggregation.MajorityVoter(\"doclevel_voter\", [\"ORGANIZACAO\"], initial_weights={\"doc_majority\": 0.0})\n",
        "\n",
        "# Apply the MajorityVoter to the training documents\n",
        "# The majority_voter.pipe method processes the documents in batches, applying the majority voting scheme\n",
        "# This step generates the final aggregated annotations for each document in the training dataset\n",
        "spacy_docs_train = list(majority_voter.pipe(spacy_docs_train))"
      ]
    },
    {
      "cell_type": "code",
      "execution_count": 82,
      "metadata": {},
      "outputs": [],
      "source": [
        "# Create a DocumentMajorityAnnotator instance\n",
        "# The DocumentMajorityAnnotator assigns labels to documents based on the majority vote of the annotations\n",
        "# \"doc_majority\" is the name of the annotator\n",
        "# \"doclevel_voter\" is the name of the voter used for majority voting\n",
        "# case_sensitive=False indicates that the annotation process is case-insensitive\n",
        "doc_majority = skweak.doclevel.DocumentMajorityAnnotator(\"doc_majority\", \"doclevel_voter\", case_sensitive=False)\n",
        "\n",
        "# Apply the DocumentMajorityAnnotator to the training documents\n",
        "# The doc_majority.pipe method processes the documents in batches, applying the majority voting scheme at the document level\n",
        "# This step generates the final aggregated annotations for each document in the training dataset\n",
        "spacy_docs_train = list(doc_majority.pipe(spacy_docs_train))"
      ]
    },
    {
      "cell_type": "markdown",
      "metadata": {},
      "source": [
        "## Step 3 - Generating Aggregated Labels\n",
        "\n",
        "To consolidate the outputs from all labeling functions, I applied label aggregation to produce a unified set of weak annotations. Since individual labeling functions can be noisy or incomplete, this step helps improve overall label quality.\n",
        "\n",
        "I used both Majority Vote and Generative Model (HMM) provided by skweak to merge the weak labels and create a consistent annotation set for training."
      ]
    },
    {
      "cell_type": "code",
      "execution_count": 83,
      "metadata": {},
      "outputs": [
        {
          "data": {
            "text/plain": [
              "{'organizations_gazetteer': [congresso nacional], 'lf_transformer_1': [congresso nacional], 'lf_gliner_bi_large': [congresso nacional, alimentação escolar], 'lf_gliner_x_small': [congresso nacional], 'lf_openai': [congresso nacional], 'lf_organizacao': [congresso], 'doclevel_voter': [congresso nacional, alimentação escolar], 'doc_majority': []}"
            ]
          },
          "execution_count": 83,
          "metadata": {},
          "output_type": "execute_result"
        }
      ],
      "source": [
        "spacy_docs_train[20].spans"
      ]
    },
    {
      "cell_type": "code",
      "execution_count": 84,
      "metadata": {},
      "outputs": [
        {
          "name": "stdout",
          "output_type": "stream",
          "text": [
            "Starting iteration 1\n",
            "Finished E-step with 578 documents\n",
            "Starting iteration 2\n",
            "Finished E-step with 578 documents\n",
            "Starting iteration 3\n"
          ]
        },
        {
          "name": "stderr",
          "output_type": "stream",
          "text": [
            "         1   -7215.96114656             +nan\n",
            "         2   -6879.86710956    +336.09403700\n",
            "         3   -6860.57029350     +19.29681606\n"
          ]
        },
        {
          "name": "stdout",
          "output_type": "stream",
          "text": [
            "Finished E-step with 578 documents\n",
            "Starting iteration 4\n",
            "Finished E-step with 578 documents\n"
          ]
        },
        {
          "name": "stderr",
          "output_type": "stream",
          "text": [
            "         4   -6851.63532187      +8.93497162\n"
          ]
        }
      ],
      "source": [
        "# Define the initial weights for the weak supervision sources. These weights will be used by the Hidden Markov Model (HMM) to combine the weak labels. You don't need to worry too much about them, as they will be optimized by the HMM. This is just a proxy for my feeling about the quality of the labelling functions.\n",
        "\n",
        "initial_weights = {\n",
        "    \"organizations_gazetteer\": 1.0,\n",
        "    \"lf_transformer_1\": 0.2, # Defining this weight by feeling\n",
        "    \"lf_gliner_bi_large\": 0.3, # Defining this weight by feeling\n",
        "    \"lf_gliner_x_small\": 0.5, # Defining this weight by feeling\n",
        "    \"lf_openai\": 1.0,\n",
        "    \"lf_organizacao\": 1.0,\n",
        "    \"doclevel_voter\": 0.0,  # Disabled\n",
        "    \"doc_majority\": 0.0,    # Disabled \n",
        "}\n",
        "# Create an instance of the Hidden Markov Model (HMM) for weak supervision\n",
        "# The HMM is used to combine multiple weak labels into a single probabilistic label\n",
        "# \"hmm\" is the name of the Hidden Markov Model\n",
        "# labels=[\"ORGANIZACAO\"] specifies the entity types that the HMM will consider\n",
        "hmm = skweak.generative.HMM(\"hmm\", labels=[\"ORGANIZACAO\"], initial_weights=initial_weights)\n",
        "\n",
        "# Fit the HMM model to the training documents\n",
        "# The fit method trains the HMM model using the weak labels from the training dataset\n",
        "# This step involves learning the transition and emission probabilities from the weak labels\n",
        "# The spacy_docs_train contains the training documents with weak labels generated by the annotators\n",
        "hmm.fit(spacy_docs_train)"
      ]
    },
    {
      "cell_type": "code",
      "execution_count": 85,
      "metadata": {},
      "outputs": [
        {
          "name": "stdout",
          "output_type": "stream",
          "text": [
            "HMM model with following parameters:\n",
            "Output labels: ['O', 'B-ORGANIZACAO', 'I-ORGANIZACAO']\n",
            "--------\n",
            "Start distribution:\n",
            "O                0.96\n",
            "B-ORGANIZACAO    0.04\n",
            "I-ORGANIZACAO    0.00\n",
            "dtype: float64\n",
            "--------\n",
            "Transition model:\n",
            "                  O  B-ORGANIZACAO  I-ORGANIZACAO\n",
            "O              0.97           0.03           0.00\n",
            "B-ORGANIZACAO  0.33           0.00           0.67\n",
            "I-ORGANIZACAO  0.44           0.00           0.55\n",
            "--------\n",
            "Labelling functions in model: ['organizations_gazetteer', 'lf_openai', 'lf_organizacao', 'lf_gliner_bi_large', 'lf_transformer_1', 'lf_gliner_x_small']\n",
            "Emission model for: lf_gliner_bi_large\n",
            "                  O  B-ORGANIZACAO  I-ORGANIZACAO\n",
            "O              0.99           0.01           0.01\n",
            "B-ORGANIZACAO  0.11           0.88           0.01\n",
            "I-ORGANIZACAO  0.22           0.01           0.77\n",
            "weights        0.30           0.30           0.30\n",
            "--------\n",
            "Emission model for: lf_gliner_x_small\n",
            "                  O  B-ORGANIZACAO  I-ORGANIZACAO\n",
            "O              0.99           0.01           0.01\n",
            "B-ORGANIZACAO  0.16           0.83           0.00\n",
            "I-ORGANIZACAO  0.25           0.00           0.75\n",
            "weights        0.50           0.50           0.50\n",
            "--------\n",
            "Emission model for: lf_openai\n",
            "                  O  B-ORGANIZACAO  I-ORGANIZACAO\n",
            "O              1.00           0.00            0.0\n",
            "B-ORGANIZACAO  0.02           0.97            0.0\n",
            "I-ORGANIZACAO  0.00           0.00            1.0\n",
            "weights        1.00           1.00            1.0\n",
            "--------\n",
            "Emission model for: lf_organizacao\n",
            "                  O  B-ORGANIZACAO  I-ORGANIZACAO\n",
            "O              0.99           0.00           0.00\n",
            "B-ORGANIZACAO  0.21           0.75           0.04\n",
            "I-ORGANIZACAO  0.73           0.01           0.26\n",
            "weights        1.00           1.00           1.00\n",
            "--------\n",
            "Emission model for: lf_transformer_1\n",
            "                  O  B-ORGANIZACAO  I-ORGANIZACAO\n",
            "O              1.00           0.00           0.00\n",
            "B-ORGANIZACAO  0.19           0.81           0.00\n",
            "I-ORGANIZACAO  0.37           0.01           0.63\n",
            "weights        0.20           0.20           0.20\n",
            "--------\n",
            "Emission model for: organizations_gazetteer\n",
            "                  O  B-ORGANIZACAO  I-ORGANIZACAO\n",
            "O              1.00           0.00           0.00\n",
            "B-ORGANIZACAO  0.14           0.86           0.00\n",
            "I-ORGANIZACAO  0.24           0.00           0.76\n",
            "weights        1.00           1.00           1.00\n",
            "--------\n"
          ]
        }
      ],
      "source": [
        "hmm.pretty_print()"
      ]
    },
    {
      "cell_type": "code",
      "execution_count": 86,
      "metadata": {},
      "outputs": [],
      "source": [
        "# Create an instance of the SequentialMajorityVoter for weak supervision\n",
        "# The SequentialMajorityVoter combines annotations from multiple annotators using a majority voting scheme\n",
        "# \"maj_voter\" is the name of the voter\n",
        "# This voter will sequentially process the annotations and assign the most common label to each token\n",
        "maj_voter = skweak.voting.SequentialMajorityVoter(\"maj_voter\", labels=[\"ORGANIZACAO\"], initial_weights=initial_weights)"
      ]
    },
    {
      "cell_type": "code",
      "execution_count": 87,
      "metadata": {},
      "outputs": [],
      "source": [
        "# Apply the Hidden Markov Model (HMM) to the training documents\n",
        "# The hmm.pipe method processes the documents in batches, applying the HMM to generate probabilistic labels\n",
        "# This step refines the weak labels by combining them into a single probabilistic label for each token\n",
        "# The output is a list of spaCy documents with updated annotations based on the HMM\n",
        "spacy_docs_train = list(hmm.pipe(spacy_docs_train))"
      ]
    },
    {
      "cell_type": "code",
      "execution_count": 88,
      "metadata": {},
      "outputs": [],
      "source": [
        "# Apply the SequentialMajorityVoter to the training documents\n",
        "# The maj_voter.pipe method processes the documents in batches, applying the majority voting scheme\n",
        "# This step further refines the labels by assigning the most common label to each token based on the combined annotations\n",
        "# The output is a list of spaCy documents with final annotations based on the majority vote\n",
        "spacy_docs_train = list(maj_voter.pipe(spacy_docs_train))"
      ]
    },
    {
      "cell_type": "code",
      "execution_count": 89,
      "metadata": {},
      "outputs": [
        {
          "data": {
            "text/plain": [
              "{'probs': {np.int64(1): {'B-ORGANIZACAO': np.float64(1.0)},\n",
              "  np.int64(2): {'I-ORGANIZACAO': np.float64(1.0)},\n",
              "  np.int64(3): {'I-ORGANIZACAO': np.float64(1.0)},\n",
              "  np.int64(22): {'B-ORGANIZACAO': np.float64(1.0)},\n",
              "  np.int64(23): {'I-ORGANIZACAO': np.float64(1.0)},\n",
              "  np.int64(24): {'I-ORGANIZACAO': np.float64(1.0)}},\n",
              " 'aggregated': True,\n",
              " 'sources': ['lf_organizacao',\n",
              "  'organizations_gazetteer',\n",
              "  'lf_transformer_1',\n",
              "  'lf_gliner_bi_large',\n",
              "  'lf_gliner_x_small',\n",
              "  'lf_openai']}"
            ]
          },
          "execution_count": 89,
          "metadata": {},
          "output_type": "execute_result"
        }
      ],
      "source": [
        "spacy_docs_train[6].spans[\"hmm\"].attrs"
      ]
    },
    {
      "cell_type": "code",
      "execution_count": 90,
      "metadata": {},
      "outputs": [
        {
          "data": {
            "text/plain": [
              "{'probs': {np.int64(1): {'B-ORGANIZACAO': np.float32(0.996923)},\n",
              "  np.int64(2): {'I-ORGANIZACAO': np.float32(0.996923)},\n",
              "  np.int64(3): {'I-ORGANIZACAO': np.float32(0.996923)},\n",
              "  np.int64(14): {'B-ORGANIZACAO': np.float32(0.19945319)},\n",
              "  np.int64(22): {'B-ORGANIZACAO': np.float32(0.996923)},\n",
              "  np.int64(23): {'I-ORGANIZACAO': np.float32(0.996923)},\n",
              "  np.int64(24): {'I-ORGANIZACAO': np.float32(0.996923)}},\n",
              " 'aggregated': True,\n",
              " 'sources': ['lf_organizacao',\n",
              "  'organizations_gazetteer',\n",
              "  'lf_transformer_1',\n",
              "  'lf_gliner_bi_large',\n",
              "  'lf_gliner_x_small',\n",
              "  'lf_openai']}"
            ]
          },
          "execution_count": 90,
          "metadata": {},
          "output_type": "execute_result"
        }
      ],
      "source": [
        "spacy_docs_train[6].spans[\"maj_voter\"].attrs"
      ]
    },
    {
      "cell_type": "code",
      "execution_count": 91,
      "metadata": {},
      "outputs": [
        {
          "name": "stdout",
          "output_type": "stream",
          "text": [
            "{'organizations_gazetteer': [congresso nacional], 'lf_transformer_1': [congresso nacional], 'lf_gliner_bi_large': [congresso nacional], 'lf_gliner_x_small': [congresso nacional], 'lf_openai': [congresso nacional], 'lf_organizacao': [congresso], 'doclevel_voter': [congresso nacional], 'doc_majority': [], 'hmm': [congresso nacional], 'maj_voter': [congresso nacional]}\n"
          ]
        }
      ],
      "source": [
        "print(spacy_docs_train[70].spans)"
      ]
    },
    {
      "cell_type": "code",
      "execution_count": 92,
      "metadata": {},
      "outputs": [
        {
          "name": "stdout",
          "output_type": "stream",
          "text": [
            "[(congresso nacional, np.float64(0.999999999999166))]\n",
            "[(congresso nacional, np.float32(0.9923639))]\n",
            "[(congresso nacional, np.float32(0.9994745)), (alimentação escolar, np.float32(0.75))]\n"
          ]
        }
      ],
      "source": [
        "print(skweak.utils.get_spans_with_probs(spacy_docs_train[20], \"hmm\"))\n",
        "\n",
        "print(skweak.utils.get_spans_with_probs(spacy_docs_train[20], \"maj_voter\"))\n",
        "\n",
        "print(skweak.utils.get_spans_with_probs(spacy_docs_train[20], \"doclevel_voter\"))"
      ]
    },
    {
      "cell_type": "code",
      "execution_count": 93,
      "metadata": {},
      "outputs": [],
      "source": [
        "from transformers import (\n",
        "    AutoTokenizer,\n",
        ")  # Import the AutoTokenizer from the transformers library\n",
        "from tqdm.auto import tqdm  # Import tqdm for progress bars\n",
        "import helpers.ner  # Import custom helper functions for NER\n",
        "\n",
        "# Load the tokenizer for the BERT model\n",
        "# The tokenizer will handle tokenization and padding/truncation of input sequences\n",
        "tokenizer = AutoTokenizer.from_pretrained(\"neuralmind/bert-base-portuguese-cased\")\n"
      ]
    },
    {
      "cell_type": "code",
      "execution_count": 94,
      "metadata": {},
      "outputs": [
        {
          "name": "stderr",
          "output_type": "stream",
          "text": [
            "100%|██████████| 1478/1478 [00:00<00:00, 6264.96it/s]\n"
          ]
        }
      ],
      "source": [
        "# Initialize an empty list to store the training labels generated by the majority voter\n",
        "train_labels_maj_voter = []\n",
        "\n",
        "# Iterate over each document in the training dataset\n",
        "# tqdm is used to display a progress bar\n",
        "for doc in tqdm(spacy_docs_train):\n",
        "    text = doc.text  # Extract the text from the spaCy document\n",
        "    # Extract entities using the majority voter annotations\n",
        "    # The entities_to_remove list is used to filter out unwanted entities\n",
        "    entities = helpers.ner.extract_entities_in_gliner_format(doc, \"maj_voter\", [])\n",
        "    # Convert the extracted entities to IOB format\n",
        "    # IOB format is commonly used for NER tasks and stands for Inside-Outside-Beginning\n",
        "    iob_format = helpers.ner.convert_to_IOB(\n",
        "        entity_spans=[(ent[\"start\"], ent[\"end\"], ent[\"text\"], ent[\"label\"]) for ent in entities],\n",
        "        input_text=text,\n",
        "        tokenizer=tokenizer,\n",
        "    )\n",
        "    # Append the text, entities, and IOB format annotations to the list\n",
        "    train_labels_maj_voter.append({\"text\": text, \"entities\": entities, \"iob\": iob_format})"
      ]
    },
    {
      "cell_type": "code",
      "execution_count": 95,
      "metadata": {},
      "outputs": [
        {
          "name": "stderr",
          "output_type": "stream",
          "text": [
            "100%|██████████| 1478/1478 [00:00<00:00, 6509.56it/s]\n"
          ]
        }
      ],
      "source": [
        "# Initialize an empty list to store the training labels generated by the HMM\n",
        "train_labels_hmm = []\n",
        "\n",
        "# Iterate over each document in the training dataset\n",
        "# tqdm is used to display a progress bar\n",
        "for doc in tqdm(spacy_docs_train):\n",
        "    text = doc.text  # Extract the text from the spaCy document\n",
        "    # Extract entities using the HMM annotations\n",
        "    # The entities_to_remove list is used to filter out unwanted entities\n",
        "    entities = helpers.ner.extract_entities_in_gliner_format(doc, \"hmm\", [])\n",
        "    # Convert the extracted entities to IOB format\n",
        "    # IOB format is commonly used for NER tasks and stands for Inside-Outside-Beginning\n",
        "    iob_format = helpers.ner.convert_to_IOB(\n",
        "        entity_spans=[(ent[\"start\"], ent[\"end\"], ent[\"text\"], ent[\"label\"]) for ent in entities],\n",
        "        input_text=text,\n",
        "        tokenizer=tokenizer,\n",
        "    )\n",
        "    # Append the text, entities, and IOB format annotations to the list\n",
        "    train_labels_hmm.append({\"text\": text, \"entities\": entities, \"iob\": iob_format})"
      ]
    },
    {
      "cell_type": "code",
      "execution_count": 96,
      "metadata": {},
      "outputs": [],
      "source": [
        "# Define a function to render an example with named entities\n",
        "# This function uses a helper function to visualize the named entities in the text\n",
        "def render_example(example):\n",
        "    # Call the helper function to render the entity data\n",
        "    # text: The input text containing the named entities\n",
        "    # pipeline_results: The list of entities extracted from the text\n",
        "    # label_key_name: The key in the entity dictionary that contains the label (e.g., 'ORGANIZACAO')\n",
        "    # colors: A dictionary specifying the colors to use for different entity labels\n",
        "    helpers.ner.render_entity_data_from_pipeline(\n",
        "        text=example[\"text\"],  # The input text to be rendered\n",
        "        pipeline_results=example[\"entities\"],  # The entities extracted from the text\n",
        "        label_key_name=\"label\",  # The key in the entity dictionary that contains the label\n",
        "        colors={\"ORGANIZACAO\": \"lightgreen\"},  # The color to use for the 'ORGANIZACAO' label\n",
        "    )"
      ]
    },
    {
      "cell_type": "code",
      "execution_count": 97,
      "metadata": {},
      "outputs": [
        {
          "data": {
            "text/html": [
              "<span class=\"tex2jax_ignore\"><div class=\"entities\" style=\"line-height: 2.5; direction: ltr\">o \n",
              "<mark class=\"entity\" style=\"background: lightgreen; padding: 0.45em 0.6em; margin: 0 0.25em; line-height: 1; border-radius: 0.35em;\">\n",
              "    congresso nacional\n",
              "    <span style=\"font-size: 0.8em; font-weight: bold; line-height: 1; border-radius: 0.35em; vertical-align: middle; margin-left: 0.5rem\">ORGANIZACAO</span>\n",
              "</mark>\n",
              " decreta : art . 1º esta lei acrescenta § 3º ao art . 12 da lei nº 11.947 , de 16 de junho de 2009 , para obrigar a inclusão do café e do leite nos cardápios da alimentação escolar .</div></span>"
            ],
            "text/plain": [
              "<IPython.core.display.HTML object>"
            ]
          },
          "metadata": {},
          "output_type": "display_data"
        }
      ],
      "source": [
        "render_example(train_labels_maj_voter[20])"
      ]
    },
    {
      "cell_type": "code",
      "execution_count": 98,
      "metadata": {},
      "outputs": [
        {
          "data": {
            "text/html": [
              "<span class=\"tex2jax_ignore\"><div class=\"entities\" style=\"line-height: 2.5; direction: ltr\">a \n",
              "<mark class=\"entity\" style=\"background: lightgreen; padding: 0.45em 0.6em; margin: 0 0.25em; line-height: 1; border-radius: 0.35em;\">\n",
              "    câmara dos deputados\n",
              "    <span style=\"font-size: 0.8em; font-weight: bold; line-height: 1; border-radius: 0.35em; vertical-align: middle; margin-left: 0.5rem\">ORGANIZACAO</span>\n",
              "</mark>\n",
              " resolve : art . 1º esta resolução dá denominação ao plenário 2 , do anexo ii , da \n",
              "<mark class=\"entity\" style=\"background: lightgreen; padding: 0.45em 0.6em; margin: 0 0.25em; line-height: 1; border-radius: 0.35em;\">\n",
              "    câmara dos deputados\n",
              "    <span style=\"font-size: 0.8em; font-weight: bold; line-height: 1; border-radius: 0.35em; vertical-align: middle; margin-left: 0.5rem\">ORGANIZACAO</span>\n",
              "</mark>\n",
              " .</div></span>"
            ],
            "text/plain": [
              "<IPython.core.display.HTML object>"
            ]
          },
          "metadata": {},
          "output_type": "display_data"
        }
      ],
      "source": [
        "render_example(train_labels_hmm[6])"
      ]
    },
    {
      "cell_type": "markdown",
      "metadata": {},
      "source": [
        "## Step 4 - Training a NER End Model Using Weak Labels\n",
        "\n",
        "I trained a BERT-based NER model using the weak labels generated in the previous steps. To do this, I used a pre-trained Portuguese BERT model and fine-tuned it to recognize organization entities.\n",
        "\n",
        "Since the model already learned general language patterns, only a light adaptation was needed to specialize it for this specific NER task."
      ]
    },
    {
      "cell_type": "code",
      "execution_count": 99,
      "metadata": {},
      "outputs": [],
      "source": [
        "from helpers.text import calculate_md5\n",
        "import pandas as pd"
      ]
    },
    {
      "cell_type": "code",
      "execution_count": 151,
      "metadata": {
        "vscode": {
          "languageId": "ruby"
        }
      },
      "outputs": [],
      "source": [
        "df_train_labeled = df_train.copy()\n",
        "df_train_labeled[\"label_iob\"] = df_train_labeled[\"label_iob\"].apply(keep_only_organizacao_labels)\n",
        "\n",
        "def keep_only_organizacao_labels(label_iob):\n",
        "    return [\n",
        "        (token, label if label.endswith(\"ORGANIZACAO\") or label == \"O\" else \"O\")\n",
        "        for token, label in label_iob\n",
        "    ]\n",
        "\n",
        "\n",
        "df_dev_organizacao = df_dev.copy()\n",
        "df_dev_organizacao[\"label_iob\"] = df_dev_organizacao[\"label_iob\"].apply(keep_only_organizacao_labels)\n",
        "\n",
        "df_test_organizacao = df_test.copy()\n",
        "df_test_organizacao[\"label_iob\"] = df_test_organizacao[\"label_iob\"].apply(keep_only_organizacao_labels)\n"
      ]
    },
    {
      "cell_type": "code",
      "execution_count": 152,
      "metadata": {},
      "outputs": [],
      "source": [
        "def tuplify_list_of_arrays(list_of_arrays):\n",
        "    return tuple(tuple(array) for array in list_of_arrays)\n",
        "\n",
        "df_train_labeled[\"label_iob\"] = df_train_labeled.label_iob.apply(tuplify_list_of_arrays)\n",
        "df_dev_organizacao[\"label_iob\"] = df_dev_organizacao.label_iob.apply(tuplify_list_of_arrays)\n",
        "df_test_organizacao[\"label_iob\"] = df_test_organizacao.label_iob.apply(tuplify_list_of_arrays)"
      ]
    },
    {
      "cell_type": "code",
      "execution_count": 153,
      "metadata": {},
      "outputs": [
        {
          "data": {
            "application/vnd.microsoft.datawrangler.viewer.v0+json": {
              "columns": [
                {
                  "name": "index",
                  "rawType": "int64",
                  "type": "integer"
                },
                {
                  "name": "label_iob",
                  "rawType": "object",
                  "type": "unknown"
                }
              ],
              "ref": "79f2175e-f060-4cf4-8277-68410fcb9e14",
              "rows": [
                [
                  "0",
                  "(('sala', 'O'), ('das', 'O'), ('sessões', 'O'), (',', 'O'), ('em', 'O'), ('de', 'O'), ('de', 'O'), ('2019', 'O'), ('.', 'O'))"
                ],
                [
                  "1",
                  "(('da', 'O'), ('decisão', 'O'), ('de', 'O'), ('que', 'O'), ('trata', 'O'), ('o', 'O'), ('§', 'O'), ('12', 'O'), ('deste', 'O'), ('artigo', 'O'), ('caberá', 'O'), ('recurso', 'O'), ('administrativo', 'O'), ('com', 'O'), ('efeito', 'O'), ('suspensivo', 'O'), ('.', 'O'))"
                ],
                [
                  "2",
                  "(('projeto', 'O'), ('de', 'O'), ('lei', 'O'), ('n.º', 'O'), (',', 'O'), ('de', 'O'), ('2017', 'O'), ('(', 'O'), ('do', 'O'), ('sr', 'O'), ('.', 'O'))"
                ],
                [
                  "3",
                  "(('deputado', 'O'), ('maurício', 'O'), ('dziedricki', 'O'), ('p', 'O'), ('l', 'O'), ('n', 'O'), ('.4', 'O'), ('6', 'O'), ('1', 'O'), ('5', 'O'), ('/', 'O'), ('2', 'O'), ('0', 'O'), ('1', 'O'), ('9', 'O'), ('a', 'O'), ('p', 'O'), ('re', 'O'), ('s', 'O'), ('e', 'O'), ('n', 'O'), ('ta', 'O'), ('ç', 'O'), ('ã', 'O'), ('o', 'O'), (':', 'O'), ('2', 'O'), ('1', 'O'), ('/', 'O'), ('0', 'O'), ('8', 'O'), ('/', 'O'), ('2', 'O'), ('0', 'O'), ('1', 'O'), ('9', 'O'), ('1', 'O'), ('4', 'O'), (':', 'O'), ('1', 'O'), ('6', 'O'))"
                ],
                [
                  "4",
                  "(('art', 'O'), ('.', 'O'), ('4º', 'O'), ('esta', 'O'), ('lei', 'O'), ('entra', 'O'), ('em', 'O'), ('vigor', 'O'), ('na', 'O'), ('data', 'O'), ('de', 'O'), ('sua', 'O'), ('publicação', 'O'), ('.', 'O'))"
                ],
                [
                  "5",
                  "(('com', 'O'), ('o', 'O'), ('forte', 'O'), ('crescimento', 'O'), ('da', 'O'), ('população', 'O'), ('idosa', 'O'), ('masculina', 'O'), ('no', 'O'), ('país', 'O'), (',', 'O'), ('a', 'O'), ('perspectiva', 'O'), ('é', 'O'), ('a', 'O'), ('de', 'O'), ('crescimento', 'O'), ('vertiginoso', 'O'), ('dos', 'O'), ('casos', 'O'), ('de', 'O'), ('câncer', 'O'), ('de', 'O'), ('próstata', 'O'), (',', 'O'), ('conforme', 'O'), ('já', 'O'), ('constatado', 'O'), ('pelas', 'O'), ('estatísticas', 'O'), ('disponíveis', 'O'), ('.', 'O'))"
                ],
                [
                  "6",
                  "(('aquela', 'O'), ('autarquia', 'O'), (',', 'O'), ('aplicando', 'O'), ('o', 'O'), ('dispositivo', 'O'), ('a', 'O'), ('partir', 'O'), ('de', 'O'), ('uma', 'O'), ('leitura', 'O'), ('literal', 'O'), ('da', 'O'), ('norma', 'O'), (',', 'O'), ('indeferia', 'O'), ('tais', 'O'), ('requerimentos', 'O'), (',', 'O'), ('o', 'O'), ('que', 'O'), ('levou', 'O'), ('à', 'O'), ('proposição', 'O'), ('de', 'O'), ('diversas', 'O'), ('ações', 'O'), ('na', 'O'), ('justiça', 'B-ORGANIZACAO'), ('federal', 'I-ORGANIZACAO'), ('em', 'O'), ('que', 'O'), ('se', 'O'), ('pleiteava', 'O'), ('a', 'O'), ('aplicação', 'O'), ('extensiva', 'O'), ('do', 'O'), ('parágrafo', 'O'), ('único', 'O'), ('do', 'O'), ('art', 'O'), ('.', 'O'), ('34', 'O'), ('do', 'O'), ('estatuto', 'O'), ('do', 'O'), ('idoso', 'O'), ('.', 'O'), ('1', 'O'), ('art', 'O'), ('.', 'O'), ('29', 'O'), ('.', 'O'))"
                ],
                [
                  "7",
                  "(('a', 'O'), ('câmara', 'O'), ('dos', 'O'), ('deputados', 'O'), ('resolve', 'O'), (':', 'O'), ('art', 'O'), ('.', 'O'), ('1º', 'O'), ('esta', 'O'), ('resolução', 'O'), ('dá', 'O'), ('denominação', 'O'), ('ao', 'O'), ('plenário', 'O'), ('2', 'O'), (',', 'O'), ('do', 'O'), ('anexo', 'O'), ('ii', 'O'), (',', 'O'), ('da', 'O'), ('câmara', 'O'), ('dos', 'O'), ('deputados', 'O'), ('.', 'O'))"
                ],
                [
                  "8",
                  "(('art', 'O'), ('.', 'O'), ('2º', 'O'), ('as', 'O'), ('normas', 'O'), ('regulamentadoras', 'O'), ('definirão', 'O'), ('as', 'O'), ('estratégias', 'O'), ('para', 'O'), ('o', 'O'), ('cumprimento', 'O'), ('desta', 'O'), ('determinação', 'O'), (',', 'O'), ('disciplinando', 'O'), ('sobre', 'O'), ('os', 'O'), ('participantes', 'O'), (',', 'O'), ('pessoas', 'O'), ('físicas', 'O'), ('ou', 'O'), ('jurídicas', 'O'), (',', 'O'), ('priorizando', 'O'), ('para', 'O'), ('temas', 'O'), ('voltados', 'O'), ('para', 'O'), ('a', 'O'), ('prevenção', 'O'), ('de', 'O'), ('acidentes', 'O'), ('de', 'O'), ('trânsito', 'O'), (',', 'O'), ('levando', 'O'), ('em', 'O'), ('consideração', 'O'), ('os', 'O'), ('aspectos', 'O'), ('humanos', 'O'), ('e', 'O'), ('comportamentais', 'O'), ('.', 'O'))"
                ],
                [
                  "9",
                  "(('os', 'O'), ('portadores', 'O'), ('de', 'O'), ('formas', 'O'), ('crônicas', 'O'), ('de', 'O'), ('hepatite', 'O'), ('demandam', 'O'), ('atenção', 'O'), ('médica', 'O'), ('especializada', 'O'), ('constante', 'O'), ('para', 'O'), ('que', 'O'), ('seu', 'O'), ('quadro', 'O'), ('não', 'O'), ('evolua', 'O'), ('.', 'O'))"
                ],
                [
                  "10",
                  "(('outra', 'O'), ('face', 'O'), ('deste', 'O'), ('processo', 'O'), ('foi', 'O'), ('a', 'O'), ('disseminação', 'O'), ('dos', 'O'), ('atendimentos', 'O'), ('automatizados', 'O'), ('que', 'O'), (',', 'O'), ('além', 'O'), ('do', 'O'), ('custo', 'O'), ('da', 'O'), ('tarifa', 'O'), (',', 'O'), ('impõem', 'O'), ('grande', 'O'), ('perda', 'O'), ('de', 'O'), ('tempo', 'O'), ('e', 'O'), ('constrangimento', 'O'), ('aos', 'O'), ('usuários', 'O'), ('.', 'O'))"
                ],
                [
                  "11",
                  "(('assim', 'O'), (',', 'O'), ('considerando', 'O'), ('que', 'O'), ('esses', 'O'), ('recursos', 'O'), ('surgiriam', 'O'), ('apenas', 'O'), ('para', 'O'), ('o', 'O'), ('esporte', 'O'), (',', 'O'), ('a', 'O'), ('alteração', 'O'), ('feita', 'O'), ('no', 'O'), ('texto', 'O'), ('da', 'O'), ('lei', 'O'), ('nº', 'O'), ('11.438', 'O'), ('/', 'O'), ('2006', 'O'), ('foi', 'O'), ('extremamente', 'O'), ('prejudicial', 'O'), ('para', 'O'), ('o', 'O'), ('desporto', 'O'), ('e', 'O'), ('paradesporto', 'O'), ('brasileiro', 'O'), ('.', 'O'))"
                ],
                [
                  "12",
                  "(('sala', 'O'), ('das', 'O'), ('sessões', 'O'), (',', 'O'), ('em', 'O'), ('16', 'O'), ('de', 'O'), ('março', 'O'), ('de', 'O'), ('2011', 'O'), ('.', 'O'))"
                ],
                [
                  "13",
                  "(('o', 'O'), ('crime', 'O'), ('já', 'O'), ('está', 'O'), ('tipificado', 'O'), ('no', 'O'), ('código', 'O'), ('brasileiro', 'O'), ('de', 'O'), ('trânsito', 'O'), (',', 'O'), ('entretanto', 'O'), ('sua', 'O'), ('divulgação', 'O'), ('não', 'O'), ('consta', 'O'), ('da', 'O'), ('lei', 'O'), ('nº', 'O'), ('9.294', 'O'), ('/', 'O'), ('96', 'O'), ('.', 'O'))"
                ],
                [
                  "14",
                  "(('ademais', 'O'), (',', 'O'), ('elencamos', 'O'), ('as', 'O'), ('políticas', 'O'), ('a', 'O'), ('serem', 'O'), ('executadas', 'O'), ('pelo', 'O'), ('poder', 'B-ORGANIZACAO'), ('público', 'I-ORGANIZACAO'), ('nas', 'O'), ('áreas', 'O'), ('especiais', 'O'), ('de', 'O'), ('interesse', 'O'), ('turístico', 'O'), (',', 'O'), ('com', 'O'), ('vistas', 'O'), ('ao', 'O'), ('cumprimento', 'O'), ('de', 'O'), ('incentivo', 'O'), ('à', 'O'), ('atividade', 'O'), ('turística', 'O'), ('.', 'O'))"
                ],
                [
                  "15",
                  "(('projeto', 'O'), ('de', 'O'), ('lei', 'O'), ('nº', 'O'), (',', 'O'), ('de', 'O'), ('2011', 'O'), ('(', 'O'), ('do', 'O'), ('sr', 'O'), ('.', 'O'))"
                ],
                [
                  "16",
                  "(('apesar', 'O'), ('das', 'O'), ('dificuldades', 'O'), ('apontadas', 'O'), (',', 'O'), ('conto', 'O'), ('com', 'O'), ('o', 'O'), ('discernimento', 'O'), ('dos', 'O'), ('nobres', 'O'), ('pares', 'O'), ('para', 'O'), (',', 'O'), ('em', 'O'), ('conjunto', 'O'), (',', 'O'), ('alcançarmos', 'O'), ('uma', 'O'), ('solução', 'O'), ('para', 'O'), ('essas', 'O'), ('graves', 'O'), ('questões', 'O'), ('.', 'O'))"
                ],
                [
                  "17",
                  "(('projeto', 'O'), ('de', 'O'), ('lei', 'O'), ('nº', 'O'), (',', 'O'), ('de', 'O'), ('2019', 'O'), ('.', 'O'))"
                ],
                [
                  "18",
                  "(('projeto', 'O'), ('de', 'O'), ('lei', 'O'), ('nº', 'O'), (',', 'O'), ('de', 'O'), ('2011', 'O'), ('(', 'O'), ('do', 'O'), ('sr.', 'O'), ('marllos', 'O'), ('sampaio', 'O'), (')', 'O'), ('torna', 'O'), ('crime', 'O'), ('aliciar', 'O'), ('idoso', 'O'), ('para', 'O'), ('contrair', 'O'), ('empréstimos', 'O'), ('.', 'O'))"
                ],
                [
                  "19",
                  "(('convém', 'O'), (',', 'O'), ('ainda', 'O'), (',', 'O'), ('que', 'O'), ('a', 'O'), ('especificação', 'O'), ('de', 'O'), ('parâmetros', 'O'), ('e', 'O'), ('exigências', 'O'), ('venha', 'O'), ('a', 'O'), ('ser', 'O'), ('tratada', 'O'), ('em', 'O'), ('regulamento', 'O'), (',', 'O'), ('uma', 'O'), ('vez', 'O'), ('que', 'O'), ('a', 'O'), ('dinâmica', 'O'), ('da', 'O'), ('evolução', 'O'), ('tecnológica', 'O'), ('pode', 'O'), ('impor', 'O'), ('frequentes', 'O'), ('atualizações', 'O'), ('.', 'O'))"
                ],
                [
                  "20",
                  "(('afigura-se', 'O'), (',', 'O'), ('portanto', 'O'), (',', 'O'), ('desnecessária', 'O'), ('inscrição', 'O'), ('em', 'O'), ('ordem', 'O'), ('ou', 'O'), ('conselho', 'O'), ('para', 'O'), ('o', 'O'), ('exercício', 'O'), ('da', 'O'), ('profissão', 'O'), ('de', 'O'), ('músico', 'O'), ('.', 'O'), ('”', 'O'))"
                ],
                [
                  "21",
                  "(('deputada', 'O'), ('bruna', 'O'), ('furlan', 'O'))"
                ],
                [
                  "22",
                  "(('o', 'O'), ('congresso', 'O'), ('nacional', 'O'), ('decreta', 'O'), (':', 'O'), ('art', 'O'), ('.', 'O'), ('1º', 'O'), ('esta', 'O'), ('lei', 'O'), ('acrescenta', 'O'), ('§', 'O'), ('3º', 'O'), ('ao', 'O'), ('art', 'O'), ('.', 'O'), ('12', 'O'), ('da', 'O'), ('lei', 'O'), ('nº', 'O'), ('11.947', 'O'), (',', 'O'), ('de', 'O'), ('16', 'O'), ('de', 'O'), ('junho', 'O'), ('de', 'O'), ('2009', 'O'), (',', 'O'), ('para', 'O'), ('obrigar', 'O'), ('a', 'O'), ('inclusão', 'O'), ('do', 'O'), ('café', 'O'), ('e', 'O'), ('do', 'O'), ('leite', 'O'), ('nos', 'O'), ('cardápios', 'O'), ('da', 'O'), ('alimentação', 'O'), ('escolar', 'O'), ('.', 'O'))"
                ],
                [
                  "23",
                  "(('esta', 'O'), ('resolução', 'O'), ('entra', 'O'), ('em', 'O'), ('vigor', 'O'), ('na', 'O'), ('data', 'O'), ('de', 'O'), ('sua', 'O'), ('publicação', 'O'), ('.', 'O'))"
                ],
                [
                  "24",
                  "(('art', 'O'), ('.', 'O'), ('2º', 'O'), ('revoga-se', 'O'), ('a', 'O'), ('lei', 'O'), ('nº', 'O'), ('13.586', 'O'), (',', 'O'), ('de', 'O'), ('28', 'O'), ('de', 'O'), ('dezembro', 'O'), ('de', 'O'), ('2017', 'O'), ('.', 'O'))"
                ],
                [
                  "25",
                  "(('o', 'O'), ('problema', 'O'), ('é', 'O'), ('que', 'O'), (',', 'O'), ('uma', 'O'), ('vez', 'O'), ('verificado', 'O'), ('que', 'O'), ('determinado', 'O'), ('município', 'O'), ('enquadrado', 'O'), ('nesta', 'O'), ('categoria', 'O'), ('de', 'O'), ('pequeno', 'O'), ('ultrapassou', 'O'), ('qualquer', 'O'), ('uma', 'O'), ('p', 'O'), ('l', 'O'), ('p', 'O'), ('n', 'O'), ('.1', 'O'), ('9', 'O'), ('0', 'O'), ('/', 'O'), ('2', 'O'), ('0', 'O'), ('1', 'O'), ('9', 'O'), ('a', 'O'), ('p', 'O'), ('re', 'O'), ('s', 'O'), ('e', 'O'), ('n', 'O'), ('ta', 'O'), ('ç', 'O'), ('ã', 'O'), ('o', 'O'), (':', 'O'), ('1', 'O'), ('4', 'O'), ('/', 'O'), ('0', 'O'), ('8', 'O'), ('/', 'O'), ('2', 'O'), ('0', 'O'), ('1', 'O'), ('9', 'O'), ('1', 'O'), ('4', 'O'), (':', 'O'), ('5', 'O'), ('5', 'O'), ('2', 'O'), ('das', 'O'), ('regras', 'O'), ('previstas', 'O'), (',', 'O'), ('as', 'O'), ('sanções', 'O'), ('aplicadas', 'O'), ('são', 'O'), ('as', 'O'), ('mesmas', 'O'), ('dos', 'O'), ('demais', 'O'), ('entes', 'O'), (',', 'O'), ('que', 'O'), ('incluem', 'O'), ('sobretudo', 'O'), ('a', 'O'), ('inclusão', 'O'), ('do', 'O'), ('município', 'O'), ('como', 'O'), ('inadimplente', 'O'), ('no', 'O'), ('cadastro', 'O'), ('único', 'O'), ('de', 'O'), ('convênios', 'O'), ('e', 'O'), ('a', 'O'), ('suspensão', 'O'), ('imediata', 'O'), ('das', 'O'), ('transferências', 'O'), ('voluntárias', 'O'), ('da', 'O'), ('união', 'O'), ('.', 'O'))"
                ],
                [
                  "26",
                  "(('o', 'O'), ('número', 'O'), ('de', 'O'), ('assassinatos', 'O'), ('tem', 'O'), ('chegado', 'O'), ('a', 'O'), ('4,8', 'O'), ('para', 'O'), ('cada', 'O'), ('100', 'O'), ('mil', 'O'), ('mulheres', 'O'), ('.', 'O'))"
                ],
                [
                  "27",
                  "(('esta', 'O'), ('lei', 'O'), ('entra', 'O'), ('em', 'O'), ('vigor', 'O'), ('cento', 'O'), ('e', 'O'), ('oitenta', 'O'), ('dias', 'O'), ('após', 'O'), ('sua', 'O'), ('publicação', 'O'), ('oficial', 'O'), ('.', 'O'))"
                ],
                [
                  "28",
                  "(('o', 'O'), ('congresso', 'O'), ('nacional', 'O'), ('decreta', 'O'), (':', 'O'), ('art', 'O'), ('.', 'O'), ('1º', 'O'), ('esta', 'O'), ('lei', 'O'), ('regula', 'O'), ('a', 'O'), ('indenização', 'O'), ('de', 'O'), ('benfeitorias', 'O'), ('a', 'O'), ('agricultores', 'O'), ('ocupantes', 'O'), ('de', 'O'), ('boa-fé', 'O'), ('em', 'O'), ('terras', 'O'), ('indígenas', 'O'), (',', 'O'), ('nos', 'O'), ('termos', 'O'), ('estabelecidos', 'O'), ('pelo', 'O'), ('§', 'O'), ('6º', 'O'), ('do', 'O'), ('art', 'O'), ('.', 'O'), ('231', 'O'), ('da', 'O'), ('constituição', 'O'), ('federal', 'O'), ('.', 'O'))"
                ],
                [
                  "29",
                  "(('diante', 'O'), ('dessa', 'O'), ('realidade', 'O'), (',', 'O'), ('o', 'O'), ('mandamento', 'O'), ('convencional', 'O'), ('e', 'O'), ('legal', 'O'), ('de', 'O'), ('integração', 'O'), ('sociocultural', 'O'), ('e', 'O'), ('laboral', 'O'), ('do', 'O'), ('refugiado', 'O'), ('admitido', 'O'), ('no', 'O'), ('brasil', 'O'), ('resta', 'O'), (',', 'O'), ('pois', 'O'), (',', 'O'), ('esvaziado', 'O'), ('de', 'O'), ('eficácia', 'O'), (',', 'O'), ('havendo', 'O'), ('a', 'O'), ('necessidade', 'O'), ('de', 'O'), ('complementação', 'O'), ('da', 'O'), ('legislação', 'O'), ('existente', 'O'), ('.', 'O'))"
                ],
                [
                  "30",
                  "(('§', 'O'), ('2º', 'O'), ('a', 'O'), ('escritura', 'O'), ('e', 'O'), ('demais', 'O'), ('atos', 'O'), ('notariais', 'O'), ('serão', 'O'), ('gratuitos', 'O'), ('aos', 'O'), ('hipossuficientes', 'O'), ('econômicos', 'O'), ('.', 'O'), ('”', 'O'))"
                ],
                [
                  "31",
                  "(('esses', 'O'), ('mecanismos', 'O'), ('devem', 'O'), ('estar', 'O'), ('relacionados', 'O'), ('exatamente', 'O'), ('à', 'O'), ('execução', 'O'), ('da', 'O'), ('pena', 'O'), ('.', 'O'))"
                ],
                [
                  "32",
                  "(('igualmente', 'O'), ('nocivos', 'O'), ('são', 'O'), ('os', 'O'), ('efeitos', 'O'), ('dos', 'O'), ('saltos', 'O'), ('altos', 'O'), ('sobre', 'O'), ('a', 'O'), ('coluna', 'O'), ('infantil', 'O'), (',', 'O'), ('consistindo', 'O'), ('no', 'O'), ('aumento', 'O'), ('da', 'O'), ('curvatura', 'O'), ('da', 'O'), ('região', 'O'), ('lombar', 'O'), ('em', 'O'), ('decorrência', 'O'), ('da', 'O'), ('projeção', 'O'), ('para', 'O'), ('a', 'O'), ('frente', 'O'), ('do', 'O'), ('centro', 'O'), ('de', 'O'), ('gravidade', 'O'), ('corporal', 'O'), (',', 'O'), ('o', 'O'), ('que', 'O'), ('pode', 'O'), ('gerar', 'O'), ('dores', 'O'), ('e', 'O'), (',', 'O'), ('até', 'O'), ('mesmo', 'O'), (',', 'O'), ('mudanças', 'O'), ('na', 'O'), ('posição', 'O'), ('da', 'O'), ('coluna', 'O'), ('.', 'O'))"
                ],
                [
                  "33",
                  "(('i', 'O'), ('-', 'O'), ('6%', 'O'), ('(', 'O'), ('seis', 'O'), ('por', 'O'), ('cento', 'O'), (')', 'O'), ('para', 'O'), ('a', 'O'), ('entidade', 'O'), ('reguladora', 'O'), ('do', 'O'), ('setor', 'O'), ('de', 'O'), ('mineração', 'O'), (';', 'O'), ('ii', 'O'), ('–', 'O'), ('1,5%', 'O'), ('(', 'O'), ('um', 'O'), ('inteiro', 'O'), ('e', 'O'), ('cinco', 'O'), ('décimos', 'O'), ('por', 'O'), ('cento', 'O'), (')', 'O'), ('para', 'O'), ('o', 'O'), ('fundo', 'O'), ('nacional', 'O'), ('de', 'O'), ('desenvolvimento', 'O'), ('científico', 'O'), ('e', 'O'), ('tecnológico', 'O'), ('(', 'O'), ('fndct', 'O'), (')', 'O'), (',', 'O'), ('instituído', 'O'), ('pelo', 'O'), ('decreto-lei', 'O'), ('nº', 'O'), ('719', 'O'), (',', 'O'), ('de', 'O'), ('31', 'O'), ('de', 'O'), ('julho', 'O'), ('de', 'O'), ('1969', 'O'), (',', 'O'), ('e', 'O'), ('restabelecido', 'O'), ('pela', 'O'), ('lei', 'O'), ('nº', 'O'), ('8.172', 'O'), (',', 'O'), ('de', 'O'), ('18', 'O'), ('de', 'O'), ('janeiro', 'O'), ('de', 'O'), ('1991', 'O'), (',', 'O'), ('destinado', 'O'), ('ao', 'O'), ('desenvolvimento', 'O'), ('científico', 'O'), ('e', 'O'), ('tecnológico', 'O'), ('do', 'O'), ('setor', 'O'), ('mineral', 'O'), (',', 'O'), ('sendo', 'O'), ('aplicado', 'O'), (',', 'O'), ('no', 'O'), ('mínimo', 'O'), (',', 'O'), ('0,5%', 'O'), ('(', 'O'), ('cinco', 'O'), ('décimos', 'O'), ('por', 'O'), ('cento', 'O'), (')', 'O'), ('em', 'O'), ('pesquisas', 'O'), (',', 'O'), ('estudos', 'O'), ('e', 'O'), ('projetos', 'O'), ('para', 'O'), ('o', 'O'), ('beneficiamento', 'O'), ('de', 'O'), ('rejeitos', 'O'), ('e', 'O'), ('estéreis', 'O'), ('de', 'O'), ('minerais', 'O'), ('para', 'O'), ('uso', 'O'), ('em', 'O'), ('outras', 'O'), ('cadeias', 'O'), ('produtivas', 'O'), (';', 'O'), ('.', 'O'), ('.', 'O'), ('.', 'O'), ('.', 'O'), ('.', 'O'), ('.', 'O'), ('.', 'O'), ('.', 'O'), ('.', 'O'), ('.', 'O'), ('.', 'O'), ('.', 'O'), ('.', 'O'), ('.', 'O'), ('.', 'O'), ('.', 'O'), ('.', 'O'), ('.', 'O'), ('.', 'O'), ('.', 'O'), ('.', 'O'), ('.', 'O'), ('.', 'O'), ('.', 'O'), ('.', 'O'), ('.', 'O'), ('.', 'O'), ('.', 'O'), ('.', 'O'), ('.', 'O'), ('.', 'O'), ('.', 'O'), ('.', 'O'), ('.', 'O'), ('.', 'O'), ('.', 'O'), ('.', 'O'), ('.', 'O'), ('.', 'O'), ('.', 'O'), ('.', 'O'), ('.', 'O'), ('.', 'O'), ('.', 'O'), ('.', 'O'), ('.', 'O'), ('.', 'O'), ('.', 'O'), ('.', 'O'), ('.', 'O'), ('.', 'O'), ('.', 'O'), ('.', 'O'), ('.', 'O'), ('.', 'O'), ('.', 'O'), ('.', 'O'), ('.', 'O'), ('.', 'O'), ('.', 'O'), ('.', 'O'), ('.', 'O'), ('.', 'O'), ('.', 'O'), ('.', 'O'), ('.', 'O'), ('.', 'O'), ('.', 'O'), ('.', 'O'), ('.', 'O'), ('.', 'O'), ('.', 'O'), ('.', 'O'), ('.', 'O'), ('.', 'O'), ('.', 'O'), ('.', 'O'), ('.', 'O'), ('.', 'O'), ('.', 'O'), ('.', 'O'), ('.', 'O'), ('.', 'O'), ('.', 'O'), ('.', 'O'), ('.', 'O'), ('.', 'O'), ('.', 'O'), ('.', 'O'), ('.', 'O'), ('.', 'O'), ('.', 'O'), ('.', 'O'), ('.', 'O'), ('.', 'O'), ('.', 'O'))"
                ],
                [
                  "34",
                  "(('nesse', 'O'), ('contexto', 'O'), (',', 'O'), ('a', 'O'), ('lei', 'O'), ('antidrogas', 'O'), ('(', 'O'), ('lei', 'O'), ('nº', 'O'), ('11.343', 'O'), (',', 'O'), ('de', 'O'), ('23', 'O'), ('de', 'O'), ('agosto', 'O'), ('de', 'O'), ('2006', 'O'), (')', 'O'), ('fixou', 'O'), ('algumas', 'O'), ('obrigações', 'O'), ('estatais', 'O'), ('direcionadas', 'O'), ('à', 'O'), ('prevenção', 'O'), ('do', 'O'), ('uso', 'O'), ('indevido', 'O'), ('e', 'O'), ('à', 'O'), ('reinserção', 'O'), ('social', 'O'), ('dos', 'O'), ('usuários', 'O'), ('de', 'O'), ('drogas', 'O'), ('.', 'O'))"
                ],
                [
                  "35",
                  "(('trata-se', 'O'), ('de', 'O'), ('proposição', 'O'), ('que', 'O'), ('visa', 'O'), ('a', 'O'), ('coibir', 'O'), ('abusos', 'O'), ('de', 'O'), ('poder', 'O'), (',', 'O'), ('retirando', 'O'), ('do', 'O'), ('art', 'O'), ('.', 'O'), ('26', 'O'), ('da', 'O'), ('lei', 'O'), ('nº', 'O'), ('6.815', 'O'), (',', 'O'), ('de', 'O'), ('1980', 'O'), (',', 'O'), ('o', 'O'), ('seu', 'O'), ('caráter', 'O'), ('arbitrário', 'O'), (',', 'O'), ('que', 'O'), (',', 'O'), ('ao', 'O'), ('estipular', 'O'), ('as', 'O'), ('condições', 'O'), ('segundo', 'O'), ('as', 'O'), ('quais', 'O'), ('a', 'O'), ('entrada', 'O'), (',', 'O'), ('permanência', 'O'), ('ou', 'O'), ('registro', 'O'), ('do', 'O'), ('estrangeiro', 'O'), ('em', 'O'), ('nosso', 'O'), ('país', 'O'), ('pode', 'O'), ('ser', 'O'), ('obstado', 'O'), (',', 'O'), ('contempla', 'O'), ('a', 'O'), ('hipótese', 'O'), ('de', 'O'), ('“', 'O'), ('inconveniência', 'O'), ('de', 'O'), ('sua', 'O'), ('presença', 'O'), ('no', 'O'), ('território', 'O'), ('nacional', 'O'), (',', 'O'), ('a', 'O'), ('critério', 'O'), ('do', 'O'), ('ministério', 'B-ORGANIZACAO'), ('da', 'I-ORGANIZACAO'), ('justiça', 'I-ORGANIZACAO'), ('”', 'O'), ('.', 'O'))"
                ],
                [
                  "36",
                  "(('assim', 'O'), (',', 'O'), ('este', 'O'), ('projeto', 'O'), ('apenas', 'O'), ('adianta-se', 'O'), (',', 'O'), ('propondo', 'O'), ('solução', 'O'), ('já', 'O'), ('aventada', 'O'), ('e', 'O'), ('mapeada', 'O'), ('como', 'O'), ('uma', 'O'), ('necessidade', 'O'), ('pelo', 'O'), ('próprio', 'O'), ('governo', 'B-ORGANIZACAO'), ('federal', 'I-ORGANIZACAO'), ('.', 'O'))"
                ],
                [
                  "37",
                  "(('art', 'O'), ('.', 'O'), ('3', 'O'), ('°', 'O'), ('esta', 'O'), ('lei', 'O'), ('entra', 'O'), ('em', 'O'), ('vigor', 'O'), ('na', 'O'), ('data', 'O'), ('de', 'O'), ('sua', 'O'), ('publicação', 'O'), ('.', 'O'))"
                ],
                [
                  "38",
                  "(('não', 'O'), ('podemos', 'O'), ('mais', 'O'), ('aceitar', 'O'), ('que', 'O'), ('nossa', 'O'), ('juventude', 'O'), ('seja', 'O'), ('imolada', 'O'), (',', 'O'), ('em', 'O'), ('favor', 'O'), ('de', 'O'), ('uns', 'O'), ('poucos', 'O'), ('e', 'O'), (',', 'O'), ('nós', 'O'), ('parlamentares', 'O'), ('nada', 'O'), ('façamos', 'O'), ('.', 'O'))"
                ],
                [
                  "39",
                  "(('o', 'O'), ('congresso', 'O'), ('nacional', 'O'), ('decreta', 'O'), (':', 'O'), ('art', 'O'), ('.', 'O'), ('1º', 'O'), ('esta', 'O'), ('lei', 'O'), ('veda', 'O'), ('a', 'O'), ('divulgação', 'O'), ('ou', 'O'), ('promoção', 'O'), ('de', 'O'), ('prestadores', 'O'), ('de', 'O'), ('serviços', 'O'), ('turísticos', 'O'), ('não', 'O'), ('devidamente', 'O'), ('cadastrados', 'O'), ('no', 'O'), ('ministério', 'B-ORGANIZACAO'), ('do', 'I-ORGANIZACAO'), ('turismo', 'I-ORGANIZACAO'), ('.', 'O'))"
                ],
                [
                  "40",
                  "(('dada', 'O'), ('a', 'O'), ('inequívoca', 'O'), ('importância', 'O'), ('da', 'O'), ('matéria', 'O'), (',', 'O'), ('esperamos', 'O'), ('poder', 'O'), ('contar', 'O'), ('com', 'O'), ('o', 'O'), ('apoio', 'O'), ('dos', 'O'), ('nossos', 'O'), ('ilustres', 'O'), ('pares', 'O'), ('nessa', 'O'), ('casa', 'O'), ('para', 'O'), ('sua', 'O'), ('célere', 'O'), ('aprovação', 'O'), ('.', 'O'))"
                ],
                [
                  "41",
                  "(('p', 'O'), ('l', 'O'), ('n', 'O'), ('.4', 'O'), ('7', 'O'), ('4', 'O'), ('8', 'O'), ('/', 'O'), ('2', 'O'), ('0', 'O'), ('1', 'O'), ('9', 'O'), ('a', 'O'), ('p', 'O'), ('re', 'O'), ('s', 'O'), ('e', 'O'), ('n', 'O'), ('ta', 'O'), ('ç', 'O'), ('ã', 'O'), ('o', 'O'), (':', 'O'), ('2', 'O'), ('8', 'O'), ('/', 'O'), ('0', 'O'), ('8', 'O'), ('/', 'O'), ('2', 'O'), ('0', 'O'), ('1', 'O'), ('9', 'O'), ('1', 'O'), ('6', 'O'), (':', 'O'), ('0', 'O'), ('1', 'O'), ('3', 'O'), ('também', 'O'), ('na', 'O'), ('linha', 'O'), ('de', 'O'), ('combater', 'O'), ('a', 'O'), ('reincidência', 'O'), (',', 'O'), ('o', 'O'), ('núcleo', 'O'), ('judiciário', 'O'), ('da', 'O'), ('mulher', 'O'), (',', 'O'), ('no', 'O'), ('distrito', 'O'), ('federal', 'O'), (',', 'O'), ('tem', 'O'), ('estabelecido', 'O'), ('conversas', 'O'), ('reflexivas', 'O'), ('com', 'O'), ('condenados', 'O'), ('pela', 'O'), ('lei', 'O'), ('maria', 'O'), ('da', 'O'), ('penha', 'O'), (',', 'O'), ('que', 'O'), ('abordam', 'O'), ('sistema', 'O'), ('de', 'O'), ('crenças', 'O'), (',', 'O'), ('dependência', 'O'), ('afetiva', 'O'), (',', 'O'), ('e', 'O'), ('auto', 'O'), ('responsabilidade', 'O'), ('.', 'O'))"
                ],
                [
                  "42",
                  "(('amparado', 'O'), ('em', 'O'), ('tais', 'O'), ('argumento', 'O'), (',', 'O'), ('esperamos', 'O'), ('contar', 'O'), ('com', 'O'), ('o', 'O'), ('decisivo', 'O'), ('apoio', 'O'), ('dos', 'O'), ('nobres', 'O'), ('pares', 'O'), ('para', 'O'), ('a', 'O'), ('aprovação', 'O'), ('dessa', 'O'), ('proposta', 'O'), ('legislativa', 'O'), ('.', 'O'))"
                ],
                [
                  "43",
                  "(('foi', 'O'), ('o', 'O'), ('primeiro', 'O'), ('nissei', 'O'), ('e', 'O'), ('o', 'O'), ('único', 'O'), ('político', 'O'), ('a', 'O'), ('ser', 'O'), ('presidente', 'O'), ('da', 'O'), ('câmara', 'B-ORGANIZACAO'), ('municipal', 'I-ORGANIZACAO'), ('de', 'I-ORGANIZACAO'), ('são', 'I-ORGANIZACAO'), ('paulo', 'I-ORGANIZACAO'), ('e', 'O'), ('da', 'O'), ('assembléia', 'B-ORGANIZACAO'), ('legislativa', 'I-ORGANIZACAO'), ('do', 'I-ORGANIZACAO'), ('estado', 'I-ORGANIZACAO'), ('de', 'I-ORGANIZACAO'), ('são', 'I-ORGANIZACAO'), ('paulo', 'I-ORGANIZACAO'), ('.', 'O'))"
                ],
                [
                  "44",
                  "(('justificação', 'O'), ('diante', 'O'), ('do', 'O'), ('aumento', 'O'), ('da', 'O'), ('expectativa', 'O'), ('de', 'O'), ('vida', 'O'), ('do', 'O'), ('brasileiro', 'O'), ('e', 'O'), ('da', 'O'), ('necessidade', 'O'), ('de', 'O'), ('inclusão', 'O'), ('e', 'O'), ('de', 'O'), ('manutenção', 'O'), ('dos', 'O'), ('trabalhadores', 'O'), ('com', 'O'), ('50', 'O'), ('anos', 'O'), ('de', 'O'), ('idade', 'O'), ('ou', 'O'), ('mais', 'O'), ('no', 'O'), ('mercado', 'O'), ('de', 'O'), ('trabalho', 'O'), (',', 'O'), ('a', 'O'), ('fim', 'O'), ('de', 'O'), ('que', 'O'), ('possam', 'O'), ('continuar', 'O'), ('contribuindo', 'O'), ('para', 'O'), ('a', 'O'), ('previdência', 'O'), ('social', 'O'), ('o', 'O'), ('suficiente', 'O'), ('para', 'O'), ('a', 'O'), ('percepção', 'O'), ('do', 'O'), ('benefício', 'O'), ('da', 'O'), ('aposentadoria', 'O'), (',', 'O'), ('faz-se', 'O'), ('necessária', 'O'), ('a', 'O'), ('adoção', 'O'), ('de', 'O'), ('mecanismos', 'O'), ('que', 'O'), ('incentivem', 'O'), ('as', 'O'), ('empresas', 'O'), ('a', 'O'), ('contratar', 'O'), ('empregados', 'O'), ('mais', 'O'), ('experientes', 'O'), ('.', 'O'))"
                ],
                [
                  "45",
                  "(('silas', 'O'), ('câmara', 'O'), ('e', 'O'), ('vinícius', 'O'), ('carvalho', 'O'), (')', 'O'), ('dispõe', 'O'), ('sobre', 'O'), ('a', 'O'), ('atualização', 'O'), ('do', 'O'), ('valor', 'O'), ('dos', 'O'), ('ativos', 'O'), ('das', 'O'), ('concessionárias', 'O'), ('de', 'O'), ('transmissão', 'O'), ('de', 'O'), ('energia', 'O'), ('elétrica', 'O'), ('considerados', 'O'), ('não', 'O'), ('depreciados', 'O'), ('existentes', 'O'), ('em', 'O'), ('31', 'O'), ('de', 'O'), ('maio', 'O'), ('de', 'O'), ('2000', 'O'), ('o', 'O'), ('congresso', 'O'), ('nacional', 'O'), ('decreta', 'O'), (':', 'O'), ('art', 'O'), ('.', 'O'), ('1º', 'O'), ('o', 'O'), ('art', 'O'), ('.', 'O'), ('15', 'O'), ('da', 'O'), ('lei', 'O'), ('nº', 'O'), ('12.783', 'O'), (',', 'O'), ('11', 'O'), ('de', 'O'), ('janeiro', 'O'), ('de', 'O'), ('2013', 'O'), (',', 'O'), ('passa', 'O'), ('a', 'O'), ('vigorar', 'O'), ('acrescido', 'O'), ('do', 'O'), ('seguinte', 'O'), ('§', 'O'), ('3º-a', 'O'), (':', 'O'), ('“', 'O'), ('art', 'O'), ('.', 'O'), ('15', 'O'))"
                ],
                [
                  "46",
                  "(('p', 'O'), ('l', 'O'), ('n', 'O'), ('.4', 'O'), ('7', 'O'), ('2', 'O'), ('2', 'O'), ('/', 'O'), ('2', 'O'), ('0', 'O'), ('1', 'O'), ('9', 'O'), ('a', 'O'), ('p', 'O'), ('re', 'O'), ('s', 'O'), ('e', 'O'), ('n', 'O'), ('ta', 'O'), ('ç', 'O'), ('ã', 'O'), ('o', 'O'), (':', 'O'), ('2', 'O'), ('7', 'O'), ('/', 'O'), ('0', 'O'), ('8', 'O'), ('/', 'O'), ('2', 'O'), ('0', 'O'), ('1', 'O'), ('9', 'O'), ('1', 'O'), ('8', 'O'), (':', 'O'), ('5', 'O'), ('2', 'O'), ('justificação', 'O'), ('o', 'O'), ('alto', 'O'), ('consumo', 'O'), ('de', 'O'), ('agrotóxicos', 'O'), ('é', 'O'), ('um', 'O'), ('problema', 'O'), ('continuamente', 'O'), ('enfrentado', 'O'), ('ao', 'O'), ('redor', 'O'), ('do', 'O'), ('mundo', 'O'), ('dadas', 'O'), ('as', 'O'), ('poucas', 'O'), ('garantias', 'O'), ('de', 'O'), ('não', 'O'), ('serem', 'O'), (',', 'O'), ('de', 'O'), ('fato', 'O'), (',', 'O'), ('danosos', 'O'), ('ao', 'O'), ('organismo', 'O'), ('humano', 'O'), ('.', 'O'))"
                ],
                [
                  "47",
                  "(('(', 'O'), ('nr', 'O'), (')', 'O'), ('art', 'O'), ('.', 'O'), ('13', 'O'), ('-', 'O'), ('b', 'O'), ('.', 'O'))"
                ],
                [
                  "48",
                  "(('na', 'O'), ('áustria', 'O'), (',', 'O'), ('há', 'O'), ('vedação', 'O'), ('ao', 'O'), ('encaixe', 'O'), ('de', 'O'), ('inserções', 'O'), ('publicitárias', 'O'), ('em', 'O'), ('programas', 'O'), ('infantis', 'O'), ('nos', 'O'), ('canais', 'O'), ('de', 'O'), ('tv', 'O'), ('por', 'O'), ('assinatura', 'O'), (',', 'O'), ('mesmo', 'O'), ('aquelas', 'O'), ('não', 'O'), ('direcionadas', 'O'), ('para', 'O'), ('crianças', 'O'), ('.', 'O'))"
                ],
                [
                  "49",
                  "(('p', 'O'), ('l', 'O'), ('n', 'O'), ('.4', 'O'), ('4', 'O'), ('1', 'O'), ('5', 'O'), ('/', 'O'), ('2', 'O'), ('0', 'O'), ('1', 'O'), ('9', 'O'), ('a', 'O'), ('p', 'O'), ('re', 'O'), ('s', 'O'), ('e', 'O'), ('n', 'O'), ('ta', 'O'), ('ç', 'O'), ('ã', 'O'), ('o', 'O'), (':', 'O'), ('1', 'O'), ('3', 'O'), ('/', 'O'), ('0', 'O'), ('8', 'O'), ('/', 'O'), ('2', 'O'), ('0', 'O'), ('1', 'O'), ('9', 'O'), ('1', 'O'), ('7', 'O'), (':', 'O'), ('3', 'O'), ('5', 'O'), ('câmara', 'B-ORGANIZACAO'), ('dos', 'I-ORGANIZACAO'), ('deputados', 'I-ORGANIZACAO'), ('em', 'O'), ('vista', 'O'), ('desses', 'O'), ('argumentos', 'O'), (',', 'O'), ('contamos', 'O'), ('com', 'O'), ('o', 'O'), ('apoio', 'O'), ('dos', 'O'), ('nobres', 'O'), ('pares', 'O'), (',', 'O'), ('para', 'O'), ('a', 'O'), ('aprovação', 'O'), ('deste', 'O'), ('projeto', 'O'), ('de', 'O'), ('lei', 'O'), ('.', 'O'))"
                ]
              ],
              "shape": {
                "columns": 1,
                "rows": 1760
              }
            },
            "text/plain": [
              "0       ((sala, O), (das, O), (sessões, O), (,, O), (e...\n",
              "1       ((da, O), (decisão, O), (de, O), (que, O), (tr...\n",
              "2       ((projeto, O), (de, O), (lei, O), (n.º, O), (,...\n",
              "3       ((deputado, O), (maurício, O), (dziedricki, O)...\n",
              "4       ((art, O), (., O), (4º, O), (esta, O), (lei, O...\n",
              "                              ...                        \n",
              "1755    ((trata-se, O), (de, O), (um, O), (projeto, O)...\n",
              "1756    ((paulo, O), (wagner, O), (), O), (dispõe, O),...\n",
              "1757    ((iracema, O), (portella, O), (), O), (dispõe,...\n",
              "1758    ((arnaldo, O), (faria, O), (de, O), (sá, O), (...\n",
              "1759    ((não, O), (obstante, O), (as, O), (ambiciosas...\n",
              "Name: label_iob, Length: 1760, dtype: object"
            ]
          },
          "execution_count": 153,
          "metadata": {},
          "output_type": "execute_result"
        }
      ],
      "source": [
        "df_train_labeled[\"label_iob\"]"
      ]
    },
    {
      "cell_type": "code",
      "execution_count": 154,
      "metadata": {},
      "outputs": [],
      "source": [
        "\n",
        "# Extract the labels from the training dataset as a list of lists\n",
        "# Each inner list contains the labels for a single example in the training dataset\n",
        "train_labels_true_iob = df_train_labeled[\"label_iob\"].values.tolist()\n",
        "\n",
        "train_texts_true = df_train_labeled[\"sentences\"].values.tolist()\n",
        "train_texts_hash = [calculate_md5(text) for text in train_texts_true]"
      ]
    },
    {
      "cell_type": "code",
      "execution_count": 155,
      "metadata": {},
      "outputs": [],
      "source": [
        "# Extract the labels from the validation dataset as a list of lists\n",
        "# Each inner list contains the labels for a single example in the validation dataset\n",
        "valid_labels_true_iob = df_dev_organizacao[\"label_iob\"].values.tolist()\n",
        "\n",
        "# Extract the labels from the test dataset as a list of lists\n",
        "# Each inner list contains the labels for a single example in the test dataset\n",
        "test_labels_true_iob = df_test_organizacao[\"label_iob\"].values.tolist()\n",
        "\n",
        "# Extract the text from the validation dataset as a list\n",
        "valid_texts_true = df_dev_organizacao[\"sentences\"].values.tolist()\n",
        "\n",
        "# Extract the text from the test dataset as a list\n",
        "test_texts_true = df_test_organizacao[\"sentences\"].values.tolist()\n",
        "\n",
        "# Calculate the MD5 hash for each text in the validation dataset\n",
        "valid_texts_hash = [calculate_md5(text) for text in valid_texts_true]\n",
        "\n",
        "# Calculate the MD5 hash for each text in the test dataset\n",
        "test_texts_hash = [calculate_md5(text) for text in test_texts_true]"
      ]
    },
    {
      "cell_type": "code",
      "execution_count": 156,
      "metadata": {},
      "outputs": [],
      "source": [
        "# Separate words and tags for each example in the training dataset\n",
        "# The list comprehension iterates over each example in train_labels_true_iob\n",
        "# For each example, it extracts the words and tags, creating two separate lists\n",
        "train_words_list = [[word for word, _ in example] for example in train_labels_true_iob]\n",
        "train_tags_list = [[tag for _, tag in example] for example in train_labels_true_iob]\n",
        "\n",
        "# Create a dictionary to store the tokens and named entity tags for the training dataset\n",
        "# 'tokens' contains the list of words for each example\n",
        "# 'ner_tags' contains the list of named entity tags for each example\n",
        "train_true_dicts = {\n",
        "    \"tokens\": train_words_list,\n",
        "    \"ner_tags\": train_tags_list,\n",
        "    \"text\": train_texts_true,\n",
        "    \"hash\": train_texts_hash,\n",
        "}"
      ]
    },
    {
      "cell_type": "code",
      "execution_count": 157,
      "metadata": {},
      "outputs": [],
      "source": [
        "# Separate words and tags for each example in the validation dataset\n",
        "# The list comprehension iterates over each example in valid_labels_true_iob\n",
        "# For each example, it extracts the words and tags, creating two separate lists\n",
        "valid_words_list = [[word for word, _ in example] for example in valid_labels_true_iob]\n",
        "valid_tags_list = [[tag for _, tag in example] for example in valid_labels_true_iob]\n",
        "\n",
        "# Create a dictionary to store the tokens and named entity tags for the validation dataset\n",
        "# 'tokens' contains the list of words for each example\n",
        "# 'ner_tags' contains the list of named entity tags for each example\n",
        "valid_true_dicts = {\n",
        "    \"tokens\": valid_words_list,\n",
        "    \"ner_tags\": valid_tags_list,\n",
        "    \"text\": valid_texts_true,\n",
        "    \"hash\": valid_texts_hash,\n",
        "}"
      ]
    },
    {
      "cell_type": "code",
      "execution_count": 158,
      "metadata": {},
      "outputs": [],
      "source": [
        "# Separate words and tags for each example in the test dataset\n",
        "# The list comprehension iterates over each example in test_labels_true_iob\n",
        "# For each example, it extracts the words and tags, creating two separate lists\n",
        "text_words_list = [[word for word, _ in example] for example in test_labels_true_iob]\n",
        "text_tags_list = [[tag for _, tag in example] for example in test_labels_true_iob]\n",
        "\n",
        "# Create a dictionary to store the tokens and named entity tags for the test dataset\n",
        "# 'tokens' contains the list of words for each example\n",
        "# 'ner_tags' contains the list of named entity tags for each example\n",
        "test_true_dicts = {\n",
        "    \"tokens\": text_words_list,\n",
        "    \"ner_tags\": text_tags_list,\n",
        "    \"text\": test_texts_true,\n",
        "    \"hash\": test_texts_hash,\n",
        "}"
      ]
    },
    {
      "cell_type": "code",
      "execution_count": 159,
      "metadata": {},
      "outputs": [],
      "source": [
        "# Extract the IOB format annotations from the HMM-labeled training data\n",
        "# The list comprehension iterates over each entry in train_labels_hmm\n",
        "# For each entry, it extracts the 'iob' field, which contains the IOB format annotations\n",
        "hmm_iob_train = [i[\"iob\"] for i in train_labels_hmm]\n",
        "\n",
        "# Separate words and tags for each example in the HMM-labeled training data\n",
        "# The first list comprehension iterates over each example in hmm_iob_train\n",
        "# For each example, it extracts the words, creating a list of words for each example\n",
        "hmm_words_list = [[word for word, _ in example] for example in hmm_iob_train]\n",
        "\n",
        "# The second list comprehension iterates over each example in hmm_iob_train\n",
        "# For each example, it extracts the tags, creating a list of tags for each example\n",
        "hmm_tags_list = [[tag for _, tag in example] for example in hmm_iob_train]\n",
        "\n",
        "# Extract the text content from the HMM-labeled training data\n",
        "hmm_texts_list = [i[\"text\"] for i in train_labels_hmm]\n",
        "\n",
        "# Extract the md5 hash for each text in the HMM-labeled training data\n",
        "hmm_texts_hash = [calculate_md5(text) for text in hmm_texts_list]\n",
        "\n",
        "# Create a dictionary to store the tokens and named entity tags for the HMM-labeled training data\n",
        "# 'tokens' contains the list of words for each example\n",
        "# 'ner_tags' contains the list of named entity tags for each example\n",
        "train_hmm_dicts = {\n",
        "    \"tokens\": hmm_words_list,\n",
        "    \"ner_tags\": hmm_tags_list,\n",
        "    \"text\": hmm_texts_list,\n",
        "    \"hash\": hmm_texts_hash,\n",
        "}"
      ]
    },
    {
      "cell_type": "code",
      "execution_count": 160,
      "metadata": {},
      "outputs": [],
      "source": [
        "# Extract the IOB format annotations from the maj_voter-labeled training data\n",
        "# The list comprehension iterates over each entry in train_labels_maj_voter\n",
        "# For each entry, it extracts the 'iob' field, which contains the IOB format annotations\n",
        "maj_voter_iob_train = [i[\"iob\"] for i in train_labels_maj_voter]\n",
        "\n",
        "# Separate words and tags for each example in the maj_voter-labeled training data\n",
        "# The first list comprehension iterates over each example in maj_voter_iob_train\n",
        "# For each example, it extracts the words, creating a list of words for each example\n",
        "maj_voter_words_list = [[word for word, _ in example] for example in maj_voter_iob_train]\n",
        "\n",
        "# The second list comprehension iterates over each example in maj_voter_iob_train\n",
        "# For each example, it extracts the tags, creating a list of tags for each example\n",
        "maj_voter_tags_list = [[tag for _, tag in example] for example in maj_voter_iob_train]\n",
        "\n",
        "# Extract the text content from the maj_voter-labeled training data\n",
        "maj_voter_texts_list = [i[\"text\"] for i in train_labels_maj_voter]\n",
        "\n",
        "# Extract the md5 hash for each text in the maj_voter-labeled training data\n",
        "maj_voter_texts_hash = [calculate_md5(text) for text in maj_voter_texts_list]\n",
        "\n",
        "# Create a dictionary to store the tokens and named entity tags for the maj_voter-labeled training data\n",
        "# 'tokens' contains the list of words for each example\n",
        "# 'ner_tags' contains the list of named entity tags for each example\n",
        "train_maj_voter_dicts = {\n",
        "    \"tokens\": maj_voter_words_list,\n",
        "    \"ner_tags\": maj_voter_tags_list,\n",
        "    \"text\": maj_voter_texts_list,\n",
        "    \"hash\": maj_voter_texts_hash,\n",
        "}"
      ]
    },
    {
      "cell_type": "code",
      "execution_count": 161,
      "metadata": {},
      "outputs": [],
      "source": [
        "from datasets import (\n",
        "    ClassLabel,\n",
        "    Dataset,\n",
        "    Features,\n",
        "    Sequence,\n",
        "    Value,\n",
        ")  # Import necessary classes from the datasets library\n",
        "\n",
        "# Define the mapping from label names to label IDs\n",
        "# 'O' represents tokens that are not part of any named entity\n",
        "# 'B-ORGANIZACAO' represents the beginning of a 'ORGANIZACAO' entity\n",
        "# 'I-ORGANIZACAO' represents the inside of a 'ORGANIZACAO' entity\n",
        "label_to_id = {\"O\": 0, \"B-ORGANIZACAO\": 1, \"I-ORGANIZACAO\": 2}\n",
        "\n",
        "# Create the reverse mapping from label IDs to label names\n",
        "# This is useful for converting label IDs back to label names\n",
        "id_to_label = {v: k for k, v in label_to_id.items()}\n",
        "\n",
        "# Extract the label names from the mapping\n",
        "# This list will be used to define the ClassLabel feature in the dataset\n",
        "label_names = list(label_to_id.keys())\n",
        "\n",
        "# Define the dataset features\n",
        "# The Features class specifies the schema of the dataset\n",
        "# 'tokens' is a sequence of strings, representing the tokens in the text\n",
        "# 'ner_tags' is a sequence of ClassLabel, representing the named entity recognition tags for each token\n",
        "dataset_features = Features(\n",
        "    {\n",
        "        \"tokens\": Sequence(Value(\"string\")),  # Sequence of tokens\n",
        "        \"ner_tags\": Sequence(ClassLabel(names=label_names)),  # Sequence of named entity recognition tags,\n",
        "        \"text\": Value(\"string\"),  # The original text\n",
        "        \"hash\": Value(\"string\"),  # The MD5 hash of the text\n",
        "    }\n",
        ")"
      ]
    },
    {
      "cell_type": "code",
      "execution_count": 162,
      "metadata": {},
      "outputs": [
        {
          "data": {
            "text/plain": [
              "{'tokens': List(Value('string')),\n",
              " 'ner_tags': List(ClassLabel(names=['O', 'B-ORGANIZACAO', 'I-ORGANIZACAO'])),\n",
              " 'text': Value('string'),\n",
              " 'hash': Value('string')}"
            ]
          },
          "execution_count": 162,
          "metadata": {},
          "output_type": "execute_result"
        }
      ],
      "source": [
        "dataset_features"
      ]
    },
    {
      "cell_type": "code",
      "execution_count": 163,
      "metadata": {},
      "outputs": [],
      "source": [
        "from datasets import Dataset  # Import the Dataset class from the datasets library\n",
        "\n",
        "# Create a Hugging Face Dataset from the HMM-labeled training data\n",
        "# The Dataset.from_dict method converts a dictionary to a Dataset object\n",
        "# train_hmm_dicts contains the tokens and named entity tags for the HMM-labeled training data\n",
        "# dataset_features specifies the schema of the dataset (tokens and ner_tags)\n",
        "hf_dataset_train_hmm = Dataset.from_dict(train_hmm_dicts, features=dataset_features)\n",
        "\n",
        "# Create a Hugging Face Dataset from the majority voter-labeled training data\n",
        "# train_maj_voter_dicts contains the tokens and named entity tags for the majority voter-labeled training data\n",
        "hf_dataset_train_maj_voter = Dataset.from_dict(train_maj_voter_dicts, features=dataset_features)\n",
        "\n",
        "# Create a Hugging Face Dataset from the true-labeled training data\n",
        "# train_true_dicts contains the tokens and named entity tags for the true-labeled training data\n",
        "hf_dataset_train_true = Dataset.from_dict(train_true_dicts, features=dataset_features)\n",
        "\n",
        "# Create a Hugging Face Dataset from the true-labeled validation data\n",
        "# valid_true_dicts contains the tokens and named entity tags for the true-labeled validation data\n",
        "hf_dataset_dev_true = Dataset.from_dict(valid_true_dicts, features=dataset_features)\n",
        "\n",
        "# Create a Hugging Face Dataset from the true-labeled test data\n",
        "# test_true_dicts contains the tokens and named entity tags for the true-labeled test data\n",
        "hf_dataset_test_true = Dataset.from_dict(test_true_dicts, features=dataset_features)"
      ]
    },
    {
      "cell_type": "code",
      "execution_count": 164,
      "metadata": {},
      "outputs": [
        {
          "name": "stderr",
          "output_type": "stream",
          "text": [
            "Saving the dataset (0/1 shards):   0%|          | 0/1478 [00:00<?, ? examples/s]"
          ]
        },
        {
          "name": "stderr",
          "output_type": "stream",
          "text": [
            "Saving the dataset (1/1 shards): 100%|██████████| 1478/1478 [00:00<00:00, 358852.75 examples/s]\n",
            "Saving the dataset (1/1 shards): 100%|██████████| 1478/1478 [00:00<00:00, 516469.33 examples/s]\n",
            "Saving the dataset (1/1 shards): 100%|██████████| 1760/1760 [00:00<00:00, 587456.23 examples/s]\n",
            "Saving the dataset (1/1 shards): 100%|██████████| 140/140 [00:00<00:00, 67845.47 examples/s]\n",
            "Saving the dataset (1/1 shards): 100%|██████████| 592/592 [00:00<00:00, 153008.87 examples/s]\n"
          ]
        }
      ],
      "source": [
        "# Save the Hugging Face Datasets to disk\n",
        "\n",
        "# Save the HMM-labeled training dataset to disk\n",
        "hf_dataset_train_hmm.save_to_disk(\"outputs/ner/hf_dataset_train_hmm\")\n",
        "\n",
        "# Save the majority voter-labeled training dataset to disk\n",
        "hf_dataset_train_maj_voter.save_to_disk(\"outputs/ner/hf_dataset_train_maj_voter\")\n",
        "\n",
        "# Save the true-labeled training dataset to disk\n",
        "hf_dataset_train_true.save_to_disk(\"outputs/ner/hf_dataset_train_true\")\n",
        "\n",
        "# Save the true-labeled validation dataset to disk\n",
        "hf_dataset_dev_true.save_to_disk(\"outputs/ner/hf_dataset_dev_true\")\n",
        "\n",
        "# Save the true-labeled test dataset to disk\n",
        "hf_dataset_test_true.save_to_disk(\"outputs/ner/hf_dataset_test_true\")"
      ]
    },
    {
      "cell_type": "code",
      "execution_count": 165,
      "metadata": {},
      "outputs": [],
      "source": [
        "from datasets import load_from_disk  # Import the load_from_disk function\n",
        "\n",
        "# Load the Hugging Face Datasets from disk\n",
        "# The load_from_disk function loads the datasets saved in the specified directory\n",
        "\n",
        "hf_dataset_train_hmm = load_from_disk(\"outputs/ner/hf_dataset_train_hmm\")\n",
        "hf_dataset_train_maj_voter = load_from_disk(\"outputs/ner/hf_dataset_train_maj_voter\")\n",
        "hf_dataset_train_true = load_from_disk(\"outputs/ner/hf_dataset_train_true\")\n",
        "hf_dataset_dev_true = load_from_disk(\"outputs/ner/hf_dataset_dev_true\")\n",
        "hf_dataset_test_true = load_from_disk(\"outputs/ner/hf_dataset_test_true\")"
      ]
    },
    {
      "cell_type": "code",
      "execution_count": 166,
      "metadata": {},
      "outputs": [
        {
          "data": {
            "text/plain": [
              "ClassLabel(names=['O', 'B-ORGANIZACAO', 'I-ORGANIZACAO'])"
            ]
          },
          "execution_count": 166,
          "metadata": {},
          "output_type": "execute_result"
        }
      ],
      "source": [
        "hf_dataset_train_hmm.features[\"ner_tags\"].feature"
      ]
    },
    {
      "cell_type": "code",
      "execution_count": 167,
      "metadata": {},
      "outputs": [
        {
          "data": {
            "text/plain": [
              "({'O': 0, 'B-ORGANIZACAO': 1, 'I-ORGANIZACAO': 2},\n",
              " {0: 'O', 1: 'B-ORGANIZACAO', 2: 'I-ORGANIZACAO'})"
            ]
          },
          "execution_count": 167,
          "metadata": {},
          "output_type": "execute_result"
        }
      ],
      "source": [
        "# get the label_to_id_dict\n",
        "label_to_id = {k: v for v, k in enumerate(hf_dataset_train_hmm.features[\"ner_tags\"].feature.names)}\n",
        "id_to_label = {v: k for k, v in label_to_id.items()}\n",
        "\n",
        "label_to_id, id_to_label"
      ]
    },
    {
      "cell_type": "code",
      "execution_count": 168,
      "metadata": {},
      "outputs": [],
      "source": [
        "# Import necessary classes from the transformers library\n",
        "from transformers import (\n",
        "    AutoModelForTokenClassification,\n",
        "    AutoTokenizer,\n",
        "    Trainer,\n",
        "    TrainingArguments,\n",
        "    DataCollatorForTokenClassification,\n",
        ")\n",
        "\n",
        "MODEL_NAME = \"neuralmind/bert-base-portuguese-cased\"  # Specify the name of the pretrained BERT model\n",
        "\n",
        "# Load the tokenizer for the BERT model\n",
        "# The tokenizer will handle tokenization and padding/truncation of input sequences\n",
        "# 'neuralmind/bert-base-portuguese-cased' is the name of the pretrained model\n",
        "tokenizer = AutoTokenizer.from_pretrained(MODEL_NAME)\n",
        "\n",
        "# Create a DataCollator for token classification tasks\n",
        "# The DataCollatorForTokenClassification dynamically pads the input sequences to the maximum length in the batch\n",
        "# This ensures that all sequences in a batch have the same length, which is required for efficient processing\n",
        "# The tokenizer is passed to the DataCollator to handle tokenization and padding\n",
        "token_classification_collator = DataCollatorForTokenClassification(tokenizer)"
      ]
    },
    {
      "cell_type": "code",
      "execution_count": 169,
      "metadata": {},
      "outputs": [
        {
          "name": "stderr",
          "output_type": "stream",
          "text": [
            "Map: 100%|██████████| 1478/1478 [00:00<00:00, 7528.60 examples/s]\n",
            "Map: 100%|██████████| 1760/1760 [00:00<00:00, 7018.65 examples/s]\n"
          ]
        }
      ],
      "source": [
        "from typing import Dict, List  # Import necessary types for type annotations\n",
        "\n",
        "\n",
        "def tokenize_and_align_labels(examples: Dict[str, List[str]]) -> Dict[str, List[str]]:\n",
        "    \"\"\"\n",
        "    Tokenizes the input words and aligns the labels with the tokens.\n",
        "\n",
        "    Args:\n",
        "        examples: A dictionary containing the input words and the corresponding labels.\n",
        "                  - \"tokens\": List of words (tokens) for each example.\n",
        "                  - \"ner_tags\": List of named entity recognition tags for each token.\n",
        "\n",
        "    Returns:\n",
        "        A dictionary containing the tokenized input words and the aligned labels.\n",
        "        - \"input_ids\": List of token IDs for each example.\n",
        "        - \"attention_mask\": List of attention masks for each example.\n",
        "        - \"labels\": List of aligned labels for each token.\n",
        "    \"\"\"\n",
        "    label_all_tokens = True  # Whether to label all tokens or only the first token of each word\n",
        "    # Tokenize the input words\n",
        "    # truncation=True: Truncate sequences to the maximum length\n",
        "    # is_split_into_words=True: The input is already split into words\n",
        "    # max_length=512: Maximum length of the tokenized sequences\n",
        "    tokenized_inputs = tokenizer(examples[\"tokens\"], truncation=True, is_split_into_words=True, max_length=512)\n",
        "\n",
        "    aligned_labels = []  # List to store the aligned labels for each example\n",
        "    # Iterate over each example in the input data\n",
        "    for i, label in enumerate(examples[\"ner_tags\"]):\n",
        "        word_ids = tokenized_inputs.word_ids(batch_index=i)  # Get the word IDs for the current example\n",
        "        previous_word_idx = None  # Initialize the previous word index\n",
        "        label_ids = []  # List to store the aligned labels for the current example\n",
        "\n",
        "        # Iterate over each word ID in the tokenized input\n",
        "        for word_idx in word_ids:\n",
        "            if word_idx is None:\n",
        "                label_ids.append(-100)  # Append -100 for special tokens (e.g., [CLS], [SEP])\n",
        "            elif word_idx != previous_word_idx:\n",
        "                label_ids.append(label[word_idx])  # Append the label for the current word\n",
        "            else:\n",
        "                # Append the label for the current word if label_all_tokens is True, otherwise append -100\n",
        "                label_ids.append(label[word_idx] if label_all_tokens else -100)\n",
        "            previous_word_idx = word_idx  # Update the previous word index\n",
        "\n",
        "        aligned_labels.append(label_ids)  # Append the aligned labels for the current example\n",
        "\n",
        "    tokenized_inputs[\"labels\"] = aligned_labels  # Add the aligned labels to the tokenized inputs\n",
        "    return tokenized_inputs  # Return the tokenized inputs with aligned labels\n",
        "\n",
        "\n",
        "# Apply the tokenization and label alignment to the training and validation datasets\n",
        "# The map method applies the tokenize_and_align_labels function to each example in the dataset\n",
        "# batched=True: Process the examples in batches for efficiency\n",
        "tokenized_hf_dataset_train_hmm = hf_dataset_train_hmm.map(tokenize_and_align_labels, batched=True)\n",
        "tokenized_hf_dataset_train_maj_voter = hf_dataset_train_maj_voter.map(tokenize_and_align_labels, batched=True)\n",
        "tokenized_hf_dataset_train_true = hf_dataset_train_true.map(tokenize_and_align_labels, batched=True)\n",
        "tokenized_hf_dataset_dev_true = hf_dataset_dev_true.map(tokenize_and_align_labels, batched=True)\n",
        "tokenized_hf_dataset_test_true = hf_dataset_test_true.map(tokenize_and_align_labels, batched=True)"
      ]
    },
    {
      "cell_type": "code",
      "execution_count": 170,
      "metadata": {},
      "outputs": [
        {
          "data": {
            "text/plain": [
              "List(ClassLabel(names=['O', 'B-ORGANIZACAO', 'I-ORGANIZACAO']))"
            ]
          },
          "execution_count": 170,
          "metadata": {},
          "output_type": "execute_result"
        }
      ],
      "source": [
        "# Display the features of the 'ner_tags' field in the test dataset\n",
        "# The features attribute provides information about the schema of the dataset\n",
        "# 'ner_tags' is a sequence of named entity recognition tags for each token in the dataset\n",
        "# This line of code will show the details of the 'ner_tags' field, such as the possible tag values and their corresponding IDs\n",
        "hf_dataset_test_true.features[\"ner_tags\"]"
      ]
    },
    {
      "cell_type": "code",
      "execution_count": 171,
      "metadata": {},
      "outputs": [],
      "source": [
        "%autoreload 0\n",
        "\n",
        "%autoreload 2\n"
      ]
    },
    {
      "cell_type": "code",
      "execution_count": 172,
      "metadata": {},
      "outputs": [],
      "source": [
        "import numpy as np  # Import the NumPy library for numerical operations\n",
        "from typing import Tuple, Dict  # Import Tuple and Dict for type annotations\n",
        "import evaluate  # Import the evaluate library for computing evaluation metrics\n",
        "\n",
        "\n",
        "def compute_metrics_for_evaluation(\n",
        "    predictions_and_labels: Tuple[np.ndarray, np.ndarray],\n",
        ") -> Dict[str, float]:\n",
        "    \"\"\"\n",
        "    Computes metrics for model evaluation.\n",
        "\n",
        "    Args:\n",
        "        predictions_and_labels: A tuple containing the model predictions and the true labels.\n",
        "                                - predictions: A NumPy array of shape (batch_size, sequence_length, num_labels)\n",
        "                                - labels: A NumPy array of shape (batch_size, sequence_length)\n",
        "\n",
        "    Returns:\n",
        "        A dictionary containing precision, recall, f1, and accuracy metrics.\n",
        "    \"\"\"\n",
        "    predictions, labels = predictions_and_labels  # Unpack the predictions and labels from the input tuple\n",
        "\n",
        "    # Convert logits to actual predictions\n",
        "    # np.argmax(predictions, axis=2) selects the index of the maximum value along the last axis (num_labels)\n",
        "    # This converts the logits to the predicted label IDs\n",
        "    predictions = np.argmax(predictions, axis=2)\n",
        "\n",
        "    # Filter out the special tokens and convert IDs to labels\n",
        "    # true_predictions and true_labels will contain the predicted and true labels, excluding special tokens\n",
        "    true_predictions = [[id_to_label[pred] for (pred, label) in zip(prediction, label) if label != -100] for prediction, label in zip(predictions, labels)]\n",
        "    true_labels = [[id_to_label[label] for (pred, label) in zip(prediction, label) if label != -100] for prediction, label in zip(predictions, labels)]\n",
        "\n",
        "    # Load the seqeval metric for named entity recognition\n",
        "    # The seqeval metric computes precision, recall, f1, and accuracy for NER tasks\n",
        "    metric = evaluate.load(\"seqeval\")\n",
        "\n",
        "    # Compute the evaluation metrics using the true predictions and true labels\n",
        "    results = metric.compute(predictions=true_predictions, references=true_labels)\n",
        "\n",
        "    # Return the computed metrics as a dictionary\n",
        "    # The dictionary contains the overall precision, recall, f1, and accuracy\n",
        "    return {\n",
        "        \"precision\": results[\"overall_precision\"],\n",
        "        \"recall\": results[\"overall_recall\"],\n",
        "        \"f1\": results[\"overall_f1\"],\n",
        "        \"accuracy\": results[\"overall_accuracy\"],\n",
        "    }"
      ]
    },
    {
      "cell_type": "code",
      "execution_count": 174,
      "metadata": {},
      "outputs": [
        {
          "name": "stderr",
          "output_type": "stream",
          "text": [
            "Some weights of BertForTokenClassification were not initialized from the model checkpoint at neuralmind/bert-base-portuguese-cased and are newly initialized: ['classifier.bias', 'classifier.weight']\n",
            "You should probably TRAIN this model on a down-stream task to be able to use it for predictions and inference.\n"
          ]
        }
      ],
      "source": [
        "# Load the pretrained model and tokenizer from the MODEL_NAME model\n",
        "# The model is configured for token classification with the specified number of labels\n",
        "pretrained_language_model = AutoModelForTokenClassification.from_pretrained(\n",
        "    MODEL_NAME,\n",
        "    num_labels=len(id_to_label),  # Number of unique labels in the dataset\n",
        "    id2label=id_to_label,  # Mapping from label IDs to label names\n",
        "    label2id=label_to_id,  # Mapping from label names to label IDs\n",
        ")\n",
        "\n",
        "# Define the training arguments for the Trainer\n",
        "training_args = TrainingArguments(\n",
        "    output_dir=\"./outputs/ner/bert-base-ner-true-labels\",  # Directory to save model checkpoints and logs\n",
        "    num_train_epochs=7,  # Number of training epochs\n",
        "    per_device_train_batch_size=24,  # Batch size for training\n",
        "    per_device_eval_batch_size=24,  # Batch size for evaluation\n",
        "    weight_decay=0.01,  # Weight decay for regularization\n",
        "    seed=271828,  # Random seed for reproducibility\n",
        "    bf16=True,  # Use bfloat16 precision for training (if supported by hardware)\n",
        "    fp16=False,  # Use mixed precision training with FP16 (if supported by hardware)\n",
        "    save_total_limit=1,  # Limit the total number of saved checkpoints\n",
        "    logging_steps=1,  # Log training metrics every step\n",
        "    eval_steps=1,  # Evaluate the model every step\n",
        "    save_steps=1,  # Save the model every step\n",
        "    metric_for_best_model=\"eval_f1\",  # Metric to determine the best model\n",
        "    greater_is_better=True,  # Higher metric value is better\n",
        "    logging_strategy=\"steps\",  # Log metrics at each step\n",
        "    eval_strategy=\"epoch\",  # Evaluate the model at the end of each epoch\n",
        "    save_strategy=\"epoch\",  # Save the model at the end of each epoch\n",
        "    load_best_model_at_end=True,  # Load the best model at the end of training\n",
        "    do_train=True,  # Perform training\n",
        "    do_eval=True,  # Perform evaluation\n",
        "    gradient_accumulation_steps=1,  # Accumulate gradients over multiple steps\n",
        "    push_to_hub=False,  # Do not push the model to the Hugging Face Hub\n",
        "    learning_rate=2e-5,  # Learning rate for the optimizer\n",
        "    overwrite_output_dir=True,  # Overwrite the output directory if it exists\n",
        ")\n",
        "\n",
        "# Create a Trainer instance to handle training and evaluation\n",
        "trainer = Trainer(\n",
        "    model=pretrained_language_model,  # The model to be trained\n",
        "    args=training_args,  # Training arguments defined above\n",
        "    train_dataset=tokenized_hf_dataset_train_true,  # Tokenized training dataset\n",
        "    eval_dataset=tokenized_hf_dataset_dev_true,  # Tokenized validation dataset\n",
        "    processing_class=tokenizer,  # Tokenizer for preprocessing the data\n",
        "    data_collator=token_classification_collator,  # Data collator for dynamic padding\n",
        "    compute_metrics=compute_metrics_for_evaluation,  # Function to compute evaluation metrics\n",
        ")"
      ]
    },
    {
      "cell_type": "code",
      "execution_count": 175,
      "metadata": {},
      "outputs": [
        {
          "data": {
            "text/html": [
              "\n",
              "    <div>\n",
              "      \n",
              "      <progress value='518' max='518' style='width:300px; height:20px; vertical-align: middle;'></progress>\n",
              "      [518/518 00:47, Epoch 7/7]\n",
              "    </div>\n",
              "    <table border=\"1\" class=\"dataframe\">\n",
              "  <thead>\n",
              " <tr style=\"text-align: left;\">\n",
              "      <th>Epoch</th>\n",
              "      <th>Training Loss</th>\n",
              "      <th>Validation Loss</th>\n",
              "      <th>Precision</th>\n",
              "      <th>Recall</th>\n",
              "      <th>F1</th>\n",
              "      <th>Accuracy</th>\n",
              "    </tr>\n",
              "  </thead>\n",
              "  <tbody>\n",
              "    <tr>\n",
              "      <td>1</td>\n",
              "      <td>0.075600</td>\n",
              "      <td>0.022724</td>\n",
              "      <td>0.333333</td>\n",
              "      <td>0.190476</td>\n",
              "      <td>0.242424</td>\n",
              "      <td>0.993477</td>\n",
              "    </tr>\n",
              "    <tr>\n",
              "      <td>2</td>\n",
              "      <td>0.014900</td>\n",
              "      <td>0.012739</td>\n",
              "      <td>0.777778</td>\n",
              "      <td>0.666667</td>\n",
              "      <td>0.717949</td>\n",
              "      <td>0.997295</td>\n",
              "    </tr>\n",
              "    <tr>\n",
              "      <td>3</td>\n",
              "      <td>0.009100</td>\n",
              "      <td>0.012976</td>\n",
              "      <td>0.580645</td>\n",
              "      <td>0.857143</td>\n",
              "      <td>0.692308</td>\n",
              "      <td>0.996818</td>\n",
              "    </tr>\n",
              "    <tr>\n",
              "      <td>4</td>\n",
              "      <td>0.004300</td>\n",
              "      <td>0.010673</td>\n",
              "      <td>0.714286</td>\n",
              "      <td>0.714286</td>\n",
              "      <td>0.714286</td>\n",
              "      <td>0.997613</td>\n",
              "    </tr>\n",
              "    <tr>\n",
              "      <td>5</td>\n",
              "      <td>0.000700</td>\n",
              "      <td>0.009469</td>\n",
              "      <td>0.720000</td>\n",
              "      <td>0.857143</td>\n",
              "      <td>0.782609</td>\n",
              "      <td>0.997772</td>\n",
              "    </tr>\n",
              "    <tr>\n",
              "      <td>6</td>\n",
              "      <td>0.001400</td>\n",
              "      <td>0.010737</td>\n",
              "      <td>0.761905</td>\n",
              "      <td>0.761905</td>\n",
              "      <td>0.761905</td>\n",
              "      <td>0.997932</td>\n",
              "    </tr>\n",
              "    <tr>\n",
              "      <td>7</td>\n",
              "      <td>0.002700</td>\n",
              "      <td>0.010456</td>\n",
              "      <td>0.680000</td>\n",
              "      <td>0.809524</td>\n",
              "      <td>0.739130</td>\n",
              "      <td>0.997454</td>\n",
              "    </tr>\n",
              "  </tbody>\n",
              "</table><p>"
            ],
            "text/plain": [
              "<IPython.core.display.HTML object>"
            ]
          },
          "metadata": {},
          "output_type": "display_data"
        },
        {
          "data": {
            "text/plain": [
              "TrainOutput(global_step=518, training_loss=0.025914333467087467, metrics={'train_runtime': 47.1332, 'train_samples_per_second': 261.387, 'train_steps_per_second': 10.99, 'total_flos': 1028334517636320.0, 'train_loss': 0.025914333467087467, 'epoch': 7.0})"
            ]
          },
          "execution_count": 175,
          "metadata": {},
          "output_type": "execute_result"
        }
      ],
      "source": [
        "# Start the training process using the Trainer instance\n",
        "# This will train the model on the training dataset and evaluate it on the validation dataset\n",
        "# The training process will follow the configurations specified in the TrainingArguments\n",
        "trainer.train()"
      ]
    },
    {
      "cell_type": "code",
      "execution_count": 176,
      "metadata": {},
      "outputs": [
        {
          "data": {
            "text/html": [
              "\n",
              "    <div>\n",
              "      \n",
              "      <progress value='25' max='25' style='width:300px; height:20px; vertical-align: middle;'></progress>\n",
              "      [25/25 00:00]\n",
              "    </div>\n",
              "    "
            ],
            "text/plain": [
              "<IPython.core.display.HTML object>"
            ]
          },
          "metadata": {},
          "output_type": "display_data"
        },
        {
          "data": {
            "text/plain": [
              "{'eval_loss': 0.019094087183475494,\n",
              " 'eval_precision': 0.7628865979381443,\n",
              " 'eval_recall': 0.8176795580110497,\n",
              " 'eval_f1': 0.7893333333333333,\n",
              " 'eval_accuracy': 0.9951769019853985,\n",
              " 'eval_runtime': 1.8794,\n",
              " 'eval_samples_per_second': 314.987,\n",
              " 'eval_steps_per_second': 13.302,\n",
              " 'epoch': 7.0}"
            ]
          },
          "execution_count": 176,
          "metadata": {},
          "output_type": "execute_result"
        }
      ],
      "source": [
        "# Evaluate the model on the tokenized test dataset using the Trainer instance\n",
        "# This will return a dictionary of evaluation metrics such as loss, precision, recall, and F1 score\n",
        "metrics_true_labels = trainer.evaluate(tokenized_hf_dataset_test_true)\n",
        "\n",
        "# Display the evaluation metrics\n",
        "# These metrics help us understand the performance of the model on the test dataset\n",
        "metrics_true_labels"
      ]
    },
    {
      "cell_type": "code",
      "execution_count": 177,
      "metadata": {},
      "outputs": [],
      "source": [
        "import gc  # Import the garbage collection module\n",
        "import torch  # Import the PyTorch library\n",
        "\n",
        "# Set the pretrained language model and trainer to None\n",
        "# This helps in releasing the memory allocated to these objects\n",
        "pretrained_language_model = None\n",
        "trainer = None\n",
        "\n",
        "# Force the garbage collector to release unreferenced memory\n",
        "# This is useful to free up memory that is no longer needed\n",
        "gc.collect()\n",
        "\n",
        "# Empty the CUDA cache\n",
        "# This releases GPU memory that was allocated by PyTorch but is no longer needed\n",
        "torch.cuda.empty_cache()"
      ]
    },
    {
      "cell_type": "code",
      "execution_count": 178,
      "metadata": {},
      "outputs": [
        {
          "name": "stderr",
          "output_type": "stream",
          "text": [
            "Some weights of BertForTokenClassification were not initialized from the model checkpoint at neuralmind/bert-base-portuguese-cased and are newly initialized: ['classifier.bias', 'classifier.weight']\n",
            "You should probably TRAIN this model on a down-stream task to be able to use it for predictions and inference.\n"
          ]
        }
      ],
      "source": [
        "# Load the pretrained model and tokenizer\n",
        "# The model is configured for token classification with the specified number of labels\n",
        "pretrained_language_model = AutoModelForTokenClassification.from_pretrained(\n",
        "    MODEL_NAME,  # Pretrained model name\n",
        "    num_labels=len(id_to_label),  # Number of unique labels in the dataset\n",
        "    id2label=id_to_label,  # Mapping from label IDs to label names\n",
        "    label2id=label_to_id,  # Mapping from label names to label IDs\n",
        ")\n",
        "\n",
        "# Define the training arguments for the Trainer\n",
        "training_args = TrainingArguments(\n",
        "    output_dir=\"./outputs/ner/bert-base-ner-hmm-labels\",  # Directory to save model checkpoints and logs\n",
        "    num_train_epochs=7,  # Number of training epochs\n",
        "    per_device_train_batch_size=24,  # Batch size for training\n",
        "    per_device_eval_batch_size=24,  # Batch size for evaluation\n",
        "    weight_decay=0.01,  # Weight decay for regularization\n",
        "    seed=271828,  # Random seed for reproducibility\n",
        "    bf16=True,  # Use bfloat16 precision for training (if supported by hardware)\n",
        "    fp16=False,  # Use mixed precision training with FP16 (if supported by hardware)\n",
        "    save_total_limit=1,  # Limit the total number of saved checkpoints\n",
        "    logging_steps=1,  # Log training metrics every step\n",
        "    eval_steps=1,  # Evaluate the model every step\n",
        "    save_steps=1,  # Save the model every step\n",
        "    metric_for_best_model=\"eval_f1\",  # Metric to determine the best model\n",
        "    greater_is_better=True,  # Higher metric value is better\n",
        "    logging_strategy=\"steps\",  # Log metrics at each step\n",
        "    eval_strategy=\"epoch\",  # Evaluate the model at the end of each epoch\n",
        "    save_strategy=\"epoch\",  # Save the model at the end of each epoch\n",
        "    load_best_model_at_end=True,  # Load the best model at the end of training\n",
        "    do_train=True,  # Perform training\n",
        "    do_eval=True,  # Perform evaluation\n",
        "    gradient_accumulation_steps=1,  # Accumulate gradients over multiple steps\n",
        "    push_to_hub=False,  # Do not push the model to the Hugging Face Hub\n",
        "    learning_rate=2e-5,  # Learning rate for the optimizer\n",
        "    overwrite_output_dir=True,  # Overwrite the output directory if it exists\n",
        ")\n",
        "\n",
        "# Create a Trainer instance to handle training and evaluation\n",
        "trainer = Trainer(\n",
        "    model=pretrained_language_model,  # The model to be trained\n",
        "    args=training_args,  # Training arguments defined above\n",
        "    train_dataset=tokenized_hf_dataset_train_hmm,  # Tokenized training dataset\n",
        "    eval_dataset=tokenized_hf_dataset_dev_true,  # Tokenized validation dataset\n",
        "    processing_class=tokenizer,  # Tokenizer for preprocessing the data\n",
        "    data_collator=token_classification_collator,  # Data collator for dynamic padding\n",
        "    compute_metrics=compute_metrics_for_evaluation,  # Function to compute evaluation metrics\n",
        ")"
      ]
    },
    {
      "cell_type": "code",
      "execution_count": 179,
      "metadata": {},
      "outputs": [
        {
          "data": {
            "text/html": [
              "\n",
              "    <div>\n",
              "      \n",
              "      <progress value='434' max='434' style='width:300px; height:20px; vertical-align: middle;'></progress>\n",
              "      [434/434 00:43, Epoch 7/7]\n",
              "    </div>\n",
              "    <table border=\"1\" class=\"dataframe\">\n",
              "  <thead>\n",
              " <tr style=\"text-align: left;\">\n",
              "      <th>Epoch</th>\n",
              "      <th>Training Loss</th>\n",
              "      <th>Validation Loss</th>\n",
              "      <th>Precision</th>\n",
              "      <th>Recall</th>\n",
              "      <th>F1</th>\n",
              "      <th>Accuracy</th>\n",
              "    </tr>\n",
              "  </thead>\n",
              "  <tbody>\n",
              "    <tr>\n",
              "      <td>1</td>\n",
              "      <td>0.135700</td>\n",
              "      <td>0.056842</td>\n",
              "      <td>0.071429</td>\n",
              "      <td>0.142857</td>\n",
              "      <td>0.095238</td>\n",
              "      <td>0.982339</td>\n",
              "    </tr>\n",
              "    <tr>\n",
              "      <td>2</td>\n",
              "      <td>0.044500</td>\n",
              "      <td>0.048789</td>\n",
              "      <td>0.176471</td>\n",
              "      <td>0.571429</td>\n",
              "      <td>0.269663</td>\n",
              "      <td>0.982498</td>\n",
              "    </tr>\n",
              "    <tr>\n",
              "      <td>3</td>\n",
              "      <td>0.081000</td>\n",
              "      <td>0.068359</td>\n",
              "      <td>0.168675</td>\n",
              "      <td>0.666667</td>\n",
              "      <td>0.269231</td>\n",
              "      <td>0.979793</td>\n",
              "    </tr>\n",
              "    <tr>\n",
              "      <td>4</td>\n",
              "      <td>0.025800</td>\n",
              "      <td>0.077541</td>\n",
              "      <td>0.150538</td>\n",
              "      <td>0.666667</td>\n",
              "      <td>0.245614</td>\n",
              "      <td>0.978361</td>\n",
              "    </tr>\n",
              "    <tr>\n",
              "      <td>5</td>\n",
              "      <td>0.036500</td>\n",
              "      <td>0.077903</td>\n",
              "      <td>0.185185</td>\n",
              "      <td>0.714286</td>\n",
              "      <td>0.294118</td>\n",
              "      <td>0.980270</td>\n",
              "    </tr>\n",
              "    <tr>\n",
              "      <td>6</td>\n",
              "      <td>0.049800</td>\n",
              "      <td>0.088011</td>\n",
              "      <td>0.157895</td>\n",
              "      <td>0.714286</td>\n",
              "      <td>0.258621</td>\n",
              "      <td>0.977247</td>\n",
              "    </tr>\n",
              "    <tr>\n",
              "      <td>7</td>\n",
              "      <td>0.012600</td>\n",
              "      <td>0.088320</td>\n",
              "      <td>0.161290</td>\n",
              "      <td>0.714286</td>\n",
              "      <td>0.263158</td>\n",
              "      <td>0.978202</td>\n",
              "    </tr>\n",
              "  </tbody>\n",
              "</table><p>"
            ],
            "text/plain": [
              "<IPython.core.display.HTML object>"
            ]
          },
          "metadata": {},
          "output_type": "display_data"
        },
        {
          "data": {
            "text/plain": [
              "TrainOutput(global_step=434, training_loss=0.059333539102226496, metrics={'train_runtime': 43.021, 'train_samples_per_second': 240.487, 'train_steps_per_second': 10.088, 'total_flos': 819198255883140.0, 'train_loss': 0.059333539102226496, 'epoch': 7.0})"
            ]
          },
          "execution_count": 179,
          "metadata": {},
          "output_type": "execute_result"
        }
      ],
      "source": [
        "# Start the training process using the Trainer instance\n",
        "# This will train the model on the training dataset and evaluate it on the validation dataset\n",
        "# The training process will follow the configurations specified in the TrainingArguments\n",
        "# During training, the model's parameters will be updated to minimize the loss function\n",
        "# The evaluation metrics will be logged at each step and at the end of each epoch\n",
        "trainer.train()"
      ]
    },
    {
      "cell_type": "code",
      "execution_count": 180,
      "metadata": {},
      "outputs": [
        {
          "data": {
            "text/html": [
              "\n",
              "    <div>\n",
              "      \n",
              "      <progress value='25' max='25' style='width:300px; height:20px; vertical-align: middle;'></progress>\n",
              "      [25/25 00:00]\n",
              "    </div>\n",
              "    "
            ],
            "text/plain": [
              "<IPython.core.display.HTML object>"
            ]
          },
          "metadata": {},
          "output_type": "display_data"
        },
        {
          "data": {
            "text/plain": [
              "{'eval_loss': 0.08363841474056244,\n",
              " 'eval_precision': 0.21158129175946547,\n",
              " 'eval_recall': 0.5248618784530387,\n",
              " 'eval_f1': 0.30158730158730157,\n",
              " 'eval_accuracy': 0.9751247068151035,\n",
              " 'eval_runtime': 1.9003,\n",
              " 'eval_samples_per_second': 311.525,\n",
              " 'eval_steps_per_second': 13.156,\n",
              " 'epoch': 7.0}"
            ]
          },
          "execution_count": 180,
          "metadata": {},
          "output_type": "execute_result"
        }
      ],
      "source": [
        "# Evaluate the model on the tokenized test dataset using the Trainer instance\n",
        "# This will return a dictionary of evaluation metrics such as loss, precision, recall, and F1 score\n",
        "# The evaluation metrics help us understand how well the model performs on unseen data\n",
        "metrics_hmm_labels = trainer.evaluate(tokenized_hf_dataset_test_true)\n",
        "\n",
        "# Display the evaluation metrics\n",
        "# These metrics provide insights into the model's performance and can be used to compare different models\n",
        "metrics_hmm_labels"
      ]
    },
    {
      "cell_type": "code",
      "execution_count": 181,
      "metadata": {},
      "outputs": [],
      "source": [
        "# Set the pretrained language model and trainer to None\n",
        "# This helps in releasing the memory allocated to these objects\n",
        "# By setting these variables to None, we remove their references, making them eligible for garbage collection\n",
        "pretrained_language_model = None\n",
        "trainer = None\n",
        "\n",
        "# Force the garbage collector to release unreferenced memory\n",
        "# This is useful to free up memory that is no longer needed\n",
        "# The garbage collector will clean up any objects that are no longer referenced in the code\n",
        "gc.collect()\n",
        "\n",
        "# Empty the CUDA cache\n",
        "# This releases GPU memory that was allocated by PyTorch but is no longer needed\n",
        "# Clearing the CUDA cache helps in managing GPU memory more efficiently, especially when working with large models\n",
        "torch.cuda.empty_cache()"
      ]
    },
    {
      "cell_type": "code",
      "execution_count": 182,
      "metadata": {},
      "outputs": [
        {
          "name": "stderr",
          "output_type": "stream",
          "text": [
            "Some weights of BertForTokenClassification were not initialized from the model checkpoint at neuralmind/bert-base-portuguese-cased and are newly initialized: ['classifier.bias', 'classifier.weight']\n",
            "You should probably TRAIN this model on a down-stream task to be able to use it for predictions and inference.\n"
          ]
        }
      ],
      "source": [
        "# Load the pretrained model and tokenizer\n",
        "# The model is configured for token classification with the specified number of labels\n",
        "pretrained_language_model = AutoModelForTokenClassification.from_pretrained(\n",
        "    MODEL_NAME,  # Pretrained model name\n",
        "    num_labels=len(id_to_label),  # Number of unique labels in the dataset\n",
        "    id2label=id_to_label,  # Mapping from label IDs to label names\n",
        "    label2id=label_to_id,  # Mapping from label names to label IDs\n",
        ")\n",
        "\n",
        "\n",
        "# Define the training arguments for the Trainer\n",
        "training_args = TrainingArguments(\n",
        "    output_dir=\"./outputs/ner/bert-base-ner-maj_voter-labels\",  # Directory to save model checkpoints and logs\n",
        "    num_train_epochs=7,  # Number of training epochs\n",
        "    per_device_train_batch_size=24,  # Batch size for training\n",
        "    per_device_eval_batch_size=24,  # Batch size for evaluation\n",
        "    weight_decay=0.01,  # Weight decay for regularization\n",
        "    seed=271828,  # Random seed for reproducibility\n",
        "    bf16=True,  # Use bfloat16 precision for training (if supported by hardware)\n",
        "    fp16=False,  # Use mixed precision training with FP16 (if supported by hardware)\n",
        "    save_total_limit=1,  # Limit the total number of saved checkpoints\n",
        "    logging_steps=1,  # Log training metrics every step\n",
        "    eval_steps=1,  # Evaluate the model every step\n",
        "    save_steps=1,  # Save the model every step\n",
        "    metric_for_best_model=\"eval_f1\",  # Metric to determine the best model\n",
        "    greater_is_better=True,  # Higher metric value is better\n",
        "    logging_strategy=\"steps\",  # Log metrics at each step\n",
        "    eval_strategy=\"epoch\",  # Evaluate the model at the end of each epoch\n",
        "    save_strategy=\"epoch\",  # Save the model at the end of each epoch\n",
        "    load_best_model_at_end=True,  # Load the best model at the end of training\n",
        "    do_train=True,  # Perform training\n",
        "    do_eval=True,  # Perform evaluation\n",
        "    gradient_accumulation_steps=1,  # Accumulate gradients over multiple steps\n",
        "    push_to_hub=False,  # Do not push the model to the Hugging Face Hub\n",
        "    learning_rate=2e-5,  # Learning rate for the optimizer\n",
        "    overwrite_output_dir=True,  # Overwrite the output directory if it exists\n",
        ")\n",
        "\n",
        "# Create a Trainer instance to handle training and evaluation\n",
        "trainer = Trainer(\n",
        "    model=pretrained_language_model,  # The model to be trained\n",
        "    args=training_args,  # Training arguments defined above\n",
        "    train_dataset=tokenized_hf_dataset_train_maj_voter,  # Tokenized training dataset\n",
        "    eval_dataset=tokenized_hf_dataset_dev_true,  # Tokenized validation dataset\n",
        "    processing_class=tokenizer,  # Tokenizer for preprocessing the data\n",
        "    data_collator=token_classification_collator,  # Data collator for dynamic padding\n",
        "    compute_metrics=compute_metrics_for_evaluation,  # Function to compute evaluation metrics\n",
        ")\n"
      ]
    },
    {
      "cell_type": "code",
      "execution_count": 183,
      "metadata": {},
      "outputs": [
        {
          "data": {
            "text/html": [
              "\n",
              "    <div>\n",
              "      \n",
              "      <progress value='434' max='434' style='width:300px; height:20px; vertical-align: middle;'></progress>\n",
              "      [434/434 00:40, Epoch 7/7]\n",
              "    </div>\n",
              "    <table border=\"1\" class=\"dataframe\">\n",
              "  <thead>\n",
              " <tr style=\"text-align: left;\">\n",
              "      <th>Epoch</th>\n",
              "      <th>Training Loss</th>\n",
              "      <th>Validation Loss</th>\n",
              "      <th>Precision</th>\n",
              "      <th>Recall</th>\n",
              "      <th>F1</th>\n",
              "      <th>Accuracy</th>\n",
              "    </tr>\n",
              "  </thead>\n",
              "  <tbody>\n",
              "    <tr>\n",
              "      <td>1</td>\n",
              "      <td>0.120500</td>\n",
              "      <td>0.044698</td>\n",
              "      <td>0.000000</td>\n",
              "      <td>0.000000</td>\n",
              "      <td>0.000000</td>\n",
              "      <td>0.986476</td>\n",
              "    </tr>\n",
              "    <tr>\n",
              "      <td>2</td>\n",
              "      <td>0.044500</td>\n",
              "      <td>0.039574</td>\n",
              "      <td>0.142857</td>\n",
              "      <td>0.380952</td>\n",
              "      <td>0.207792</td>\n",
              "      <td>0.985362</td>\n",
              "    </tr>\n",
              "    <tr>\n",
              "      <td>3</td>\n",
              "      <td>0.083600</td>\n",
              "      <td>0.048490</td>\n",
              "      <td>0.187500</td>\n",
              "      <td>0.571429</td>\n",
              "      <td>0.282353</td>\n",
              "      <td>0.985044</td>\n",
              "    </tr>\n",
              "    <tr>\n",
              "      <td>4</td>\n",
              "      <td>0.008300</td>\n",
              "      <td>0.051482</td>\n",
              "      <td>0.203125</td>\n",
              "      <td>0.619048</td>\n",
              "      <td>0.305882</td>\n",
              "      <td>0.985044</td>\n",
              "    </tr>\n",
              "    <tr>\n",
              "      <td>5</td>\n",
              "      <td>0.047500</td>\n",
              "      <td>0.056576</td>\n",
              "      <td>0.194444</td>\n",
              "      <td>0.666667</td>\n",
              "      <td>0.301075</td>\n",
              "      <td>0.984407</td>\n",
              "    </tr>\n",
              "    <tr>\n",
              "      <td>6</td>\n",
              "      <td>0.023100</td>\n",
              "      <td>0.059729</td>\n",
              "      <td>0.205882</td>\n",
              "      <td>0.666667</td>\n",
              "      <td>0.314607</td>\n",
              "      <td>0.984885</td>\n",
              "    </tr>\n",
              "    <tr>\n",
              "      <td>7</td>\n",
              "      <td>0.009300</td>\n",
              "      <td>0.062135</td>\n",
              "      <td>0.200000</td>\n",
              "      <td>0.666667</td>\n",
              "      <td>0.307692</td>\n",
              "      <td>0.984566</td>\n",
              "    </tr>\n",
              "  </tbody>\n",
              "</table><p>"
            ],
            "text/plain": [
              "<IPython.core.display.HTML object>"
            ]
          },
          "metadata": {},
          "output_type": "display_data"
        },
        {
          "data": {
            "text/plain": [
              "TrainOutput(global_step=434, training_loss=0.04709326227201999, metrics={'train_runtime': 40.8894, 'train_samples_per_second': 253.024, 'train_steps_per_second': 10.614, 'total_flos': 819198255883140.0, 'train_loss': 0.04709326227201999, 'epoch': 7.0})"
            ]
          },
          "execution_count": 183,
          "metadata": {},
          "output_type": "execute_result"
        }
      ],
      "source": [
        "# Start the training process using the Trainer instance\n",
        "# This will train the model on the training dataset and evaluate it on the validation dataset\n",
        "# The training process will follow the configurations specified in the TrainingArguments\n",
        "# During training, the model's parameters will be updated to minimize the loss function\n",
        "# The evaluation metrics will be logged at each step and at the end of each epoch\n",
        "trainer.train()"
      ]
    },
    {
      "cell_type": "code",
      "execution_count": 184,
      "metadata": {},
      "outputs": [
        {
          "data": {
            "text/html": [
              "\n",
              "    <div>\n",
              "      \n",
              "      <progress value='25' max='25' style='width:300px; height:20px; vertical-align: middle;'></progress>\n",
              "      [25/25 00:00]\n",
              "    </div>\n",
              "    "
            ],
            "text/plain": [
              "<IPython.core.display.HTML object>"
            ]
          },
          "metadata": {},
          "output_type": "display_data"
        },
        {
          "data": {
            "text/plain": [
              "{'eval_loss': 0.0820985957980156,\n",
              " 'eval_precision': 0.23192019950124687,\n",
              " 'eval_recall': 0.5138121546961326,\n",
              " 'eval_f1': 0.31958762886597936,\n",
              " 'eval_accuracy': 0.9768425225463315,\n",
              " 'eval_runtime': 2.0417,\n",
              " 'eval_samples_per_second': 289.948,\n",
              " 'eval_steps_per_second': 12.244,\n",
              " 'epoch': 7.0}"
            ]
          },
          "execution_count": 184,
          "metadata": {},
          "output_type": "execute_result"
        }
      ],
      "source": [
        "# Evaluate the model on the tokenized test dataset using the Trainer instance\n",
        "# This will return a dictionary of evaluation metrics such as loss, precision, recall, and F1 score\n",
        "# The evaluation metrics help us understand how well the model performs on unseen data\n",
        "metrics_maj_voter_labels = trainer.evaluate(tokenized_hf_dataset_test_true)\n",
        "\n",
        "# Display the evaluation metrics\n",
        "# These metrics provide insights into the model's performance and can be used to compare different models\n",
        "metrics_maj_voter_labels"
      ]
    },
    {
      "cell_type": "code",
      "execution_count": 185,
      "metadata": {},
      "outputs": [],
      "source": [
        "# Set the pretrained language model and trainer to None\n",
        "# This helps in releasing the memory allocated to these objects\n",
        "# By setting these variables to None, we remove their references, making them eligible for garbage collection\n",
        "pretrained_language_model = None\n",
        "trainer = None\n",
        "\n",
        "# Force the garbage collector to release unreferenced memory\n",
        "# This is useful to free up memory that is no longer needed\n",
        "# The garbage collector will clean up any objects that are no longer referenced in the code\n",
        "gc.collect()\n",
        "\n",
        "# Empty the CUDA cache\n",
        "# This releases GPU memory that was allocated by PyTorch but is no longer needed\n",
        "# Clearing the CUDA cache helps in managing GPU memory more efficiently, especially when working with large models\n",
        "torch.cuda.empty_cache()"
      ]
    },
    {
      "cell_type": "code",
      "execution_count": 186,
      "metadata": {},
      "outputs": [
        {
          "data": {
            "application/vnd.microsoft.datawrangler.viewer.v0+json": {
              "columns": [
                {
                  "name": "index",
                  "rawType": "object",
                  "type": "string"
                },
                {
                  "name": "eval_loss",
                  "rawType": "float64",
                  "type": "float"
                },
                {
                  "name": "eval_precision",
                  "rawType": "float64",
                  "type": "float"
                },
                {
                  "name": "eval_recall",
                  "rawType": "float64",
                  "type": "float"
                },
                {
                  "name": "eval_f1",
                  "rawType": "float64",
                  "type": "float"
                },
                {
                  "name": "eval_accuracy",
                  "rawType": "float64",
                  "type": "float"
                },
                {
                  "name": "eval_runtime",
                  "rawType": "float64",
                  "type": "float"
                },
                {
                  "name": "eval_samples_per_second",
                  "rawType": "float64",
                  "type": "float"
                },
                {
                  "name": "eval_steps_per_second",
                  "rawType": "float64",
                  "type": "float"
                },
                {
                  "name": "epoch",
                  "rawType": "float64",
                  "type": "float"
                }
              ],
              "ref": "d103ab14-11f5-4595-a431-30d4ee7b9ab0",
              "rows": [
                [
                  "True Labels",
                  "0.019094087183475494",
                  "0.7628865979381443",
                  "0.8176795580110497",
                  "0.7893333333333333",
                  "0.9951769019853985",
                  "1.8794",
                  "314.987",
                  "13.302",
                  "7.0"
                ],
                [
                  "HMM Labels",
                  "0.08363841474056244",
                  "0.21158129175946547",
                  "0.5248618784530387",
                  "0.30158730158730157",
                  "0.9751247068151035",
                  "1.9003",
                  "311.525",
                  "13.156",
                  "7.0"
                ],
                [
                  "Maj Voter Labels",
                  "0.0820985957980156",
                  "0.23192019950124687",
                  "0.5138121546961326",
                  "0.31958762886597936",
                  "0.9768425225463315",
                  "2.0417",
                  "289.948",
                  "12.244",
                  "7.0"
                ]
              ],
              "shape": {
                "columns": 9,
                "rows": 3
              }
            },
            "text/html": [
              "<div>\n",
              "<style scoped>\n",
              "    .dataframe tbody tr th:only-of-type {\n",
              "        vertical-align: middle;\n",
              "    }\n",
              "\n",
              "    .dataframe tbody tr th {\n",
              "        vertical-align: top;\n",
              "    }\n",
              "\n",
              "    .dataframe thead th {\n",
              "        text-align: right;\n",
              "    }\n",
              "</style>\n",
              "<table border=\"1\" class=\"dataframe\">\n",
              "  <thead>\n",
              "    <tr style=\"text-align: right;\">\n",
              "      <th></th>\n",
              "      <th>eval_loss</th>\n",
              "      <th>eval_precision</th>\n",
              "      <th>eval_recall</th>\n",
              "      <th>eval_f1</th>\n",
              "      <th>eval_accuracy</th>\n",
              "      <th>eval_runtime</th>\n",
              "      <th>eval_samples_per_second</th>\n",
              "      <th>eval_steps_per_second</th>\n",
              "      <th>epoch</th>\n",
              "    </tr>\n",
              "  </thead>\n",
              "  <tbody>\n",
              "    <tr>\n",
              "      <th>True Labels</th>\n",
              "      <td>0.019094</td>\n",
              "      <td>0.762887</td>\n",
              "      <td>0.817680</td>\n",
              "      <td>0.789333</td>\n",
              "      <td>0.995177</td>\n",
              "      <td>1.8794</td>\n",
              "      <td>314.987</td>\n",
              "      <td>13.302</td>\n",
              "      <td>7.0</td>\n",
              "    </tr>\n",
              "    <tr>\n",
              "      <th>HMM Labels</th>\n",
              "      <td>0.083638</td>\n",
              "      <td>0.211581</td>\n",
              "      <td>0.524862</td>\n",
              "      <td>0.301587</td>\n",
              "      <td>0.975125</td>\n",
              "      <td>1.9003</td>\n",
              "      <td>311.525</td>\n",
              "      <td>13.156</td>\n",
              "      <td>7.0</td>\n",
              "    </tr>\n",
              "    <tr>\n",
              "      <th>Maj Voter Labels</th>\n",
              "      <td>0.082099</td>\n",
              "      <td>0.231920</td>\n",
              "      <td>0.513812</td>\n",
              "      <td>0.319588</td>\n",
              "      <td>0.976843</td>\n",
              "      <td>2.0417</td>\n",
              "      <td>289.948</td>\n",
              "      <td>12.244</td>\n",
              "      <td>7.0</td>\n",
              "    </tr>\n",
              "  </tbody>\n",
              "</table>\n",
              "</div>"
            ],
            "text/plain": [
              "                  eval_loss  eval_precision  eval_recall   eval_f1  eval_accuracy  eval_runtime  eval_samples_per_second  eval_steps_per_second  epoch\n",
              "True Labels        0.019094        0.762887     0.817680  0.789333       0.995177        1.8794                  314.987                 13.302    7.0\n",
              "HMM Labels         0.083638        0.211581     0.524862  0.301587       0.975125        1.9003                  311.525                 13.156    7.0\n",
              "Maj Voter Labels   0.082099        0.231920     0.513812  0.319588       0.976843        2.0417                  289.948                 12.244    7.0"
            ]
          },
          "execution_count": 186,
          "metadata": {},
          "output_type": "execute_result"
        }
      ],
      "source": [
        "import pandas as pd\n",
        "\n",
        "# Create a DataFrame to compare evaluation metrics from different models\n",
        "# The DataFrame will contain metrics from three different models: True Labels, HMM Labels, and Maj Voter Labels\n",
        "\n",
        "# Create a DataFrame with metrics from the three models\n",
        "# Each row in the DataFrame corresponds to a different metric (e.g., loss, precision, recall, F1 score)\n",
        "# Each column corresponds to a different model (True Labels, HMM Labels, Maj Voter Labels)\n",
        "df_metrics = pd.DataFrame(\n",
        "    [\n",
        "        metrics_true_labels,\n",
        "        metrics_hmm_labels,\n",
        "        metrics_maj_voter_labels,\n",
        "    ],  # List of dictionaries containing metrics\n",
        "    index=[\n",
        "        \"True Labels\",\n",
        "        \"HMM Labels\",\n",
        "        \"Maj Voter Labels\",\n",
        "    ],  # Index labels for the DataFrame\n",
        ")\n",
        "\n",
        "# Display the DataFrame\n",
        "# This will show the evaluation metrics for each model in a tabular format\n",
        "# The DataFrame provides a clear and organized way to compare the performance of different models\n",
        "df_metrics"
      ]
    },
    {
      "cell_type": "markdown",
      "metadata": {},
      "source": [
        "### Evaluation Transformer EndModels Results\n",
        "\n",
        "After training and evaluating the models, I noticed that the F1 score dropped significantly, mainly due to low precision, although the recall remained somewhat decent.\n",
        "\n",
        "Here are some hypotheses to explain these results:\n",
        "\n",
        "\n",
        "#### Why is recall higher than precision?\n",
        "\n",
        "- **Labeling functions tend to overlabel**  \n",
        "  Some labeling functions (like regex, gazetteers, or GLiNER) may tag too many spans as organizations. This helps catch more true positives (increasing recall), but also introduces false positives, which lowers precision. As a result, the model learns to \"overpredict\".\n",
        "\n",
        "- **Weak labels are noisy**  \n",
        "  The labeling functions don’t just *sometimes* make mistakes — they definitely introduce errors or inconsistencies. This likely confuses the model during training and leads it to learn incorrect patterns, which affects precision the most.\n",
        "\n",
        "- **Some important entities were missed**  \n",
        "  It's also possible that some real organization entities weren’t labeled by any function. That means the model never had a chance to learn them. On top of that, other irrelevant spans may have been incorrectly labeled, adding even more noise.\n",
        "\n",
        "\n",
        "\n",
        "Even though the weakly supervised models didn’t perform as well, it was interesting to see that they still managed to learn something. The **recall around 0.51** shows that the models were able to detect a fair number of organization entities — even without seeing any gold labels for that class during training.\n",
        "\n",
        "These results could likely be improved by refining the labeling functions or filtering the weak labels more carefully before training.\n"
      ]
    },
    {
      "cell_type": "code",
      "execution_count": 188,
      "metadata": {},
      "outputs": [
        {
          "name": "stdout",
          "output_type": "stream",
          "text": [
            "Dados de treinamento HMM preparados: 1478 exemplos\n",
            "Dados de treinamento Maj Voter preparados: 1478 exemplos\n"
          ]
        }
      ],
      "source": [
        "import spacy\n",
        "from spacy.training import Example\n",
        "import random\n",
        "\n",
        "# Preparar dados para treinamento do spaCy\n",
        "def prepare_spacy_training_data(weak_labels_list, texts_list):\n",
        "    \"\"\"\n",
        "    Converte os weak labels para o formato do spaCy.\n",
        "    \"\"\"\n",
        "    training_data = []\n",
        "    \n",
        "    for text, entities_data in zip(texts_list, weak_labels_list):\n",
        "        entities = []\n",
        "        for entity in entities_data[\"entities\"]:\n",
        "            entities.append((entity[\"start\"], entity[\"end\"], entity[\"label\"]))\n",
        "        \n",
        "        training_data.append((text, {\"entities\": entities}))\n",
        "    \n",
        "    return training_data\n",
        "\n",
        "# Preparar dados de treinamento para spaCy com HMM labels\n",
        "spacy_train_data_hmm = prepare_spacy_training_data(train_labels_hmm, [doc.text for doc in spacy_docs_train])\n",
        "\n",
        "# Preparar dados de treinamento para spaCy com Majority Voter labels  \n",
        "spacy_train_data_maj_voter = prepare_spacy_training_data(train_labels_maj_voter, [doc.text for doc in spacy_docs_train])\n",
        "\n",
        "print(f\"Dados de treinamento HMM preparados: {len(spacy_train_data_hmm)} exemplos\")\n",
        "print(f\"Dados de treinamento Maj Voter preparados: {len(spacy_train_data_maj_voter)} exemplos\")"
      ]
    },
    {
      "cell_type": "markdown",
      "metadata": {},
      "source": [
        "## Spacy EndModel\n",
        "\n",
        "Since I didn't have much to go on here, I did some research and used Copilot to come up with a Spacy EndModel."
      ]
    },
    {
      "cell_type": "code",
      "execution_count": 189,
      "metadata": {},
      "outputs": [
        {
          "name": "stdout",
          "output_type": "stream",
          "text": [
            "Treinando modelo spaCy com HMM labels...\n",
            "Iteração 1/15\n",
            "Perdas: {'ner': np.float32(2620.0872)}\n",
            "Iteração 2/15\n",
            "Perdas: {'ner': np.float32(933.0979)}\n",
            "Iteração 3/15\n",
            "Perdas: {'ner': np.float32(721.97205)}\n",
            "Iteração 4/15\n",
            "Perdas: {'ner': np.float32(595.6985)}\n",
            "Iteração 5/15\n",
            "Perdas: {'ner': np.float32(497.0304)}\n",
            "Iteração 6/15\n",
            "Perdas: {'ner': np.float32(360.81378)}\n",
            "Iteração 7/15\n",
            "Perdas: {'ner': np.float32(312.90863)}\n",
            "Iteração 8/15\n",
            "Perdas: {'ner': np.float32(302.17578)}\n",
            "Iteração 9/15\n",
            "Perdas: {'ner': np.float32(243.72661)}\n",
            "Iteração 10/15\n",
            "Perdas: {'ner': np.float32(222.63695)}\n",
            "Iteração 11/15\n",
            "Perdas: {'ner': np.float32(222.09206)}\n",
            "Iteração 12/15\n",
            "Perdas: {'ner': np.float32(208.7405)}\n",
            "Iteração 13/15\n",
            "Perdas: {'ner': np.float32(204.27873)}\n",
            "Iteração 14/15\n",
            "Perdas: {'ner': np.float32(176.49538)}\n",
            "Iteração 15/15\n",
            "Perdas: {'ner': np.float32(170.66733)}\n",
            "Modelo salvo em: outputs/ner/spacy_ner_hmm\n",
            "\n",
            "Treinando modelo spaCy com Majority Voter labels...\n",
            "Iteração 1/15\n",
            "Perdas: {'ner': np.float32(2554.2336)}\n",
            "Iteração 2/15\n",
            "Perdas: {'ner': np.float32(655.2891)}\n",
            "Iteração 3/15\n",
            "Perdas: {'ner': np.float32(495.1017)}\n",
            "Iteração 4/15\n",
            "Perdas: {'ner': np.float32(403.16727)}\n",
            "Iteração 5/15\n",
            "Perdas: {'ner': np.float32(298.84808)}\n",
            "Iteração 6/15\n",
            "Perdas: {'ner': np.float32(277.45566)}\n",
            "Iteração 7/15\n",
            "Perdas: {'ner': np.float32(203.48111)}\n",
            "Iteração 8/15\n",
            "Perdas: {'ner': np.float32(188.07138)}\n",
            "Iteração 9/15\n",
            "Perdas: {'ner': np.float32(151.94156)}\n",
            "Iteração 10/15\n",
            "Perdas: {'ner': np.float32(140.12242)}\n",
            "Iteração 11/15\n",
            "Perdas: {'ner': np.float32(115.642395)}\n",
            "Iteração 12/15\n",
            "Perdas: {'ner': np.float32(99.65672)}\n",
            "Iteração 13/15\n",
            "Perdas: {'ner': np.float32(127.44488)}\n",
            "Iteração 14/15\n",
            "Perdas: {'ner': np.float32(109.76225)}\n",
            "Iteração 15/15\n",
            "Perdas: {'ner': np.float32(93.12408)}\n",
            "Modelo salvo em: outputs/ner/spacy_ner_maj_voter\n"
          ]
        }
      ],
      "source": [
        "def train_spacy_ner_model(training_data, model_name, n_iter=20):\n",
        "    \"\"\"\n",
        "    Treina um modelo NER do spaCy com os weak labels.\n",
        "    \"\"\"\n",
        "    # Criar um modelo em branco\n",
        "    nlp = spacy.blank(\"pt\")\n",
        "    \n",
        "    # Adicionar o componente NER\n",
        "    if \"ner\" not in nlp.pipe_names:\n",
        "        ner = nlp.add_pipe(\"ner\")\n",
        "    else:\n",
        "        ner = nlp.get_pipe(\"ner\")\n",
        "    \n",
        "    # Adicionar labels ao modelo\n",
        "    for _, annotations in training_data:\n",
        "        for ent in annotations.get(\"entities\", []):\n",
        "            ner.add_label(ent[2])\n",
        "    \n",
        "    # Desabilitar outros pipes durante o treinamento\n",
        "    other_pipes = [pipe for pipe in nlp.pipe_names if pipe != \"ner\"]\n",
        "    \n",
        "    # Treinar o modelo\n",
        "    with nlp.disable_pipes(*other_pipes):\n",
        "        optimizer = nlp.begin_training()\n",
        "        \n",
        "        for iteration in range(n_iter):\n",
        "            print(f\"Iteração {iteration + 1}/{n_iter}\")\n",
        "            random.shuffle(training_data)\n",
        "            losses = {}\n",
        "            \n",
        "            # Processar em batches\n",
        "            for batch in spacy.util.minibatch(training_data, size=8):\n",
        "                examples = []\n",
        "                for text, annotations in batch:\n",
        "                    doc = nlp.make_doc(text)\n",
        "                    example = Example.from_dict(doc, annotations)\n",
        "                    examples.append(example)\n",
        "                \n",
        "                nlp.update(examples, sgd=optimizer, losses=losses)\n",
        "            \n",
        "            print(f\"Perdas: {losses}\")\n",
        "    \n",
        "    # Salvar o modelo\n",
        "    nlp.to_disk(f\"outputs/ner/{model_name}\")\n",
        "    print(f\"Modelo salvo em: outputs/ner/{model_name}\")\n",
        "    \n",
        "    return nlp\n",
        "\n",
        "# Treinar modelo spaCy com HMM labels\n",
        "print(\"Treinando modelo spaCy com HMM labels...\")\n",
        "spacy_model_hmm = train_spacy_ner_model(spacy_train_data_hmm, \"spacy_ner_hmm\", n_iter=15)\n",
        "\n",
        "# Treinar modelo spaCy com Majority Voter labels\n",
        "print(\"\\nTreinando modelo spaCy com Majority Voter labels...\")\n",
        "spacy_model_maj_voter = train_spacy_ner_model(spacy_train_data_maj_voter, \"spacy_ner_maj_voter\", n_iter=15)"
      ]
    },
    {
      "cell_type": "code",
      "execution_count": 190,
      "metadata": {},
      "outputs": [
        {
          "name": "stdout",
          "output_type": "stream",
          "text": [
            "Avaliando modelo spaCy treinado com HMM labels...\n",
            "Avaliando modelo spaCy treinado com Majority Voter labels...\n",
            "Métricas spaCy HMM: {'precision': 0.9811261932985812, 'recall': 0.9688129154795821, 'f1': 0.9743555987039012, 'accuracy': 0.9688129154795821}\n",
            "Métricas spaCy Maj Voter: {'precision': 0.980764489069625, 'recall': 0.97340930674264, 'f1': 0.9767868644512141, 'accuracy': 0.97340930674264}\n"
          ]
        }
      ],
      "source": [
        "def evaluate_spacy_model(nlp_model, test_texts, test_labels_iob):\n",
        "    \"\"\"\n",
        "    Avalia o modelo spaCy no conjunto de teste.\n",
        "    \"\"\"\n",
        "    from sklearn.metrics import classification_report, f1_score, precision_score, recall_score, accuracy_score\n",
        "    \n",
        "    all_true_labels = []\n",
        "    all_pred_labels = []\n",
        "    \n",
        "    for text, true_labels in zip(test_texts, test_labels_iob):\n",
        "        # Fazer predição\n",
        "        doc = nlp_model(text)\n",
        "        \n",
        "        # Extrair tokens verdadeiros\n",
        "        true_tokens = [token for token, _ in true_labels]\n",
        "        true_tags = [tag for _, tag in true_labels]\n",
        "        \n",
        "        # Alinhar predições com tokens verdadeiros\n",
        "        pred_tags = [\"O\"] * len(true_tokens)\n",
        "        \n",
        "        for ent in doc.ents:\n",
        "            if ent.label_ == \"ORGANIZACAO\":\n",
        "                # Encontrar posição do token no texto\n",
        "                start_char = ent.start_char\n",
        "                end_char = ent.end_char\n",
        "                \n",
        "                # Mapear para tokens\n",
        "                char_pos = 0\n",
        "                for i, token in enumerate(true_tokens):\n",
        "                    token_start = char_pos\n",
        "                    token_end = char_pos + len(token)\n",
        "                    \n",
        "                    # Verificar sobreposição\n",
        "                    if (start_char <= token_start < end_char) or (token_start <= start_char < token_end):\n",
        "                        if i == 0 or pred_tags[i-1] == \"O\":\n",
        "                            pred_tags[i] = \"B-ORGANIZACAO\"\n",
        "                        else:\n",
        "                            pred_tags[i] = \"I-ORGANIZACAO\"\n",
        "                    \n",
        "                    char_pos = token_end + 1  # +1 para espaço\n",
        "        \n",
        "        all_true_labels.extend(true_tags)\n",
        "        all_pred_labels.extend(pred_tags)\n",
        "    \n",
        "    # Calcular métricas\n",
        "    precision = precision_score(all_true_labels, all_pred_labels, average='weighted', zero_division=0)\n",
        "    recall = recall_score(all_true_labels, all_pred_labels, average='weighted', zero_division=0)\n",
        "    f1 = f1_score(all_true_labels, all_pred_labels, average='weighted', zero_division=0)\n",
        "    accuracy = accuracy_score(all_true_labels, all_pred_labels)\n",
        "    \n",
        "    return {\n",
        "        \"precision\": precision,\n",
        "        \"recall\": recall,\n",
        "        \"f1\": f1,\n",
        "        \"accuracy\": accuracy\n",
        "    }\n",
        "\n",
        "# Avaliar os modelos spaCy no conjunto de teste\n",
        "print(\"Avaliando modelo spaCy treinado com HMM labels...\")\n",
        "metrics_spacy_hmm = evaluate_spacy_model(spacy_model_hmm, test_texts_true, test_labels_true_iob)\n",
        "\n",
        "print(\"Avaliando modelo spaCy treinado com Majority Voter labels...\")\n",
        "metrics_spacy_maj_voter = evaluate_spacy_model(spacy_model_maj_voter, test_texts_true, test_labels_true_iob)\n",
        "\n",
        "print(\"Métricas spaCy HMM:\", metrics_spacy_hmm)\n",
        "print(\"Métricas spaCy Maj Voter:\", metrics_spacy_maj_voter)"
      ]
    },
    {
      "cell_type": "markdown",
      "metadata": {},
      "source": [
        "### Discussion on spaCy End Model Results\n",
        "\n",
        "The evaluation results for the spaCy models trained with weak supervision were surprisingly high:\n",
        "\n",
        "| Model                   | Precision | Recall | F1 Score | Accuracy |\n",
        "|-------------------------|-----------|--------|----------|----------|\n",
        "| **spaCy HMM**           | 0.98      | 0.97   | 0.97     | 0.96     |\n",
        "| **spaCy Majority Vote** | 0.98      | 0.97   | 0.98     | 0.97     |\n",
        "\n",
        "These results seem unrealistic—almost as if trained with fully supervised labels. Given the previous lower performance from the Transformer-based models trained on the same weak labels, I suspect something went wrong.\n",
        "\n",
        "Some possibilities I considered:\n",
        "\n",
        "- **Data leakage or incorrect dataset split:** maybe I mistakenly evaluated the model on the training data itself?\n",
        "- **Label misalignment:** did I accidentally use the aggregated weak labels as the gold labels for evaluation?\n",
        "- **Incorrect evaluation script:** maybe I misconfigured the evaluation metrics or script?\n"
      ]
    }
  ],
  "metadata": {
    "colab": {
      "provenance": []
    },
    "kernelspec": {
      "display_name": "venv (3.12.3)",
      "language": "python",
      "name": "python3"
    },
    "language_info": {
      "codemirror_mode": {
        "name": "ipython",
        "version": 3
      },
      "file_extension": ".py",
      "mimetype": "text/x-python",
      "name": "python",
      "nbconvert_exporter": "python",
      "pygments_lexer": "ipython3",
      "version": "3.12.3"
    },
    "widgets": {
      "application/vnd.jupyter.widget-state+json": {
        "033c88e2803e4778b3f4f96d0e09d1c4": {
          "model_module": "@jupyter-widgets/controls",
          "model_module_version": "1.5.0",
          "model_name": "DescriptionStyleModel",
          "state": {
            "_model_module": "@jupyter-widgets/controls",
            "_model_module_version": "1.5.0",
            "_model_name": "DescriptionStyleModel",
            "_view_count": null,
            "_view_module": "@jupyter-widgets/base",
            "_view_module_version": "1.2.0",
            "_view_name": "StyleView",
            "description_width": ""
          }
        },
        "04e064422009485c8cfc17732a03c7e3": {
          "model_module": "@jupyter-widgets/base",
          "model_module_version": "1.2.0",
          "model_name": "LayoutModel",
          "state": {
            "_model_module": "@jupyter-widgets/base",
            "_model_module_version": "1.2.0",
            "_model_name": "LayoutModel",
            "_view_count": null,
            "_view_module": "@jupyter-widgets/base",
            "_view_module_version": "1.2.0",
            "_view_name": "LayoutView",
            "align_content": null,
            "align_items": null,
            "align_self": null,
            "border": null,
            "bottom": null,
            "display": null,
            "flex": null,
            "flex_flow": null,
            "grid_area": null,
            "grid_auto_columns": null,
            "grid_auto_flow": null,
            "grid_auto_rows": null,
            "grid_column": null,
            "grid_gap": null,
            "grid_row": null,
            "grid_template_areas": null,
            "grid_template_columns": null,
            "grid_template_rows": null,
            "height": null,
            "justify_content": null,
            "justify_items": null,
            "left": null,
            "margin": null,
            "max_height": null,
            "max_width": null,
            "min_height": null,
            "min_width": null,
            "object_fit": null,
            "object_position": null,
            "order": null,
            "overflow": null,
            "overflow_x": null,
            "overflow_y": null,
            "padding": null,
            "right": null,
            "top": null,
            "visibility": null,
            "width": null
          }
        },
        "0b8345271b4b49498df49592ea04859b": {
          "model_module": "@jupyter-widgets/controls",
          "model_module_version": "1.5.0",
          "model_name": "DescriptionStyleModel",
          "state": {
            "_model_module": "@jupyter-widgets/controls",
            "_model_module_version": "1.5.0",
            "_model_name": "DescriptionStyleModel",
            "_view_count": null,
            "_view_module": "@jupyter-widgets/base",
            "_view_module_version": "1.2.0",
            "_view_name": "StyleView",
            "description_width": ""
          }
        },
        "0cb6bbe47c864eb5afa6901bfde0aef9": {
          "model_module": "@jupyter-widgets/controls",
          "model_module_version": "1.5.0",
          "model_name": "HBoxModel",
          "state": {
            "_dom_classes": [],
            "_model_module": "@jupyter-widgets/controls",
            "_model_module_version": "1.5.0",
            "_model_name": "HBoxModel",
            "_view_count": null,
            "_view_module": "@jupyter-widgets/controls",
            "_view_module_version": "1.5.0",
            "_view_name": "HBoxView",
            "box_style": "",
            "children": [
              "IPY_MODEL_1c428b72bcd041cf9efdc2b690c2bfa3",
              "IPY_MODEL_d3c8c7c8be534f4f92adfb1c17d05b66",
              "IPY_MODEL_cf39d96a0a2a454c960753ad3b16e5cd"
            ],
            "layout": "IPY_MODEL_cc736675fce349e6ad1e6be1eb3110b1"
          }
        },
        "0d4ec775bfbf419ebb7f3c47febeec92": {
          "model_module": "@jupyter-widgets/controls",
          "model_module_version": "1.5.0",
          "model_name": "ProgressStyleModel",
          "state": {
            "_model_module": "@jupyter-widgets/controls",
            "_model_module_version": "1.5.0",
            "_model_name": "ProgressStyleModel",
            "_view_count": null,
            "_view_module": "@jupyter-widgets/base",
            "_view_module_version": "1.2.0",
            "_view_name": "StyleView",
            "bar_color": null,
            "description_width": ""
          }
        },
        "11d2aa91e0eb44bfbb72868e801d82c2": {
          "model_module": "@jupyter-widgets/base",
          "model_module_version": "1.2.0",
          "model_name": "LayoutModel",
          "state": {
            "_model_module": "@jupyter-widgets/base",
            "_model_module_version": "1.2.0",
            "_model_name": "LayoutModel",
            "_view_count": null,
            "_view_module": "@jupyter-widgets/base",
            "_view_module_version": "1.2.0",
            "_view_name": "LayoutView",
            "align_content": null,
            "align_items": null,
            "align_self": null,
            "border": null,
            "bottom": null,
            "display": null,
            "flex": null,
            "flex_flow": null,
            "grid_area": null,
            "grid_auto_columns": null,
            "grid_auto_flow": null,
            "grid_auto_rows": null,
            "grid_column": null,
            "grid_gap": null,
            "grid_row": null,
            "grid_template_areas": null,
            "grid_template_columns": null,
            "grid_template_rows": null,
            "height": null,
            "justify_content": null,
            "justify_items": null,
            "left": null,
            "margin": null,
            "max_height": null,
            "max_width": null,
            "min_height": null,
            "min_width": null,
            "object_fit": null,
            "object_position": null,
            "order": null,
            "overflow": null,
            "overflow_x": null,
            "overflow_y": null,
            "padding": null,
            "right": null,
            "top": null,
            "visibility": null,
            "width": null
          }
        },
        "11ef2a4b93984326a0ff3b19d57cc348": {
          "model_module": "@jupyter-widgets/base",
          "model_module_version": "1.2.0",
          "model_name": "LayoutModel",
          "state": {
            "_model_module": "@jupyter-widgets/base",
            "_model_module_version": "1.2.0",
            "_model_name": "LayoutModel",
            "_view_count": null,
            "_view_module": "@jupyter-widgets/base",
            "_view_module_version": "1.2.0",
            "_view_name": "LayoutView",
            "align_content": null,
            "align_items": null,
            "align_self": null,
            "border": null,
            "bottom": null,
            "display": null,
            "flex": null,
            "flex_flow": null,
            "grid_area": null,
            "grid_auto_columns": null,
            "grid_auto_flow": null,
            "grid_auto_rows": null,
            "grid_column": null,
            "grid_gap": null,
            "grid_row": null,
            "grid_template_areas": null,
            "grid_template_columns": null,
            "grid_template_rows": null,
            "height": null,
            "justify_content": null,
            "justify_items": null,
            "left": null,
            "margin": null,
            "max_height": null,
            "max_width": null,
            "min_height": null,
            "min_width": null,
            "object_fit": null,
            "object_position": null,
            "order": null,
            "overflow": null,
            "overflow_x": null,
            "overflow_y": null,
            "padding": null,
            "right": null,
            "top": null,
            "visibility": null,
            "width": null
          }
        },
        "14b564c2a2654c0f9153045a31751dcb": {
          "model_module": "@jupyter-widgets/controls",
          "model_module_version": "1.5.0",
          "model_name": "ProgressStyleModel",
          "state": {
            "_model_module": "@jupyter-widgets/controls",
            "_model_module_version": "1.5.0",
            "_model_name": "ProgressStyleModel",
            "_view_count": null,
            "_view_module": "@jupyter-widgets/base",
            "_view_module_version": "1.2.0",
            "_view_name": "StyleView",
            "bar_color": null,
            "description_width": ""
          }
        },
        "1c428b72bcd041cf9efdc2b690c2bfa3": {
          "model_module": "@jupyter-widgets/controls",
          "model_module_version": "1.5.0",
          "model_name": "HTMLModel",
          "state": {
            "_dom_classes": [],
            "_model_module": "@jupyter-widgets/controls",
            "_model_module_version": "1.5.0",
            "_model_name": "HTMLModel",
            "_view_count": null,
            "_view_module": "@jupyter-widgets/controls",
            "_view_module_version": "1.5.0",
            "_view_name": "HTMLView",
            "description": "",
            "description_tooltip": null,
            "layout": "IPY_MODEL_6e436cf5384a4714a387130330688604",
            "placeholder": "​",
            "style": "IPY_MODEL_033c88e2803e4778b3f4f96d0e09d1c4",
            "value": "tokenizer_config.json: 100%"
          }
        },
        "21c7890ef0f24badb4f9dc721eb7a65c": {
          "model_module": "@jupyter-widgets/controls",
          "model_module_version": "1.5.0",
          "model_name": "HTMLModel",
          "state": {
            "_dom_classes": [],
            "_model_module": "@jupyter-widgets/controls",
            "_model_module_version": "1.5.0",
            "_model_name": "HTMLModel",
            "_view_count": null,
            "_view_module": "@jupyter-widgets/controls",
            "_view_module_version": "1.5.0",
            "_view_name": "HTMLView",
            "description": "",
            "description_tooltip": null,
            "layout": "IPY_MODEL_62461adad8a2440e95da2b2e8f43ce61",
            "placeholder": "​",
            "style": "IPY_MODEL_e4fe2eeb069c4b0f87adc8ab85bf08d4",
            "value": "model.safetensors: 100%"
          }
        },
        "24f3b02a779948feaaa80318fd6116a3": {
          "model_module": "@jupyter-widgets/base",
          "model_module_version": "1.2.0",
          "model_name": "LayoutModel",
          "state": {
            "_model_module": "@jupyter-widgets/base",
            "_model_module_version": "1.2.0",
            "_model_name": "LayoutModel",
            "_view_count": null,
            "_view_module": "@jupyter-widgets/base",
            "_view_module_version": "1.2.0",
            "_view_name": "LayoutView",
            "align_content": null,
            "align_items": null,
            "align_self": null,
            "border": null,
            "bottom": null,
            "display": null,
            "flex": null,
            "flex_flow": null,
            "grid_area": null,
            "grid_auto_columns": null,
            "grid_auto_flow": null,
            "grid_auto_rows": null,
            "grid_column": null,
            "grid_gap": null,
            "grid_row": null,
            "grid_template_areas": null,
            "grid_template_columns": null,
            "grid_template_rows": null,
            "height": null,
            "justify_content": null,
            "justify_items": null,
            "left": null,
            "margin": null,
            "max_height": null,
            "max_width": null,
            "min_height": null,
            "min_width": null,
            "object_fit": null,
            "object_position": null,
            "order": null,
            "overflow": null,
            "overflow_x": null,
            "overflow_y": null,
            "padding": null,
            "right": null,
            "top": null,
            "visibility": null,
            "width": null
          }
        },
        "25b1d66af7864edb9145e50d78506d0a": {
          "model_module": "@jupyter-widgets/base",
          "model_module_version": "1.2.0",
          "model_name": "LayoutModel",
          "state": {
            "_model_module": "@jupyter-widgets/base",
            "_model_module_version": "1.2.0",
            "_model_name": "LayoutModel",
            "_view_count": null,
            "_view_module": "@jupyter-widgets/base",
            "_view_module_version": "1.2.0",
            "_view_name": "LayoutView",
            "align_content": null,
            "align_items": null,
            "align_self": null,
            "border": null,
            "bottom": null,
            "display": null,
            "flex": null,
            "flex_flow": null,
            "grid_area": null,
            "grid_auto_columns": null,
            "grid_auto_flow": null,
            "grid_auto_rows": null,
            "grid_column": null,
            "grid_gap": null,
            "grid_row": null,
            "grid_template_areas": null,
            "grid_template_columns": null,
            "grid_template_rows": null,
            "height": null,
            "justify_content": null,
            "justify_items": null,
            "left": null,
            "margin": null,
            "max_height": null,
            "max_width": null,
            "min_height": null,
            "min_width": null,
            "object_fit": null,
            "object_position": null,
            "order": null,
            "overflow": null,
            "overflow_x": null,
            "overflow_y": null,
            "padding": null,
            "right": null,
            "top": null,
            "visibility": null,
            "width": null
          }
        },
        "2bb19388527746e9b5287f39d68c04a0": {
          "model_module": "@jupyter-widgets/controls",
          "model_module_version": "1.5.0",
          "model_name": "DescriptionStyleModel",
          "state": {
            "_model_module": "@jupyter-widgets/controls",
            "_model_module_version": "1.5.0",
            "_model_name": "DescriptionStyleModel",
            "_view_count": null,
            "_view_module": "@jupyter-widgets/base",
            "_view_module_version": "1.2.0",
            "_view_name": "StyleView",
            "description_width": ""
          }
        },
        "2c107315b72d435c92365140b3624d2c": {
          "model_module": "@jupyter-widgets/controls",
          "model_module_version": "1.5.0",
          "model_name": "HTMLModel",
          "state": {
            "_dom_classes": [],
            "_model_module": "@jupyter-widgets/controls",
            "_model_module_version": "1.5.0",
            "_model_name": "HTMLModel",
            "_view_count": null,
            "_view_module": "@jupyter-widgets/controls",
            "_view_module_version": "1.5.0",
            "_view_name": "HTMLView",
            "description": "",
            "description_tooltip": null,
            "layout": "IPY_MODEL_6bf246d6b7494e36ae1d301699d578a5",
            "placeholder": "​",
            "style": "IPY_MODEL_9aeb20a831474cc780a5f8788d125565",
            "value": " 1.33G/1.33G [00:28&lt;00:00, 47.2MB/s]"
          }
        },
        "3783e4ce079d4f6e9e4c07a956cabb28": {
          "model_module": "@jupyter-widgets/controls",
          "model_module_version": "1.5.0",
          "model_name": "HTMLModel",
          "state": {
            "_dom_classes": [],
            "_model_module": "@jupyter-widgets/controls",
            "_model_module_version": "1.5.0",
            "_model_name": "HTMLModel",
            "_view_count": null,
            "_view_module": "@jupyter-widgets/controls",
            "_view_module_version": "1.5.0",
            "_view_name": "HTMLView",
            "description": "",
            "description_tooltip": null,
            "layout": "IPY_MODEL_c0c5314368874d25b48eaeeb1128c836",
            "placeholder": "​",
            "style": "IPY_MODEL_4197518915134e38b25e867b75e24caf",
            "value": "config.json: "
          }
        },
        "4197518915134e38b25e867b75e24caf": {
          "model_module": "@jupyter-widgets/controls",
          "model_module_version": "1.5.0",
          "model_name": "DescriptionStyleModel",
          "state": {
            "_model_module": "@jupyter-widgets/controls",
            "_model_module_version": "1.5.0",
            "_model_name": "DescriptionStyleModel",
            "_view_count": null,
            "_view_module": "@jupyter-widgets/base",
            "_view_module_version": "1.2.0",
            "_view_name": "StyleView",
            "description_width": ""
          }
        },
        "43207d41a668459ebec0ea81138731d5": {
          "model_module": "@jupyter-widgets/base",
          "model_module_version": "1.2.0",
          "model_name": "LayoutModel",
          "state": {
            "_model_module": "@jupyter-widgets/base",
            "_model_module_version": "1.2.0",
            "_model_name": "LayoutModel",
            "_view_count": null,
            "_view_module": "@jupyter-widgets/base",
            "_view_module_version": "1.2.0",
            "_view_name": "LayoutView",
            "align_content": null,
            "align_items": null,
            "align_self": null,
            "border": null,
            "bottom": null,
            "display": null,
            "flex": null,
            "flex_flow": null,
            "grid_area": null,
            "grid_auto_columns": null,
            "grid_auto_flow": null,
            "grid_auto_rows": null,
            "grid_column": null,
            "grid_gap": null,
            "grid_row": null,
            "grid_template_areas": null,
            "grid_template_columns": null,
            "grid_template_rows": null,
            "height": null,
            "justify_content": null,
            "justify_items": null,
            "left": null,
            "margin": null,
            "max_height": null,
            "max_width": null,
            "min_height": null,
            "min_width": null,
            "object_fit": null,
            "object_position": null,
            "order": null,
            "overflow": null,
            "overflow_x": null,
            "overflow_y": null,
            "padding": null,
            "right": null,
            "top": null,
            "visibility": null,
            "width": null
          }
        },
        "433709337eba411cb503e2bd36a9ec74": {
          "model_module": "@jupyter-widgets/controls",
          "model_module_version": "1.5.0",
          "model_name": "HBoxModel",
          "state": {
            "_dom_classes": [],
            "_model_module": "@jupyter-widgets/controls",
            "_model_module_version": "1.5.0",
            "_model_name": "HBoxModel",
            "_view_count": null,
            "_view_module": "@jupyter-widgets/controls",
            "_view_module_version": "1.5.0",
            "_view_name": "HBoxView",
            "box_style": "",
            "children": [
              "IPY_MODEL_3783e4ce079d4f6e9e4c07a956cabb28",
              "IPY_MODEL_97bb291b33e24b06ab1bcb646106499c",
              "IPY_MODEL_e87cbf0d1cc3427ebe3c2b5059fc8565"
            ],
            "layout": "IPY_MODEL_687d133d4e48438383086b7a45d7a9b3"
          }
        },
        "44201f87b4684e5196fc7eacf4904688": {
          "model_module": "@jupyter-widgets/controls",
          "model_module_version": "1.5.0",
          "model_name": "HTMLModel",
          "state": {
            "_dom_classes": [],
            "_model_module": "@jupyter-widgets/controls",
            "_model_module_version": "1.5.0",
            "_model_name": "HTMLModel",
            "_view_count": null,
            "_view_module": "@jupyter-widgets/controls",
            "_view_module_version": "1.5.0",
            "_view_name": "HTMLView",
            "description": "",
            "description_tooltip": null,
            "layout": "IPY_MODEL_6e68b7605e2a4fe9916c989a2d6ed1b6",
            "placeholder": "​",
            "style": "IPY_MODEL_2bb19388527746e9b5287f39d68c04a0",
            "value": "special_tokens_map.json: 100%"
          }
        },
        "45e37380d8a34c0f96ae38ed1e7dae4c": {
          "model_module": "@jupyter-widgets/controls",
          "model_module_version": "1.5.0",
          "model_name": "FloatProgressModel",
          "state": {
            "_dom_classes": [],
            "_model_module": "@jupyter-widgets/controls",
            "_model_module_version": "1.5.0",
            "_model_name": "FloatProgressModel",
            "_view_count": null,
            "_view_module": "@jupyter-widgets/controls",
            "_view_module_version": "1.5.0",
            "_view_name": "ProgressView",
            "bar_style": "success",
            "description": "",
            "description_tooltip": null,
            "layout": "IPY_MODEL_cc7e67e6e93144a4801b95b217e99146",
            "max": 1333475164,
            "min": 0,
            "orientation": "horizontal",
            "style": "IPY_MODEL_cb0110eeeb2840d4b38843d636e3ccb5",
            "value": 1333475164
          }
        },
        "48cc0ff0f5e5402087792d81a666aadd": {
          "model_module": "@jupyter-widgets/controls",
          "model_module_version": "1.5.0",
          "model_name": "HBoxModel",
          "state": {
            "_dom_classes": [],
            "_model_module": "@jupyter-widgets/controls",
            "_model_module_version": "1.5.0",
            "_model_name": "HBoxModel",
            "_view_count": null,
            "_view_module": "@jupyter-widgets/controls",
            "_view_module_version": "1.5.0",
            "_view_name": "HBoxView",
            "box_style": "",
            "children": [
              "IPY_MODEL_44201f87b4684e5196fc7eacf4904688",
              "IPY_MODEL_e4d44536347e443db7e28cea1e80456f",
              "IPY_MODEL_f434185d63334c4ea4be181ba0a52e93"
            ],
            "layout": "IPY_MODEL_25b1d66af7864edb9145e50d78506d0a"
          }
        },
        "4a4803a00599420f8b3dfc621ec7dbaf": {
          "model_module": "@jupyter-widgets/base",
          "model_module_version": "1.2.0",
          "model_name": "LayoutModel",
          "state": {
            "_model_module": "@jupyter-widgets/base",
            "_model_module_version": "1.2.0",
            "_model_name": "LayoutModel",
            "_view_count": null,
            "_view_module": "@jupyter-widgets/base",
            "_view_module_version": "1.2.0",
            "_view_name": "LayoutView",
            "align_content": null,
            "align_items": null,
            "align_self": null,
            "border": null,
            "bottom": null,
            "display": null,
            "flex": null,
            "flex_flow": null,
            "grid_area": null,
            "grid_auto_columns": null,
            "grid_auto_flow": null,
            "grid_auto_rows": null,
            "grid_column": null,
            "grid_gap": null,
            "grid_row": null,
            "grid_template_areas": null,
            "grid_template_columns": null,
            "grid_template_rows": null,
            "height": null,
            "justify_content": null,
            "justify_items": null,
            "left": null,
            "margin": null,
            "max_height": null,
            "max_width": null,
            "min_height": null,
            "min_width": null,
            "object_fit": null,
            "object_position": null,
            "order": null,
            "overflow": null,
            "overflow_x": null,
            "overflow_y": null,
            "padding": null,
            "right": null,
            "top": null,
            "visibility": null,
            "width": null
          }
        },
        "4de92c0516ea452997fba7d02087b93f": {
          "model_module": "@jupyter-widgets/controls",
          "model_module_version": "1.5.0",
          "model_name": "DescriptionStyleModel",
          "state": {
            "_model_module": "@jupyter-widgets/controls",
            "_model_module_version": "1.5.0",
            "_model_name": "DescriptionStyleModel",
            "_view_count": null,
            "_view_module": "@jupyter-widgets/base",
            "_view_module_version": "1.2.0",
            "_view_name": "StyleView",
            "description_width": ""
          }
        },
        "53b34c8501304f889a9a42536da48d9b": {
          "model_module": "@jupyter-widgets/base",
          "model_module_version": "1.2.0",
          "model_name": "LayoutModel",
          "state": {
            "_model_module": "@jupyter-widgets/base",
            "_model_module_version": "1.2.0",
            "_model_name": "LayoutModel",
            "_view_count": null,
            "_view_module": "@jupyter-widgets/base",
            "_view_module_version": "1.2.0",
            "_view_name": "LayoutView",
            "align_content": null,
            "align_items": null,
            "align_self": null,
            "border": null,
            "bottom": null,
            "display": null,
            "flex": null,
            "flex_flow": null,
            "grid_area": null,
            "grid_auto_columns": null,
            "grid_auto_flow": null,
            "grid_auto_rows": null,
            "grid_column": null,
            "grid_gap": null,
            "grid_row": null,
            "grid_template_areas": null,
            "grid_template_columns": null,
            "grid_template_rows": null,
            "height": null,
            "justify_content": null,
            "justify_items": null,
            "left": null,
            "margin": null,
            "max_height": null,
            "max_width": null,
            "min_height": null,
            "min_width": null,
            "object_fit": null,
            "object_position": null,
            "order": null,
            "overflow": null,
            "overflow_x": null,
            "overflow_y": null,
            "padding": null,
            "right": null,
            "top": null,
            "visibility": null,
            "width": null
          }
        },
        "556f8b6c893444eebb9f676a2a03375a": {
          "model_module": "@jupyter-widgets/controls",
          "model_module_version": "1.5.0",
          "model_name": "DescriptionStyleModel",
          "state": {
            "_model_module": "@jupyter-widgets/controls",
            "_model_module_version": "1.5.0",
            "_model_name": "DescriptionStyleModel",
            "_view_count": null,
            "_view_module": "@jupyter-widgets/base",
            "_view_module_version": "1.2.0",
            "_view_name": "StyleView",
            "description_width": ""
          }
        },
        "5777f8a02f4c47958cc915b7abb416ee": {
          "model_module": "@jupyter-widgets/base",
          "model_module_version": "1.2.0",
          "model_name": "LayoutModel",
          "state": {
            "_model_module": "@jupyter-widgets/base",
            "_model_module_version": "1.2.0",
            "_model_name": "LayoutModel",
            "_view_count": null,
            "_view_module": "@jupyter-widgets/base",
            "_view_module_version": "1.2.0",
            "_view_name": "LayoutView",
            "align_content": null,
            "align_items": null,
            "align_self": null,
            "border": null,
            "bottom": null,
            "display": null,
            "flex": null,
            "flex_flow": null,
            "grid_area": null,
            "grid_auto_columns": null,
            "grid_auto_flow": null,
            "grid_auto_rows": null,
            "grid_column": null,
            "grid_gap": null,
            "grid_row": null,
            "grid_template_areas": null,
            "grid_template_columns": null,
            "grid_template_rows": null,
            "height": null,
            "justify_content": null,
            "justify_items": null,
            "left": null,
            "margin": null,
            "max_height": null,
            "max_width": null,
            "min_height": null,
            "min_width": null,
            "object_fit": null,
            "object_position": null,
            "order": null,
            "overflow": null,
            "overflow_x": null,
            "overflow_y": null,
            "padding": null,
            "right": null,
            "top": null,
            "visibility": null,
            "width": null
          }
        },
        "588a339f80b14517b268a603cea0e24b": {
          "model_module": "@jupyter-widgets/controls",
          "model_module_version": "1.5.0",
          "model_name": "FloatProgressModel",
          "state": {
            "_dom_classes": [],
            "_model_module": "@jupyter-widgets/controls",
            "_model_module_version": "1.5.0",
            "_model_name": "FloatProgressModel",
            "_view_count": null,
            "_view_module": "@jupyter-widgets/controls",
            "_view_module_version": "1.5.0",
            "_view_name": "ProgressView",
            "bar_style": "success",
            "description": "",
            "description_tooltip": null,
            "layout": "IPY_MODEL_8191b3c17a2f4f02862b9cd56e2353f6",
            "max": 1,
            "min": 0,
            "orientation": "horizontal",
            "style": "IPY_MODEL_f3c475ffc4d5455c9e5cffbb4609ab39",
            "value": 1
          }
        },
        "62461adad8a2440e95da2b2e8f43ce61": {
          "model_module": "@jupyter-widgets/base",
          "model_module_version": "1.2.0",
          "model_name": "LayoutModel",
          "state": {
            "_model_module": "@jupyter-widgets/base",
            "_model_module_version": "1.2.0",
            "_model_name": "LayoutModel",
            "_view_count": null,
            "_view_module": "@jupyter-widgets/base",
            "_view_module_version": "1.2.0",
            "_view_name": "LayoutView",
            "align_content": null,
            "align_items": null,
            "align_self": null,
            "border": null,
            "bottom": null,
            "display": null,
            "flex": null,
            "flex_flow": null,
            "grid_area": null,
            "grid_auto_columns": null,
            "grid_auto_flow": null,
            "grid_auto_rows": null,
            "grid_column": null,
            "grid_gap": null,
            "grid_row": null,
            "grid_template_areas": null,
            "grid_template_columns": null,
            "grid_template_rows": null,
            "height": null,
            "justify_content": null,
            "justify_items": null,
            "left": null,
            "margin": null,
            "max_height": null,
            "max_width": null,
            "min_height": null,
            "min_width": null,
            "object_fit": null,
            "object_position": null,
            "order": null,
            "overflow": null,
            "overflow_x": null,
            "overflow_y": null,
            "padding": null,
            "right": null,
            "top": null,
            "visibility": null,
            "width": null
          }
        },
        "6290de6875ac4a26b9cce5e9d80927f6": {
          "model_module": "@jupyter-widgets/controls",
          "model_module_version": "1.5.0",
          "model_name": "DescriptionStyleModel",
          "state": {
            "_model_module": "@jupyter-widgets/controls",
            "_model_module_version": "1.5.0",
            "_model_name": "DescriptionStyleModel",
            "_view_count": null,
            "_view_module": "@jupyter-widgets/base",
            "_view_module_version": "1.2.0",
            "_view_name": "StyleView",
            "description_width": ""
          }
        },
        "65e0d0ec1bb147cba0d3a26773239938": {
          "model_module": "@jupyter-widgets/base",
          "model_module_version": "1.2.0",
          "model_name": "LayoutModel",
          "state": {
            "_model_module": "@jupyter-widgets/base",
            "_model_module_version": "1.2.0",
            "_model_name": "LayoutModel",
            "_view_count": null,
            "_view_module": "@jupyter-widgets/base",
            "_view_module_version": "1.2.0",
            "_view_name": "LayoutView",
            "align_content": null,
            "align_items": null,
            "align_self": null,
            "border": null,
            "bottom": null,
            "display": null,
            "flex": null,
            "flex_flow": null,
            "grid_area": null,
            "grid_auto_columns": null,
            "grid_auto_flow": null,
            "grid_auto_rows": null,
            "grid_column": null,
            "grid_gap": null,
            "grid_row": null,
            "grid_template_areas": null,
            "grid_template_columns": null,
            "grid_template_rows": null,
            "height": null,
            "justify_content": null,
            "justify_items": null,
            "left": null,
            "margin": null,
            "max_height": null,
            "max_width": null,
            "min_height": null,
            "min_width": null,
            "object_fit": null,
            "object_position": null,
            "order": null,
            "overflow": null,
            "overflow_x": null,
            "overflow_y": null,
            "padding": null,
            "right": null,
            "top": null,
            "visibility": null,
            "width": null
          }
        },
        "687d133d4e48438383086b7a45d7a9b3": {
          "model_module": "@jupyter-widgets/base",
          "model_module_version": "1.2.0",
          "model_name": "LayoutModel",
          "state": {
            "_model_module": "@jupyter-widgets/base",
            "_model_module_version": "1.2.0",
            "_model_name": "LayoutModel",
            "_view_count": null,
            "_view_module": "@jupyter-widgets/base",
            "_view_module_version": "1.2.0",
            "_view_name": "LayoutView",
            "align_content": null,
            "align_items": null,
            "align_self": null,
            "border": null,
            "bottom": null,
            "display": null,
            "flex": null,
            "flex_flow": null,
            "grid_area": null,
            "grid_auto_columns": null,
            "grid_auto_flow": null,
            "grid_auto_rows": null,
            "grid_column": null,
            "grid_gap": null,
            "grid_row": null,
            "grid_template_areas": null,
            "grid_template_columns": null,
            "grid_template_rows": null,
            "height": null,
            "justify_content": null,
            "justify_items": null,
            "left": null,
            "margin": null,
            "max_height": null,
            "max_width": null,
            "min_height": null,
            "min_width": null,
            "object_fit": null,
            "object_position": null,
            "order": null,
            "overflow": null,
            "overflow_x": null,
            "overflow_y": null,
            "padding": null,
            "right": null,
            "top": null,
            "visibility": null,
            "width": null
          }
        },
        "6bf246d6b7494e36ae1d301699d578a5": {
          "model_module": "@jupyter-widgets/base",
          "model_module_version": "1.2.0",
          "model_name": "LayoutModel",
          "state": {
            "_model_module": "@jupyter-widgets/base",
            "_model_module_version": "1.2.0",
            "_model_name": "LayoutModel",
            "_view_count": null,
            "_view_module": "@jupyter-widgets/base",
            "_view_module_version": "1.2.0",
            "_view_name": "LayoutView",
            "align_content": null,
            "align_items": null,
            "align_self": null,
            "border": null,
            "bottom": null,
            "display": null,
            "flex": null,
            "flex_flow": null,
            "grid_area": null,
            "grid_auto_columns": null,
            "grid_auto_flow": null,
            "grid_auto_rows": null,
            "grid_column": null,
            "grid_gap": null,
            "grid_row": null,
            "grid_template_areas": null,
            "grid_template_columns": null,
            "grid_template_rows": null,
            "height": null,
            "justify_content": null,
            "justify_items": null,
            "left": null,
            "margin": null,
            "max_height": null,
            "max_width": null,
            "min_height": null,
            "min_width": null,
            "object_fit": null,
            "object_position": null,
            "order": null,
            "overflow": null,
            "overflow_x": null,
            "overflow_y": null,
            "padding": null,
            "right": null,
            "top": null,
            "visibility": null,
            "width": null
          }
        },
        "6e436cf5384a4714a387130330688604": {
          "model_module": "@jupyter-widgets/base",
          "model_module_version": "1.2.0",
          "model_name": "LayoutModel",
          "state": {
            "_model_module": "@jupyter-widgets/base",
            "_model_module_version": "1.2.0",
            "_model_name": "LayoutModel",
            "_view_count": null,
            "_view_module": "@jupyter-widgets/base",
            "_view_module_version": "1.2.0",
            "_view_name": "LayoutView",
            "align_content": null,
            "align_items": null,
            "align_self": null,
            "border": null,
            "bottom": null,
            "display": null,
            "flex": null,
            "flex_flow": null,
            "grid_area": null,
            "grid_auto_columns": null,
            "grid_auto_flow": null,
            "grid_auto_rows": null,
            "grid_column": null,
            "grid_gap": null,
            "grid_row": null,
            "grid_template_areas": null,
            "grid_template_columns": null,
            "grid_template_rows": null,
            "height": null,
            "justify_content": null,
            "justify_items": null,
            "left": null,
            "margin": null,
            "max_height": null,
            "max_width": null,
            "min_height": null,
            "min_width": null,
            "object_fit": null,
            "object_position": null,
            "order": null,
            "overflow": null,
            "overflow_x": null,
            "overflow_y": null,
            "padding": null,
            "right": null,
            "top": null,
            "visibility": null,
            "width": null
          }
        },
        "6e68b7605e2a4fe9916c989a2d6ed1b6": {
          "model_module": "@jupyter-widgets/base",
          "model_module_version": "1.2.0",
          "model_name": "LayoutModel",
          "state": {
            "_model_module": "@jupyter-widgets/base",
            "_model_module_version": "1.2.0",
            "_model_name": "LayoutModel",
            "_view_count": null,
            "_view_module": "@jupyter-widgets/base",
            "_view_module_version": "1.2.0",
            "_view_name": "LayoutView",
            "align_content": null,
            "align_items": null,
            "align_self": null,
            "border": null,
            "bottom": null,
            "display": null,
            "flex": null,
            "flex_flow": null,
            "grid_area": null,
            "grid_auto_columns": null,
            "grid_auto_flow": null,
            "grid_auto_rows": null,
            "grid_column": null,
            "grid_gap": null,
            "grid_row": null,
            "grid_template_areas": null,
            "grid_template_columns": null,
            "grid_template_rows": null,
            "height": null,
            "justify_content": null,
            "justify_items": null,
            "left": null,
            "margin": null,
            "max_height": null,
            "max_width": null,
            "min_height": null,
            "min_width": null,
            "object_fit": null,
            "object_position": null,
            "order": null,
            "overflow": null,
            "overflow_x": null,
            "overflow_y": null,
            "padding": null,
            "right": null,
            "top": null,
            "visibility": null,
            "width": null
          }
        },
        "8191b3c17a2f4f02862b9cd56e2353f6": {
          "model_module": "@jupyter-widgets/base",
          "model_module_version": "1.2.0",
          "model_name": "LayoutModel",
          "state": {
            "_model_module": "@jupyter-widgets/base",
            "_model_module_version": "1.2.0",
            "_model_name": "LayoutModel",
            "_view_count": null,
            "_view_module": "@jupyter-widgets/base",
            "_view_module_version": "1.2.0",
            "_view_name": "LayoutView",
            "align_content": null,
            "align_items": null,
            "align_self": null,
            "border": null,
            "bottom": null,
            "display": null,
            "flex": null,
            "flex_flow": null,
            "grid_area": null,
            "grid_auto_columns": null,
            "grid_auto_flow": null,
            "grid_auto_rows": null,
            "grid_column": null,
            "grid_gap": null,
            "grid_row": null,
            "grid_template_areas": null,
            "grid_template_columns": null,
            "grid_template_rows": null,
            "height": null,
            "justify_content": null,
            "justify_items": null,
            "left": null,
            "margin": null,
            "max_height": null,
            "max_width": null,
            "min_height": null,
            "min_width": null,
            "object_fit": null,
            "object_position": null,
            "order": null,
            "overflow": null,
            "overflow_x": null,
            "overflow_y": null,
            "padding": null,
            "right": null,
            "top": null,
            "visibility": null,
            "width": "20px"
          }
        },
        "82f7af4daa304568bcd5c56fc6202ced": {
          "model_module": "@jupyter-widgets/base",
          "model_module_version": "1.2.0",
          "model_name": "LayoutModel",
          "state": {
            "_model_module": "@jupyter-widgets/base",
            "_model_module_version": "1.2.0",
            "_model_name": "LayoutModel",
            "_view_count": null,
            "_view_module": "@jupyter-widgets/base",
            "_view_module_version": "1.2.0",
            "_view_name": "LayoutView",
            "align_content": null,
            "align_items": null,
            "align_self": null,
            "border": null,
            "bottom": null,
            "display": null,
            "flex": null,
            "flex_flow": null,
            "grid_area": null,
            "grid_auto_columns": null,
            "grid_auto_flow": null,
            "grid_auto_rows": null,
            "grid_column": null,
            "grid_gap": null,
            "grid_row": null,
            "grid_template_areas": null,
            "grid_template_columns": null,
            "grid_template_rows": null,
            "height": null,
            "justify_content": null,
            "justify_items": null,
            "left": null,
            "margin": null,
            "max_height": null,
            "max_width": null,
            "min_height": null,
            "min_width": null,
            "object_fit": null,
            "object_position": null,
            "order": null,
            "overflow": null,
            "overflow_x": null,
            "overflow_y": null,
            "padding": null,
            "right": null,
            "top": null,
            "visibility": null,
            "width": null
          }
        },
        "85a2235dd3fd4ac384f61184c7783ac0": {
          "model_module": "@jupyter-widgets/controls",
          "model_module_version": "1.5.0",
          "model_name": "FloatProgressModel",
          "state": {
            "_dom_classes": [],
            "_model_module": "@jupyter-widgets/controls",
            "_model_module_version": "1.5.0",
            "_model_name": "FloatProgressModel",
            "_view_count": null,
            "_view_module": "@jupyter-widgets/controls",
            "_view_module_version": "1.5.0",
            "_view_name": "ProgressView",
            "bar_style": "success",
            "description": "",
            "description_tooltip": null,
            "layout": "IPY_MODEL_d5f5039207ac42029d2fd61de519b6dc",
            "max": 1,
            "min": 0,
            "orientation": "horizontal",
            "style": "IPY_MODEL_d96c722e12bd4904a502fbab7baf12d4",
            "value": 1
          }
        },
        "88936e176e024b529a9197974cf07ad2": {
          "model_module": "@jupyter-widgets/controls",
          "model_module_version": "1.5.0",
          "model_name": "ProgressStyleModel",
          "state": {
            "_model_module": "@jupyter-widgets/controls",
            "_model_module_version": "1.5.0",
            "_model_name": "ProgressStyleModel",
            "_view_count": null,
            "_view_module": "@jupyter-widgets/base",
            "_view_module_version": "1.2.0",
            "_view_name": "StyleView",
            "bar_color": null,
            "description_width": ""
          }
        },
        "8c9f6eceb428414fa9349b7dcf2549c3": {
          "model_module": "@jupyter-widgets/base",
          "model_module_version": "1.2.0",
          "model_name": "LayoutModel",
          "state": {
            "_model_module": "@jupyter-widgets/base",
            "_model_module_version": "1.2.0",
            "_model_name": "LayoutModel",
            "_view_count": null,
            "_view_module": "@jupyter-widgets/base",
            "_view_module_version": "1.2.0",
            "_view_name": "LayoutView",
            "align_content": null,
            "align_items": null,
            "align_self": null,
            "border": null,
            "bottom": null,
            "display": null,
            "flex": null,
            "flex_flow": null,
            "grid_area": null,
            "grid_auto_columns": null,
            "grid_auto_flow": null,
            "grid_auto_rows": null,
            "grid_column": null,
            "grid_gap": null,
            "grid_row": null,
            "grid_template_areas": null,
            "grid_template_columns": null,
            "grid_template_rows": null,
            "height": null,
            "justify_content": null,
            "justify_items": null,
            "left": null,
            "margin": null,
            "max_height": null,
            "max_width": null,
            "min_height": null,
            "min_width": null,
            "object_fit": null,
            "object_position": null,
            "order": null,
            "overflow": null,
            "overflow_x": null,
            "overflow_y": null,
            "padding": null,
            "right": null,
            "top": null,
            "visibility": null,
            "width": null
          }
        },
        "92552506802d4b0286c750e11745d6fb": {
          "model_module": "@jupyter-widgets/base",
          "model_module_version": "1.2.0",
          "model_name": "LayoutModel",
          "state": {
            "_model_module": "@jupyter-widgets/base",
            "_model_module_version": "1.2.0",
            "_model_name": "LayoutModel",
            "_view_count": null,
            "_view_module": "@jupyter-widgets/base",
            "_view_module_version": "1.2.0",
            "_view_name": "LayoutView",
            "align_content": null,
            "align_items": null,
            "align_self": null,
            "border": null,
            "bottom": null,
            "display": null,
            "flex": null,
            "flex_flow": null,
            "grid_area": null,
            "grid_auto_columns": null,
            "grid_auto_flow": null,
            "grid_auto_rows": null,
            "grid_column": null,
            "grid_gap": null,
            "grid_row": null,
            "grid_template_areas": null,
            "grid_template_columns": null,
            "grid_template_rows": null,
            "height": null,
            "justify_content": null,
            "justify_items": null,
            "left": null,
            "margin": null,
            "max_height": null,
            "max_width": null,
            "min_height": null,
            "min_width": null,
            "object_fit": null,
            "object_position": null,
            "order": null,
            "overflow": null,
            "overflow_x": null,
            "overflow_y": null,
            "padding": null,
            "right": null,
            "top": null,
            "visibility": null,
            "width": null
          }
        },
        "93983bd3d7994d8fa542eee685a980ef": {
          "model_module": "@jupyter-widgets/base",
          "model_module_version": "1.2.0",
          "model_name": "LayoutModel",
          "state": {
            "_model_module": "@jupyter-widgets/base",
            "_model_module_version": "1.2.0",
            "_model_name": "LayoutModel",
            "_view_count": null,
            "_view_module": "@jupyter-widgets/base",
            "_view_module_version": "1.2.0",
            "_view_name": "LayoutView",
            "align_content": null,
            "align_items": null,
            "align_self": null,
            "border": null,
            "bottom": null,
            "display": null,
            "flex": null,
            "flex_flow": null,
            "grid_area": null,
            "grid_auto_columns": null,
            "grid_auto_flow": null,
            "grid_auto_rows": null,
            "grid_column": null,
            "grid_gap": null,
            "grid_row": null,
            "grid_template_areas": null,
            "grid_template_columns": null,
            "grid_template_rows": null,
            "height": null,
            "justify_content": null,
            "justify_items": null,
            "left": null,
            "margin": null,
            "max_height": null,
            "max_width": null,
            "min_height": null,
            "min_width": null,
            "object_fit": null,
            "object_position": null,
            "order": null,
            "overflow": null,
            "overflow_x": null,
            "overflow_y": null,
            "padding": null,
            "right": null,
            "top": null,
            "visibility": null,
            "width": null
          }
        },
        "97bb291b33e24b06ab1bcb646106499c": {
          "model_module": "@jupyter-widgets/controls",
          "model_module_version": "1.5.0",
          "model_name": "FloatProgressModel",
          "state": {
            "_dom_classes": [],
            "_model_module": "@jupyter-widgets/controls",
            "_model_module_version": "1.5.0",
            "_model_name": "FloatProgressModel",
            "_view_count": null,
            "_view_module": "@jupyter-widgets/controls",
            "_view_module_version": "1.5.0",
            "_view_name": "ProgressView",
            "bar_style": "success",
            "description": "",
            "description_tooltip": null,
            "layout": "IPY_MODEL_d41cc51a97394af0b46d553e00a8fe52",
            "max": 1,
            "min": 0,
            "orientation": "horizontal",
            "style": "IPY_MODEL_f52358e166b0464da9b7c767606ca1a5",
            "value": 1
          }
        },
        "9aeb20a831474cc780a5f8788d125565": {
          "model_module": "@jupyter-widgets/controls",
          "model_module_version": "1.5.0",
          "model_name": "DescriptionStyleModel",
          "state": {
            "_model_module": "@jupyter-widgets/controls",
            "_model_module_version": "1.5.0",
            "_model_name": "DescriptionStyleModel",
            "_view_count": null,
            "_view_module": "@jupyter-widgets/base",
            "_view_module_version": "1.2.0",
            "_view_name": "StyleView",
            "description_width": ""
          }
        },
        "9fa6435a60864d94b635fb414aa54970": {
          "model_module": "@jupyter-widgets/controls",
          "model_module_version": "1.5.0",
          "model_name": "DescriptionStyleModel",
          "state": {
            "_model_module": "@jupyter-widgets/controls",
            "_model_module_version": "1.5.0",
            "_model_name": "DescriptionStyleModel",
            "_view_count": null,
            "_view_module": "@jupyter-widgets/base",
            "_view_module_version": "1.2.0",
            "_view_name": "StyleView",
            "description_width": ""
          }
        },
        "9fef0d02e61b43abbce204b62889bca4": {
          "model_module": "@jupyter-widgets/controls",
          "model_module_version": "1.5.0",
          "model_name": "HBoxModel",
          "state": {
            "_dom_classes": [],
            "_model_module": "@jupyter-widgets/controls",
            "_model_module_version": "1.5.0",
            "_model_name": "HBoxModel",
            "_view_count": null,
            "_view_module": "@jupyter-widgets/controls",
            "_view_module_version": "1.5.0",
            "_view_name": "HBoxView",
            "box_style": "",
            "children": [
              "IPY_MODEL_fcd2c486dba244a5a1cc42954e5d0049",
              "IPY_MODEL_bb8c9aa5f70546d087b15ff6250952f7",
              "IPY_MODEL_2c107315b72d435c92365140b3624d2c"
            ],
            "layout": "IPY_MODEL_92552506802d4b0286c750e11745d6fb"
          }
        },
        "a87372d21768414e89d78702fa8d3543": {
          "model_module": "@jupyter-widgets/controls",
          "model_module_version": "1.5.0",
          "model_name": "DescriptionStyleModel",
          "state": {
            "_model_module": "@jupyter-widgets/controls",
            "_model_module_version": "1.5.0",
            "_model_name": "DescriptionStyleModel",
            "_view_count": null,
            "_view_module": "@jupyter-widgets/base",
            "_view_module_version": "1.2.0",
            "_view_name": "StyleView",
            "description_width": ""
          }
        },
        "af8754d9c9094b30bc139b20a17e038e": {
          "model_module": "@jupyter-widgets/controls",
          "model_module_version": "1.5.0",
          "model_name": "HBoxModel",
          "state": {
            "_dom_classes": [],
            "_model_module": "@jupyter-widgets/controls",
            "_model_module_version": "1.5.0",
            "_model_name": "HBoxModel",
            "_view_count": null,
            "_view_module": "@jupyter-widgets/controls",
            "_view_module_version": "1.5.0",
            "_view_name": "HBoxView",
            "box_style": "",
            "children": [
              "IPY_MODEL_b46f74ce74d2402ca972b6b3bc37d958",
              "IPY_MODEL_588a339f80b14517b268a603cea0e24b",
              "IPY_MODEL_caf2d89ef9fa4a93b15cf452f1ec1314"
            ],
            "layout": "IPY_MODEL_4a4803a00599420f8b3dfc621ec7dbaf"
          }
        },
        "b46f74ce74d2402ca972b6b3bc37d958": {
          "model_module": "@jupyter-widgets/controls",
          "model_module_version": "1.5.0",
          "model_name": "HTMLModel",
          "state": {
            "_dom_classes": [],
            "_model_module": "@jupyter-widgets/controls",
            "_model_module_version": "1.5.0",
            "_model_name": "HTMLModel",
            "_view_count": null,
            "_view_module": "@jupyter-widgets/controls",
            "_view_module_version": "1.5.0",
            "_view_name": "HTMLView",
            "description": "",
            "description_tooltip": null,
            "layout": "IPY_MODEL_04e064422009485c8cfc17732a03c7e3",
            "placeholder": "​",
            "style": "IPY_MODEL_4de92c0516ea452997fba7d02087b93f",
            "value": "vocab.txt: "
          }
        },
        "bb8c9aa5f70546d087b15ff6250952f7": {
          "model_module": "@jupyter-widgets/controls",
          "model_module_version": "1.5.0",
          "model_name": "FloatProgressModel",
          "state": {
            "_dom_classes": [],
            "_model_module": "@jupyter-widgets/controls",
            "_model_module_version": "1.5.0",
            "_model_name": "FloatProgressModel",
            "_view_count": null,
            "_view_module": "@jupyter-widgets/controls",
            "_view_module_version": "1.5.0",
            "_view_name": "ProgressView",
            "bar_style": "success",
            "description": "",
            "description_tooltip": null,
            "layout": "IPY_MODEL_65e0d0ec1bb147cba0d3a26773239938",
            "max": 1333559473,
            "min": 0,
            "orientation": "horizontal",
            "style": "IPY_MODEL_0d4ec775bfbf419ebb7f3c47febeec92",
            "value": 1333559473
          }
        },
        "c0c5314368874d25b48eaeeb1128c836": {
          "model_module": "@jupyter-widgets/base",
          "model_module_version": "1.2.0",
          "model_name": "LayoutModel",
          "state": {
            "_model_module": "@jupyter-widgets/base",
            "_model_module_version": "1.2.0",
            "_model_name": "LayoutModel",
            "_view_count": null,
            "_view_module": "@jupyter-widgets/base",
            "_view_module_version": "1.2.0",
            "_view_name": "LayoutView",
            "align_content": null,
            "align_items": null,
            "align_self": null,
            "border": null,
            "bottom": null,
            "display": null,
            "flex": null,
            "flex_flow": null,
            "grid_area": null,
            "grid_auto_columns": null,
            "grid_auto_flow": null,
            "grid_auto_rows": null,
            "grid_column": null,
            "grid_gap": null,
            "grid_row": null,
            "grid_template_areas": null,
            "grid_template_columns": null,
            "grid_template_rows": null,
            "height": null,
            "justify_content": null,
            "justify_items": null,
            "left": null,
            "margin": null,
            "max_height": null,
            "max_width": null,
            "min_height": null,
            "min_width": null,
            "object_fit": null,
            "object_position": null,
            "order": null,
            "overflow": null,
            "overflow_x": null,
            "overflow_y": null,
            "padding": null,
            "right": null,
            "top": null,
            "visibility": null,
            "width": null
          }
        },
        "c5d2fe4ee5494e9c980d2dc098d0ddfc": {
          "model_module": "@jupyter-widgets/base",
          "model_module_version": "1.2.0",
          "model_name": "LayoutModel",
          "state": {
            "_model_module": "@jupyter-widgets/base",
            "_model_module_version": "1.2.0",
            "_model_name": "LayoutModel",
            "_view_count": null,
            "_view_module": "@jupyter-widgets/base",
            "_view_module_version": "1.2.0",
            "_view_name": "LayoutView",
            "align_content": null,
            "align_items": null,
            "align_self": null,
            "border": null,
            "bottom": null,
            "display": null,
            "flex": null,
            "flex_flow": null,
            "grid_area": null,
            "grid_auto_columns": null,
            "grid_auto_flow": null,
            "grid_auto_rows": null,
            "grid_column": null,
            "grid_gap": null,
            "grid_row": null,
            "grid_template_areas": null,
            "grid_template_columns": null,
            "grid_template_rows": null,
            "height": null,
            "justify_content": null,
            "justify_items": null,
            "left": null,
            "margin": null,
            "max_height": null,
            "max_width": null,
            "min_height": null,
            "min_width": null,
            "object_fit": null,
            "object_position": null,
            "order": null,
            "overflow": null,
            "overflow_x": null,
            "overflow_y": null,
            "padding": null,
            "right": null,
            "top": null,
            "visibility": null,
            "width": null
          }
        },
        "c8535912e81f4582b8ab0607bdff05ce": {
          "model_module": "@jupyter-widgets/controls",
          "model_module_version": "1.5.0",
          "model_name": "HTMLModel",
          "state": {
            "_dom_classes": [],
            "_model_module": "@jupyter-widgets/controls",
            "_model_module_version": "1.5.0",
            "_model_name": "HTMLModel",
            "_view_count": null,
            "_view_module": "@jupyter-widgets/controls",
            "_view_module_version": "1.5.0",
            "_view_name": "HTMLView",
            "description": "",
            "description_tooltip": null,
            "layout": "IPY_MODEL_82f7af4daa304568bcd5c56fc6202ced",
            "placeholder": "​",
            "style": "IPY_MODEL_0b8345271b4b49498df49592ea04859b",
            "value": " 678k/? [00:00&lt;00:00, 5.98MB/s]"
          }
        },
        "caf2d89ef9fa4a93b15cf452f1ec1314": {
          "model_module": "@jupyter-widgets/controls",
          "model_module_version": "1.5.0",
          "model_name": "HTMLModel",
          "state": {
            "_dom_classes": [],
            "_model_module": "@jupyter-widgets/controls",
            "_model_module_version": "1.5.0",
            "_model_name": "HTMLModel",
            "_view_count": null,
            "_view_module": "@jupyter-widgets/controls",
            "_view_module_version": "1.5.0",
            "_view_name": "HTMLView",
            "description": "",
            "description_tooltip": null,
            "layout": "IPY_MODEL_43207d41a668459ebec0ea81138731d5",
            "placeholder": "​",
            "style": "IPY_MODEL_e304d72c799d4517933bb01cd75751c6",
            "value": " 210k/? [00:00&lt;00:00, 2.59MB/s]"
          }
        },
        "cb0110eeeb2840d4b38843d636e3ccb5": {
          "model_module": "@jupyter-widgets/controls",
          "model_module_version": "1.5.0",
          "model_name": "ProgressStyleModel",
          "state": {
            "_model_module": "@jupyter-widgets/controls",
            "_model_module_version": "1.5.0",
            "_model_name": "ProgressStyleModel",
            "_view_count": null,
            "_view_module": "@jupyter-widgets/base",
            "_view_module_version": "1.2.0",
            "_view_name": "StyleView",
            "bar_color": null,
            "description_width": ""
          }
        },
        "cc736675fce349e6ad1e6be1eb3110b1": {
          "model_module": "@jupyter-widgets/base",
          "model_module_version": "1.2.0",
          "model_name": "LayoutModel",
          "state": {
            "_model_module": "@jupyter-widgets/base",
            "_model_module_version": "1.2.0",
            "_model_name": "LayoutModel",
            "_view_count": null,
            "_view_module": "@jupyter-widgets/base",
            "_view_module_version": "1.2.0",
            "_view_name": "LayoutView",
            "align_content": null,
            "align_items": null,
            "align_self": null,
            "border": null,
            "bottom": null,
            "display": null,
            "flex": null,
            "flex_flow": null,
            "grid_area": null,
            "grid_auto_columns": null,
            "grid_auto_flow": null,
            "grid_auto_rows": null,
            "grid_column": null,
            "grid_gap": null,
            "grid_row": null,
            "grid_template_areas": null,
            "grid_template_columns": null,
            "grid_template_rows": null,
            "height": null,
            "justify_content": null,
            "justify_items": null,
            "left": null,
            "margin": null,
            "max_height": null,
            "max_width": null,
            "min_height": null,
            "min_width": null,
            "object_fit": null,
            "object_position": null,
            "order": null,
            "overflow": null,
            "overflow_x": null,
            "overflow_y": null,
            "padding": null,
            "right": null,
            "top": null,
            "visibility": null,
            "width": null
          }
        },
        "cc7e67e6e93144a4801b95b217e99146": {
          "model_module": "@jupyter-widgets/base",
          "model_module_version": "1.2.0",
          "model_name": "LayoutModel",
          "state": {
            "_model_module": "@jupyter-widgets/base",
            "_model_module_version": "1.2.0",
            "_model_name": "LayoutModel",
            "_view_count": null,
            "_view_module": "@jupyter-widgets/base",
            "_view_module_version": "1.2.0",
            "_view_name": "LayoutView",
            "align_content": null,
            "align_items": null,
            "align_self": null,
            "border": null,
            "bottom": null,
            "display": null,
            "flex": null,
            "flex_flow": null,
            "grid_area": null,
            "grid_auto_columns": null,
            "grid_auto_flow": null,
            "grid_auto_rows": null,
            "grid_column": null,
            "grid_gap": null,
            "grid_row": null,
            "grid_template_areas": null,
            "grid_template_columns": null,
            "grid_template_rows": null,
            "height": null,
            "justify_content": null,
            "justify_items": null,
            "left": null,
            "margin": null,
            "max_height": null,
            "max_width": null,
            "min_height": null,
            "min_width": null,
            "object_fit": null,
            "object_position": null,
            "order": null,
            "overflow": null,
            "overflow_x": null,
            "overflow_y": null,
            "padding": null,
            "right": null,
            "top": null,
            "visibility": null,
            "width": null
          }
        },
        "cf39d96a0a2a454c960753ad3b16e5cd": {
          "model_module": "@jupyter-widgets/controls",
          "model_module_version": "1.5.0",
          "model_name": "HTMLModel",
          "state": {
            "_dom_classes": [],
            "_model_module": "@jupyter-widgets/controls",
            "_model_module_version": "1.5.0",
            "_model_name": "HTMLModel",
            "_view_count": null,
            "_view_module": "@jupyter-widgets/controls",
            "_view_module_version": "1.5.0",
            "_view_name": "HTMLView",
            "description": "",
            "description_tooltip": null,
            "layout": "IPY_MODEL_11ef2a4b93984326a0ff3b19d57cc348",
            "placeholder": "​",
            "style": "IPY_MODEL_6290de6875ac4a26b9cce5e9d80927f6",
            "value": " 416/416 [00:00&lt;00:00, 15.9kB/s]"
          }
        },
        "d1b9bf54d14147f1a51a7fefde323ede": {
          "model_module": "@jupyter-widgets/controls",
          "model_module_version": "1.5.0",
          "model_name": "DescriptionStyleModel",
          "state": {
            "_model_module": "@jupyter-widgets/controls",
            "_model_module_version": "1.5.0",
            "_model_name": "DescriptionStyleModel",
            "_view_count": null,
            "_view_module": "@jupyter-widgets/base",
            "_view_module_version": "1.2.0",
            "_view_name": "StyleView",
            "description_width": ""
          }
        },
        "d3c8c7c8be534f4f92adfb1c17d05b66": {
          "model_module": "@jupyter-widgets/controls",
          "model_module_version": "1.5.0",
          "model_name": "FloatProgressModel",
          "state": {
            "_dom_classes": [],
            "_model_module": "@jupyter-widgets/controls",
            "_model_module_version": "1.5.0",
            "_model_name": "FloatProgressModel",
            "_view_count": null,
            "_view_module": "@jupyter-widgets/controls",
            "_view_module_version": "1.5.0",
            "_view_name": "ProgressView",
            "bar_style": "success",
            "description": "",
            "description_tooltip": null,
            "layout": "IPY_MODEL_11d2aa91e0eb44bfbb72868e801d82c2",
            "max": 416,
            "min": 0,
            "orientation": "horizontal",
            "style": "IPY_MODEL_88936e176e024b529a9197974cf07ad2",
            "value": 416
          }
        },
        "d41cc51a97394af0b46d553e00a8fe52": {
          "model_module": "@jupyter-widgets/base",
          "model_module_version": "1.2.0",
          "model_name": "LayoutModel",
          "state": {
            "_model_module": "@jupyter-widgets/base",
            "_model_module_version": "1.2.0",
            "_model_name": "LayoutModel",
            "_view_count": null,
            "_view_module": "@jupyter-widgets/base",
            "_view_module_version": "1.2.0",
            "_view_name": "LayoutView",
            "align_content": null,
            "align_items": null,
            "align_self": null,
            "border": null,
            "bottom": null,
            "display": null,
            "flex": null,
            "flex_flow": null,
            "grid_area": null,
            "grid_auto_columns": null,
            "grid_auto_flow": null,
            "grid_auto_rows": null,
            "grid_column": null,
            "grid_gap": null,
            "grid_row": null,
            "grid_template_areas": null,
            "grid_template_columns": null,
            "grid_template_rows": null,
            "height": null,
            "justify_content": null,
            "justify_items": null,
            "left": null,
            "margin": null,
            "max_height": null,
            "max_width": null,
            "min_height": null,
            "min_width": null,
            "object_fit": null,
            "object_position": null,
            "order": null,
            "overflow": null,
            "overflow_x": null,
            "overflow_y": null,
            "padding": null,
            "right": null,
            "top": null,
            "visibility": null,
            "width": "20px"
          }
        },
        "d5f5039207ac42029d2fd61de519b6dc": {
          "model_module": "@jupyter-widgets/base",
          "model_module_version": "1.2.0",
          "model_name": "LayoutModel",
          "state": {
            "_model_module": "@jupyter-widgets/base",
            "_model_module_version": "1.2.0",
            "_model_name": "LayoutModel",
            "_view_count": null,
            "_view_module": "@jupyter-widgets/base",
            "_view_module_version": "1.2.0",
            "_view_name": "LayoutView",
            "align_content": null,
            "align_items": null,
            "align_self": null,
            "border": null,
            "bottom": null,
            "display": null,
            "flex": null,
            "flex_flow": null,
            "grid_area": null,
            "grid_auto_columns": null,
            "grid_auto_flow": null,
            "grid_auto_rows": null,
            "grid_column": null,
            "grid_gap": null,
            "grid_row": null,
            "grid_template_areas": null,
            "grid_template_columns": null,
            "grid_template_rows": null,
            "height": null,
            "justify_content": null,
            "justify_items": null,
            "left": null,
            "margin": null,
            "max_height": null,
            "max_width": null,
            "min_height": null,
            "min_width": null,
            "object_fit": null,
            "object_position": null,
            "order": null,
            "overflow": null,
            "overflow_x": null,
            "overflow_y": null,
            "padding": null,
            "right": null,
            "top": null,
            "visibility": null,
            "width": "20px"
          }
        },
        "d96c722e12bd4904a502fbab7baf12d4": {
          "model_module": "@jupyter-widgets/controls",
          "model_module_version": "1.5.0",
          "model_name": "ProgressStyleModel",
          "state": {
            "_model_module": "@jupyter-widgets/controls",
            "_model_module_version": "1.5.0",
            "_model_name": "ProgressStyleModel",
            "_view_count": null,
            "_view_module": "@jupyter-widgets/base",
            "_view_module_version": "1.2.0",
            "_view_name": "StyleView",
            "bar_color": null,
            "description_width": ""
          }
        },
        "e304d72c799d4517933bb01cd75751c6": {
          "model_module": "@jupyter-widgets/controls",
          "model_module_version": "1.5.0",
          "model_name": "DescriptionStyleModel",
          "state": {
            "_model_module": "@jupyter-widgets/controls",
            "_model_module_version": "1.5.0",
            "_model_name": "DescriptionStyleModel",
            "_view_count": null,
            "_view_module": "@jupyter-widgets/base",
            "_view_module_version": "1.2.0",
            "_view_name": "StyleView",
            "description_width": ""
          }
        },
        "e3afd5f2921b46bda22a43416ecfbbce": {
          "model_module": "@jupyter-widgets/base",
          "model_module_version": "1.2.0",
          "model_name": "LayoutModel",
          "state": {
            "_model_module": "@jupyter-widgets/base",
            "_model_module_version": "1.2.0",
            "_model_name": "LayoutModel",
            "_view_count": null,
            "_view_module": "@jupyter-widgets/base",
            "_view_module_version": "1.2.0",
            "_view_name": "LayoutView",
            "align_content": null,
            "align_items": null,
            "align_self": null,
            "border": null,
            "bottom": null,
            "display": null,
            "flex": null,
            "flex_flow": null,
            "grid_area": null,
            "grid_auto_columns": null,
            "grid_auto_flow": null,
            "grid_auto_rows": null,
            "grid_column": null,
            "grid_gap": null,
            "grid_row": null,
            "grid_template_areas": null,
            "grid_template_columns": null,
            "grid_template_rows": null,
            "height": null,
            "justify_content": null,
            "justify_items": null,
            "left": null,
            "margin": null,
            "max_height": null,
            "max_width": null,
            "min_height": null,
            "min_width": null,
            "object_fit": null,
            "object_position": null,
            "order": null,
            "overflow": null,
            "overflow_x": null,
            "overflow_y": null,
            "padding": null,
            "right": null,
            "top": null,
            "visibility": null,
            "width": null
          }
        },
        "e4d44536347e443db7e28cea1e80456f": {
          "model_module": "@jupyter-widgets/controls",
          "model_module_version": "1.5.0",
          "model_name": "FloatProgressModel",
          "state": {
            "_dom_classes": [],
            "_model_module": "@jupyter-widgets/controls",
            "_model_module_version": "1.5.0",
            "_model_name": "FloatProgressModel",
            "_view_count": null,
            "_view_module": "@jupyter-widgets/controls",
            "_view_module_version": "1.5.0",
            "_view_name": "ProgressView",
            "bar_style": "success",
            "description": "",
            "description_tooltip": null,
            "layout": "IPY_MODEL_8c9f6eceb428414fa9349b7dcf2549c3",
            "max": 112,
            "min": 0,
            "orientation": "horizontal",
            "style": "IPY_MODEL_14b564c2a2654c0f9153045a31751dcb",
            "value": 112
          }
        },
        "e4fe2eeb069c4b0f87adc8ab85bf08d4": {
          "model_module": "@jupyter-widgets/controls",
          "model_module_version": "1.5.0",
          "model_name": "DescriptionStyleModel",
          "state": {
            "_model_module": "@jupyter-widgets/controls",
            "_model_module_version": "1.5.0",
            "_model_name": "DescriptionStyleModel",
            "_view_count": null,
            "_view_module": "@jupyter-widgets/base",
            "_view_module_version": "1.2.0",
            "_view_name": "StyleView",
            "description_width": ""
          }
        },
        "e53328614cce40d59484f20d27354cec": {
          "model_module": "@jupyter-widgets/controls",
          "model_module_version": "1.5.0",
          "model_name": "HTMLModel",
          "state": {
            "_dom_classes": [],
            "_model_module": "@jupyter-widgets/controls",
            "_model_module_version": "1.5.0",
            "_model_name": "HTMLModel",
            "_view_count": null,
            "_view_module": "@jupyter-widgets/controls",
            "_view_module_version": "1.5.0",
            "_view_name": "HTMLView",
            "description": "",
            "description_tooltip": null,
            "layout": "IPY_MODEL_53b34c8501304f889a9a42536da48d9b",
            "placeholder": "​",
            "style": "IPY_MODEL_fef8ed8eac804295b8017af627cf9ed6",
            "value": "tokenizer.json: "
          }
        },
        "e7f086ca9fd041ee972955f69cb78120": {
          "model_module": "@jupyter-widgets/controls",
          "model_module_version": "1.5.0",
          "model_name": "HBoxModel",
          "state": {
            "_dom_classes": [],
            "_model_module": "@jupyter-widgets/controls",
            "_model_module_version": "1.5.0",
            "_model_name": "HBoxModel",
            "_view_count": null,
            "_view_module": "@jupyter-widgets/controls",
            "_view_module_version": "1.5.0",
            "_view_name": "HBoxView",
            "box_style": "",
            "children": [
              "IPY_MODEL_21c7890ef0f24badb4f9dc721eb7a65c",
              "IPY_MODEL_45e37380d8a34c0f96ae38ed1e7dae4c",
              "IPY_MODEL_ea67348c8ced4fe9aa441bcb04037baf"
            ],
            "layout": "IPY_MODEL_5777f8a02f4c47958cc915b7abb416ee"
          }
        },
        "e87cbf0d1cc3427ebe3c2b5059fc8565": {
          "model_module": "@jupyter-widgets/controls",
          "model_module_version": "1.5.0",
          "model_name": "HTMLModel",
          "state": {
            "_dom_classes": [],
            "_model_module": "@jupyter-widgets/controls",
            "_model_module_version": "1.5.0",
            "_model_name": "HTMLModel",
            "_view_count": null,
            "_view_module": "@jupyter-widgets/controls",
            "_view_module_version": "1.5.0",
            "_view_name": "HTMLView",
            "description": "",
            "description_tooltip": null,
            "layout": "IPY_MODEL_93983bd3d7994d8fa542eee685a980ef",
            "placeholder": "​",
            "style": "IPY_MODEL_556f8b6c893444eebb9f676a2a03375a",
            "value": " 1.25k/? [00:00&lt;00:00, 13.9kB/s]"
          }
        },
        "ea67348c8ced4fe9aa441bcb04037baf": {
          "model_module": "@jupyter-widgets/controls",
          "model_module_version": "1.5.0",
          "model_name": "HTMLModel",
          "state": {
            "_dom_classes": [],
            "_model_module": "@jupyter-widgets/controls",
            "_model_module_version": "1.5.0",
            "_model_name": "HTMLModel",
            "_view_count": null,
            "_view_module": "@jupyter-widgets/controls",
            "_view_module_version": "1.5.0",
            "_view_name": "HTMLView",
            "description": "",
            "description_tooltip": null,
            "layout": "IPY_MODEL_c5d2fe4ee5494e9c980d2dc098d0ddfc",
            "placeholder": "​",
            "style": "IPY_MODEL_a87372d21768414e89d78702fa8d3543",
            "value": " 1.33G/1.33G [00:38&lt;00:00, 35.7MB/s]"
          }
        },
        "eb5085006889459ab4af9349f99e9e5c": {
          "model_module": "@jupyter-widgets/base",
          "model_module_version": "1.2.0",
          "model_name": "LayoutModel",
          "state": {
            "_model_module": "@jupyter-widgets/base",
            "_model_module_version": "1.2.0",
            "_model_name": "LayoutModel",
            "_view_count": null,
            "_view_module": "@jupyter-widgets/base",
            "_view_module_version": "1.2.0",
            "_view_name": "LayoutView",
            "align_content": null,
            "align_items": null,
            "align_self": null,
            "border": null,
            "bottom": null,
            "display": null,
            "flex": null,
            "flex_flow": null,
            "grid_area": null,
            "grid_auto_columns": null,
            "grid_auto_flow": null,
            "grid_auto_rows": null,
            "grid_column": null,
            "grid_gap": null,
            "grid_row": null,
            "grid_template_areas": null,
            "grid_template_columns": null,
            "grid_template_rows": null,
            "height": null,
            "justify_content": null,
            "justify_items": null,
            "left": null,
            "margin": null,
            "max_height": null,
            "max_width": null,
            "min_height": null,
            "min_width": null,
            "object_fit": null,
            "object_position": null,
            "order": null,
            "overflow": null,
            "overflow_x": null,
            "overflow_y": null,
            "padding": null,
            "right": null,
            "top": null,
            "visibility": null,
            "width": null
          }
        },
        "ece1080b651540a3a15da2afdc717c96": {
          "model_module": "@jupyter-widgets/controls",
          "model_module_version": "1.5.0",
          "model_name": "HBoxModel",
          "state": {
            "_dom_classes": [],
            "_model_module": "@jupyter-widgets/controls",
            "_model_module_version": "1.5.0",
            "_model_name": "HBoxModel",
            "_view_count": null,
            "_view_module": "@jupyter-widgets/controls",
            "_view_module_version": "1.5.0",
            "_view_name": "HBoxView",
            "box_style": "",
            "children": [
              "IPY_MODEL_e53328614cce40d59484f20d27354cec",
              "IPY_MODEL_85a2235dd3fd4ac384f61184c7783ac0",
              "IPY_MODEL_c8535912e81f4582b8ab0607bdff05ce"
            ],
            "layout": "IPY_MODEL_24f3b02a779948feaaa80318fd6116a3"
          }
        },
        "f3c475ffc4d5455c9e5cffbb4609ab39": {
          "model_module": "@jupyter-widgets/controls",
          "model_module_version": "1.5.0",
          "model_name": "ProgressStyleModel",
          "state": {
            "_model_module": "@jupyter-widgets/controls",
            "_model_module_version": "1.5.0",
            "_model_name": "ProgressStyleModel",
            "_view_count": null,
            "_view_module": "@jupyter-widgets/base",
            "_view_module_version": "1.2.0",
            "_view_name": "StyleView",
            "bar_color": null,
            "description_width": ""
          }
        },
        "f434185d63334c4ea4be181ba0a52e93": {
          "model_module": "@jupyter-widgets/controls",
          "model_module_version": "1.5.0",
          "model_name": "HTMLModel",
          "state": {
            "_dom_classes": [],
            "_model_module": "@jupyter-widgets/controls",
            "_model_module_version": "1.5.0",
            "_model_name": "HTMLModel",
            "_view_count": null,
            "_view_module": "@jupyter-widgets/controls",
            "_view_module_version": "1.5.0",
            "_view_name": "HTMLView",
            "description": "",
            "description_tooltip": null,
            "layout": "IPY_MODEL_e3afd5f2921b46bda22a43416ecfbbce",
            "placeholder": "​",
            "style": "IPY_MODEL_9fa6435a60864d94b635fb414aa54970",
            "value": " 112/112 [00:00&lt;00:00, 6.36kB/s]"
          }
        },
        "f52358e166b0464da9b7c767606ca1a5": {
          "model_module": "@jupyter-widgets/controls",
          "model_module_version": "1.5.0",
          "model_name": "ProgressStyleModel",
          "state": {
            "_model_module": "@jupyter-widgets/controls",
            "_model_module_version": "1.5.0",
            "_model_name": "ProgressStyleModel",
            "_view_count": null,
            "_view_module": "@jupyter-widgets/base",
            "_view_module_version": "1.2.0",
            "_view_name": "StyleView",
            "bar_color": null,
            "description_width": ""
          }
        },
        "fcd2c486dba244a5a1cc42954e5d0049": {
          "model_module": "@jupyter-widgets/controls",
          "model_module_version": "1.5.0",
          "model_name": "HTMLModel",
          "state": {
            "_dom_classes": [],
            "_model_module": "@jupyter-widgets/controls",
            "_model_module_version": "1.5.0",
            "_model_name": "HTMLModel",
            "_view_count": null,
            "_view_module": "@jupyter-widgets/controls",
            "_view_module_version": "1.5.0",
            "_view_name": "HTMLView",
            "description": "",
            "description_tooltip": null,
            "layout": "IPY_MODEL_eb5085006889459ab4af9349f99e9e5c",
            "placeholder": "​",
            "style": "IPY_MODEL_d1b9bf54d14147f1a51a7fefde323ede",
            "value": "pytorch_model.bin: 100%"
          }
        },
        "fef8ed8eac804295b8017af627cf9ed6": {
          "model_module": "@jupyter-widgets/controls",
          "model_module_version": "1.5.0",
          "model_name": "DescriptionStyleModel",
          "state": {
            "_model_module": "@jupyter-widgets/controls",
            "_model_module_version": "1.5.0",
            "_model_name": "DescriptionStyleModel",
            "_view_count": null,
            "_view_module": "@jupyter-widgets/base",
            "_view_module_version": "1.2.0",
            "_view_name": "StyleView",
            "description_width": ""
          }
        }
      }
    }
  },
  "nbformat": 4,
  "nbformat_minor": 0
}
